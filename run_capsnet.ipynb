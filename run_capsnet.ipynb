{
 "cells": [
  {
   "cell_type": "markdown",
   "id": "9cd75e23-5b69-4480-a980-78b4a088f8ba",
   "metadata": {},
   "source": [
    "# CapsNet\n",
    "\n",
    "Source: https://github.com/jindongwang/Pytorch-CapsuleNet/blob/master/test_capsnet.py"
   ]
  },
  {
   "cell_type": "code",
   "execution_count": 1,
   "id": "62f462ec-3df5-48d2-b172-ab138222cc3d",
   "metadata": {},
   "outputs": [
    {
     "name": "stderr",
     "output_type": "stream",
     "text": [
      "C:\\Users\\Prinzessin\\anaconda3\\envs\\feta\\lib\\site-packages\\scipy\\__init__.py:146: UserWarning: A NumPy version >=1.17.3 and <1.25.0 is required for this version of SciPy (detected version 1.25.2\n",
      "  warnings.warn(f\"A NumPy version >={np_minversion} and <{np_maxversion}\"\n"
     ]
    }
   ],
   "source": [
    "import sys \n",
    "sys.path.insert(0, \"helper\")\n",
    "\n",
    "import numpy as np\n",
    "import torch\n",
    "import torch.nn as nn\n",
    "import torch.nn.functional as F\n",
    "from torch.autograd import Variable\n",
    "from torchvision import datasets, transforms\n",
    "import torchvision\n",
    "from tqdm import tqdm\n",
    "\n",
    "# =============================================================================\n",
    "# datasceyence\n",
    "# =============================================================================\n",
    "from helper.visualisation.feature_map import *\n",
    "from helper.model.capsnet import CapsNet\n",
    "\n",
    "from helper.data.mnist import DataMNIST\n",
    "from helper.data.retinamnist import DataRetinaMNIST\n",
    "from helper.data.octmnist import DataOCTMNIST\n",
    "\n",
    "#train_kwargs[\"device\"] = True if torch.cuda.is_available() else False\n",
    "#train_kwargs[\"batch_size\"] = 5\n",
    "# train_kwargs[\"epochs\"] = 30\n",
    "#LEARNING_RATE = 0.01\n",
    "#MOMENTUM = 0.9"
   ]
  },
  {
   "cell_type": "code",
   "execution_count": 2,
   "id": "bad47ea8-0626-42aa-bd36-0d4ac28b4aae",
   "metadata": {},
   "outputs": [
    {
     "name": "stdout",
     "output_type": "stream",
     "text": [
      "cuda available: True\n",
      "torch 2.0.0 == False -> 1.13.1\n"
     ]
    }
   ],
   "source": [
    "seed = 1997 # was 19 before\n",
    "\n",
    "torch.manual_seed(seed)\n",
    "torch.cuda.manual_seed(seed)\n",
    "random.seed(seed)\n",
    "np.random.seed(seed)\n",
    "\n",
    "print(\"cuda available:\", torch.cuda.is_available())\n",
    "\n",
    "debug_model = False\n",
    "\n",
    "print('torch 2.0.0 ==', torch.__version__=='2.0.0' , '->', torch.__version__)"
   ]
  },
  {
   "cell_type": "markdown",
   "id": "990acab7-0253-4a9c-b389-21e13cf3c639",
   "metadata": {},
   "source": [
    "# Settings"
   ]
  },
  {
   "cell_type": "code",
   "execution_count": 3,
   "id": "0744652e-8f2c-4a02-972c-94d107a86f9d",
   "metadata": {},
   "outputs": [
    {
     "name": "stdout",
     "output_type": "stream",
     "text": [
      "train kwargs {'result_path': 'examples/example_results', 'exp_name': 'debug_mnist', 'load_ckpt_file': 'version_18/checkpoints/epoch=4-unpruned=192-val_f1=0.12.ckpt', 'epochs': 50, 'img_size': 28, 'batch_size': 2, 'log_every_n_steps': 4, 'device': 'cuda:0', 'num_workers': 0, 'train_size': 100, 'val_size': 100, 'test_size': 10}\n",
      "model kwargs {'in_channels': 1, 'n_classes': None, 'criterion': CrossEntropyLoss(), 'optimizer': 'sgd', 'base_lr': 0.001, 'min_lr': 1e-05, 'momentum': 0.9, 'lr_update': 100, 'cnn_in_channels': 1, 'cnn_out_channels': 256, 'cnn_kernel_size': 9, 'pc_num_capsules': 8, 'pc_in_channels': 256, 'pc_out_channels': 32, 'pc_kernel_size': 9, 'pc_num_routes': 1152, 'dc_num_capsules': 10, 'dc_num_routes': 1152, 'dc_in_channels': 8, 'dc_out_channels': 16, 'input_width': 28, 'input_height': 28}\n"
     ]
    }
   ],
   "source": [
    "model_kwargs = { # for 1 Channel\n",
    "    'in_channels' : 1,\n",
    "    'n_classes': None, # filled in the dataset\n",
    "    'criterion': torch.nn.CrossEntropyLoss(),# torch.nn.BCEWithLogitsLoss(),\n",
    "    'optimizer': \"sgd\", # sgd adamw\n",
    "    'base_lr': 0.001,\n",
    "    'min_lr' : 0.00001,\n",
    "    'momentum' : 0.9,\n",
    "    'lr_update' : 100,\n",
    "    \n",
    "    # CNN (cnn)\n",
    "    'cnn_in_channels' : 1, # duplicate ...\n",
    "    'cnn_out_channels' : 256,\n",
    "    'cnn_kernel_size' : 9,\n",
    "\n",
    "    # Primary Capsule (pc)\n",
    "    'pc_num_capsules' : 8,\n",
    "    'pc_in_channels' : 256,\n",
    "    'pc_out_channels' : 32,\n",
    "    'pc_kernel_size' : 9,\n",
    "    'pc_num_routes' : 32 * 6 * 6,\n",
    "\n",
    "    # Digit Capsule (dc)\n",
    "    'dc_num_capsules' : 10,\n",
    "    'dc_num_routes' : 32 * 6 * 6,\n",
    "    'dc_in_channels' : 8,\n",
    "    'dc_out_channels' : 16,\n",
    "\n",
    "    # Decoder\n",
    "    'input_width' : 28,\n",
    "    'input_height' : 28,\n",
    "}\n",
    "\n",
    "\n",
    "train_kwargs = {\n",
    "    'result_path': \"examples/example_results\", # \"example_results/lightning_logs\", # not in use??\n",
    "    'exp_name': \"debug_mnist\", # must include oct or retina\n",
    "    'load_ckpt_file' : 'version_18/checkpoints/epoch=4-unpruned=192-val_f1=0.12.ckpt', # \"version_0/checkpoints/epoch=94-unpruned=1600-val_f1=0.67.ckpt\", # 'version_94/checkpoints/epoch=26-step=1080.ckpt', # change this for loading a file and using \"test\", if you want training, keep None\n",
    "    'epochs': 50, # including the pretrain epochs - no adding up\n",
    "    'img_size' : 28, #168, # keep mnist at original size, training didn't work when i increased the size ... # MNIST/MedMNIST 28 × 28 Pixel\n",
    "    'batch_size': 2, # 128, # the higher the batch_size the faster the training - every iteration adds A LOT OF comp cost\n",
    "    'log_every_n_steps' : 4, # lightning default: 50 # needs to be bigger than the amount of steps in an epoch (based on trainset size and batchsize)\n",
    "    'device': \"cuda:0\" if torch.cuda.is_available() else \"cpu\",\n",
    "    'num_workers' : 0, # 18, # 18 for computer, 0 for laptop\n",
    "    'train_size' : (2 * 50), # total or percentage\n",
    "    'val_size' : (2 * 50), # total or percentage\n",
    "    'test_size' : 10, # total or percentage - 0 for all\n",
    "}\n",
    "\n",
    "print(\"train kwargs\", train_kwargs)\n",
    "print(\"model kwargs\", model_kwargs)\n",
    "\n",
    "kwargs = {'train_kwargs':train_kwargs, 'model_kwargs':model_kwargs}\n"
   ]
  },
  {
   "cell_type": "markdown",
   "id": "c8c4fc53-bb9f-4aca-bd75-2735382f81fa",
   "metadata": {},
   "source": [
    "# Data"
   ]
  },
  {
   "cell_type": "code",
   "execution_count": 4,
   "id": "905a9a83-47d6-49cd-93b7-6ae79ae110c3",
   "metadata": {},
   "outputs": [
    {
     "name": "stdout",
     "output_type": "stream",
     "text": [
      "MNIST classes: ['0 - zero', '1 - one', '2 - two', '3 - three', '4 - four', '5 - five', '6 - six', '7 - seven', '8 - eight', '9 - nine']\n",
      "10\n"
     ]
    }
   ],
   "source": [
    "if 'oct' in train_kwargs['exp_name']:\n",
    "    # OCTMINST\n",
    "    data = DataOCTMNIST(train_kwargs, model_kwargs)\n",
    "        \n",
    "elif 'retina' in train_kwargs['exp_name']:\n",
    "    # RetinaMNIST\n",
    "    data = DataRetinaMNIST(train_kwargs, model_kwargs)\n",
    "    \n",
    "else:\n",
    "    # MNIST\n",
    "    data = DataMNIST(train_kwargs, model_kwargs)\n",
    "    \n",
    "print(model_kwargs['n_classes'])"
   ]
  },
  {
   "cell_type": "markdown",
   "id": "acac1f14-6a5c-4f04-b2c7-25f056f0ade2",
   "metadata": {},
   "source": [
    "# Run"
   ]
  },
  {
   "cell_type": "markdown",
   "id": "da8c2bdf-1780-477b-8219-f89a18cd7317",
   "metadata": {},
   "source": [
    "## Lightning - should become lightning later on"
   ]
  },
  {
   "cell_type": "code",
   "execution_count": 5,
   "id": "aae14845-2ea3-4bbb-ad11-3637277e2412",
   "metadata": {},
   "outputs": [],
   "source": [
    "def train(model, optimizer, train_loader, epoch):\n",
    "    capsule_net = model\n",
    "    capsule_net.train()\n",
    "    n_batch = len(list(enumerate(train_loader)))\n",
    "    total_loss = 0\n",
    "    for batch_id, (data, target) in enumerate(tqdm(train_loader)):\n",
    "        \n",
    "        # one hot\n",
    "        try:\n",
    "            # print(target)\n",
    "            # tensor([6, 5])\n",
    "            target = torch.sparse.torch.eye(10).index_select(dim=0, index=target)\n",
    "        except: \n",
    "            # print(target.squeeze(1))\n",
    "            # tensor([6, 5])\n",
    "            target = torch.sparse.torch.eye(10).index_select(dim=0, index=target.squeeze(1))\n",
    "        \n",
    "        # print(target)\n",
    "        # tensor([[0., 0., 0., 0., 0., 0., 1., 0., 0., 0.],\n",
    "        # [0., 0., 0., 0., 0., 1., 0., 0., 0., 0.]])\n",
    "        \n",
    "        data, target = Variable(data), Variable(target)\n",
    "\n",
    "        data, target = data.to(train_kwargs[\"device\"]), target.to(train_kwargs[\"device\"])\n",
    "\n",
    "        optimizer.zero_grad()\n",
    "        output, reconstructions, masked = capsule_net(data)\n",
    "        \n",
    "        path = f\"examples/example_results/capsnet/rec_train_ep{epoch}_cl{np.argmax(target.data.cpu().numpy(), 1)[0]}.png\"\n",
    "        if (epoch % 5) == 0 and not(os.path.isfile(path)):\n",
    "            torchvision.utils.save_image(reconstructions[0], path)\n",
    "        elif epoch == 1:\n",
    "            path = f\"examples/example_results/capsnet/rec_train_ep{epoch}_id{batch_id}_cl{np.argmax(target.data.cpu().numpy(), 1)[0]}.png\"\n",
    "            torchvision.utils.save_image(reconstructions[0], path)\n",
    "            \n",
    "        \n",
    "        loss = capsule_net.loss(data, output, target, reconstructions)\n",
    "        loss.backward()\n",
    "        optimizer.step()\n",
    "        correct = sum(np.argmax(masked.data.cpu().numpy(), 1) == np.argmax(target.data.cpu().numpy(), 1))\n",
    "        train_loss = loss.item()\n",
    "        total_loss += train_loss\n",
    "        if batch_id % 100 == 0:\n",
    "            tqdm.write(\"Epoch: [{}/{}], Batch: [{}/{}], train accuracy: {:.6f}, loss: {:.6f}\".format(\n",
    "                epoch,\n",
    "                train_kwargs[\"epochs\"],\n",
    "                batch_id + 1,\n",
    "                n_batch,\n",
    "                correct / float(train_kwargs[\"batch_size\"]),\n",
    "                train_loss / float(train_kwargs[\"batch_size\"])\n",
    "                ))\n",
    "    tqdm.write('Epoch: [{}/{}], train loss: {:.6f}'.format(epoch,train_kwargs[\"epochs\"],total_loss / len(train_loader.dataset)))\n",
    "\n",
    "\n",
    "def val(capsule_net, val_dataloader, epoch):\n",
    "    capsule_net.eval()\n",
    "    val_loss = 0\n",
    "    correct = 0\n",
    "    for batch_id, (data, target) in enumerate(val_dataloader):\n",
    "    \n",
    "        # one hot\n",
    "        try:\n",
    "            # print(target)\n",
    "            # tensor([6, 5])\n",
    "            target = torch.sparse.torch.eye(10).index_select(dim=0, index=target)\n",
    "        except: \n",
    "            # print(target.squeeze(1))\n",
    "            # tensor([6, 5])\n",
    "            target = torch.sparse.torch.eye(10).index_select(dim=0, index=target.squeeze(1))\n",
    "        \n",
    "        # print(target)\n",
    "        # tensor([[0., 0., 0., 0., 0., 0., 1., 0., 0., 0.],\n",
    "        # [0., 0., 0., 0., 0., 1., 0., 0., 0., 0.]])\n",
    "        \n",
    "        data, target = Variable(data), Variable(target)\n",
    "\n",
    "        data, target = data.to(train_kwargs[\"device\"]), target.to(train_kwargs[\"device\"])\n",
    "\n",
    "        output, reconstructions, masked = capsule_net(data)\n",
    "        \n",
    "        \"\"\"\n",
    "        2 = batch size\n",
    "        1 = channel\n",
    "        28x28 = img size\n",
    "        10 = classes\n",
    "        16 = digit output channels \n",
    "        torch.Size([2, 10, 16, 1]) = output\n",
    "        torch.Size([2, 1, 28, 28]) = reconstruction\n",
    "        torch.Size([2, 10]) = masked - the thing we want for classification\n",
    "        \"\"\"\n",
    "        \n",
    "        path = f\"examples/example_results/capsnet/rec_val_ep{epoch}_cl{np.argmax(target.data.cpu().numpy(), 1)[0]}.png\"\n",
    "        if (epoch % 5) == 0 and not(os.path.isfile(path)):\n",
    "            torchvision.utils.save_image(reconstructions[0], path)\n",
    "        \n",
    "        #print(output.shape)\n",
    "        #print(reconstructions.shape)\n",
    "        #print(masked.shape)\n",
    "        \n",
    "        #print(output)\n",
    "        #print(reconstructions)\n",
    "        #print(masked)\n",
    "        \n",
    "        loss = capsule_net.loss(data, output, target, reconstructions)\n",
    "\n",
    "        val_loss += loss.item()\n",
    "        correct += sum(np.argmax(masked.data.cpu().numpy(), 1) ==\n",
    "                       np.argmax(target.data.cpu().numpy(), 1))\n",
    "\n",
    "    tqdm.write(\n",
    "        \"Epoch: [{}/{}], val accuracy: {:.6f}, loss: {:.6f}\".format(epoch, train_kwargs[\"epochs\"], correct / len(val_dataloader.dataset),\n",
    "                                                                  val_loss / len(val_dataloader)))\n"
   ]
  },
  {
   "cell_type": "markdown",
   "id": "8151e4aa-106b-403d-888e-a832754268fc",
   "metadata": {},
   "source": [
    "## run training"
   ]
  },
  {
   "cell_type": "code",
   "execution_count": 6,
   "id": "44a15297-ab76-4195-a6f3-bd1aad143765",
   "metadata": {},
   "outputs": [
    {
     "name": "stdout",
     "output_type": "stream",
     "text": [
      "in_channels 1\n"
     ]
    },
    {
     "name": "stderr",
     "output_type": "stream",
     "text": [
      "  2%|█▋                                                                                 | 1/50 [00:04<03:35,  4.41s/it]"
     ]
    },
    {
     "name": "stdout",
     "output_type": "stream",
     "text": [
      "Epoch: [1/50], Batch: [1/50], train accuracy: 0.000000, loss: 0.449780\n"
     ]
    },
    {
     "name": "stderr",
     "output_type": "stream",
     "text": [
      "100%|██████████████████████████████████████████████████████████████████████████████████| 50/50 [00:22<00:00,  2.18it/s]\n"
     ]
    },
    {
     "name": "stdout",
     "output_type": "stream",
     "text": [
      "Epoch: [1/50], train loss: 0.417020\n",
      "Epoch: [1/50], val accuracy: 0.500000, loss: 0.761273\n"
     ]
    },
    {
     "name": "stderr",
     "output_type": "stream",
     "text": [
      "  2%|█▋                                                                                 | 1/50 [00:00<00:17,  2.84it/s]"
     ]
    },
    {
     "name": "stdout",
     "output_type": "stream",
     "text": [
      "Epoch: [2/50], Batch: [1/50], train accuracy: 1.000000, loss: 0.242838\n"
     ]
    },
    {
     "name": "stderr",
     "output_type": "stream",
     "text": [
      "100%|██████████████████████████████████████████████████████████████████████████████████| 50/50 [00:18<00:00,  2.76it/s]\n"
     ]
    },
    {
     "name": "stdout",
     "output_type": "stream",
     "text": [
      "Epoch: [2/50], train loss: 0.326513\n",
      "Epoch: [2/50], val accuracy: 0.540000, loss: 0.679470\n"
     ]
    },
    {
     "name": "stderr",
     "output_type": "stream",
     "text": [
      "  2%|█▋                                                                                 | 1/50 [00:00<00:17,  2.82it/s]"
     ]
    },
    {
     "name": "stdout",
     "output_type": "stream",
     "text": [
      "Epoch: [3/50], Batch: [1/50], train accuracy: 1.000000, loss: 0.313528\n"
     ]
    },
    {
     "name": "stderr",
     "output_type": "stream",
     "text": [
      "100%|██████████████████████████████████████████████████████████████████████████████████| 50/50 [00:17<00:00,  2.81it/s]\n"
     ]
    },
    {
     "name": "stdout",
     "output_type": "stream",
     "text": [
      "Epoch: [3/50], train loss: 0.232758\n",
      "Epoch: [3/50], val accuracy: 0.570000, loss: 0.633437\n"
     ]
    },
    {
     "name": "stderr",
     "output_type": "stream",
     "text": [
      "  2%|█▋                                                                                 | 1/50 [00:00<00:17,  2.81it/s]"
     ]
    },
    {
     "name": "stdout",
     "output_type": "stream",
     "text": [
      "Epoch: [4/50], Batch: [1/50], train accuracy: 1.000000, loss: 0.136800\n"
     ]
    },
    {
     "name": "stderr",
     "output_type": "stream",
     "text": [
      "100%|██████████████████████████████████████████████████████████████████████████████████| 50/50 [00:17<00:00,  2.82it/s]\n"
     ]
    },
    {
     "name": "stdout",
     "output_type": "stream",
     "text": [
      "Epoch: [4/50], train loss: 0.150281\n",
      "Epoch: [4/50], val accuracy: 0.620000, loss: 0.593660\n"
     ]
    },
    {
     "name": "stderr",
     "output_type": "stream",
     "text": [
      "  2%|█▋                                                                                 | 1/50 [00:00<00:17,  2.81it/s]"
     ]
    },
    {
     "name": "stdout",
     "output_type": "stream",
     "text": [
      "Epoch: [5/50], Batch: [1/50], train accuracy: 1.000000, loss: 0.065787\n"
     ]
    },
    {
     "name": "stderr",
     "output_type": "stream",
     "text": [
      "100%|██████████████████████████████████████████████████████████████████████████████████| 50/50 [00:18<00:00,  2.74it/s]\n"
     ]
    },
    {
     "name": "stdout",
     "output_type": "stream",
     "text": [
      "Epoch: [5/50], train loss: 0.084486\n",
      "Epoch: [5/50], val accuracy: 0.590000, loss: 0.559380\n"
     ]
    },
    {
     "name": "stderr",
     "output_type": "stream",
     "text": [
      "  2%|█▋                                                                                 | 1/50 [00:00<00:17,  2.74it/s]"
     ]
    },
    {
     "name": "stdout",
     "output_type": "stream",
     "text": [
      "Epoch: [6/50], Batch: [1/50], train accuracy: 1.000000, loss: 0.039936\n"
     ]
    },
    {
     "name": "stderr",
     "output_type": "stream",
     "text": [
      "100%|██████████████████████████████████████████████████████████████████████████████████| 50/50 [00:18<00:00,  2.75it/s]\n"
     ]
    },
    {
     "name": "stdout",
     "output_type": "stream",
     "text": [
      "Epoch: [6/50], train loss: 0.051477\n",
      "Epoch: [6/50], val accuracy: 0.600000, loss: 0.552253\n"
     ]
    },
    {
     "name": "stderr",
     "output_type": "stream",
     "text": [
      "  2%|█▋                                                                                 | 1/50 [00:00<00:17,  2.82it/s]"
     ]
    },
    {
     "name": "stdout",
     "output_type": "stream",
     "text": [
      "Epoch: [7/50], Batch: [1/50], train accuracy: 1.000000, loss: 0.039036\n"
     ]
    },
    {
     "name": "stderr",
     "output_type": "stream",
     "text": [
      "100%|██████████████████████████████████████████████████████████████████████████████████| 50/50 [00:17<00:00,  2.82it/s]\n"
     ]
    },
    {
     "name": "stdout",
     "output_type": "stream",
     "text": [
      "Epoch: [7/50], train loss: 0.029501\n",
      "Epoch: [7/50], val accuracy: 0.620000, loss: 0.540436\n"
     ]
    },
    {
     "name": "stderr",
     "output_type": "stream",
     "text": [
      "  2%|█▋                                                                                 | 1/50 [00:00<00:17,  2.82it/s]"
     ]
    },
    {
     "name": "stdout",
     "output_type": "stream",
     "text": [
      "Epoch: [8/50], Batch: [1/50], train accuracy: 1.000000, loss: 0.019381\n"
     ]
    },
    {
     "name": "stderr",
     "output_type": "stream",
     "text": [
      "100%|██████████████████████████████████████████████████████████████████████████████████| 50/50 [00:17<00:00,  2.82it/s]\n"
     ]
    },
    {
     "name": "stdout",
     "output_type": "stream",
     "text": [
      "Epoch: [8/50], train loss: 0.018175\n",
      "Epoch: [8/50], val accuracy: 0.670000, loss: 0.530858\n"
     ]
    },
    {
     "name": "stderr",
     "output_type": "stream",
     "text": [
      "  2%|█▋                                                                                 | 1/50 [00:00<00:17,  2.81it/s]"
     ]
    },
    {
     "name": "stdout",
     "output_type": "stream",
     "text": [
      "Epoch: [9/50], Batch: [1/50], train accuracy: 1.000000, loss: 0.000225\n"
     ]
    },
    {
     "name": "stderr",
     "output_type": "stream",
     "text": [
      "100%|██████████████████████████████████████████████████████████████████████████████████| 50/50 [00:17<00:00,  2.81it/s]\n"
     ]
    },
    {
     "name": "stdout",
     "output_type": "stream",
     "text": [
      "Epoch: [9/50], train loss: 0.010293\n",
      "Epoch: [9/50], val accuracy: 0.620000, loss: 0.547327\n"
     ]
    },
    {
     "name": "stderr",
     "output_type": "stream",
     "text": [
      "  2%|█▋                                                                                 | 1/50 [00:00<00:17,  2.81it/s]"
     ]
    },
    {
     "name": "stdout",
     "output_type": "stream",
     "text": [
      "Epoch: [10/50], Batch: [1/50], train accuracy: 1.000000, loss: 0.011777\n"
     ]
    },
    {
     "name": "stderr",
     "output_type": "stream",
     "text": [
      "100%|██████████████████████████████████████████████████████████████████████████████████| 50/50 [00:18<00:00,  2.76it/s]\n"
     ]
    },
    {
     "name": "stdout",
     "output_type": "stream",
     "text": [
      "Epoch: [10/50], train loss: 0.007750\n",
      "Epoch: [10/50], val accuracy: 0.640000, loss: 0.518179\n"
     ]
    },
    {
     "name": "stderr",
     "output_type": "stream",
     "text": [
      "  2%|█▋                                                                                 | 1/50 [00:00<00:18,  2.67it/s]"
     ]
    },
    {
     "name": "stdout",
     "output_type": "stream",
     "text": [
      "Epoch: [11/50], Batch: [1/50], train accuracy: 1.000000, loss: 0.001508\n"
     ]
    },
    {
     "name": "stderr",
     "output_type": "stream",
     "text": [
      "100%|██████████████████████████████████████████████████████████████████████████████████| 50/50 [00:18<00:00,  2.74it/s]\n"
     ]
    },
    {
     "name": "stdout",
     "output_type": "stream",
     "text": [
      "Epoch: [11/50], train loss: 0.006882\n",
      "Epoch: [11/50], val accuracy: 0.620000, loss: 0.524268\n"
     ]
    },
    {
     "name": "stderr",
     "output_type": "stream",
     "text": [
      "  2%|█▋                                                                                 | 1/50 [00:00<00:17,  2.74it/s]"
     ]
    },
    {
     "name": "stdout",
     "output_type": "stream",
     "text": [
      "Epoch: [12/50], Batch: [1/50], train accuracy: 0.000000, loss: 0.000209\n"
     ]
    },
    {
     "name": "stderr",
     "output_type": "stream",
     "text": [
      "100%|██████████████████████████████████████████████████████████████████████████████████| 50/50 [00:18<00:00,  2.76it/s]\n"
     ]
    },
    {
     "name": "stdout",
     "output_type": "stream",
     "text": [
      "Epoch: [12/50], train loss: 0.005208\n",
      "Epoch: [12/50], val accuracy: 0.650000, loss: 0.553735\n"
     ]
    },
    {
     "name": "stderr",
     "output_type": "stream",
     "text": [
      "  2%|█▋                                                                                 | 1/50 [00:00<00:17,  2.81it/s]"
     ]
    },
    {
     "name": "stdout",
     "output_type": "stream",
     "text": [
      "Epoch: [13/50], Batch: [1/50], train accuracy: 1.000000, loss: 0.000683\n"
     ]
    },
    {
     "name": "stderr",
     "output_type": "stream",
     "text": [
      "100%|██████████████████████████████████████████████████████████████████████████████████| 50/50 [00:17<00:00,  2.81it/s]\n"
     ]
    },
    {
     "name": "stdout",
     "output_type": "stream",
     "text": [
      "Epoch: [13/50], train loss: 0.002482\n",
      "Epoch: [13/50], val accuracy: 0.680000, loss: 0.540387\n"
     ]
    },
    {
     "name": "stderr",
     "output_type": "stream",
     "text": [
      "  2%|█▋                                                                                 | 1/50 [00:00<00:17,  2.82it/s]"
     ]
    },
    {
     "name": "stdout",
     "output_type": "stream",
     "text": [
      "Epoch: [14/50], Batch: [1/50], train accuracy: 1.000000, loss: 0.011073\n"
     ]
    },
    {
     "name": "stderr",
     "output_type": "stream",
     "text": [
      "100%|██████████████████████████████████████████████████████████████████████████████████| 50/50 [00:17<00:00,  2.82it/s]\n"
     ]
    },
    {
     "name": "stdout",
     "output_type": "stream",
     "text": [
      "Epoch: [14/50], train loss: 0.003756\n",
      "Epoch: [14/50], val accuracy: 0.670000, loss: 0.519422\n"
     ]
    },
    {
     "name": "stderr",
     "output_type": "stream",
     "text": [
      "  2%|█▋                                                                                 | 1/50 [00:00<00:17,  2.80it/s]"
     ]
    },
    {
     "name": "stdout",
     "output_type": "stream",
     "text": [
      "Epoch: [15/50], Batch: [1/50], train accuracy: 1.000000, loss: 0.000197\n"
     ]
    },
    {
     "name": "stderr",
     "output_type": "stream",
     "text": [
      "100%|██████████████████████████████████████████████████████████████████████████████████| 50/50 [00:18<00:00,  2.73it/s]\n"
     ]
    },
    {
     "name": "stdout",
     "output_type": "stream",
     "text": [
      "Epoch: [15/50], train loss: 0.002070\n",
      "Epoch: [15/50], val accuracy: 0.640000, loss: 0.528255\n"
     ]
    },
    {
     "name": "stderr",
     "output_type": "stream",
     "text": [
      "  2%|█▋                                                                                 | 1/50 [00:00<00:17,  2.76it/s]"
     ]
    },
    {
     "name": "stdout",
     "output_type": "stream",
     "text": [
      "Epoch: [16/50], Batch: [1/50], train accuracy: 0.500000, loss: 0.000175\n"
     ]
    },
    {
     "name": "stderr",
     "output_type": "stream",
     "text": [
      "100%|██████████████████████████████████████████████████████████████████████████████████| 50/50 [00:17<00:00,  2.81it/s]\n"
     ]
    },
    {
     "name": "stdout",
     "output_type": "stream",
     "text": [
      "Epoch: [16/50], train loss: 0.002243\n",
      "Epoch: [16/50], val accuracy: 0.650000, loss: 0.548680\n"
     ]
    },
    {
     "name": "stderr",
     "output_type": "stream",
     "text": [
      "  2%|█▋                                                                                 | 1/50 [00:00<00:17,  2.81it/s]"
     ]
    },
    {
     "name": "stdout",
     "output_type": "stream",
     "text": [
      "Epoch: [17/50], Batch: [1/50], train accuracy: 1.000000, loss: 0.000166\n"
     ]
    },
    {
     "name": "stderr",
     "output_type": "stream",
     "text": [
      "100%|██████████████████████████████████████████████████████████████████████████████████| 50/50 [00:17<00:00,  2.81it/s]\n"
     ]
    },
    {
     "name": "stdout",
     "output_type": "stream",
     "text": [
      "Epoch: [17/50], train loss: 0.002290\n",
      "Epoch: [17/50], val accuracy: 0.640000, loss: 0.527791\n"
     ]
    },
    {
     "name": "stderr",
     "output_type": "stream",
     "text": [
      "  2%|█▋                                                                                 | 1/50 [00:00<00:17,  2.82it/s]"
     ]
    },
    {
     "name": "stdout",
     "output_type": "stream",
     "text": [
      "Epoch: [18/50], Batch: [1/50], train accuracy: 1.000000, loss: 0.000237\n"
     ]
    },
    {
     "name": "stderr",
     "output_type": "stream",
     "text": [
      "100%|██████████████████████████████████████████████████████████████████████████████████| 50/50 [00:17<00:00,  2.82it/s]\n"
     ]
    },
    {
     "name": "stdout",
     "output_type": "stream",
     "text": [
      "Epoch: [18/50], train loss: 0.004297\n",
      "Epoch: [18/50], val accuracy: 0.640000, loss: 0.536498\n"
     ]
    },
    {
     "name": "stderr",
     "output_type": "stream",
     "text": [
      "  2%|█▋                                                                                 | 1/50 [00:00<00:17,  2.80it/s]"
     ]
    },
    {
     "name": "stdout",
     "output_type": "stream",
     "text": [
      "Epoch: [19/50], Batch: [1/50], train accuracy: 1.000000, loss: 0.006943\n"
     ]
    },
    {
     "name": "stderr",
     "output_type": "stream",
     "text": [
      "100%|██████████████████████████████████████████████████████████████████████████████████| 50/50 [00:17<00:00,  2.82it/s]\n"
     ]
    },
    {
     "name": "stdout",
     "output_type": "stream",
     "text": [
      "Epoch: [19/50], train loss: 0.004044\n",
      "Epoch: [19/50], val accuracy: 0.680000, loss: 0.529609\n"
     ]
    },
    {
     "name": "stderr",
     "output_type": "stream",
     "text": [
      "  2%|█▋                                                                                 | 1/50 [00:00<00:17,  2.82it/s]"
     ]
    },
    {
     "name": "stdout",
     "output_type": "stream",
     "text": [
      "Epoch: [20/50], Batch: [1/50], train accuracy: 1.000000, loss: 0.000234\n"
     ]
    },
    {
     "name": "stderr",
     "output_type": "stream",
     "text": [
      "100%|██████████████████████████████████████████████████████████████████████████████████| 50/50 [00:18<00:00,  2.77it/s]\n"
     ]
    },
    {
     "name": "stdout",
     "output_type": "stream",
     "text": [
      "Epoch: [20/50], train loss: 0.001268\n",
      "Epoch: [20/50], val accuracy: 0.640000, loss: 0.523622\n"
     ]
    },
    {
     "name": "stderr",
     "output_type": "stream",
     "text": [
      "  2%|█▋                                                                                 | 1/50 [00:00<00:18,  2.68it/s]"
     ]
    },
    {
     "name": "stdout",
     "output_type": "stream",
     "text": [
      "Epoch: [21/50], Batch: [1/50], train accuracy: 1.000000, loss: 0.003315\n"
     ]
    },
    {
     "name": "stderr",
     "output_type": "stream",
     "text": [
      "100%|██████████████████████████████████████████████████████████████████████████████████| 50/50 [00:18<00:00,  2.77it/s]\n"
     ]
    },
    {
     "name": "stdout",
     "output_type": "stream",
     "text": [
      "Epoch: [21/50], train loss: 0.002465\n",
      "Epoch: [21/50], val accuracy: 0.660000, loss: 0.514838\n"
     ]
    },
    {
     "name": "stderr",
     "output_type": "stream",
     "text": [
      "  2%|█▋                                                                                 | 1/50 [00:00<00:17,  2.83it/s]"
     ]
    },
    {
     "name": "stdout",
     "output_type": "stream",
     "text": [
      "Epoch: [22/50], Batch: [1/50], train accuracy: 1.000000, loss: 0.001955\n"
     ]
    },
    {
     "name": "stderr",
     "output_type": "stream",
     "text": [
      "100%|██████████████████████████████████████████████████████████████████████████████████| 50/50 [00:17<00:00,  2.82it/s]\n"
     ]
    },
    {
     "name": "stdout",
     "output_type": "stream",
     "text": [
      "Epoch: [22/50], train loss: 0.002757\n",
      "Epoch: [22/50], val accuracy: 0.670000, loss: 0.533114\n"
     ]
    },
    {
     "name": "stderr",
     "output_type": "stream",
     "text": [
      "  2%|█▋                                                                                 | 1/50 [00:00<00:17,  2.87it/s]"
     ]
    },
    {
     "name": "stdout",
     "output_type": "stream",
     "text": [
      "Epoch: [23/50], Batch: [1/50], train accuracy: 1.000000, loss: 0.000173\n"
     ]
    },
    {
     "name": "stderr",
     "output_type": "stream",
     "text": [
      "100%|██████████████████████████████████████████████████████████████████████████████████| 50/50 [00:17<00:00,  2.82it/s]\n"
     ]
    },
    {
     "name": "stdout",
     "output_type": "stream",
     "text": [
      "Epoch: [23/50], train loss: 0.001824\n",
      "Epoch: [23/50], val accuracy: 0.680000, loss: 0.517482\n"
     ]
    },
    {
     "name": "stderr",
     "output_type": "stream",
     "text": [
      "  2%|█▋                                                                                 | 1/50 [00:00<00:17,  2.80it/s]"
     ]
    },
    {
     "name": "stdout",
     "output_type": "stream",
     "text": [
      "Epoch: [24/50], Batch: [1/50], train accuracy: 1.000000, loss: 0.000212\n"
     ]
    },
    {
     "name": "stderr",
     "output_type": "stream",
     "text": [
      "100%|██████████████████████████████████████████████████████████████████████████████████| 50/50 [00:17<00:00,  2.82it/s]\n"
     ]
    },
    {
     "name": "stdout",
     "output_type": "stream",
     "text": [
      "Epoch: [24/50], train loss: 0.002166\n",
      "Epoch: [24/50], val accuracy: 0.630000, loss: 0.551674\n"
     ]
    },
    {
     "name": "stderr",
     "output_type": "stream",
     "text": [
      "  2%|█▋                                                                                 | 1/50 [00:00<00:17,  2.74it/s]"
     ]
    },
    {
     "name": "stdout",
     "output_type": "stream",
     "text": [
      "Epoch: [25/50], Batch: [1/50], train accuracy: 1.000000, loss: 0.000240\n"
     ]
    },
    {
     "name": "stderr",
     "output_type": "stream",
     "text": [
      "100%|██████████████████████████████████████████████████████████████████████████████████| 50/50 [00:18<00:00,  2.73it/s]\n"
     ]
    },
    {
     "name": "stdout",
     "output_type": "stream",
     "text": [
      "Epoch: [25/50], train loss: 0.001715\n",
      "Epoch: [25/50], val accuracy: 0.650000, loss: 0.539761\n"
     ]
    },
    {
     "name": "stderr",
     "output_type": "stream",
     "text": [
      "  2%|█▋                                                                                 | 1/50 [00:00<00:17,  2.75it/s]"
     ]
    },
    {
     "name": "stdout",
     "output_type": "stream",
     "text": [
      "Epoch: [26/50], Batch: [1/50], train accuracy: 1.000000, loss: 0.000176\n"
     ]
    },
    {
     "name": "stderr",
     "output_type": "stream",
     "text": [
      "100%|██████████████████████████████████████████████████████████████████████████████████| 50/50 [00:17<00:00,  2.81it/s]\n"
     ]
    },
    {
     "name": "stdout",
     "output_type": "stream",
     "text": [
      "Epoch: [26/50], train loss: 0.001627\n",
      "Epoch: [26/50], val accuracy: 0.690000, loss: 0.527488\n"
     ]
    },
    {
     "name": "stderr",
     "output_type": "stream",
     "text": [
      "  2%|█▋                                                                                 | 1/50 [00:00<00:17,  2.81it/s]"
     ]
    },
    {
     "name": "stdout",
     "output_type": "stream",
     "text": [
      "Epoch: [27/50], Batch: [1/50], train accuracy: 1.000000, loss: 0.000226\n"
     ]
    },
    {
     "name": "stderr",
     "output_type": "stream",
     "text": [
      "100%|██████████████████████████████████████████████████████████████████████████████████| 50/50 [00:17<00:00,  2.81it/s]\n"
     ]
    },
    {
     "name": "stdout",
     "output_type": "stream",
     "text": [
      "Epoch: [27/50], train loss: 0.001220\n",
      "Epoch: [27/50], val accuracy: 0.650000, loss: 0.529452\n"
     ]
    },
    {
     "name": "stderr",
     "output_type": "stream",
     "text": [
      "  2%|█▋                                                                                 | 1/50 [00:00<00:17,  2.83it/s]"
     ]
    },
    {
     "name": "stdout",
     "output_type": "stream",
     "text": [
      "Epoch: [28/50], Batch: [1/50], train accuracy: 1.000000, loss: 0.000214\n"
     ]
    },
    {
     "name": "stderr",
     "output_type": "stream",
     "text": [
      "100%|██████████████████████████████████████████████████████████████████████████████████| 50/50 [00:17<00:00,  2.82it/s]\n"
     ]
    },
    {
     "name": "stdout",
     "output_type": "stream",
     "text": [
      "Epoch: [28/50], train loss: 0.001085\n",
      "Epoch: [28/50], val accuracy: 0.660000, loss: 0.534564\n"
     ]
    },
    {
     "name": "stderr",
     "output_type": "stream",
     "text": [
      "  2%|█▋                                                                                 | 1/50 [00:00<00:17,  2.81it/s]"
     ]
    },
    {
     "name": "stdout",
     "output_type": "stream",
     "text": [
      "Epoch: [29/50], Batch: [1/50], train accuracy: 1.000000, loss: 0.003471\n"
     ]
    },
    {
     "name": "stderr",
     "output_type": "stream",
     "text": [
      "100%|██████████████████████████████████████████████████████████████████████████████████| 50/50 [21:41<00:00, 26.02s/it]\n"
     ]
    },
    {
     "name": "stdout",
     "output_type": "stream",
     "text": [
      "Epoch: [29/50], train loss: 0.001000\n",
      "Epoch: [29/50], val accuracy: 0.640000, loss: 0.536816\n"
     ]
    },
    {
     "name": "stderr",
     "output_type": "stream",
     "text": [
      "  2%|█▋                                                                                 | 1/50 [00:00<00:23,  2.09it/s]"
     ]
    },
    {
     "name": "stdout",
     "output_type": "stream",
     "text": [
      "Epoch: [30/50], Batch: [1/50], train accuracy: 1.000000, loss: 0.000178\n"
     ]
    },
    {
     "name": "stderr",
     "output_type": "stream",
     "text": [
      "100%|██████████████████████████████████████████████████████████████████████████████████| 50/50 [00:18<00:00,  2.65it/s]\n"
     ]
    },
    {
     "name": "stdout",
     "output_type": "stream",
     "text": [
      "Epoch: [30/50], train loss: 0.001977\n",
      "Epoch: [30/50], val accuracy: 0.640000, loss: 0.555683\n"
     ]
    },
    {
     "name": "stderr",
     "output_type": "stream",
     "text": [
      "  2%|█▋                                                                                 | 1/50 [00:00<00:17,  2.75it/s]"
     ]
    },
    {
     "name": "stdout",
     "output_type": "stream",
     "text": [
      "Epoch: [31/50], Batch: [1/50], train accuracy: 1.000000, loss: 0.000169\n"
     ]
    },
    {
     "name": "stderr",
     "output_type": "stream",
     "text": [
      "100%|██████████████████████████████████████████████████████████████████████████████████| 50/50 [00:17<00:00,  2.78it/s]\n"
     ]
    },
    {
     "name": "stdout",
     "output_type": "stream",
     "text": [
      "Epoch: [31/50], train loss: 0.000479\n",
      "Epoch: [31/50], val accuracy: 0.650000, loss: 0.515539\n"
     ]
    },
    {
     "name": "stderr",
     "output_type": "stream",
     "text": [
      "  2%|█▋                                                                                 | 1/50 [00:00<00:20,  2.34it/s]"
     ]
    },
    {
     "name": "stdout",
     "output_type": "stream",
     "text": [
      "Epoch: [32/50], Batch: [1/50], train accuracy: 1.000000, loss: 0.019824\n"
     ]
    },
    {
     "name": "stderr",
     "output_type": "stream",
     "text": [
      "100%|██████████████████████████████████████████████████████████████████████████████████| 50/50 [00:18<00:00,  2.70it/s]\n"
     ]
    },
    {
     "name": "stdout",
     "output_type": "stream",
     "text": [
      "Epoch: [32/50], train loss: 0.000731\n",
      "Epoch: [32/50], val accuracy: 0.680000, loss: 0.518116\n"
     ]
    },
    {
     "name": "stderr",
     "output_type": "stream",
     "text": [
      "  2%|█▋                                                                                 | 1/50 [00:00<00:19,  2.49it/s]"
     ]
    },
    {
     "name": "stdout",
     "output_type": "stream",
     "text": [
      "Epoch: [33/50], Batch: [1/50], train accuracy: 1.000000, loss: 0.000191\n"
     ]
    },
    {
     "name": "stderr",
     "output_type": "stream",
     "text": [
      "100%|██████████████████████████████████████████████████████████████████████████████████| 50/50 [00:18<00:00,  2.68it/s]\n"
     ]
    },
    {
     "name": "stdout",
     "output_type": "stream",
     "text": [
      "Epoch: [33/50], train loss: 0.000898\n",
      "Epoch: [33/50], val accuracy: 0.680000, loss: 0.509952\n"
     ]
    },
    {
     "name": "stderr",
     "output_type": "stream",
     "text": [
      "  2%|█▋                                                                                 | 1/50 [00:00<00:17,  2.74it/s]"
     ]
    },
    {
     "name": "stdout",
     "output_type": "stream",
     "text": [
      "Epoch: [34/50], Batch: [1/50], train accuracy: 1.000000, loss: 0.000162\n"
     ]
    },
    {
     "name": "stderr",
     "output_type": "stream",
     "text": [
      "100%|██████████████████████████████████████████████████████████████████████████████████| 50/50 [00:18<00:00,  2.75it/s]\n"
     ]
    },
    {
     "name": "stdout",
     "output_type": "stream",
     "text": [
      "Epoch: [34/50], train loss: 0.001079\n",
      "Epoch: [34/50], val accuracy: 0.650000, loss: 0.528951\n"
     ]
    },
    {
     "name": "stderr",
     "output_type": "stream",
     "text": [
      "  2%|█▋                                                                                 | 1/50 [00:00<00:18,  2.61it/s]"
     ]
    },
    {
     "name": "stdout",
     "output_type": "stream",
     "text": [
      "Epoch: [35/50], Batch: [1/50], train accuracy: 1.000000, loss: 0.000221\n"
     ]
    },
    {
     "name": "stderr",
     "output_type": "stream",
     "text": [
      "100%|██████████████████████████████████████████████████████████████████████████████████| 50/50 [00:18<00:00,  2.74it/s]\n"
     ]
    },
    {
     "name": "stdout",
     "output_type": "stream",
     "text": [
      "Epoch: [35/50], train loss: 0.001097\n",
      "Epoch: [35/50], val accuracy: 0.640000, loss: 0.534211\n"
     ]
    },
    {
     "name": "stderr",
     "output_type": "stream",
     "text": [
      "  2%|█▋                                                                                 | 1/50 [00:00<00:18,  2.67it/s]"
     ]
    },
    {
     "name": "stdout",
     "output_type": "stream",
     "text": [
      "Epoch: [36/50], Batch: [1/50], train accuracy: 1.000000, loss: 0.000187\n"
     ]
    },
    {
     "name": "stderr",
     "output_type": "stream",
     "text": [
      "100%|██████████████████████████████████████████████████████████████████████████████████| 50/50 [00:17<00:00,  2.79it/s]\n"
     ]
    },
    {
     "name": "stdout",
     "output_type": "stream",
     "text": [
      "Epoch: [36/50], train loss: 0.001277\n",
      "Epoch: [36/50], val accuracy: 0.670000, loss: 0.511347\n"
     ]
    },
    {
     "name": "stderr",
     "output_type": "stream",
     "text": [
      "  2%|█▋                                                                                 | 1/50 [00:00<00:17,  2.81it/s]"
     ]
    },
    {
     "name": "stdout",
     "output_type": "stream",
     "text": [
      "Epoch: [37/50], Batch: [1/50], train accuracy: 1.000000, loss: 0.000141\n"
     ]
    },
    {
     "name": "stderr",
     "output_type": "stream",
     "text": [
      "100%|██████████████████████████████████████████████████████████████████████████████████| 50/50 [00:17<00:00,  2.79it/s]\n"
     ]
    },
    {
     "name": "stdout",
     "output_type": "stream",
     "text": [
      "Epoch: [37/50], train loss: 0.002579\n",
      "Epoch: [37/50], val accuracy: 0.620000, loss: 0.550007\n"
     ]
    },
    {
     "name": "stderr",
     "output_type": "stream",
     "text": [
      "  2%|█▋                                                                                 | 1/50 [00:00<00:17,  2.81it/s]"
     ]
    },
    {
     "name": "stdout",
     "output_type": "stream",
     "text": [
      "Epoch: [38/50], Batch: [1/50], train accuracy: 1.000000, loss: 0.000156\n"
     ]
    },
    {
     "name": "stderr",
     "output_type": "stream",
     "text": [
      "100%|██████████████████████████████████████████████████████████████████████████████████| 50/50 [00:17<00:00,  2.80it/s]\n"
     ]
    },
    {
     "name": "stdout",
     "output_type": "stream",
     "text": [
      "Epoch: [38/50], train loss: 0.001052\n",
      "Epoch: [38/50], val accuracy: 0.650000, loss: 0.538540\n"
     ]
    },
    {
     "name": "stderr",
     "output_type": "stream",
     "text": [
      "  2%|█▋                                                                                 | 1/50 [00:00<00:17,  2.81it/s]"
     ]
    },
    {
     "name": "stdout",
     "output_type": "stream",
     "text": [
      "Epoch: [39/50], Batch: [1/50], train accuracy: 1.000000, loss: 0.008193\n"
     ]
    },
    {
     "name": "stderr",
     "output_type": "stream",
     "text": [
      "100%|██████████████████████████████████████████████████████████████████████████████████| 50/50 [00:17<00:00,  2.80it/s]\n"
     ]
    },
    {
     "name": "stdout",
     "output_type": "stream",
     "text": [
      "Epoch: [39/50], train loss: 0.001301\n",
      "Epoch: [39/50], val accuracy: 0.670000, loss: 0.531057\n"
     ]
    },
    {
     "name": "stderr",
     "output_type": "stream",
     "text": [
      "  2%|█▋                                                                                 | 1/50 [00:00<00:17,  2.75it/s]"
     ]
    },
    {
     "name": "stdout",
     "output_type": "stream",
     "text": [
      "Epoch: [40/50], Batch: [1/50], train accuracy: 1.000000, loss: 0.000157\n"
     ]
    },
    {
     "name": "stderr",
     "output_type": "stream",
     "text": [
      "100%|██████████████████████████████████████████████████████████████████████████████████| 50/50 [00:18<00:00,  2.74it/s]\n"
     ]
    },
    {
     "name": "stdout",
     "output_type": "stream",
     "text": [
      "Epoch: [40/50], train loss: 0.000919\n",
      "Epoch: [40/50], val accuracy: 0.640000, loss: 0.525094\n"
     ]
    },
    {
     "name": "stderr",
     "output_type": "stream",
     "text": [
      "  2%|█▋                                                                                 | 1/50 [00:00<00:18,  2.71it/s]"
     ]
    },
    {
     "name": "stdout",
     "output_type": "stream",
     "text": [
      "Epoch: [41/50], Batch: [1/50], train accuracy: 1.000000, loss: 0.000163\n"
     ]
    },
    {
     "name": "stderr",
     "output_type": "stream",
     "text": [
      "100%|██████████████████████████████████████████████████████████████████████████████████| 50/50 [00:17<00:00,  2.79it/s]\n"
     ]
    },
    {
     "name": "stdout",
     "output_type": "stream",
     "text": [
      "Epoch: [41/50], train loss: 0.001231\n",
      "Epoch: [41/50], val accuracy: 0.640000, loss: 0.549130\n"
     ]
    },
    {
     "name": "stderr",
     "output_type": "stream",
     "text": [
      "  2%|█▋                                                                                 | 1/50 [00:00<00:17,  2.74it/s]"
     ]
    },
    {
     "name": "stdout",
     "output_type": "stream",
     "text": [
      "Epoch: [42/50], Batch: [1/50], train accuracy: 1.000000, loss: 0.000159\n"
     ]
    },
    {
     "name": "stderr",
     "output_type": "stream",
     "text": [
      "100%|██████████████████████████████████████████████████████████████████████████████████| 50/50 [00:17<00:00,  2.80it/s]\n"
     ]
    },
    {
     "name": "stdout",
     "output_type": "stream",
     "text": [
      "Epoch: [42/50], train loss: 0.001821\n",
      "Epoch: [42/50], val accuracy: 0.670000, loss: 0.506703\n"
     ]
    },
    {
     "name": "stderr",
     "output_type": "stream",
     "text": [
      "  2%|█▋                                                                                 | 1/50 [00:00<00:17,  2.86it/s]"
     ]
    },
    {
     "name": "stdout",
     "output_type": "stream",
     "text": [
      "Epoch: [43/50], Batch: [1/50], train accuracy: 1.000000, loss: 0.000131\n"
     ]
    },
    {
     "name": "stderr",
     "output_type": "stream",
     "text": [
      "100%|██████████████████████████████████████████████████████████████████████████████████| 50/50 [00:18<00:00,  2.77it/s]\n"
     ]
    },
    {
     "name": "stdout",
     "output_type": "stream",
     "text": [
      "Epoch: [43/50], train loss: 0.000230\n",
      "Epoch: [43/50], val accuracy: 0.680000, loss: 0.487465\n"
     ]
    },
    {
     "name": "stderr",
     "output_type": "stream",
     "text": [
      "  2%|█▋                                                                                 | 1/50 [00:00<00:17,  2.75it/s]"
     ]
    },
    {
     "name": "stdout",
     "output_type": "stream",
     "text": [
      "Epoch: [44/50], Batch: [1/50], train accuracy: 1.000000, loss: 0.000111\n"
     ]
    },
    {
     "name": "stderr",
     "output_type": "stream",
     "text": [
      "100%|██████████████████████████████████████████████████████████████████████████████████| 50/50 [00:17<00:00,  2.79it/s]\n"
     ]
    },
    {
     "name": "stdout",
     "output_type": "stream",
     "text": [
      "Epoch: [44/50], train loss: 0.000703\n",
      "Epoch: [44/50], val accuracy: 0.680000, loss: 0.515782\n"
     ]
    },
    {
     "name": "stderr",
     "output_type": "stream",
     "text": [
      "  2%|█▋                                                                                 | 1/50 [00:00<00:25,  1.91it/s]"
     ]
    },
    {
     "name": "stdout",
     "output_type": "stream",
     "text": [
      "Epoch: [45/50], Batch: [1/50], train accuracy: 1.000000, loss: 0.000232\n"
     ]
    },
    {
     "name": "stderr",
     "output_type": "stream",
     "text": [
      "100%|██████████████████████████████████████████████████████████████████████████████████| 50/50 [00:19<00:00,  2.60it/s]\n"
     ]
    },
    {
     "name": "stdout",
     "output_type": "stream",
     "text": [
      "Epoch: [45/50], train loss: 0.002645\n",
      "Epoch: [45/50], val accuracy: 0.710000, loss: 0.538119\n"
     ]
    },
    {
     "name": "stderr",
     "output_type": "stream",
     "text": [
      "  2%|█▋                                                                                 | 1/50 [00:00<00:17,  2.79it/s]"
     ]
    },
    {
     "name": "stdout",
     "output_type": "stream",
     "text": [
      "Epoch: [46/50], Batch: [1/50], train accuracy: 1.000000, loss: 0.018793\n"
     ]
    },
    {
     "name": "stderr",
     "output_type": "stream",
     "text": [
      "100%|██████████████████████████████████████████████████████████████████████████████████| 50/50 [00:17<00:00,  2.79it/s]\n"
     ]
    },
    {
     "name": "stdout",
     "output_type": "stream",
     "text": [
      "Epoch: [46/50], train loss: 0.000698\n",
      "Epoch: [46/50], val accuracy: 0.680000, loss: 0.509403\n"
     ]
    },
    {
     "name": "stderr",
     "output_type": "stream",
     "text": [
      "  2%|█▋                                                                                 | 1/50 [00:00<00:17,  2.77it/s]"
     ]
    },
    {
     "name": "stdout",
     "output_type": "stream",
     "text": [
      "Epoch: [47/50], Batch: [1/50], train accuracy: 1.000000, loss: 0.000192\n"
     ]
    },
    {
     "name": "stderr",
     "output_type": "stream",
     "text": [
      "100%|██████████████████████████████████████████████████████████████████████████████████| 50/50 [00:17<00:00,  2.80it/s]\n"
     ]
    },
    {
     "name": "stdout",
     "output_type": "stream",
     "text": [
      "Epoch: [47/50], train loss: 0.000894\n",
      "Epoch: [47/50], val accuracy: 0.710000, loss: 0.521909\n"
     ]
    },
    {
     "name": "stderr",
     "output_type": "stream",
     "text": [
      "  2%|█▋                                                                                 | 1/50 [00:00<00:17,  2.86it/s]"
     ]
    },
    {
     "name": "stdout",
     "output_type": "stream",
     "text": [
      "Epoch: [48/50], Batch: [1/50], train accuracy: 1.000000, loss: 0.000129\n"
     ]
    },
    {
     "name": "stderr",
     "output_type": "stream",
     "text": [
      "100%|██████████████████████████████████████████████████████████████████████████████████| 50/50 [00:17<00:00,  2.78it/s]\n"
     ]
    },
    {
     "name": "stdout",
     "output_type": "stream",
     "text": [
      "Epoch: [48/50], train loss: 0.000721\n",
      "Epoch: [48/50], val accuracy: 0.670000, loss: 0.528994\n"
     ]
    },
    {
     "name": "stderr",
     "output_type": "stream",
     "text": [
      "  2%|█▋                                                                                 | 1/50 [00:00<00:17,  2.81it/s]"
     ]
    },
    {
     "name": "stdout",
     "output_type": "stream",
     "text": [
      "Epoch: [49/50], Batch: [1/50], train accuracy: 0.500000, loss: 0.000220\n"
     ]
    },
    {
     "name": "stderr",
     "output_type": "stream",
     "text": [
      "100%|██████████████████████████████████████████████████████████████████████████████████| 50/50 [00:17<00:00,  2.82it/s]\n"
     ]
    },
    {
     "name": "stdout",
     "output_type": "stream",
     "text": [
      "Epoch: [49/50], train loss: 0.001196\n",
      "Epoch: [49/50], val accuracy: 0.620000, loss: 0.501107\n"
     ]
    },
    {
     "name": "stderr",
     "output_type": "stream",
     "text": [
      "  2%|█▋                                                                                 | 1/50 [00:00<00:17,  2.82it/s]"
     ]
    },
    {
     "name": "stdout",
     "output_type": "stream",
     "text": [
      "Epoch: [50/50], Batch: [1/50], train accuracy: 1.000000, loss: 0.000139\n"
     ]
    },
    {
     "name": "stderr",
     "output_type": "stream",
     "text": [
      "100%|██████████████████████████████████████████████████████████████████████████████████| 50/50 [00:19<00:00,  2.55it/s]\n"
     ]
    },
    {
     "name": "stdout",
     "output_type": "stream",
     "text": [
      "Epoch: [50/50], train loss: 0.001031\n",
      "Epoch: [50/50], val accuracy: 0.670000, loss: 0.523572\n"
     ]
    }
   ],
   "source": [
    "capsule_net = CapsNet(model_kwargs)\n",
    "capsule_net = torch.nn.DataParallel(capsule_net)\n",
    "\n",
    "capsule_net = capsule_net.to(train_kwargs[\"device\"])\n",
    "capsule_net = capsule_net.module\n",
    "\n",
    "optimizer = torch.optim.Adam(capsule_net.parameters())\n",
    "\n",
    "for e in range(1, train_kwargs[\"epochs\"] + 1):\n",
    "    train(capsule_net, optimizer, data.train_dataloader, e)\n",
    "    val(capsule_net, data.val_dataloader, e)"
   ]
  },
  {
   "cell_type": "code",
   "execution_count": null,
   "id": "839efe65-be4e-4277-9bb5-3ddd4aacade0",
   "metadata": {},
   "outputs": [],
   "source": []
  },
  {
   "cell_type": "code",
   "execution_count": null,
   "id": "8e14b84e-4bd3-418f-a27e-30d282b2859b",
   "metadata": {},
   "outputs": [],
   "source": []
  },
  {
   "cell_type": "code",
   "execution_count": null,
   "id": "5362f6a1-3c48-4c32-86d8-cedbc2501fb8",
   "metadata": {},
   "outputs": [],
   "source": []
  }
 ],
 "metadata": {
  "kernelspec": {
   "display_name": "Python 3",
   "language": "python",
   "name": "python3"
  },
  "language_info": {
   "codemirror_mode": {
    "name": "ipython",
    "version": 3
   },
   "file_extension": ".py",
   "mimetype": "text/x-python",
   "name": "python",
   "nbconvert_exporter": "python",
   "pygments_lexer": "ipython3",
   "version": "3.7.10"
  }
 },
 "nbformat": 4,
 "nbformat_minor": 5
}
