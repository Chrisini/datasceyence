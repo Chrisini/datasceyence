{
 "cells": [
  {
   "cell_type": "code",
   "execution_count": 2,
   "id": "ea6a08a7-d96f-4a30-a51d-cde9bbdeccd0",
   "metadata": {},
   "outputs": [
    {
     "name": "stderr",
     "output_type": "stream",
     "text": [
      "C:\\Users\\Prinzessin\\anaconda3\\envs\\feta\\lib\\site-packages\\torchvision\\models\\_utils.py:223: UserWarning: Arguments other than a weight enum or `None` for 'weights' are deprecated since 0.13 and may be removed in the future. The current behavior is equivalent to passing `weights=None`.\n",
      "  warnings.warn(msg)\n"
     ]
    }
   ],
   "source": [
    "import torch\n",
    "from torch.autograd import Function\n",
    "from torchvision import models, transforms\n",
    "from PIL import Image\n",
    "import matplotlib.pyplot as plt\n",
    "import cv2\n",
    "import numpy as np\n",
    "\n",
    "\n",
    "\n",
    "# Load and preprocess an image\n",
    "def load_image(image_path):\n",
    "    img = Image.open(image_path).convert('RGB')\n",
    "    preprocess = transforms.Compose([\n",
    "        transforms.Resize((224, 224)),\n",
    "        transforms.ToTensor(),\n",
    "    ])\n",
    "    img_tensor = preprocess(img)\n",
    "    img_tensor = img_tensor.unsqueeze(0)\n",
    "    return img_tensor\n",
    "\n",
    "# Function to perform Grad-CAM\n",
    "class GradCam:\n",
    "    def __init__(self, model, target_layer):\n",
    "        self.model = model\n",
    "        self.target_layer = target_layer\n",
    "        self.gradients = None\n",
    "\n",
    "        # Register a hook to capture gradients during backward pass\n",
    "        self.hook = self.register_hooks()\n",
    "\n",
    "    def register_hooks(self):\n",
    "        def hook_fn(module, grad_in, grad_out):\n",
    "            self.gradients = grad_out[0]\n",
    "\n",
    "        target_layer = self.model._modules.get(self.target_layer)\n",
    "        hook = target_layer.register_forward_hook(hook_fn)\n",
    "        return hook\n",
    "\n",
    "    def remove_hooks(self):\n",
    "        self.hook.remove()\n",
    "\n",
    "    def forward(self, x):\n",
    "        return self.model(x)\n",
    "\n",
    "    def backward(self, output):\n",
    "        self.model.zero_grad()\n",
    "        output.backward()\n",
    "\n",
    "    def generate_heatmap(self, input_tensor, class_idx):\n",
    "        self.model.zero_grad()\n",
    "\n",
    "        # Perform forward and backward pass\n",
    "        output = self.forward(input_tensor)\n",
    "        target = output[0][class_idx]\n",
    "        self.backward(target)\n",
    "\n",
    "        # Calculate the importance weights (gradients)\n",
    "        weights = torch.mean(self.gradients, dim=(2, 3), keepdim=True)\n",
    "\n",
    "        # Get the activations from the target layer\n",
    "        target_layer_output = self.hook.output[0]\n",
    "\n",
    "        # Weighted sum of activations to get the Grad-CAM heatmap\n",
    "        grad_cam = torch.sum(weights * target_layer_output, dim=1, keepdim=True)\n",
    "        grad_cam = F.relu(grad_cam)\n",
    "\n",
    "        # Resize the heatmap to match the input image size\n",
    "        grad_cam = F.interpolate(grad_cam, size=(input_tensor.shape[2], input_tensor.shape[3]), mode='bilinear', align_corners=False)\n",
    "\n",
    "    \n"
   ]
  },
  {
   "cell_type": "code",
   "execution_count": 3,
   "id": "37533ea5-1966-442d-96e1-881f7ff3cda3",
   "metadata": {},
   "outputs": [
    {
     "ename": "NameError",
     "evalue": "name 'dataloader' is not defined",
     "output_type": "error",
     "traceback": [
      "\u001b[1;31m---------------------------------------------------------------------------\u001b[0m",
      "\u001b[1;31mNameError\u001b[0m                                 Traceback (most recent call last)",
      "\u001b[1;32m~\\AppData\\Local\\Temp\\ipykernel_43212\\2736019037.py\u001b[0m in \u001b[0;36m<cell line: 6>\u001b[1;34m()\u001b[0m\n\u001b[0;32m      4\u001b[0m \u001b[1;33m\u001b[0m\u001b[0m\n\u001b[0;32m      5\u001b[0m \u001b[1;31m# get the image from the dataloader\u001b[0m\u001b[1;33m\u001b[0m\u001b[1;33m\u001b[0m\u001b[0m\n\u001b[1;32m----> 6\u001b[1;33m \u001b[0mimg\u001b[0m\u001b[1;33m,\u001b[0m \u001b[0m_\u001b[0m \u001b[1;33m=\u001b[0m \u001b[0mnext\u001b[0m\u001b[1;33m(\u001b[0m\u001b[0miter\u001b[0m\u001b[1;33m(\u001b[0m\u001b[0mdataloader\u001b[0m\u001b[1;33m)\u001b[0m\u001b[1;33m)\u001b[0m\u001b[1;33m\u001b[0m\u001b[1;33m\u001b[0m\u001b[0m\n\u001b[0m\u001b[0;32m      7\u001b[0m \u001b[1;33m\u001b[0m\u001b[0m\n\u001b[0;32m      8\u001b[0m \u001b[1;31m# get the most likely prediction of the model\u001b[0m\u001b[1;33m\u001b[0m\u001b[1;33m\u001b[0m\u001b[0m\n",
      "\u001b[1;31mNameError\u001b[0m: name 'dataloader' is not defined"
     ]
    }
   ],
   "source": [
    "# Load a pre-trained ResNet model\n",
    "model = models.resnet18(pretrained=False)\n",
    "model.eval()\n",
    "\n",
    "# get the image from the dataloader\n",
    "img, _ = load_image()\n",
    "\n",
    "# get the most likely prediction of the model\n",
    "pred = model(img).argmax(dim=1)"
   ]
  },
  {
   "cell_type": "code",
   "execution_count": null,
   "id": "43095c14-7dd5-40fd-9aa9-5d798d2e53f8",
   "metadata": {},
   "outputs": [],
   "source": []
  }
 ],
 "metadata": {
  "kernelspec": {
   "display_name": "Python 3 (ipykernel)",
   "language": "python",
   "name": "python3"
  },
  "language_info": {
   "codemirror_mode": {
    "name": "ipython",
    "version": 3
   },
   "file_extension": ".py",
   "mimetype": "text/x-python",
   "name": "python",
   "nbconvert_exporter": "python",
   "pygments_lexer": "ipython3",
   "version": "3.9.10"
  }
 },
 "nbformat": 4,
 "nbformat_minor": 5
}
