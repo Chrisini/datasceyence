{
 "cells": [
  {
   "cell_type": "markdown",
   "id": "f78f5539-5a19-4792-9fba-cee6cf71c11e",
   "metadata": {},
   "source": [
    "# We align everything now!!!\n",
    "\n",
    "assuming 20 filter, 100 all images (6 classes, 3 visualisation images each = 18 img choice)\n",
    "\n",
    "-> we need all images here!!!\n",
    "\n",
    "Input:\n",
    "* activation maps = 2000 = 100*20\n",
    "* msks (layer) = 100\n",
    "* disease csv (manual) = 1\n",
    "* gradcam = 100\n",
    "\n",
    "Output:\n",
    "\n",
    "Output for each image choice:\n",
    "* gradcam + layers = 360 = 3*6*20\n",
    "\n",
    "Output for each image choice * filter:\n",
    "* activation maps + layers = 360 = 3*6*20\n",
    "\n",
    "Output for each filter:\n",
    "* CSV with image stats = 20\n",
    "* Boxplot = 20\n",
    "* radar = 20\n",
    "\n",
    "Todo:\n",
    "* make sure the y axis is dependent on the min and max value of all data\n",
    "\n",
    "\n",
    "# SHOULD WE ONLY TAKE CORRECTLY CLASSIFIED ACTIVATION MAPS??"
   ]
  },
  {
   "cell_type": "markdown",
   "id": "9a362cda-3903-49aa-899e-09896b7eb32d",
   "metadata": {},
   "source": [
    "## imports"
   ]
  },
  {
   "cell_type": "code",
   "execution_count": 1,
   "id": "78c7daf8-f6c7-4f81-a01a-9de90dbead3b",
   "metadata": {},
   "outputs": [],
   "source": [
    "import os\n",
    "import pandas as pd\n",
    "import seaborn as sns\n",
    "import matplotlib.pyplot as plt\n",
    "import scipy.io\n",
    "import numpy as np\n",
    "from PIL import Image\n",
    "\n",
    "import glob\n",
    "from skimage import io\n",
    "import scipy.io\n",
    "\n",
    "import sys\n",
    "sys.path.insert(0, \"helper\")\n",
    "sys.path.insert(0, \"../helper\")\n",
    "\n",
    "# print(sys.path)\n",
    "\n",
    "# own module\n",
    "from helper.visualisation.colour import *\n",
    "from helper.data.transform.octa500_resize import *\n",
    "from helper.visualisation.radar_plot import * \n",
    "\n"
   ]
  },
  {
   "cell_type": "markdown",
   "id": "71eeae0c-8a89-4f67-9d74-d3c7e4e404de",
   "metadata": {},
   "source": [
    "## Settings"
   ]
  },
  {
   "cell_type": "code",
   "execution_count": 2,
   "id": "0f1b0bdc-25aa-42f7-9c59-99ee700b18f1",
   "metadata": {},
   "outputs": [],
   "source": [
    "# Prepare index for accessing layer data\n",
    "id_minus_one = 0 # 200 - 1  # Adjust for zero-based indexing\n",
    "\n",
    "# image 200 == mask array 199\n",
    "\n",
    "main_path = \"examples/example_results/lightning_logs/version_14/\"\n",
    "main_path = \"examples/example_results/lightning_logs/first_ever_experiment_xAI/version_0\"\n",
    "\n",
    "final_output_path = os.path.join(main_path, \"final_plots\")\n",
    "os.makedirs(final_output_path, exist_ok=True)\n",
    "\n",
    "radar_output_path = os.path.join(main_path, \"radar\")\n",
    "os.makedirs(radar_output_path, exist_ok=True)\n",
    "\n",
    "# Custom order list\n",
    "region = ['abyss', 'RNFL-to-IPL', 'INL-to-OPL', 'ONL+IS', 'OS', 'RPE', 'CH']\n",
    "classes = [\"healthy\", \"amd\", \"cnv\", \"dr\"]\n",
    "\n",
    "octa500_mapper = {\"3\" : \"healthy\",\n",
    "                  \"2\" : \"amd\",\n",
    "                  \"0\" : \"cnv\",\n",
    "                  \"1\" : \"dr\"\n",
    "                 }\n"
   ]
  },
  {
   "cell_type": "markdown",
   "id": "4c734094-dd71-40a7-9b9c-016b6dfb2b65",
   "metadata": {},
   "source": [
    "# Helper"
   ]
  },
  {
   "cell_type": "markdown",
   "id": "748eb3e2-99f8-4b24-96fe-5a1036845cbf",
   "metadata": {},
   "source": [
    "## get region"
   ]
  },
  {
   "cell_type": "code",
   "execution_count": 3,
   "id": "adf6c014-9cc3-45fc-81ff-7fd2eb5b1db7",
   "metadata": {},
   "outputs": [],
   "source": [
    "def get_region(img, mat):\n",
    "    # mateos code\n",
    "    \n",
    "    \n",
    "    # need to get 0 or 1 dependent on the image size, lets hope everything is square ...\n",
    "    # mat.append(np.array([img.shape[0]]*img.shape[0]))\n",
    "    \n",
    "    #print(\"mat\")\n",
    "    # 6, 400, 2\n",
    "    #print(mat.shape)\n",
    "    #print(mat[:,0:img.shape[0],0].shape) # y axis = 30\n",
    "    #print(mat[:,0:img.shape[0],1].shape) # x axis = 0\n",
    "\n",
    "    # Example data\n",
    "    b = mat[:,:,1] # np.linspace(0, 30, 50)  # 50 positions between 0 and 30 (floating points)\n",
    "    values = mat[:,:,0]  # 50 corresponding floating-point values\n",
    "\n",
    "    # Integer positions to map\n",
    "    b_int = np.arange(0, img.shape[0])\n",
    "    \n",
    "    #print(b)\n",
    "    #print(values)\n",
    "    #print(b_int)\n",
    "    \n",
    "\n",
    "    # Interpolate values at integer positions\n",
    "    \n",
    "    interpolated_values = []\n",
    "    for b_item, values_item in zip(b, values):\n",
    "        ip = np.interp(b_int, b_item, values_item)\n",
    "        ip = np.round(ip).astype(int)\n",
    "        interpolated_values.append(ip)\n",
    "\n",
    "    #print(interpolated_values)\n",
    "    \n",
    "    # no minus one, otherwise the last row is missing\n",
    "    mat = np.concatenate((interpolated_values, \n",
    "                         np.array([[img.shape[0]]*img.shape[0]])),\n",
    "                         axis=0)\n",
    "    \n",
    "    rows = mat.shape[0]\n",
    "\n",
    "    # Create border rows for segmentation\n",
    "    first_row = np.full((1, len(mat[0])), -1)  # First row filled with -1\n",
    "    last_row  = np.full((1, len(mat[0])), len(mat) + 3)  # Last row filled with img.shape[0] + 3\n",
    "\n",
    "    # Add the new borders to the matrix\n",
    "    mat = np.vstack((first_row, mat, last_row))\n",
    "    \n",
    "    #print(mat.shape)\n",
    "    \n",
    "    regions = []\n",
    "\n",
    "    # Iterate over the number of segments (assumed to be 7)\n",
    "    for i_layer in range(rows):\n",
    "        vect = []\n",
    "        matrix = np.copy(img)  # Create a copy of the original image for modification\n",
    "\n",
    "        # Iterate over each column of the image (or row??)\n",
    "        for j in range(img.shape[1]):\n",
    "            # Create a mask for the current segment\n",
    "            mask = (np.arange(matrix.shape[0]) <= mat[i_layer, j]) | (np.arange(matrix.shape[0]) >= mat[i_layer + 1, j])\n",
    "\n",
    "            # Modify the rows based on the mask; set pixels outside the mask to 0\n",
    "            matrix[:, j][mask] = 255\n",
    "            vect.append(matrix[j,:])  # Append the modified column to vect\n",
    "\n",
    "        # Stack the modified columns to form the segmented image for this section\n",
    "        regions.append(np.column_stack(vect))\n",
    "\n",
    "        # maybe save?? check at least when i change image data todo\n",
    "        # USE THIS FOR PLOTTING THE 7 REGIONS\n",
    "        #plt.imshow(vect, cmap='gray')  # 'gray' colormap for grayscale effect\n",
    "        #plt.show()\n",
    "    \n",
    "    # Display each segmented image\n",
    "    #for r in results:\n",
    "    #    segmented_image = Image.fromarray(r)  # Convert the segmented array back to an image\n",
    "    #    segmented_image.show()  # Display the segmented image\n",
    "    \n",
    "    # Return a list of each section as a NumPy array\n",
    "    return regions\n",
    "\n",
    "    "
   ]
  },
  {
   "cell_type": "markdown",
   "id": "fb9d150d-f39e-4e7b-b42c-26889a99b47d",
   "metadata": {
    "tags": []
   },
   "source": [
    "## get stats\n",
    "We use texture features\n",
    "\n",
    "* Mean Intensity\n",
    "* Standard Deviation\n",
    "* Entropy\n",
    "* Contrast (from Gray Level Co-occurrence Matrix)\n",
    "* Energy (from Gray Level Co-occurrence Matrix)\n",
    "* Homogeneity (from Gray Level Co-occurrence Matrix)\n",
    "* Fractal Dimension\n",
    "* Texture Entropy\n",
    "* Local Binary Pattern (mean or variance of the histogram)\n",
    "* Histogram of Oriented Gradients (mean magnitude of gradients)"
   ]
  },
  {
   "cell_type": "code",
   "execution_count": 4,
   "id": "2cdd892f-efcb-4f95-a9a9-e68fbc80ba6b",
   "metadata": {},
   "outputs": [],
   "source": [
    "from scipy.stats import entropy\n",
    "\n",
    "def get_stats(regions):\n",
    "    # image stats\n",
    "    \n",
    "    #print(regions)\n",
    "    \n",
    "    stats = []\n",
    "    for region in regions:\n",
    "        \n",
    "        # print(region)\n",
    "        \n",
    "        # Set the 'white' value (e.g., 255)\n",
    "        white_value = 255\n",
    "\n",
    "        # Flatten the array and ignore 'white' values\n",
    "        values = region[region != white_value].flatten()\n",
    "\n",
    "        # Calculate the frequency of each unique value\n",
    "        unique, counts = np.unique(values, return_counts=True)\n",
    "        probabilities = counts / counts.sum()\n",
    "\n",
    "        # Calculate entropy\n",
    "        array_entropy = entropy(probabilities, base=2)  # Base 2 for bits\n",
    "        \n",
    "        \n",
    "        # print(array_entropy)\n",
    "        \n",
    "        stats.append(array_entropy)\n",
    "    \n",
    "    return stats"
   ]
  },
  {
   "cell_type": "markdown",
   "id": "2c0a199d-6a98-4966-88b2-8c2817de0b92",
   "metadata": {
    "tags": []
   },
   "source": [
    "## log csv"
   ]
  },
  {
   "cell_type": "code",
   "execution_count": 5,
   "id": "5edf0169-0479-4aba-b637-d05cfa3af999",
   "metadata": {},
   "outputs": [],
   "source": [
    "def log_csv(filter_id, data, label, first=True):\n",
    "    \n",
    "    # label_list=[\"amd\", \"cnv\", \"dr\", \"healthy\"] # currently random\n",
    "    \n",
    "    # Define your lists\n",
    "    img_id = [filter_id]*7 # i can only use the id, cause we don't need the path anymore from here\n",
    "    #label = label # [label_list[label_id]]*7\n",
    "    # the abyss region should be empty, due to image data I expect there to be activation which is actually unwanted ... todo: put result into paper\n",
    "    region = ['abyss', 'RNFL-to-IPL', 'INL-to-OPL', 'ONL+IS', 'OS', 'RPE', 'CH'] #'IML', 'IPL', 'OPL', 'ISOS', 'RPE', 'BM', 'CH'\n",
    "    stat_texture1 = data\n",
    "    \n",
    "    # rows = len(img) * len(region) = 1000 * 6\n",
    "    \n",
    "    \n",
    "\n",
    "    # Creating a DataFrame with dummy data\n",
    "    \"\"\"\n",
    "    data = {\n",
    "        'img_id': [10, 15, 14, 20, 18, 22, 30, 28, 32, 35, 33, 34, 40, 38, 42, 45, 43, 44],\n",
    "        'region': ['A', 'A', 'A', 'B', 'B', 'B', 'A', 'A', 'A', 'B', 'B', 'B', 'A', 'A', 'A', 'B', 'B', 'B'],\n",
    "        'Disease label': ['Class1', 'Class1', 'Class1', 'Class1', 'Class1', 'Class1',\n",
    "                    'Class2', 'Class2', 'Class2', 'Class2', 'Class2', 'Class2',\n",
    "                    'Class3', 'Class3', 'Class3', 'Class3', 'Class3', 'Class3'],\n",
    "        'stat_texture1': [10, 15, 14, 20, 18, 22, 30, 28, 32, 35, 33, 34, 40, 38, 42, 45, 43, 44]\n",
    "    }\n",
    "    \"\"\"\n",
    "    data = {\n",
    "        'img_id': img_id,\n",
    "        'region': region,\n",
    "        'Disease label': label,\n",
    "        'stat_texture1': stat_texture1\n",
    "    }\n",
    "\n",
    "    df = pd.DataFrame(data)\n",
    "    # df.to_csv(\"output.csv\", index=False)  # Saving to CSV\n",
    "\n",
    "    # Save DataFrame to CSV\n",
    "    \n",
    "    if first: # create\n",
    "        df.to_csv(os.path.join(final_output_path, f'filter_{filter_id}.csv'), index=False)\n",
    "    else: # append\n",
    "        df.to_csv(os.path.join(final_output_path, f'filter_{filter_id}.csv'), mode='a', index=False, header=False)\n",
    "    \n",
    "    \n",
    "    pass\n"
   ]
  },
  {
   "cell_type": "markdown",
   "id": "b61786bf-1f9b-4b98-87b3-473511e86c32",
   "metadata": {
    "tags": []
   },
   "source": [
    "## boxplot"
   ]
  },
  {
   "cell_type": "code",
   "execution_count": 6,
   "id": "e0fb7f22-1b21-4e0b-851d-4f3fb7052092",
   "metadata": {},
   "outputs": [],
   "source": [
    "def plot_boxplot(filter_id):\n",
    "    \n",
    "    #print(sns.color_palette(\"Paired\"))\n",
    "\n",
    "    #pal = sns.color_palette(\"Paired\")\n",
    "    #pal.pop(4)\n",
    "    #pal.pop(4)\n",
    "    #pal.insert(0, pal[6]) \n",
    "    #pal.insert(1, pal[8])     \n",
    "    \n",
    "\n",
    "    # Read the DataFrame from CSV\n",
    "    df = pd.read_csv(os.path.join(final_output_path, f'filter_{filter_id}.csv'))\n",
    "\n",
    "    # first sort by concept, then sort by class\n",
    "    \n",
    "    # Convert the 'Class' column to a categorical type with your custom order\n",
    "    df['Disease label'] = pd.Categorical(df['Disease label'], categories=classes, ordered=True)\n",
    "    df['region'] = pd.Categorical(df['region'], categories=region, ordered=True)\n",
    "    # Sort the DataFrame by the 'Class' column with the custom order\n",
    "    df = df.sort_values(by=['Disease label', 'region']).reset_index(drop=True)\n",
    "    \n",
    "    # filter_id = (\"filter_12_0_3.csv\".split(\"_\", 1)[1]).split(\".\")[0]\n",
    "\n",
    "    color_mapping = dict(zip(classes, normal_amd_cnv_dr.colors))\n",
    "    sns.set_theme(style=\"ticks\")\n",
    "    \n",
    "    # Create a boxplot with hue\n",
    "    plt.figure(figsize=(14, 7))\n",
    "    # or boxplot ...\n",
    "    #sns.catplot(x='Layer', y='Percentage', hue='Disease', data=df, kind=\"violin\", bw_adjust=.5, cut=0, height=3, aspect=6)\n",
    "    sns.boxplot(x='region', y='stat_texture1', hue='Disease label', data=df, palette=color_mapping)\n",
    "\n",
    "    sns.despine(offset=10, trim=True)\n",
    "\n",
    "    # Set y-axis limits and labels\n",
    "    #plt.ylim(0, 100)\n",
    "    plt.ylabel('Texture')\n",
    "    plt.xlabel('Retinal regions (combination of layers and membranes) and choroid')\n",
    "\n",
    "    # Display the legend\n",
    "    #plt.legend(title='Disease', bbox_to_anchor=(1.05, 1), loc='upper left')\n",
    "\n",
    "    # Display the plot\n",
    "    plt.title(f'Boxplot of activations in filter {filter_id} by region, texture and disease')\n",
    "    plt.savefig(os.path.join(final_output_path, f'filter_{filter_id}.png'))\n",
    "    \n",
    "    # save radar information\n",
    "    # no, we just need the variance\n",
    "    # 0 if the std is too high = not significant (maybe we can do an analysis of insignificance?\n",
    "    # like get the significant values?\n",
    "    # could do random forest for feature importance?\n",
    "    # value \n",
    "    # stats*layer are used to predict something??\n",
    "    \n",
    "    # list of 7 regions\n",
    "    #median = np.median(df)\n",
    "    #std_dev = np.std(df)\n",
    "    \n",
    "    df_mean_and_std = df.groupby(['Disease label', 'region'])['stat_texture1'].agg(['median', 'std']).reset_index()\n",
    "\n",
    "    df_mean_and_std.to_csv(os.path.join(final_output_path, f'mean_and_std_{filter_id}.csv'), index=False)\n",
    "    \n",
    "    return df_mean_and_std\n"
   ]
  },
  {
   "cell_type": "markdown",
   "id": "7b45cf45-18ec-473c-9f3c-b7e56360baa5",
   "metadata": {},
   "source": [
    "## radar"
   ]
  },
  {
   "cell_type": "code",
   "execution_count": 9,
   "id": "d6d4fe59-2650-403b-a8d1-5cb8365b7909",
   "metadata": {},
   "outputs": [],
   "source": [
    "def run_radar():\n",
    "    data, disease_labels = get_csv_data(main_path)\n",
    "    concept_labels = data[0]\n",
    "    data = data[1:]\n",
    "    theta = radar_factory(len(concept_labels), frame='polygon')\n",
    "\n",
    "    plot_each_filter(data, theta, make_pretty=False, colours=normal_amd_cnv_dr.colors, concept_labels=concept_labels, save_path=radar_output_path)"
   ]
  },
  {
   "cell_type": "markdown",
   "id": "f2d29392-3c58-44f0-87a7-2e15e8f64787",
   "metadata": {},
   "source": [
    "# main"
   ]
  },
  {
   "cell_type": "code",
   "execution_count": 10,
   "id": "2784c219-555b-416c-9c4b-3f74f306f3c1",
   "metadata": {},
   "outputs": [
    {
     "name": "stdout",
     "output_type": "stream",
     "text": [
      "   Disease label       region    median       std\n",
      "0        healthy        abyss  6.102894  0.201676\n",
      "1        healthy  RNFL-to-IPL  5.616968  0.939759\n",
      "2        healthy   INL-to-OPL  4.594402  0.719753\n",
      "3        healthy       ONL+IS  5.368659  0.814305\n",
      "4        healthy           OS  5.131556  1.130257\n",
      "5        healthy          RPE  0.000000  0.323379\n",
      "6        healthy           CH  6.446417  0.945861\n",
      "7            amd        abyss  6.033408  0.135213\n",
      "8            amd  RNFL-to-IPL  5.998789  0.407920\n",
      "9            amd   INL-to-OPL  4.938263  0.451006\n",
      "10           amd       ONL+IS  5.466176  0.334546\n",
      "11           amd           OS  5.729715  0.512982\n",
      "12           amd          RPE  3.501629  1.899220\n",
      "13           amd           CH  6.538106  0.132653\n",
      "14           cnv        abyss  6.068219  0.191837\n",
      "15           cnv  RNFL-to-IPL  5.638839  0.487536\n",
      "16           cnv   INL-to-OPL  4.857641  0.182391\n",
      "17           cnv       ONL+IS  5.039633  0.211032\n",
      "18           cnv           OS  5.631663  0.454512\n",
      "19           cnv          RPE  3.584963  2.299784\n",
      "20           cnv           CH  6.425654  0.091853\n",
      "21            dr        abyss  6.118571  0.204582\n",
      "22            dr  RNFL-to-IPL  5.931595  0.453555\n",
      "23            dr   INL-to-OPL  4.879838  0.358963\n",
      "24            dr       ONL+IS  5.599076  0.321760\n",
      "25            dr           OS  5.079368  1.994605\n",
      "26            dr          RPE  0.000000  0.000000\n",
      "27            dr           CH  6.454589  0.134523\n"
     ]
    },
    {
     "data": {
      "image/png": "[encoded data removed]",
      "text/plain": [
       "<Figure size 1008x504 with 1 Axes>"
      ]
     },
     "metadata": {},
     "output_type": "display_data"
    }
   ],
   "source": [
    "df = pd.read_csv(os.path.join(main_path, \"all_filters.csv\"))\n",
    "filter_id_list = df[\"filter\"]\n",
    "\n",
    "\n",
    "\n",
    "## Load the .mat file\n",
    "#mat = scipy.io.loadmat('examples/example_data/octa500/msks_6x6/10001.mat')\n",
    "\n",
    "    # Load a JPEG image\n",
    "    #image_path = 'picture.jpeg'\n",
    "    #image = Image.open(image_path)\n",
    "    #img = np.array(image)\n",
    "\n",
    "    # Display the image\n",
    "    #image.show()\n",
    "\n",
    "    \n",
    "def get_and_transform_mask(img_id=None, size=26):\n",
    "    \n",
    "    # scipy.io.loadmat('10001.mat')\n",
    "    \n",
    "    # mat_size = f_path.split(\"_size\")[1].split(\"_\",1)[0]\n",
    "    \n",
    "    mat_path = glob.glob(main_path + f\"/mat_transformed_choice/*_id{img_id}_size{size}*.mat\")[0]\n",
    "    \n",
    "    mat = scipy.io.loadmat(mat_path) # os.path.join(path, \"mat_transformed_choice/mat_id10001_0_0_0_mo0_gt3.mat\"))\n",
    "    \n",
    "    #print(\"entry\")\n",
    "    #print(mat)\n",
    "    \n",
    "    if False:\n",
    "        dummy_size = size\n",
    "        dummy_mask = []\n",
    "        dummy_mask.append(np.random.randint(5, 8, dummy_size).tolist())\n",
    "        dummy_mask.append(np.random.randint(8, 11, dummy_size).tolist())\n",
    "        dummy_mask.append(np.random.randint(12, 14, dummy_size).tolist())\n",
    "        dummy_mask.append(np.random.randint(15, 16, dummy_size).tolist())\n",
    "        dummy_mask.append(np.random.randint(17, 18, dummy_size).tolist())\n",
    "        dummy_mask.append(np.random.randint(18, dummy_size-2, dummy_size).tolist())\n",
    "        dummy_mask = np.transpose( np.array([dummy_mask]), (1, 0, 2))\n",
    "\n",
    "    \n",
    "    #print(dummy_mask)\n",
    "    \"\"\"\n",
    "    dummy_mat = {'__header__': b'MATLAB 5.0 MAT-file, Platform: PCWIN64, Created on: Fri May 06 15:17:37 2022',\n",
    "         '__version__': '1.0',\n",
    "         '__globals__': [],\n",
    "         'Layer': dummy_mask\n",
    "                }\n",
    "    \n",
    "    return dummy_mat\"\"\"\n",
    "    \n",
    "    gt = mat_path.split(\"_gt\")[1].split(\".\",1)[0]\n",
    "    \n",
    "    return mat, gt\n",
    "\n",
    "\n",
    "for f_id in filter_id_list:\n",
    "    #print(f_id.split(\"_\",1)[1])\n",
    "    # get activation maps from this filter\n",
    "    f_position = f_id.split(\"_\",1)[1]\n",
    "    file_paths = glob.glob(main_path + f\"/activation_maps/*_{f_position}*.png\")\n",
    "    first = True\n",
    "    for f_path in file_paths:\n",
    "        \n",
    "        #print(f_path)\n",
    "        \n",
    "        #print(f_path.split(\"_id\")[1].split(\"_\",1)[0])\n",
    "        \n",
    "        img_id = f_path.split(\"_id\")[1].split(\"_\",1)[0]\n",
    "        \n",
    "        # open file\n",
    "        img = io.imread(f_path)\n",
    "        msk, gt = get_and_transform_mask(img_id=img_id, size=img.shape[0]) # not sure whether 0 or 1, but it's a square so don't care :b\n",
    "        \n",
    "        regions = get_region(img, msk[\"Layer\"]) # id_minus_one\n",
    "        \n",
    "        #print(f_path)\n",
    "        # octa500_mapper\n",
    "        \n",
    "        disease = octa500_mapper[gt]\n",
    "\n",
    "        stats = get_stats(regions) # 7 regions for 6 boundaries + max img height.\n",
    "        \n",
    "        \n",
    "        \n",
    "        # filter_id, data, first=True\n",
    "        log_csv(filter_id=f_position, # os.path.basename(f_path).split(\".\")[0].split(\"_id\")[1].split(\"_\",1)[1], \n",
    "                data=stats, \n",
    "                label=disease, # todo between 0 and 4 - we need to make sure the order is correct\n",
    "                first=first)\n",
    "        first = False\n",
    "        \n",
    "        \n",
    "        \n",
    "        \n",
    "        \n",
    "        \n",
    "        \n",
    "        # get mask by _id*N*_\n",
    "        # get region\n",
    "        \n",
    "        # get stats of region\n",
    "        \n",
    "\n",
    "    # for each filter we need:\n",
    "    \n",
    "    df_mean_and_std = plot_boxplot(f_position)\n",
    "    \n",
    "    run_radar()\n",
    "    \n",
    "    print(df_mean_and_std)\n",
    "    \n",
    "    break\n",
    "    \n",
    "    # plot_radar(df_mean_and_std) -> in another file\n",
    "    \n",
    "    # break\n",
    "    "
   ]
  },
  {
   "cell_type": "code",
   "execution_count": null,
   "id": "13f1a9bf-96fc-42bd-892f-deb0a7729977",
   "metadata": {},
   "outputs": [],
   "source": []
  },
  {
   "cell_type": "markdown",
   "id": "9a738576-d1aa-46a4-a822-4e9f31e2fdd3",
   "metadata": {
    "tags": []
   },
   "source": [
    "# nonsense"
   ]
  },
  {
   "cell_type": "code",
   "execution_count": null,
   "id": "6226719b-1265-463f-a805-e3698b86e833",
   "metadata": {},
   "outputs": [],
   "source": [
    "img_id = 10001\n",
    "glob.glob(path + f\"/mat_transformed_choice/*{img_id}*.mat\")"
   ]
  },
  {
   "cell_type": "code",
   "execution_count": null,
   "id": "52f96a71-cb3f-4a49-a1f8-f31b24e2108c",
   "metadata": {},
   "outputs": [],
   "source": [
    "# classes = [\"healthy\", \"amd\", \"cnv\", \"dr\"]\n",
    "color_mapping = dict(zip(classes, normal_amd_cnv_dr.colors))\n",
    "    \n",
    "    \n",
    "print(color_mapping)\n"
   ]
  },
  {
   "cell_type": "code",
   "execution_count": null,
   "id": "d25de6f7-52cb-4ae1-80a9-409c88c79af8",
   "metadata": {},
   "outputs": [],
   "source": [
    "import seaborn as sns\n",
    "import pandas as pd\n",
    "import matplotlib.pyplot as plt\n",
    "\n",
    "# Set the theme\n",
    "sns.set_theme(style=\"whitegrid\")\n",
    "\n",
    "# Example data\n",
    "data = pd.DataFrame({\n",
    "    'Class': ['A', 'B', 'C', 'A', 'B', 'C', 'A', 'B', 'C'],\n",
    "    'Value': [1, 3, 2, 4, 2, 5, 6, 4, 7]\n",
    "})\n",
    "\n",
    "# Define unique classes and create a color palette for them\n",
    "classes = data['Class'].unique()\n",
    "colors = sns.color_palette(\"Set2\", len(classes))  # Change \"Set2\" to any palette you like\n",
    "\n",
    "# Create a dictionary mapping each class to a specific color\n",
    "color_mapping = dict(zip(classes, colors))\n",
    "\n",
    "print(color_mapping)\n",
    "\n",
    "# Plot using Seaborn's boxplot, passing in the custom color palette\n",
    "plt.figure(figsize=(8, 6))\n",
    "sns.boxplot(x='Class', y='Value', data=data, palette=color_mapping)\n",
    "\n",
    "# Show the plot\n",
    "plt.show()"
   ]
  },
  {
   "cell_type": "code",
   "execution_count": null,
   "id": "2c21361c-19d6-4c1e-99a6-f17d18dc98bf",
   "metadata": {},
   "outputs": [],
   "source": [
    "#np.array([img.shape[0]]*img.shape[0])"
   ]
  },
  {
   "cell_type": "code",
   "execution_count": null,
   "id": "1cd39bf3-870f-45f0-b257-549f5be27e25",
   "metadata": {},
   "outputs": [],
   "source": []
  },
  {
   "cell_type": "code",
   "execution_count": null,
   "id": "c2356e7c-0ead-40e2-aadc-3ddf64eaa594",
   "metadata": {},
   "outputs": [],
   "source": [
    "#msk[\"Layer\"][:, id_minus_one].shape"
   ]
  },
  {
   "cell_type": "code",
   "execution_count": null,
   "id": "120d85c5-aa17-4286-a8a4-b8700dcdc16c",
   "metadata": {},
   "outputs": [],
   "source": [
    "#tmp_msk2 = np.array([[img.shape[0]-1]*img.shape[0]])\n"
   ]
  },
  {
   "cell_type": "code",
   "execution_count": null,
   "id": "1d6decba-bede-47b9-b704-a23b545fb612",
   "metadata": {},
   "outputs": [],
   "source": [
    "#tmp_msk2.shape"
   ]
  },
  {
   "cell_type": "code",
   "execution_count": null,
   "id": "b621eeb6-ef2c-4738-add4-0687b7cd4101",
   "metadata": {},
   "outputs": [],
   "source": [
    "#tmp_msk = msk[\"Layer\"][:, id_minus_one]"
   ]
  },
  {
   "cell_type": "code",
   "execution_count": null,
   "id": "08f8b382-24a0-4a5f-a95a-0d36a2b33cb3",
   "metadata": {},
   "outputs": [],
   "source": [
    "#tmp_msk.shape"
   ]
  },
  {
   "cell_type": "code",
   "execution_count": null,
   "id": "0db3cc88-d14a-496b-8603-31eba831a591",
   "metadata": {},
   "outputs": [],
   "source": [
    "#mat = np.concatenate((tmp_msk, tmp_msk2), axis=0)\n",
    "#mat.shape"
   ]
  },
  {
   "cell_type": "code",
   "execution_count": null,
   "id": "bfa74215-342a-4943-90dc-08adefce5115",
   "metadata": {},
   "outputs": [],
   "source": [
    "img.shape"
   ]
  },
  {
   "cell_type": "code",
   "execution_count": null,
   "id": "be71a8ec-1b3a-4932-8602-369cf0466f67",
   "metadata": {},
   "outputs": [],
   "source": [
    "np.array([10]*10)"
   ]
  },
  {
   "cell_type": "code",
   "execution_count": null,
   "id": "fae2ae69-5364-40bd-a680-275a33c2c6ed",
   "metadata": {},
   "outputs": [],
   "source": [
    "mat[\"Layer\"].shape"
   ]
  },
  {
   "cell_type": "code",
   "execution_count": null,
   "id": "29f63e8a-ced1-47a9-998c-3aa80e2e5137",
   "metadata": {},
   "outputs": [],
   "source": [
    "mat[\"Layer\"][:, id_minus_one:5].shape"
   ]
  },
  {
   "cell_type": "code",
   "execution_count": null,
   "id": "47b1e272-7fb0-45f9-ae3e-a7e5661e05d8",
   "metadata": {},
   "outputs": [],
   "source": [
    "dummy_mask.shape"
   ]
  },
  {
   "cell_type": "code",
   "execution_count": null,
   "id": "c77cc4e3-5179-4d3a-bd1e-be680790ead6",
   "metadata": {},
   "outputs": [],
   "source": [
    "img.shape"
   ]
  },
  {
   "cell_type": "code",
   "execution_count": null,
   "id": "3396794c-3441-48cb-9f0b-f4db7e9a512f",
   "metadata": {},
   "outputs": [],
   "source": [
    "filters x"
   ]
  },
  {
   "cell_type": "code",
   "execution_count": null,
   "id": "94269efc-0a64-4017-8708-6fbff33ba7b8",
   "metadata": {},
   "outputs": [],
   "source": [
    "for i in range(18): # -> i need all masks from octa 500 not just 3 per class\n",
    "    # open msk_choice \n",
    "    pass\n",
    "\n",
    "\n",
    "    for i in range(360/18): #-> i need all masks from octa 500 not just 3 per class\n",
    "        # open activation_maps \n",
    "        # save acctivation_maps_with_msk\n",
    "        pass\n",
    "\n",
    "\n",
    "    for i in range(18/18): # we can remove the loop i guess\n",
    "        # open gradcam\n",
    "        # save gradcam_with_msk\n",
    "        pass\n",
    "\n",
    "# open disease csv"
   ]
  },
  {
   "cell_type": "code",
   "execution_count": null,
   "id": "64c39cd2-bc36-4d20-80ee-6489a2499482",
   "metadata": {},
   "outputs": [],
   "source": [
    "log_csv()\n",
    "\n",
    "plot_boxplot()"
   ]
  },
  {
   "cell_type": "code",
   "execution_count": null,
   "id": "047ed90c-93db-4faa-acf6-5bc202f80d88",
   "metadata": {},
   "outputs": [],
   "source": [
    "# save csv with image stats\n",
    "for img in range(360):\n",
    "    # create dataframe\n",
    "    for layer in range(7): # 7 layers (6 boundaries) - but the uppermost is ignored so ... hmmm, also ignore lower 3 px row for mnist\n",
    "        # get image stats (only one will be used finally)\n",
    "        # new line in dataframe\n",
    "        # class, img_name, layer (region), stats\n",
    "    # save csv"
   ]
  },
  {
   "cell_type": "code",
   "execution_count": null,
   "id": "06912143-8857-4d15-900e-e53a19fde93a",
   "metadata": {},
   "outputs": [],
   "source": [
    "# save boxplots\n",
    "for file in range(20):\n",
    "    # open csv\n",
    "    # we only use one image stat for now!!\n",
    "    # create boxplot\n",
    "    # save"
   ]
  },
  {
   "cell_type": "code",
   "execution_count": null,
   "id": "ed176d8d-4d52-4a8b-805f-ed96dd7e2336",
   "metadata": {},
   "outputs": [],
   "source": [
    "# save radar\n",
    "\n",
    "for file in range(20):\n",
    "    # idk align boxplot somehow with the disease_manual.csv\n",
    "    # save radar"
   ]
  },
  {
   "cell_type": "code",
   "execution_count": null,
   "id": "c75dc870-3936-4272-9008-d7c64488c1c8",
   "metadata": {},
   "outputs": [],
   "source": [
    "import numpy as np\n",
    "\n",
    "# Example data\n",
    "b = np.linspace(0, 30, 50)  # 50 positions between 0 and 30 (floating points)\n",
    "values = np.random.random(50)  # 50 corresponding floating-point values\n",
    "\n",
    "# Integer positions to map\n",
    "b_int = np.arange(0, 31)\n",
    "\n",
    "# Interpolate values at integer positions\n",
    "interpolated_values = np.round(np.interp(b_int, b, values)).astype(int)\n",
    "\n",
    "print(interpolated_values)"
   ]
  },
  {
   "cell_type": "code",
   "execution_count": null,
   "id": "ebd39cde-a1e8-41b4-a832-ee5c43bb86b0",
   "metadata": {},
   "outputs": [],
   "source": []
  }
 ],
 "metadata": {
  "kernelspec": {
   "display_name": "Python 3 (ipykernel)",
   "language": "python",
   "name": "python3"
  },
  "language_info": {
   "codemirror_mode": {
    "name": "ipython",
    "version": 3
   },
   "file_extension": ".py",
   "mimetype": "text/x-python",
   "name": "python",
   "nbconvert_exporter": "python",
   "pygments_lexer": "ipython3",
   "version": "3.9.10"
  }
 },
 "nbformat": 4,
 "nbformat_minor": 5
}
