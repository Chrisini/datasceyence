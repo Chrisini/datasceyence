{
 "cells": [
  {
   "cell_type": "code",
   "execution_count": 3,
   "id": "a4e590f2-987c-4e49-a615-69069fe470b4",
   "metadata": {},
   "outputs": [],
   "source": [
    "import os\n",
    "import pandas as pd\n",
    "\n",
    "run_generate_semisupseg_csv_file = True\n",
    "images_path = r\"C:\\Users\\Prinzessin\\projects\\image_data\\iChallenge_AMD_OD_Fovea_lesions\\images_AMD\"\n",
    "masks_path  = r\"C:\\Users\\Prinzessin\\projects\\image_data\\iChallenge_AMD_OD_Fovea_lesions\\Disc_Masks\"\n",
    "\n",
    "weight = 0.1"
   ]
  },
  {
   "cell_type": "code",
   "execution_count": 6,
   "id": "55061eff-09af-46c6-b4aa-4470626843a6",
   "metadata": {},
   "outputs": [],
   "source": [
    "def generate_semisupseg_csv_file(images_path, masks_path, image_postfix=\".jpg\", mask_postfix=\".bmp\", split_percentage=90):\n",
    "    \n",
    "    # have to call for each dataset that contains images + masks\n",
    "    # finding image (.image_postfix) and mask (.mask_postfix) pairs for same base filename\n",
    "    # this works if your_img_dir/A0001.jpg and your_mask_dir/A0001.bmp\n",
    "    # optic nerve head\n",
    "    \n",
    "    mode = []\n",
    "    \n",
    "    # need one file for each concept \n",
    "    image_path = list(set(os.listdir(images_path)) - {'desktop.ini'})\n",
    "    mask_path  = list(set(os.listdir(masks_path)) - {'desktop.ini'})\n",
    "    \n",
    "    image_id = [os.path.basename(x).replace(image_postfix, \"\") for x in image_path]\n",
    "    mask_id = [os.path.basename(x).replace(mask_postfix, \"\") for x in mask_path]\n",
    "    \n",
    "    image_path = [os.path.join(images_path, x) for x in image_path]\n",
    "    mask_path = [os.path.join(masks_path, x) for x in mask_path]\n",
    "    \n",
    "    a = {\"image_path\" : image_path, \"id\" : image_id}\n",
    "    b = {\"mask_path\" : mask_path, \"id\" : mask_id}\n",
    "    \n",
    "    print(image_id)\n",
    "    \n",
    "    a = pd.DataFrame(data={\"img_path\" : image_path}, index=image_id)\n",
    "    b = pd.DataFrame(data={\"msk_path\" : mask_path}, index=mask_id)\n",
    "    \n",
    "    print(a)\n",
    "    \n",
    "    csv_data = pd.concat([a, b], axis=1, join=\"inner\")\n",
    "    \n",
    "    csv_data = csv_data.sample(frac=1, random_state=19)\n",
    "\n",
    "    percent_train = int(len(csv_data)/100*split_percentage)\n",
    "    percent_val = len(csv_data)-percent_train\n",
    "    \n",
    "    mode.extend([\"train\" for i in range(percent_train)])\n",
    "    mode.extend([\"val\" for i in range(percent_val)])\n",
    "    \n",
    "    \n",
    "    csv_data[\"mode\"] = mode\n",
    "    csv_data[\"weight\"] = [weight]*len(mode)\n",
    "\n",
    "    print(csv_data)\n",
    "    \n",
    "    csv_data.to_csv(f\"data_ichallenge_amd.csv\", sep=';')\n",
    "            "
   ]
  },
  {
   "cell_type": "code",
   "execution_count": 7,
   "id": "5c1986b6-bf96-4f59-b03a-76871a995487",
   "metadata": {},
   "outputs": [
    {
     "name": "stdout",
     "output_type": "stream",
     "text": [
      "['A0020', 'A0042', 'A0089', 'A0078', 'A0049', 'A0087', 'A0016', 'A0021', 'A0025', 'A0060', 'A0019', 'A0046', 'A0047', 'A0083', 'A0080', 'A0033', 'A0065', 'A0007', 'A0010', 'A0023', 'A0024', 'A0037', 'A0044', 'A0001', 'A0079', 'A0028', 'A0076', 'A0027', 'A0050', 'A0085', 'A0002', 'A0066', 'A0074', 'A0011', 'A0056', 'A0051', 'A0052', 'A0057', 'A0017', 'A0040', 'A0018', 'A0075', 'A0026', 'A0062', 'A0015', 'A0059', 'A0058', 'A0069', 'A0034', 'A0004', 'A0030', 'A0032', 'A0077', 'A0008', 'A0029', 'A0068', 'A0048', 'A0036', 'A0031', 'A0009', 'A0071', 'A0005', 'A0072', 'A0003', 'A0013', 'A0006', 'A0061', 'A0045', 'A0088', 'A0084', 'A0082', 'A0067', 'A0086', 'A0012', 'A0054', 'A0035', 'A0064', 'A0081', 'A0022', 'A0039', 'A0041', 'A0038', 'A0055', 'A0073', 'A0043', 'A0053', 'A0063', 'A0070', 'A0014']\n",
      "                                                img_path\n",
      "A0020  C:\\Users\\Prinzessin\\projects\\image_data\\iChall...\n",
      "A0042  C:\\Users\\Prinzessin\\projects\\image_data\\iChall...\n",
      "A0089  C:\\Users\\Prinzessin\\projects\\image_data\\iChall...\n",
      "A0078  C:\\Users\\Prinzessin\\projects\\image_data\\iChall...\n",
      "A0049  C:\\Users\\Prinzessin\\projects\\image_data\\iChall...\n",
      "...                                                  ...\n",
      "A0043  C:\\Users\\Prinzessin\\projects\\image_data\\iChall...\n",
      "A0053  C:\\Users\\Prinzessin\\projects\\image_data\\iChall...\n",
      "A0063  C:\\Users\\Prinzessin\\projects\\image_data\\iChall...\n",
      "A0070  C:\\Users\\Prinzessin\\projects\\image_data\\iChall...\n",
      "A0014  C:\\Users\\Prinzessin\\projects\\image_data\\iChall...\n",
      "\n",
      "[89 rows x 1 columns]\n",
      "                                                img_path  \\\n",
      "A0080  C:\\Users\\Prinzessin\\projects\\image_data\\iChall...   \n",
      "A0015  C:\\Users\\Prinzessin\\projects\\image_data\\iChall...   \n",
      "A0002  C:\\Users\\Prinzessin\\projects\\image_data\\iChall...   \n",
      "A0038  C:\\Users\\Prinzessin\\projects\\image_data\\iChall...   \n",
      "A0063  C:\\Users\\Prinzessin\\projects\\image_data\\iChall...   \n",
      "...                                                  ...   \n",
      "A0066  C:\\Users\\Prinzessin\\projects\\image_data\\iChall...   \n",
      "A0054  C:\\Users\\Prinzessin\\projects\\image_data\\iChall...   \n",
      "A0077  C:\\Users\\Prinzessin\\projects\\image_data\\iChall...   \n",
      "A0023  C:\\Users\\Prinzessin\\projects\\image_data\\iChall...   \n",
      "A0018  C:\\Users\\Prinzessin\\projects\\image_data\\iChall...   \n",
      "\n",
      "                                                msk_path   mode  weight  \n",
      "A0080  C:\\Users\\Prinzessin\\projects\\image_data\\iChall...  train     0.1  \n",
      "A0015  C:\\Users\\Prinzessin\\projects\\image_data\\iChall...  train     0.1  \n",
      "A0002  C:\\Users\\Prinzessin\\projects\\image_data\\iChall...  train     0.1  \n",
      "A0038  C:\\Users\\Prinzessin\\projects\\image_data\\iChall...  train     0.1  \n",
      "A0063  C:\\Users\\Prinzessin\\projects\\image_data\\iChall...  train     0.1  \n",
      "...                                                  ...    ...     ...  \n",
      "A0066  C:\\Users\\Prinzessin\\projects\\image_data\\iChall...    val     0.1  \n",
      "A0054  C:\\Users\\Prinzessin\\projects\\image_data\\iChall...    val     0.1  \n",
      "A0077  C:\\Users\\Prinzessin\\projects\\image_data\\iChall...    val     0.1  \n",
      "A0023  C:\\Users\\Prinzessin\\projects\\image_data\\iChall...    val     0.1  \n",
      "A0018  C:\\Users\\Prinzessin\\projects\\image_data\\iChall...    val     0.1  \n",
      "\n",
      "[89 rows x 4 columns]\n"
     ]
    }
   ],
   "source": [
    "if run_generate_semisupseg_csv_file:\n",
    "    generate_semisupseg_csv_file(images_path, masks_path, image_postfix=\".jpg\", mask_postfix=\".bmp\", split_percentage=90)"
   ]
  },
  {
   "cell_type": "code",
   "execution_count": null,
   "id": "44b56ea9-8590-4a01-8248-6070ec7e9ad2",
   "metadata": {},
   "outputs": [],
   "source": []
  }
 ],
 "metadata": {
  "kernelspec": {
   "display_name": "Python 3 (ipykernel)",
   "language": "python",
   "name": "python3"
  },
  "language_info": {
   "codemirror_mode": {
    "name": "ipython",
    "version": 3
   },
   "file_extension": ".py",
   "mimetype": "text/x-python",
   "name": "python",
   "nbconvert_exporter": "python",
   "pygments_lexer": "ipython3",
   "version": "3.9.10"
  }
 },
 "nbformat": 4,
 "nbformat_minor": 5
}
