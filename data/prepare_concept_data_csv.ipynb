{
 "cells": [
  {
   "cell_type": "code",
   "execution_count": 36,
   "id": "10d492e5-0f18-4227-b0a4-65a48b522e3a",
   "metadata": {},
   "outputs": [],
   "source": [
    "import os\n",
    "import pandas as pd\n",
    "\n",
    "run_generate_concept_csv_file = True\n",
    "data_path = r\"\""
   ]
  },
  {
   "cell_type": "code",
   "execution_count": 37,
   "id": "ef901105-7698-438d-a0fb-77025ff81311",
   "metadata": {},
   "outputs": [],
   "source": [
    "def generate_concept_csv_file(data_path, ci_concept:str=\"c0\"):\n",
    "    \n",
    "    # file path and image name: \n",
    "    #   c0/dream_c0_A0007_332.jpg\n",
    "    #   c3/dream_c3_A0007_252.jpg\n",
    "    #   result: img_path, lbl_positive for one if the ci_concept\n",
    "    #   have to call function for each ci_concept\n",
    "    \n",
    "    # need one file for each concept \n",
    "    image_path = []\n",
    "    label = []\n",
    "    mode = []\n",
    "\n",
    "    # iterate over files in concepts path directory\n",
    "    # won't work since in other dirs now\n",
    "    for ci_dir in os.listdir(data_path):\n",
    "        this_data_path = os.path.join(data_path, ci_dir)\n",
    "        for filename in os.listdir(this_data_path):\n",
    "            # cluster_i is 1, rest is 0\n",
    "            if filename.split(\"_\")[1] == ci_concept:\n",
    "                label.append(1) # positive class\n",
    "                image_path.append(os.path.join(this_data_path, filename))\n",
    "            else:\n",
    "                label.append(0) # negative class\n",
    "                image_path.append(os.path.join(this_data_path, filename))\n",
    "                \n",
    "            mode.append(\"train\") # all are train ...\n",
    "\n",
    "    dict = {\"img_path\" : image_path, \"lbl_positive\" : label, \"mode\" : mode}\n",
    "    csv_data = pd.DataFrame(dict)\n",
    "\n",
    "    csv_data.to_csv(f\"data_{ci_concept}.csv\", sep=';', index=False)\n",
    "            "
   ]
  },
  {
   "cell_type": "code",
   "execution_count": 38,
   "id": "b6278530-0be2-4fe7-939a-a4a2f18ed66e",
   "metadata": {},
   "outputs": [
    {
     "ename": "FileNotFoundError",
     "evalue": "[WinError 3] Das System kann den angegebenen Pfad nicht finden: ''",
     "output_type": "error",
     "traceback": [
      "\u001b[1;31m---------------------------------------------------------------------------\u001b[0m",
      "\u001b[1;31mFileNotFoundError\u001b[0m                         Traceback (most recent call last)",
      "\u001b[1;32m~\\AppData\\Local\\Temp\\ipykernel_8924\\2472653647.py\u001b[0m in \u001b[0;36m<cell line: 1>\u001b[1;34m()\u001b[0m\n\u001b[0;32m      1\u001b[0m \u001b[1;32mif\u001b[0m \u001b[0mrun_generate_concept_csv_file\u001b[0m\u001b[1;33m:\u001b[0m\u001b[1;33m\u001b[0m\u001b[1;33m\u001b[0m\u001b[0m\n\u001b[1;32m----> 2\u001b[1;33m     \u001b[0mgenerate_concept_csv_file\u001b[0m\u001b[1;33m(\u001b[0m\u001b[0mdata_path\u001b[0m\u001b[1;33m,\u001b[0m \u001b[1;34m\"c1\"\u001b[0m\u001b[1;33m)\u001b[0m\u001b[1;33m\u001b[0m\u001b[1;33m\u001b[0m\u001b[0m\n\u001b[0m",
      "\u001b[1;32m~\\AppData\\Local\\Temp\\ipykernel_8924\\959212648.py\u001b[0m in \u001b[0;36mgenerate_concept_csv_file\u001b[1;34m(data_path, ci_concept)\u001b[0m\n\u001b[0;32m     14\u001b[0m     \u001b[1;31m# iterate over files in concepts path directory\u001b[0m\u001b[1;33m\u001b[0m\u001b[1;33m\u001b[0m\u001b[0m\n\u001b[0;32m     15\u001b[0m     \u001b[1;31m# won't work since in other dirs now\u001b[0m\u001b[1;33m\u001b[0m\u001b[1;33m\u001b[0m\u001b[0m\n\u001b[1;32m---> 16\u001b[1;33m     \u001b[1;32mfor\u001b[0m \u001b[0mci_dir\u001b[0m \u001b[1;32min\u001b[0m \u001b[0mos\u001b[0m\u001b[1;33m.\u001b[0m\u001b[0mlistdir\u001b[0m\u001b[1;33m(\u001b[0m\u001b[0mdata_path\u001b[0m\u001b[1;33m)\u001b[0m\u001b[1;33m:\u001b[0m\u001b[1;33m\u001b[0m\u001b[1;33m\u001b[0m\u001b[0m\n\u001b[0m\u001b[0;32m     17\u001b[0m         \u001b[0mthis_data_path\u001b[0m \u001b[1;33m=\u001b[0m \u001b[0mos\u001b[0m\u001b[1;33m.\u001b[0m\u001b[0mpath\u001b[0m\u001b[1;33m.\u001b[0m\u001b[0mjoin\u001b[0m\u001b[1;33m(\u001b[0m\u001b[0mdata_path\u001b[0m\u001b[1;33m,\u001b[0m \u001b[0mci_dir\u001b[0m\u001b[1;33m)\u001b[0m\u001b[1;33m\u001b[0m\u001b[1;33m\u001b[0m\u001b[0m\n\u001b[0;32m     18\u001b[0m         \u001b[1;32mfor\u001b[0m \u001b[0mfilename\u001b[0m \u001b[1;32min\u001b[0m \u001b[0mos\u001b[0m\u001b[1;33m.\u001b[0m\u001b[0mlistdir\u001b[0m\u001b[1;33m(\u001b[0m\u001b[0mthis_data_path\u001b[0m\u001b[1;33m)\u001b[0m\u001b[1;33m:\u001b[0m\u001b[1;33m\u001b[0m\u001b[1;33m\u001b[0m\u001b[0m\n",
      "\u001b[1;31mFileNotFoundError\u001b[0m: [WinError 3] Das System kann den angegebenen Pfad nicht finden: ''"
     ]
    }
   ],
   "source": [
    "if run_generate_concept_csv_file:\n",
    "    generate_concept_csv_file(data_path, \"c1\")\n"
   ]
  },
  {
   "cell_type": "code",
   "execution_count": null,
   "id": "94158354-5604-47f3-a312-6f3038e2f951",
   "metadata": {},
   "outputs": [],
   "source": []
  },
  {
   "cell_type": "code",
   "execution_count": null,
   "id": "b3887733-e9a9-40b8-838a-e7def2237d5e",
   "metadata": {},
   "outputs": [],
   "source": []
  }
 ],
 "metadata": {
  "kernelspec": {
   "display_name": "Python 3 (ipykernel)",
   "language": "python",
   "name": "python3"
  },
  "language_info": {
   "codemirror_mode": {
    "name": "ipython",
    "version": 3
   },
   "file_extension": ".py",
   "mimetype": "text/x-python",
   "name": "python",
   "nbconvert_exporter": "python",
   "pygments_lexer": "ipython3",
   "version": "3.9.10"
  }
 },
 "nbformat": 4,
 "nbformat_minor": 5
}
