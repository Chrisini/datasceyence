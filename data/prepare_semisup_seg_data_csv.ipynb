{
 "cells": [
  {
   "cell_type": "code",
   "execution_count": null,
   "id": "a4e590f2-987c-4e49-a615-69069fe470b4",
   "metadata": {},
   "outputs": [],
   "source": [
    "import os\n",
    "import pandas as pd\n",
    "\n",
    "run_generate_semisupseg_csv_file = True\n",
    "data_path = r\"\""
   ]
  },
  {
   "cell_type": "code",
   "execution_count": null,
   "id": "55061eff-09af-46c6-b4aa-4470626843a6",
   "metadata": {},
   "outputs": [],
   "source": [
    "def generate_concept_csv_file(image_path, mask_path):\n",
    "    \n",
    "    # have to call for each dataset that contains images + masks\n",
    "    # optic nerve head\n",
    "    \n",
    "    # need one file for each concept \n",
    "    image_path = []\n",
    "    mask_path = []\n",
    "\n",
    "    # iterate over files in concepts path directory\n",
    "    # won't work since in other dirs now\n",
    "    for ci_dir in os.listdir(data_path):\n",
    "        this_data_path = os.path.join(data_path, ci_dir)\n",
    "        for filename in os.listdir(this_data_path):\n",
    "            # cluster_i is 1, rest is 0\n",
    "            if filename.split(\"_\")[1] == ci_concept:\n",
    "                label.append(1) # positive class\n",
    "                image_path.append(os.path.join(this_data_path, filename))\n",
    "            else:\n",
    "                label.append(0) # negative class\n",
    "                image_path.append(os.path.join(this_data_path, filename))\n",
    "\n",
    "    dict = {\"img_path\" : image_path, \"msk_onh\" : label}\n",
    "    csv_data = pd.DataFrame(dict)\n",
    "\n",
    "    if False:\n",
    "        csv_data = csv_data.sample(frac=1, random_state=19).reset_index(drop=True)\n",
    "\n",
    "        percent95 = int(len(csv_data)/100*95)\n",
    "\n",
    "        if mode == \"train\":\n",
    "            # 95% of data\n",
    "            csv_data = csv_data[0:percent95]\n",
    "            print(\"trainset length\", len(csv_data))\n",
    "            print(\"value count:\", csv_data['label'].value_counts())\n",
    "\n",
    "        else:\n",
    "            # 5% of data\n",
    "            csv_data = csv_data[percent95:-1]\n",
    "            print(\"valset length\",len(csv_data))\n",
    "            print(\"value count:\", csv_data['label'].value_counts())\n",
    "            \n",
    "            \n",
    "    csv_data.to_csv(f\"data_{ci_concept}.csv\", sep=';', index=False)\n",
    "            "
   ]
  },
  {
   "cell_type": "code",
   "execution_count": null,
   "id": "5c1986b6-bf96-4f59-b03a-76871a995487",
   "metadata": {},
   "outputs": [],
   "source": [
    "if run_generate_semisupseg_csv_file:\n",
    "    generate_concept_csv_file(image_path, mask_path)"
   ]
  }
 ],
 "metadata": {
  "kernelspec": {
   "display_name": "Python 3 (ipykernel)",
   "language": "python",
   "name": "python3"
  },
  "language_info": {
   "codemirror_mode": {
    "name": "ipython",
    "version": 3
   },
   "file_extension": ".py",
   "mimetype": "text/x-python",
   "name": "python",
   "nbconvert_exporter": "python",
   "pygments_lexer": "ipython3",
   "version": "3.9.10"
  }
 },
 "nbformat": 4,
 "nbformat_minor": 5
}
