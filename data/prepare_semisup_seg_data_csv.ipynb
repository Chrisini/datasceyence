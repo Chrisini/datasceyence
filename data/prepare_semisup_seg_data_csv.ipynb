{
 "cells": [
  {
   "cell_type": "code",
   "execution_count": 70,
   "id": "a4e590f2-987c-4e49-a615-69069fe470b4",
   "metadata": {},
   "outputs": [],
   "source": [
    "import os\n",
    "import pandas as pd\n",
    "\n",
    "run_generate_semisupseg_csv_file = True\n",
    "images_path = r\"C:\\Users\\Prinzessin\\projects\\image_data\\iChallenge_AMD_OD_Fovea_lesions\\images_non-AMD\"\n",
    "masks_path = r\"C:\\Users\\Prinzessin\\projects\\image_data\\iChallenge_AMD_OD_Fovea_lesions\\Disc_Masks\""
   ]
  },
  {
   "cell_type": "code",
   "execution_count": 81,
   "id": "55061eff-09af-46c6-b4aa-4470626843a6",
   "metadata": {},
   "outputs": [],
   "source": [
    "def generate_semisupseg_csv_file(images_path, masks_path, image_postfix=\".jpg\", mask_postfix=\".bmp\", split_percentage=90):\n",
    "    \n",
    "    # have to call for each dataset that contains images + masks\n",
    "    # finding image (.image_postfix) and mask (.mask_postfix) pairs for same base filename\n",
    "    # this works if your_img_dir/A0001.jpg and your_mask_dir/A0001.bmp\n",
    "    # optic nerve head\n",
    "    \n",
    "    mode = []\n",
    "    \n",
    "    # need one file for each concept \n",
    "    image_path = os.listdir(images_path)\n",
    "    mask_path = os.listdir(masks_path)\n",
    "    \n",
    "    image_id = [os.path.basename(x).replace(image_postfix, \"\") for x in image_path]\n",
    "    mask_id = [os.path.basename(x).replace(mask_postfix, \"\") for x in mask_path]\n",
    "    \n",
    "    image_path = [os.path.join(images_path, x) for x in image_path]\n",
    "    mask_path = [os.path.join(masks_path, x) for x in mask_path]\n",
    "    \n",
    "    a = {\"image_path\" : image_path, \"id\" : image_id}\n",
    "    b = {\"mask_path\" : mask_path, \"id\" : mask_id}\n",
    "    \n",
    "    a = pd.DataFrame({\"img_path\" : image_path}, index=image_id)\n",
    "    b = pd.DataFrame({\"msk_path\" : mask_path, index=mask_id)\n",
    "    \n",
    "    print(a)\n",
    "    \n",
    "    # ids = print(set(filenames) & set(masknames))\n",
    "    \n",
    "    csv_data = pd.concat([a, b], axis=1, join=\"inner\")\n",
    "    \n",
    "    csv_data = csv_data.sample(frac=1, random_state=19).reset_index(drop=True)\n",
    "\n",
    "    percent_train = int(len(csv_data)/100*split_percentage)\n",
    "    percent_val = len(csv_data)-percent_train\n",
    "    \n",
    "    mode.extend([\"train\" for i in range(percent_train)])\n",
    "    mode.extend([\"val\" for i in range(percent_val)])\n",
    "    \n",
    "    \n",
    "    csv_data[\"mode\"] = mode\n",
    "\n",
    "    print(csv_data)\n",
    "    \n",
    "    csv_data.to_csv(f\"data_ichallenge_non_amd.csv\", sep=';', index=False)\n",
    "            "
   ]
  },
  {
   "cell_type": "code",
   "execution_count": 82,
   "id": "5c1986b6-bf96-4f59-b03a-76871a995487",
   "metadata": {},
   "outputs": [
    {
     "name": "stdout",
     "output_type": "stream",
     "text": [
      "                                                    image_path\n",
      "desktop.ini  C:\\Users\\Prinzessin\\projects\\image_data\\iChall...\n",
      "N0001        C:\\Users\\Prinzessin\\projects\\image_data\\iChall...\n",
      "N0002        C:\\Users\\Prinzessin\\projects\\image_data\\iChall...\n",
      "N0003        C:\\Users\\Prinzessin\\projects\\image_data\\iChall...\n",
      "N0004        C:\\Users\\Prinzessin\\projects\\image_data\\iChall...\n",
      "...                                                        ...\n",
      "N0307        C:\\Users\\Prinzessin\\projects\\image_data\\iChall...\n",
      "N0308        C:\\Users\\Prinzessin\\projects\\image_data\\iChall...\n",
      "N0309        C:\\Users\\Prinzessin\\projects\\image_data\\iChall...\n",
      "N0310        C:\\Users\\Prinzessin\\projects\\image_data\\iChall...\n",
      "N0311        C:\\Users\\Prinzessin\\projects\\image_data\\iChall...\n",
      "\n",
      "[312 rows x 1 columns]\n",
      "                                            image_path  \\\n",
      "0    C:\\Users\\Prinzessin\\projects\\image_data\\iChall...   \n",
      "1    C:\\Users\\Prinzessin\\projects\\image_data\\iChall...   \n",
      "2    C:\\Users\\Prinzessin\\projects\\image_data\\iChall...   \n",
      "3    C:\\Users\\Prinzessin\\projects\\image_data\\iChall...   \n",
      "4    C:\\Users\\Prinzessin\\projects\\image_data\\iChall...   \n",
      "..                                                 ...   \n",
      "306  C:\\Users\\Prinzessin\\projects\\image_data\\iChall...   \n",
      "307  C:\\Users\\Prinzessin\\projects\\image_data\\iChall...   \n",
      "308  C:\\Users\\Prinzessin\\projects\\image_data\\iChall...   \n",
      "309  C:\\Users\\Prinzessin\\projects\\image_data\\iChall...   \n",
      "310  C:\\Users\\Prinzessin\\projects\\image_data\\iChall...   \n",
      "\n",
      "                                                     0   mode  \n",
      "0    C:\\Users\\Prinzessin\\projects\\image_data\\iChall...  train  \n",
      "1    C:\\Users\\Prinzessin\\projects\\image_data\\iChall...  train  \n",
      "2    C:\\Users\\Prinzessin\\projects\\image_data\\iChall...  train  \n",
      "3    C:\\Users\\Prinzessin\\projects\\image_data\\iChall...  train  \n",
      "4    C:\\Users\\Prinzessin\\projects\\image_data\\iChall...  train  \n",
      "..                                                 ...    ...  \n",
      "306  C:\\Users\\Prinzessin\\projects\\image_data\\iChall...    val  \n",
      "307  C:\\Users\\Prinzessin\\projects\\image_data\\iChall...    val  \n",
      "308  C:\\Users\\Prinzessin\\projects\\image_data\\iChall...    val  \n",
      "309  C:\\Users\\Prinzessin\\projects\\image_data\\iChall...    val  \n",
      "310  C:\\Users\\Prinzessin\\projects\\image_data\\iChall...    val  \n",
      "\n",
      "[311 rows x 3 columns]\n"
     ]
    }
   ],
   "source": [
    "if run_generate_semisupseg_csv_file:\n",
    "    generate_semisupseg_csv_file(images_path, masks_path, image_postfix=\".jpg\", mask_postfix=\".bmp\", split_percentage=90)"
   ]
  },
  {
   "cell_type": "code",
   "execution_count": null,
   "id": "44b56ea9-8590-4a01-8248-6070ec7e9ad2",
   "metadata": {},
   "outputs": [],
   "source": []
  }
 ],
 "metadata": {
  "kernelspec": {
   "display_name": "Python 3 (ipykernel)",
   "language": "python",
   "name": "python3"
  },
  "language_info": {
   "codemirror_mode": {
    "name": "ipython",
    "version": 3
   },
   "file_extension": ".py",
   "mimetype": "text/x-python",
   "name": "python",
   "nbconvert_exporter": "python",
   "pygments_lexer": "ipython3",
   "version": "3.9.10"
  }
 },
 "nbformat": 4,
 "nbformat_minor": 5
}
