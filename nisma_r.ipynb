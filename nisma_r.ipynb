{
 "cells": [
  {
   "cell_type": "code",
   "execution_count": 1,
   "id": "364927bb-510c-4e66-b260-4e29abd26026",
   "metadata": {},
   "outputs": [
    {
     "ename": "NameError",
     "evalue": "name 'install' is not defined",
     "output_type": "error",
     "traceback": [
      "\u001b[1;31m---------------------------------------------------------------------------\u001b[0m",
      "\u001b[1;31mNameError\u001b[0m                                 Traceback (most recent call last)",
      "Cell \u001b[1;32mIn[1], line 1\u001b[0m\n\u001b[1;32m----> 1\u001b[0m \u001b[43minstall\u001b[49m\u001b[38;5;241m.\u001b[39mpackages(\u001b[38;5;124m\"\u001b[39m\u001b[38;5;124mR.matlab\u001b[39m\u001b[38;5;124m\"\u001b[39m)\n",
      "\u001b[1;31mNameError\u001b[0m: name 'install' is not defined"
     ]
    }
   ],
   "source": [
    "install.packages(\"R.matlab\")\n"
   ]
  },
  {
   "cell_type": "code",
   "execution_count": null,
   "id": "b5cf398f-1a2e-454a-9b76-f0146ee21abe",
   "metadata": {},
   "outputs": [],
   "source": [
    "install.packages(\"dplyr\")"
   ]
  },
  {
   "cell_type": "code",
   "execution_count": null,
   "id": "697848a0-c67d-4ba1-8ddc-343184b03df8",
   "metadata": {},
   "outputs": [],
   "source": [
    "library(R.matlab)\n",
    "library(dplyr)"
   ]
  },
  {
   "cell_type": "code",
   "execution_count": null,
   "id": "250b08cc-6035-4557-90ad-29abacccba94",
   "metadata": {},
   "outputs": [],
   "source": [
    "\n",
    "\n",
    "\n",
    "#if (!requireNamespace(\"BiocManager\", quietly = TRUE))\n",
    "#    install.packages(\"BiocManager\")\n",
    "#BiocManager::install(\"recount3\")\n",
    "\n",
    "## Check that you have a valid Bioconductor installation\n",
    "BiocManager::valid(\"recount3\")\n",
    "\n",
    "## Load recount3 R package\n",
    "library(\"recount3\")\n",
    "  \n",
    "cc = read.csv(\"/content/tcga_gtex_manifest.csv\")\n",
    "phome = cc$project_home\n",
    "pproj = cc$project\n",
    "\n",
    "for(i in 1:length(phome)){\n",
    "# for(i in 1){\n",
    "  rr = recount3::create_rse_manual(\n",
    "    project = pproj[i],\n",
    "    project_home = phome[i],\n",
    "    organism = \"human\",\n",
    "    annotation = \"gencode_v26\",\n",
    "    type = \"gene\"\n",
    "  )\n",
    "  \n",
    "  DD = rr@colData@listData\n",
    "  write.csv(DD,paste0(\"/content/\",pproj[i],\"_metadata.csv\"))\n",
    "\n",
    "  rc = rr@assays@data@listData$raw_counts\n",
    "  write.csv(x=as.matrix(rc), paste0(\"/content/\",pproj[i],\".csv\"))\n",
    "}"
   ]
  },
  {
   "cell_type": "code",
   "execution_count": null,
   "id": "3d3da66e-0979-4389-88cd-32a66968a4ad",
   "metadata": {},
   "outputs": [],
   "source": []
  }
 ],
 "metadata": {
  "kernelspec": {
   "display_name": "R",
   "language": "R",
   "name": "ir"
  },
  "language_info": {
   "codemirror_mode": {
    "name": "ipython",
    "version": 3
   },
   "file_extension": ".py",
   "mimetype": "text/x-python",
   "name": "python",
   "nbconvert_exporter": "python",
   "pygments_lexer": "ipython3",
   "version": "3.12.2"
  }
 },
 "nbformat": 4,
 "nbformat_minor": 5
}
