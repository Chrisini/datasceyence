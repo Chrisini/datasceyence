{
 "cells": [
  {
   "cell_type": "markdown",
   "id": "dbfb8504-579a-470c-a65e-55e3406af507",
   "metadata": {},
   "source": [
    "# Metrics\n",
    "https://github.com/hsiangyuzhao/Segmentation-Metrics-PyTorch/blob/master/metric.py"
   ]
  },
  {
   "cell_type": "code",
   "execution_count": 1,
   "id": "b3cb1be0-47a5-48b4-a946-bfcf8727e9fe",
   "metadata": {},
   "outputs": [
    {
     "name": "stdout",
     "output_type": "stream",
     "text": [
      "['../helper', './helper', '/helper', 'helper', 'C:\\\\Users\\\\Prinzessin\\\\projects\\\\decentnet\\\\datasceyence\\\\examples', 'C:\\\\Users\\\\Prinzessin\\\\anaconda3\\\\envs\\\\feta\\\\python39.zip', 'C:\\\\Users\\\\Prinzessin\\\\anaconda3\\\\envs\\\\feta\\\\DLLs', 'C:\\\\Users\\\\Prinzessin\\\\anaconda3\\\\envs\\\\feta\\\\lib', 'C:\\\\Users\\\\Prinzessin\\\\anaconda3\\\\envs\\\\feta', '', 'C:\\\\Users\\\\Prinzessin\\\\anaconda3\\\\envs\\\\feta\\\\lib\\\\site-packages', 'C:\\\\Users\\\\Prinzessin\\\\anaconda3\\\\envs\\\\feta\\\\lib\\\\site-packages\\\\win32', 'C:\\\\Users\\\\Prinzessin\\\\anaconda3\\\\envs\\\\feta\\\\lib\\\\site-packages\\\\win32\\\\lib', 'C:\\\\Users\\\\Prinzessin\\\\anaconda3\\\\envs\\\\feta\\\\lib\\\\site-packages\\\\Pythonwin', 'C:\\\\Users\\\\Prinzessin\\\\anaconda3\\\\envs\\\\feta\\\\lib\\\\site-packages\\\\IPython\\\\extensions', 'C:\\\\Users\\\\Prinzessin\\\\.ipython']\n",
      "<matplotlib.colors.ListedColormap object at 0x000001AEA46C70A0>\n"
     ]
    },
    {
     "data": {
      "image/png": "[encoded data removed]",
      "text/plain": [
       "<Figure size 432x216 with 4 Axes>"
      ]
     },
     "metadata": {
      "needs_background": "light"
     },
     "output_type": "display_data"
    }
   ],
   "source": [
    "# unit test\n",
    "import unittest\n",
    "\n",
    "import glob\n",
    "\n",
    "import torch\n",
    "from torch.utils.data import DataLoader\n",
    "\n",
    "import segmentation_models_pytorch as smp\n",
    "\n",
    "import matplotlib.pyplot as plt\n",
    "\n",
    "import sys\n",
    "sys.path.insert(0, r\"helper\")\n",
    "sys.path.insert(0, r\"/helper\")\n",
    "sys.path.insert(0, r\"./helper\")\n",
    "sys.path.insert(0, r\"../helper\")\n",
    "print(sys.path)\n",
    "\n",
    "from colour import *\n",
    "\n",
    "\n",
    "from dataset.meanteacher import *\n",
    "\n",
    "# relevant: import the UncertaintyMetric\n",
    "from compute.metric.segmentation import * \n",
    "from compute.metric.symmetric_hausdorff import * "
   ]
  },
  {
   "cell_type": "code",
   "execution_count": 2,
   "id": "59e321bb-900a-441b-804a-92e00a494aa6",
   "metadata": {},
   "outputs": [
    {
     "name": "stdout",
     "output_type": "stream",
     "text": [
      "next batch\n",
      "pred torch.Size([2, 512, 512])\n",
      "msk torch.Size([1, 512, 512])\n",
      "high torch.Size([2, 512])\n",
      "pred torch.Size([2, 512, 512])\n",
      "msk torch.Size([1, 512, 512])\n",
      "high torch.Size([2, 512])\n",
      "pred torch.Size([2, 512, 512])\n",
      "msk torch.Size([1, 512, 512])\n",
      "high torch.Size([2, 512])\n",
      "pred torch.Size([2, 512, 512])\n",
      "msk torch.Size([1, 512, 512])\n",
      "high torch.Size([2, 512])\n",
      "pred torch.Size([2, 512, 512])\n",
      "msk torch.Size([1, 512, 512])\n",
      "high torch.Size([2, 512])\n",
      "next batch\n",
      "pred torch.Size([2, 512, 512])\n",
      "msk torch.Size([1, 512, 512])\n",
      "high torch.Size([2, 512])\n",
      "pred torch.Size([2, 512, 512])\n",
      "msk torch.Size([1, 512, 512])\n",
      "high torch.Size([2, 512])\n",
      "pred torch.Size([2, 512, 512])\n",
      "msk torch.Size([1, 512, 512])\n",
      "high torch.Size([2, 512])\n",
      "pred torch.Size([2, 512, 512])\n",
      "msk torch.Size([1, 512, 512])\n",
      "high torch.Size([2, 512])\n",
      "pred torch.Size([2, 512, 512])\n",
      "msk torch.Size([1, 512, 512])\n",
      "high torch.Size([2, 512])\n",
      "next batch\n",
      "pred torch.Size([2, 512, 512])\n",
      "msk torch.Size([1, 512, 512])\n",
      "high torch.Size([2, 512])\n",
      "pred torch.Size([2, 512, 512])\n",
      "msk torch.Size([1, 512, 512])\n",
      "high torch.Size([2, 512])\n",
      "pred torch.Size([2, 512, 512])\n",
      "msk torch.Size([1, 512, 512])\n",
      "high torch.Size([2, 512])\n",
      "pred torch.Size([2, 512, 512])\n",
      "msk torch.Size([1, 512, 512])\n",
      "high torch.Size([2, 512])\n",
      "pred torch.Size([2, 512, 512])\n",
      "msk torch.Size([1, 512, 512])\n",
      "high torch.Size([2, 512])\n"
     ]
    }
   ],
   "source": [
    "# preparation\n",
    "channels = 1\n",
    "n_output_neurons=2\n",
    "model = smp.UnetPlusPlus(\n",
    "                    encoder_name=\"efficientnet-b7\",        # choose encoder, e.g. mobilenet_v2 or efficientnet-b7\n",
    "                    encoder_weights=\"imagenet\",  # use `imagenet` pre-trained weights for encoder initialization\n",
    "                    in_channels=channels,          # model input channels (1 for gray-scale images, 3 for RGB, etc.)\n",
    "                    classes=n_output_neurons,         # model output channels (number of classes in your dataset)\n",
    "                )\n",
    "csv_filenames = glob.glob(r\"../data_prep/data_*_amd.csv\")\n",
    "# image size has to be dividable by 32!!\n",
    "dataset = MeanTeacherTrainDataset(mode=\"train\", channels=channels, image_size=512, csv_filenames=csv_filenames)\n",
    "train_loader = DataLoader(dataset, batch_size=5, shuffle=True)\n",
    "\n",
    "# relevant: create instance of class\n",
    "s = SegmentationMetrics()\n",
    "symhd = SymmetricHausdorffMetric()\n",
    "\n",
    "model_output = None\n",
    "# load one batch\n",
    "\n",
    "model_output_area = []\n",
    "ground_truth_area = []\n",
    "\n",
    "for idx, item in enumerate(train_loader):\n",
    "    \n",
    "    print(\"next batch\")\n",
    "    \n",
    "    model.eval()\n",
    "    with torch.no_grad():\n",
    "        model_output = model(item[\"img\"])\n",
    "\n",
    "        \n",
    "        # item[\"msk\"][0].permute(1, 2, 0).detach().cpu().numpy()\n",
    "        model_output_noise = model_output * item[\"msk\"]\n",
    "        \n",
    "        for msk, pred in zip(item[\"msk\"], model_output_noise):\n",
    "            \n",
    "            print(\"pred\", pred.shape)\n",
    "            print(\"msk\", msk.shape)\n",
    "            \n",
    "            _, highest_class = torch.max(pred, 1)  \n",
    "            \n",
    "            print(\"high\", highest_class.shape)\n",
    "\n",
    "            model_output_area.append(torch.sum(highest_class))\n",
    "\n",
    "            ground_truth_area.append(torch.sum(msk))\n",
    "\n",
    "    \n",
    "\n",
    "    if idx == 2:\n",
    "        break\n",
    "\n",
    "\n"
   ]
  },
  {
   "cell_type": "code",
   "execution_count": 3,
   "id": "7c2b6f11-8d39-4e47-9e40-793a7aee7260",
   "metadata": {},
   "outputs": [
    {
     "name": "stdout",
     "output_type": "stream",
     "text": [
      "{'acc': 1.0000000035149386, 'fscore': 0.0044290978573407885, 'prec': 1.0, 'rec': 0.00221946404427523, 'jac': 0.00221946404427523}\n",
      "2.134066171703483\n"
     ]
    }
   ],
   "source": [
    "# model_output_noise = model_output * item[\"msk\"]\n",
    "\n",
    "#print(model_output)\n",
    "\n",
    "from scipy.spatial.distance import directed_hausdorff\n",
    "    \n",
    "print(s(y_true=item[\"msk\"], y_pred=model_output_noise))\n",
    "print(symhd(model_output_noise, item[\"msk\"]))"
   ]
  },
  {
   "cell_type": "code",
   "execution_count": 4,
   "id": "baa80ac4-b362-455b-b683-14913fc2fb12",
   "metadata": {},
   "outputs": [
    {
     "data": {
      "text/plain": [
       "<matplotlib.image.AxesImage at 0x1aecd9da460>"
      ]
     },
     "execution_count": 4,
     "metadata": {},
     "output_type": "execute_result"
    },
    {
     "data": {
      "image/png": "[encoded data removed]",
      "text/plain": [
       "<Figure size 432x288 with 1 Axes>"
      ]
     },
     "metadata": {
      "needs_background": "light"
     },
     "output_type": "display_data"
    }
   ],
   "source": [
    "plt.figure()\n",
    "plt.imshow( item[\"msk\"][0].permute(1, 2, 0).detach().cpu().numpy(), cmap=\"gray\" )\n",
    "\n"
   ]
  },
  {
   "cell_type": "code",
   "execution_count": null,
   "id": "ae7a138c-7ad2-4bec-b142-63592bc5b273",
   "metadata": {},
   "outputs": [],
   "source": []
  },
  {
   "cell_type": "code",
   "execution_count": 10,
   "id": "5dcb1b6d-438d-445b-b585-7dc9353d1745",
   "metadata": {},
   "outputs": [
    {
     "name": "stdout",
     "output_type": "stream",
     "text": [
      "torch.Size([5, 2, 512, 512])\n",
      "torch.Size([5, 512, 512])\n",
      "torch.Size([512, 512])\n"
     ]
    },
    {
     "data": {
      "image/png": "[encoded data removed]",
      "text/plain": [
       "<Figure size 432x288 with 1 Axes>"
      ]
     },
     "metadata": {
      "needs_background": "light"
     },
     "output_type": "display_data"
    }
   ],
   "source": [
    "print(model_output.shape)\n",
    "\n",
    "_, highest_class = torch.max(model_output_noise, 1)   \n",
    "# highest_class = highest_class.detach().cpu().numpy()\n",
    "\n",
    "print(highest_class.shape)\n",
    "\n",
    "#redo = highest_class.permute(1, 2, 0)\n",
    "print(highest_class[0].shape)\n",
    "\n",
    "plt.figure()\n",
    "plt.imshow(highest_class[0], cmap=\"gray\")\n",
    "plt.show()"
   ]
  },
  {
   "cell_type": "code",
   "execution_count": 6,
   "id": "10eff04e-20f1-4666-9bac-6af7dc01bb9d",
   "metadata": {},
   "outputs": [],
   "source": [
    "o = model_output_area.copy()\n",
    "g = ground_truth_area.copy()"
   ]
  },
  {
   "cell_type": "code",
   "execution_count": 9,
   "id": "5af289db-d12d-485e-ab8e-adb830c14e0f",
   "metadata": {},
   "outputs": [
    {
     "name": "stdout",
     "output_type": "stream",
     "text": [
      "[tensor(30742.0938), tensor(27126.8438), tensor(8700.9844), tensor(46207.8438), tensor(16064.7500), tensor(19866.1562), tensor(37164.4375), tensor(15132.7344), tensor(25309.4688), tensor(21373.2031), tensor(3436.5469), tensor(21803.2500), tensor(33788.1250), tensor(51141.), tensor(47195.6562), tensor(309472), tensor(51578.6641), tensor(51578.6641), 250000, tensor(193420.)]\n"
     ]
    },
    {
     "data": {
      "image/png": "[encoded data removed]",
      "text/plain": [
       "<Figure size 432x288 with 1 Axes>"
      ]
     },
     "metadata": {
      "needs_background": "light"
     },
     "output_type": "display_data"
    }
   ],
   "source": [
    "import matplotlib.pyplot as plt\n",
    "import matplotlib.cm as cm\n",
    "\n",
    "model_output_area = o.copy()\n",
    "ground_truth_area = g.copy()\n",
    "\n",
    "max_num = max(max(model_output_area), max(ground_truth_area))\n",
    "\n",
    "if False:\n",
    "    model_output_area.append(0)\n",
    "    ground_truth_area.append(0)\n",
    "    model_output_area.append(max_num)\n",
    "    ground_truth_area.append(max_num)\n",
    "    model_output_area.append(max_num)\n",
    "    ground_truth_area.append(0)\n",
    "    model_output_area.append(0)\n",
    "    ground_truth_area.append(max_num)\n",
    "    \n",
    "    ground_truth_area = ground_truth_area[:-4]\n",
    "    model_output_area = model_output_area[:-4]\n",
    "\n",
    "ground_truth_area.append(0)\n",
    "model_output_area.append(max_num)\n",
    "ground_truth_area.append(max_num/2)\n",
    "model_output_area.append(max_num/3)\n",
    "ground_truth_area.append(max_num/3)\n",
    "model_output_area.append(max_num/2)\n",
    "\n",
    "ground_truth_area.append(150000)\n",
    "model_output_area.append(400000)\n",
    "\n",
    "ground_truth_area.append(max_num-max_num/8)\n",
    "model_output_area.append(max_num/8+max_num/8)\n",
    "    \n",
    "c = [np.abs(ele1-ele2) for ele1, ele2 in zip(model_output_area, ground_truth_area)]\n",
    "\n",
    "print(c)\n",
    "\n",
    "\n",
    "plt.figure()\n",
    "plt.xlabel(\"predicted area\")\n",
    "plt.ylabel(\"ground truth area\")\n",
    "plt.scatter(model_output_area, ground_truth_area, c=c, cmap=variint_map3, vmin=0, vmax=max_num)\n",
    "plt.plot([0, max_num], [0, max_num], color = 'k')\n",
    "\n",
    "plt.savefig(\"example_results/area.png\", dpi=1200)\n",
    "\n"
   ]
  },
  {
   "cell_type": "code",
   "execution_count": null,
   "id": "19c6d483-6dfe-46d9-b77c-7c6839390b67",
   "metadata": {},
   "outputs": [],
   "source": []
  },
  {
   "cell_type": "code",
   "execution_count": null,
   "id": "62e0c2c9-f51b-4275-a728-67514df5ed93",
   "metadata": {},
   "outputs": [],
   "source": []
  }
 ],
 "metadata": {
  "kernelspec": {
   "display_name": "Python 3 (ipykernel)",
   "language": "python",
   "name": "python3"
  },
  "language_info": {
   "codemirror_mode": {
    "name": "ipython",
    "version": 3
   },
   "file_extension": ".py",
   "mimetype": "text/x-python",
   "name": "python",
   "nbconvert_exporter": "python",
   "pygments_lexer": "ipython3",
   "version": "3.9.16"
  }
 },
 "nbformat": 4,
 "nbformat_minor": 5
}
