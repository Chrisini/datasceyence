{
 "cells": [
  {
   "cell_type": "markdown",
   "id": "dbfb8504-579a-470c-a65e-55e3406af507",
   "metadata": {},
   "source": [
    "# Metrics\n",
    "https://github.com/hsiangyuzhao/Segmentation-Metrics-PyTorch/blob/master/metric.py"
   ]
  },
  {
   "cell_type": "code",
   "execution_count": null,
   "id": "b3cb1be0-47a5-48b4-a946-bfcf8727e9fe",
   "metadata": {},
   "outputs": [],
   "source": [
    "# unit test\n",
    "import unittest\n",
    "\n",
    "import glob\n",
    "\n",
    "import torch\n",
    "from torch.utils.data import DataLoader\n",
    "\n",
    "import segmentation_models_pytorch as smp\n",
    "\n",
    "import matplotlib.pyplot as plt\n",
    "\n",
    "import sys\n",
    "sys.path.insert(0, r\"helper\")\n",
    "sys.path.insert(0, r\"/helper\")\n",
    "sys.path.insert(0, r\"./helper\")\n",
    "sys.path.insert(0, r\"../helper\")\n",
    "print(sys.path)\n",
    "\n",
    "\n",
    "from dataset.meanteacher import *\n",
    "\n",
    "# relevant: import the UncertaintyMetric\n",
    "from compute.metric.segmentation import * \n",
    "from compute.metric.symmetric_hausdorff import * "
   ]
  },
  {
   "cell_type": "code",
   "execution_count": null,
   "id": "59e321bb-900a-441b-804a-92e00a494aa6",
   "metadata": {},
   "outputs": [],
   "source": [
    "# preparation\n",
    "channels = 1\n",
    "n_output_neurons=2\n",
    "model = smp.UnetPlusPlus(\n",
    "                    encoder_name=\"efficientnet-b7\",        # choose encoder, e.g. mobilenet_v2 or efficientnet-b7\n",
    "                    encoder_weights=\"imagenet\",  # use `imagenet` pre-trained weights for encoder initialization\n",
    "                    in_channels=channels,          # model input channels (1 for gray-scale images, 3 for RGB, etc.)\n",
    "                    classes=n_output_neurons,         # model output channels (number of classes in your dataset)\n",
    "                )\n",
    "csv_filenames = glob.glob(r\"../data_prep/mt_*.csv\")\n",
    "# image size has to be dividable by 32!!\n",
    "dataset = MeanTeacherTrainDataset(mode=\"train\", channels=channels, image_size=512, csv_filenames=csv_filenames)\n",
    "train_loader = DataLoader(dataset, batch_size=5, shuffle=True)\n",
    "\n",
    "# relevant: create instance of class\n",
    "s = SegmentationMetrics()\n",
    "symhd = SymmetricHausdorffMetric()\n",
    "\n",
    "model_output = None\n",
    "# load one batch\n",
    "\n",
    "model_output_area = []\n",
    "ground_truth_area = []\n",
    "\n",
    "for idx, item in enumerate(train_loader):\n",
    "    \n",
    "    print(\"next batch\")\n",
    "    \n",
    "    model.eval()\n",
    "    with torch.no_grad():\n",
    "        model_output = model(item[\"img\"])\n",
    "\n",
    "        \n",
    "        # item[\"msk\"][0].permute(1, 2, 0).detach().cpu().numpy()\n",
    "        model_output_noise = model_output * item[\"msk\"]\n",
    "        \n",
    "        for msk, pred in zip(item[\"msk\"], model_output_noise):\n",
    "            \n",
    "            print(\"pred\", pred.shape)\n",
    "            print(\"msk\", msk.shape)\n",
    "            \n",
    "            _, highest_class = torch.max(pred, 1)  \n",
    "            \n",
    "            print(\"high\", highest_class.shape)\n",
    "\n",
    "            model_output_area.append(torch.sum(highest_class))\n",
    "\n",
    "            ground_truth_area.append(torch.sum(msk))\n",
    "\n",
    "    \n",
    "\n",
    "    if idx == 0:\n",
    "        break\n",
    "\n",
    "\n"
   ]
  },
  {
   "cell_type": "code",
   "execution_count": null,
   "id": "7c2b6f11-8d39-4e47-9e40-793a7aee7260",
   "metadata": {},
   "outputs": [],
   "source": [
    "# model_output_noise = model_output * item[\"msk\"]\n",
    "\n",
    "#print(model_output)\n",
    "\n",
    "from scipy.spatial.distance import directed_hausdorff\n",
    "    \n",
    "print(s(y_true=item[\"msk\"], y_pred=model_output_noise))\n",
    "print(symhd(model_output_noise, item[\"msk\"]))"
   ]
  },
  {
   "cell_type": "code",
   "execution_count": null,
   "id": "baa80ac4-b362-455b-b683-14913fc2fb12",
   "metadata": {},
   "outputs": [],
   "source": [
    "plt.figure()\n",
    "plt.imshow( item[\"msk\"][0].permute(1, 2, 0).detach().cpu().numpy(), cmap=\"gray\" )\n",
    "\n"
   ]
  },
  {
   "cell_type": "code",
   "execution_count": null,
   "id": "ae7a138c-7ad2-4bec-b142-63592bc5b273",
   "metadata": {},
   "outputs": [],
   "source": []
  },
  {
   "cell_type": "code",
   "execution_count": null,
   "id": "5dcb1b6d-438d-445b-b585-7dc9353d1745",
   "metadata": {},
   "outputs": [],
   "source": [
    "print(model_output.shape)\n",
    "\n",
    "_, highest_class = torch.max(model_output_noise, 1)   \n",
    "# highest_class = highest_class.detach().cpu().numpy()\n",
    "\n",
    "print(highest_class.shape)\n",
    "\n",
    "#redo = highest_class.permute(1, 2, 0)\n",
    "print(highest_class[0].shape)\n",
    "\n",
    "plt.figure()\n",
    "plt.imshow(highest_class[0], cmap=\"gray\")"
   ]
  },
  {
   "cell_type": "code",
   "execution_count": null,
   "id": "10eff04e-20f1-4666-9bac-6af7dc01bb9d",
   "metadata": {},
   "outputs": [],
   "source": []
  },
  {
   "cell_type": "code",
   "execution_count": null,
   "id": "5af289db-d12d-485e-ab8e-adb830c14e0f",
   "metadata": {},
   "outputs": [],
   "source": [
    "import matplotlib.pyplot as plt\n",
    "import matplotlib.cm as cm\n",
    "\n",
    "\n",
    "max_num = max(max(model_output_area), max(ground_truth_area))\n",
    "\n",
    "c = [abs(ele1 - ele2) for ele1, ele2 in zip(model_output_area, ground_truth_area)]\n",
    "\n",
    "plt.figure()\n",
    "plt.xlabel(\"predicted area\")\n",
    "plt.ylabel(\"ground truth area\")\n",
    "plt.scatter(model_output_area, ground_truth_area, c=c, cmap='cool')\n",
    "plt.plot([0, max_num], [0, max_num], color = 'k')\n",
    "\n",
    "plt.savefig(\"example_results/area.png\", dpi=1200)\n",
    "\n"
   ]
  },
  {
   "cell_type": "code",
   "execution_count": null,
   "id": "19c6d483-6dfe-46d9-b77c-7c6839390b67",
   "metadata": {},
   "outputs": [],
   "source": []
  }
 ],
 "metadata": {
  "kernelspec": {
   "display_name": "Python 3 (ipykernel)",
   "language": "python",
   "name": "python3"
  },
  "language_info": {
   "codemirror_mode": {
    "name": "ipython",
    "version": 3
   },
   "file_extension": ".py",
   "mimetype": "text/x-python",
   "name": "python",
   "nbconvert_exporter": "python",
   "pygments_lexer": "ipython3",
   "version": "3.9.16"
  }
 },
 "nbformat": 4,
 "nbformat_minor": 5
}
