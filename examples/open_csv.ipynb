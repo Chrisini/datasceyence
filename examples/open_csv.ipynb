{
 "cells": [
  {
   "cell_type": "code",
   "execution_count": 33,
   "id": "1721782d-ac59-47cd-b8f5-166c65e3d4a1",
   "metadata": {},
   "outputs": [
    {
     "name": "stdout",
     "output_type": "stream",
     "text": [
      "   lr-AdamW  step  val_loss  val_cc   val_acc  epoch  train_loss  train_cc  \\\n",
      "0     0.001     0       NaN     NaN       NaN    NaN         NaN       NaN   \n",
      "1       NaN  3749  0.114299     0.0  0.142200    0.0         NaN       NaN   \n",
      "2       NaN  3749       NaN     NaN       NaN    0.0    0.191512       0.0   \n",
      "3     0.001  3750       NaN     NaN       NaN    NaN         NaN       NaN   \n",
      "4       NaN  7499  0.075082     0.0  0.144056    1.0         NaN       NaN   \n",
      "\n",
      "   train_acc  \n",
      "0        NaN  \n",
      "1        NaN  \n",
      "2   0.135674  \n",
      "3        NaN  \n",
      "4        NaN  \n"
     ]
    }
   ],
   "source": [
    "import pandas as pd\n",
    "\n",
    "# Read the CSV file\n",
    "df = pd.read_csv('logs/tmp_exp/version_0/metrics.csv')\n",
    "\n",
    "# Display the first few rows of the DataFrame to verify the data\n",
    "print(df.head())\n"
   ]
  },
  {
   "cell_type": "code",
   "execution_count": 34,
   "id": "17bb37da-5094-4564-8c74-ea2ac7d80f31",
   "metadata": {},
   "outputs": [
    {
     "data": {
      "image/png": "[encoded data removed]",
      "text/plain": [
       "<Figure size 432x288 with 1 Axes>"
      ]
     },
     "metadata": {
      "needs_background": "light"
     },
     "output_type": "display_data"
    }
   ],
   "source": [
    "import matplotlib.pyplot as plt\n",
    "\n",
    "# Assuming your DataFrame has columns 'X' and 'Y'\n",
    "val_df = df[['step', 'val_loss']].dropna()\n",
    "x_val = val_df['step']\n",
    "y_val = val_df['val_loss']\n",
    "\n",
    "train_df = df[['step', 'train_loss']].dropna()\n",
    "x_train = train_df['step']\n",
    "y_train = train_df['train_loss']\n",
    "\n",
    "\n",
    "# Create a line plot\n",
    "plt.plot(x_train, y_train, label=\"train\")\n",
    "plt.plot(x_val, y_val, label=\"val\")\n",
    "\n",
    "# Set plot labels and title\n",
    "plt.xlabel('Steps')\n",
    "plt.ylabel('Loss')\n",
    "plt.title('Loss')\n",
    "\n",
    "\n",
    "plt.legend()\n",
    "\n",
    "# Show the plot\n",
    "plt.show()\n"
   ]
  },
  {
   "cell_type": "code",
   "execution_count": 35,
   "id": "e45f53d0-2fdd-4ed7-b3a4-5dc97e639888",
   "metadata": {},
   "outputs": [
    {
     "data": {
      "image/png": "[encoded data removed]",
      "text/plain": [
       "<Figure size 432x288 with 1 Axes>"
      ]
     },
     "metadata": {
      "needs_background": "light"
     },
     "output_type": "display_data"
    }
   ],
   "source": [
    "import matplotlib.pyplot as plt\n",
    "\n",
    "# Assuming your DataFrame has columns 'X' and 'Y'\n",
    "val_df = df[['step', 'val_acc']].dropna()\n",
    "x_val = val_df['step']\n",
    "y_val = val_df['val_acc']\n",
    "\n",
    "train_df = df[['step', 'train_acc']].dropna()\n",
    "x_train = train_df['step']\n",
    "y_train = train_df['train_acc']\n",
    "\n",
    "\n",
    "# Create a line plot\n",
    "plt.plot(x_train, y_train, label=\"train\")\n",
    "plt.plot(x_val, y_val, label=\"val\")\n",
    "\n",
    "# Set plot labels and title\n",
    "plt.xlabel('Steps')\n",
    "plt.ylabel('Acc')\n",
    "plt.title('Acc')\n",
    "\n",
    "\n",
    "plt.legend()\n",
    "\n",
    "# Show the plot\n",
    "plt.show()\n"
   ]
  },
  {
   "cell_type": "code",
   "execution_count": 24,
   "id": "41d4a625-968a-49d9-a3d7-4688f53232eb",
   "metadata": {},
   "outputs": [
    {
     "data": {
      "text/html": [
       "<div>\n",
       "<style scoped>\n",
       "    .dataframe tbody tr th:only-of-type {\n",
       "        vertical-align: middle;\n",
       "    }\n",
       "\n",
       "    .dataframe tbody tr th {\n",
       "        vertical-align: top;\n",
       "    }\n",
       "\n",
       "    .dataframe thead th {\n",
       "        text-align: right;\n",
       "    }\n",
       "</style>\n",
       "<table border=\"1\" class=\"dataframe\">\n",
       "  <thead>\n",
       "    <tr style=\"text-align: right;\">\n",
       "      <th></th>\n",
       "      <th>step</th>\n",
       "      <th>val_loss</th>\n",
       "    </tr>\n",
       "  </thead>\n",
       "  <tbody>\n",
       "    <tr>\n",
       "      <th>1</th>\n",
       "      <td>3749</td>\n",
       "      <td>0.114299</td>\n",
       "    </tr>\n",
       "    <tr>\n",
       "      <th>4</th>\n",
       "      <td>7499</td>\n",
       "      <td>0.075082</td>\n",
       "    </tr>\n",
       "    <tr>\n",
       "      <th>7</th>\n",
       "      <td>11249</td>\n",
       "      <td>0.063646</td>\n",
       "    </tr>\n",
       "  </tbody>\n",
       "</table>\n",
       "</div>"
      ],
      "text/plain": [
       "    step  val_loss\n",
       "1   3749  0.114299\n",
       "4   7499  0.075082\n",
       "7  11249  0.063646"
      ]
     },
     "execution_count": 24,
     "metadata": {},
     "output_type": "execute_result"
    }
   ],
   "source": [
    "val_df"
   ]
  },
  {
   "cell_type": "code",
   "execution_count": 7,
   "id": "1a14da2b-2b78-4e84-a73c-88e9df30e450",
   "metadata": {},
   "outputs": [
    {
     "data": {
      "text/plain": [
       "[0, 3749]"
      ]
     },
     "execution_count": 7,
     "metadata": {},
     "output_type": "execute_result"
    }
   ],
   "source": [
    "list(set(df['step']))"
   ]
  },
  {
   "cell_type": "code",
   "execution_count": 8,
   "id": "7a29f93e-8fd0-4651-a66a-4999bf2767d3",
   "metadata": {},
   "outputs": [
    {
     "data": {
      "text/plain": [
       "1    0.114299\n",
       "Name: val_loss, dtype: float64"
      ]
     },
     "execution_count": 8,
     "metadata": {},
     "output_type": "execute_result"
    }
   ],
   "source": [
    "df['val_loss'].dropna()"
   ]
  },
  {
   "cell_type": "code",
   "execution_count": null,
   "id": "b79b4ef3-d1f4-4260-9ff3-de96effdcfd7",
   "metadata": {},
   "outputs": [],
   "source": []
  }
 ],
 "metadata": {
  "kernelspec": {
   "display_name": "Python 3 (ipykernel)",
   "language": "python",
   "name": "python3"
  },
  "language_info": {
   "codemirror_mode": {
    "name": "ipython",
    "version": 3
   },
   "file_extension": ".py",
   "mimetype": "text/x-python",
   "name": "python",
   "nbconvert_exporter": "python",
   "pygments_lexer": "ipython3",
   "version": "3.9.10"
  }
 },
 "nbformat": 4,
 "nbformat_minor": 5
}
