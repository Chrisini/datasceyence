{
 "cells": [
  {
   "cell_type": "code",
   "execution_count": 1,
   "id": "27de2c81-a500-4a85-b24c-9924a9aba3c8",
   "metadata": {},
   "outputs": [
    {
     "name": "stdout",
     "output_type": "stream",
     "text": [
      "['../helper', './helper', '/helper', 'helper', 'C:\\\\Users\\\\Prinzessin\\\\projects\\\\decentnet\\\\datasceyence\\\\examples', 'C:\\\\Users\\\\Prinzessin\\\\anaconda3\\\\envs\\\\feta\\\\python39.zip', 'C:\\\\Users\\\\Prinzessin\\\\anaconda3\\\\envs\\\\feta\\\\DLLs', 'C:\\\\Users\\\\Prinzessin\\\\anaconda3\\\\envs\\\\feta\\\\lib', 'C:\\\\Users\\\\Prinzessin\\\\anaconda3\\\\envs\\\\feta', '', 'C:\\\\Users\\\\Prinzessin\\\\anaconda3\\\\envs\\\\feta\\\\lib\\\\site-packages', 'C:\\\\Users\\\\Prinzessin\\\\anaconda3\\\\envs\\\\feta\\\\lib\\\\site-packages\\\\win32', 'C:\\\\Users\\\\Prinzessin\\\\anaconda3\\\\envs\\\\feta\\\\lib\\\\site-packages\\\\win32\\\\lib', 'C:\\\\Users\\\\Prinzessin\\\\anaconda3\\\\envs\\\\feta\\\\lib\\\\site-packages\\\\Pythonwin', 'C:\\\\Users\\\\Prinzessin\\\\anaconda3\\\\envs\\\\feta\\\\lib\\\\site-packages\\\\IPython\\\\extensions', 'C:\\\\Users\\\\Prinzessin\\\\.ipython']\n"
     ]
    }
   ],
   "source": [
    "import sys\n",
    "sys.path.insert(0, \"helper\")\n",
    "sys.path.insert(0, \"/helper\")\n",
    "sys.path.insert(0, \"./helper\")\n",
    "sys.path.insert(0, \"../helper\")\n",
    "print(sys.path)\n",
    "\n",
    "from visualisation.guided_backprop import *"
   ]
  },
  {
   "cell_type": "code",
   "execution_count": 5,
   "id": "954973b1-ca31-4544-82e3-9a1887a98b05",
   "metadata": {},
   "outputs": [
    {
     "name": "stdout",
     "output_type": "stream",
     "text": [
      "odict_items([('0', Conv2d(116, 2, kernel_size=(1, 1), stride=(1, 1))), ('1', BatchNorm2d(2, eps=1e-05, momentum=0.1, affine=True, track_running_stats=True)), ('2', ReLU())])\n",
      "Layer Guided backprop completed\n",
      "Images saved at:  example_vis/tmp_layer10_filter5\n"
     ]
    },
    {
     "data": {
      "text/plain": [
       "(2124, 2056)"
      ]
     },
     "execution_count": 5,
     "metadata": {},
     "output_type": "execute_result"
    }
   ],
   "source": [
    "device = \"cpu\"\n",
    "\n",
    "experiment_name = \"tmp\"\n",
    "\n",
    "cnn_layer = 10\n",
    "filter_pos = 5\n",
    "\n",
    "# Pick one of the examples\n",
    "example_index = 0\n",
    "example_list = (('example_data/AMD/A0001.jpg', 0), \n",
    "                ('example_data/AMD/A0002.jpg', 1))\n",
    "\n",
    "img_path = example_list[example_index][0] # img\n",
    "lbl = example_list[example_index][1] # label\n",
    "\n",
    "\n",
    "# Read image\n",
    "original_image = Image.open(img_path).convert('RGB')\n",
    "\n",
    "# Define model\n",
    "from model.decent_block import *\n",
    "#model = DecentBlock(None, None, 2, device)\n",
    "model = DecentBlock(\"example_ckpt\", \"exp_1_mlp_c0_ep46_1.5189.ckpt\", 2, device)\n",
    "model.eval()\n",
    "\n",
    "layer = model.decent_block.decent_block_116 \n",
    "\n",
    "# File export name\n",
    "results_path = \"example_vis/\"\n",
    "file_name_to_export = experiment_name + '_layer' + str(cnn_layer) + '_filter' + str(filter_pos)\n",
    "\n",
    "# =============================================================================\n",
    "# Guided backprop\n",
    "# =============================================================================\n",
    "GBP = GuidedBackprop(model, experiment_name)\n",
    "\n",
    "GBP.run(original_image, lbl, cnn_layer, filter_pos, layer)\n",
    "GBP.save(results_path, file_name_to_export)\n",
    "\n",
    "print('Layer Guided backprop completed')\n",
    "print(\"Images saved as: \", results_path + file_name_to_export)\n",
    "\n",
    "original_image.size"
   ]
  },
  {
   "cell_type": "code",
   "execution_count": null,
   "id": "33c6f0bc-299f-416e-b395-078741425521",
   "metadata": {},
   "outputs": [],
   "source": []
  },
  {
   "cell_type": "code",
   "execution_count": null,
   "id": "33db971c-3f79-48f6-9206-69e68fc048ef",
   "metadata": {},
   "outputs": [],
   "source": []
  }
 ],
 "metadata": {
  "kernelspec": {
   "display_name": "Python 3 (ipykernel)",
   "language": "python",
   "name": "python3"
  },
  "language_info": {
   "codemirror_mode": {
    "name": "ipython",
    "version": 3
   },
   "file_extension": ".py",
   "mimetype": "text/x-python",
   "name": "python",
   "nbconvert_exporter": "python",
   "pygments_lexer": "ipython3",
   "version": "3.9.10"
  }
 },
 "nbformat": 4,
 "nbformat_minor": 5
}
