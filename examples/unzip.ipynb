{
 "cells": [
  {
   "cell_type": "code",
   "execution_count": 5,
   "id": "749eea53-21e3-4ac9-a3cc-b5b2b80437d8",
   "metadata": {},
   "outputs": [
    {
     "ename": "PatoolError",
     "evalue": "patool can not unpack\npatool error: error extracting C:\\Users\\Christina\\Downloads\\normal.rar: could not find an executable program to extract format rar; candidates are (rar,unrar,7z),",
     "output_type": "error",
     "traceback": [
      "\u001b[1;31m---------------------------------------------------------------------------\u001b[0m",
      "\u001b[1;31mPatoolError\u001b[0m                               Traceback (most recent call last)",
      "Cell \u001b[1;32mIn[5], line 2\u001b[0m\n\u001b[0;32m      1\u001b[0m \u001b[38;5;28;01mfrom\u001b[39;00m \u001b[38;5;21;01mpyunpack\u001b[39;00m \u001b[38;5;28;01mimport\u001b[39;00m Archive\n\u001b[1;32m----> 2\u001b[0m \u001b[43mArchive\u001b[49m\u001b[43m(\u001b[49m\u001b[38;5;124;43m'\u001b[39;49m\u001b[38;5;124;43mC:/Users/Christina/Downloads/normal.rar\u001b[39;49m\u001b[38;5;124;43m'\u001b[39;49m\u001b[43m)\u001b[49m\u001b[38;5;241;43m.\u001b[39;49m\u001b[43mextractall\u001b[49m\u001b[43m(\u001b[49m\u001b[38;5;124;43m'\u001b[39;49m\u001b[38;5;124;43mE:/Christina/Sample_Data/onh_Mokhtary\u001b[39;49m\u001b[38;5;124;43m'\u001b[39;49m\u001b[43m)\u001b[49m\n",
      "File \u001b[1;32m~\\anaconda3\\envs\\chrisy\\lib\\site-packages\\pyunpack\\__init__.py:113\u001b[0m, in \u001b[0;36mArchive.extractall\u001b[1;34m(self, directory, auto_create_dir, patool_path)\u001b[0m\n\u001b[0;32m    111\u001b[0m         \u001b[38;5;28mself\u001b[39m\u001b[38;5;241m.\u001b[39mextractall_zipfile(directory)\n\u001b[0;32m    112\u001b[0m     \u001b[38;5;28;01melse\u001b[39;00m:\n\u001b[1;32m--> 113\u001b[0m         \u001b[38;5;28;43mself\u001b[39;49m\u001b[38;5;241;43m.\u001b[39;49m\u001b[43mextractall_patool\u001b[49m\u001b[43m(\u001b[49m\u001b[43mdirectory\u001b[49m\u001b[43m,\u001b[49m\u001b[43m \u001b[49m\u001b[43mpatool_path\u001b[49m\u001b[43m)\u001b[49m\n\u001b[0;32m    115\u001b[0m \u001b[38;5;28;01mif\u001b[39;00m \u001b[38;5;28mself\u001b[39m\u001b[38;5;241m.\u001b[39mbackend \u001b[38;5;241m==\u001b[39m \u001b[38;5;124m\"\u001b[39m\u001b[38;5;124mzipfile\u001b[39m\u001b[38;5;124m\"\u001b[39m:\n\u001b[0;32m    116\u001b[0m     \u001b[38;5;28;01mif\u001b[39;00m \u001b[38;5;129;01mnot\u001b[39;00m is_zipfile:\n",
      "File \u001b[1;32m~\\anaconda3\\envs\\chrisy\\lib\\site-packages\\pyunpack\\__init__.py:74\u001b[0m, in \u001b[0;36mArchive.extractall_patool\u001b[1;34m(self, directory, patool_path)\u001b[0m\n\u001b[0;32m     72\u001b[0m     \u001b[38;5;28;01mraise\u001b[39;00m PatoolError(\u001b[38;5;124m\"\u001b[39m\u001b[38;5;124mpatool timeout\u001b[39m\u001b[38;5;130;01m\\n\u001b[39;00m\u001b[38;5;124m\"\u001b[39m \u001b[38;5;241m+\u001b[39m \u001b[38;5;28mstr\u001b[39m(p\u001b[38;5;241m.\u001b[39mstdout) \u001b[38;5;241m+\u001b[39m \u001b[38;5;124m\"\u001b[39m\u001b[38;5;130;01m\\n\u001b[39;00m\u001b[38;5;124m\"\u001b[39m \u001b[38;5;241m+\u001b[39m \u001b[38;5;28mstr\u001b[39m(p\u001b[38;5;241m.\u001b[39mstderr))\n\u001b[0;32m     73\u001b[0m \u001b[38;5;28;01mif\u001b[39;00m p\u001b[38;5;241m.\u001b[39mreturn_code:\n\u001b[1;32m---> 74\u001b[0m     \u001b[38;5;28;01mraise\u001b[39;00m PatoolError(\u001b[38;5;124m\"\u001b[39m\u001b[38;5;124mpatool can not unpack\u001b[39m\u001b[38;5;130;01m\\n\u001b[39;00m\u001b[38;5;124m\"\u001b[39m \u001b[38;5;241m+\u001b[39m \u001b[38;5;28mstr\u001b[39m(p\u001b[38;5;241m.\u001b[39mstderr))\n",
      "\u001b[1;31mPatoolError\u001b[0m: patool can not unpack\npatool error: error extracting C:\\Users\\Christina\\Downloads\\normal.rar: could not find an executable program to extract format rar; candidates are (rar,unrar,7z),"
     ]
    }
   ],
   "source": [
    "from pyunpack import Archive\n",
    "Archive('C:/Users/Christina/Downloads/normal.rar').extractall('E:/Christina/Sample_Data/onh_Mokhtary')"
   ]
  },
  {
   "cell_type": "code",
   "execution_count": 7,
   "id": "82e87817-be22-4400-8c2e-81db609e1987",
   "metadata": {},
   "outputs": [
    {
     "name": "stdout",
     "output_type": "stream",
     "text": [
      "normal/2_od.mat 9441743\n",
      "normal/2_os.mat 9367927\n",
      "normal/3_os.mat 9045864\n",
      "normal/3_od.mat 8537782\n",
      "normal/4_od.mat 9919662\n",
      "normal/4_os.mat 10264944\n",
      "normal/5_od.mat 9460764\n",
      "normal/5_os.mat 9210971\n",
      "normal/6_od.mat 8502201\n",
      "normal/6_os.mat 8263531\n",
      "normal/7_os.mat 9304614\n",
      "normal/7_od.mat 9353919\n",
      "normal/1_od.mat 9468082\n",
      "normal/1_os.mat 9423830\n",
      "normal/ 0\n"
     ]
    }
   ],
   "source": [
    "import rarfile\n",
    "\n",
    "rf = rarfile.RarFile(\"C:/Users/Christina/Downloads/normal.rar\")\n",
    "for f in rf.infolist():\n",
    "    print(f.filename, f.file_size)\n",
    "    if f.filename == \"README\":\n",
    "        print(rf.read(f))\n"
   ]
  },
  {
   "cell_type": "code",
   "execution_count": 9,
   "id": "5f7d2e22-8e2a-4e2a-a3fa-679a788de376",
   "metadata": {},
   "outputs": [],
   "source": [
    "from zipfile import ZipFile\n",
    "\n",
    "z = rarfile.RarFile(\"C:/Users/Christina/Downloads/normal.rar\", 'r')\n",
    "z.extractall('E:/Christina/Sample_Data/onh_Mokhtary')\n",
    "z.close()\n"
   ]
  },
  {
   "cell_type": "code",
   "execution_count": 70,
   "id": "8b5e18fc-762a-4cf7-bb0f-5d2e8038710e",
   "metadata": {},
   "outputs": [],
   "source": [
    "import scipy.io as sio\n",
    "\n",
    "# Load the .mat file\n",
    "data = sio.loadmat('E:/Christina/Sample_Data/onh_Mokhtary/1p/1p.mat')\n"
   ]
  },
  {
   "cell_type": "code",
   "execution_count": 71,
   "id": "fa1dc141-85f2-4449-8534-61165decc242",
   "metadata": {},
   "outputs": [
    {
     "data": {
      "text/plain": [
       "{'__header__': b'MATLAB 5.0 MAT-file, Platform: PCWIN, Created on: Sun Oct 30 12:32:36 2011',\n",
       " '__version__': '1.0',\n",
       " '__globals__': [],\n",
       " 'd5': array([[[70, 57, 21, ..., 58, 57, 56],\n",
       "         [67, 58, 59, ..., 72, 55, 66],\n",
       "         [70, 58, 55, ..., 57, 53, 63],\n",
       "         ...,\n",
       "         [ 0, 61, 44, ..., 66, 51, 25],\n",
       "         [ 0, 60, 53, ..., 52, 54, 44],\n",
       "         [ 0, 52, 63, ..., 68, 70, 58]],\n",
       " \n",
       "        [[ 5, 50, 64, ..., 56, 58, 58],\n",
       "         [64, 64, 63, ..., 60, 68, 48],\n",
       "         [59, 53, 34, ..., 43, 57, 73],\n",
       "         ...,\n",
       "         [51, 69, 70, ..., 53, 47, 39],\n",
       "         [18, 64, 46, ..., 64, 59, 70],\n",
       "         [53, 62, 53, ..., 69, 36, 58]],\n",
       " \n",
       "        [[64, 49, 63, ..., 59, 74, 43],\n",
       "         [78, 60, 55, ..., 61, 55, 50],\n",
       "         [51, 45, 63, ..., 50, 61, 58],\n",
       "         ...,\n",
       "         [59, 44, 51, ..., 49, 61, 46],\n",
       "         [44, 52, 61, ..., 72, 55, 60],\n",
       "         [54, 69, 60, ..., 64, 66, 43]],\n",
       " \n",
       "        ...,\n",
       " \n",
       "        [[61, 55, 48, ..., 42, 62, 60],\n",
       "         [58, 50, 54, ..., 47, 61, 57],\n",
       "         [55, 61, 57, ..., 65, 32, 50],\n",
       "         ...,\n",
       "         [35, 67, 59, ..., 38, 59, 57],\n",
       "         [43, 56, 39, ..., 60, 58, 53],\n",
       "         [58, 59, 47, ..., 58, 62, 61]],\n",
       " \n",
       "        [[70, 63, 57, ..., 29, 27, 77],\n",
       "         [71, 55, 60, ..., 64, 56, 62],\n",
       "         [77, 58, 55, ..., 51, 48, 47],\n",
       "         ...,\n",
       "         [53, 50, 62, ..., 56, 61, 50],\n",
       "         [61, 68, 53, ..., 71, 53, 50],\n",
       "         [57, 54, 60, ..., 20, 66, 72]],\n",
       " \n",
       "        [[69, 63, 44, ..., 50, 54, 56],\n",
       "         [57, 55, 65, ..., 58, 55, 71],\n",
       "         [67, 34, 57, ..., 60, 56, 63],\n",
       "         ...,\n",
       "         [53, 55, 56, ..., 60, 55, 53],\n",
       "         [63, 60, 47, ..., 51, 56, 56],\n",
       "         [70, 62, 30, ..., 54, 49, 60]]], dtype=uint8)}"
      ]
     },
     "execution_count": 71,
     "metadata": {},
     "output_type": "execute_result"
    }
   ],
   "source": [
    "data"
   ]
  },
  {
   "cell_type": "code",
   "execution_count": null,
   "id": "c58c307e-13bc-42f7-a613-2e3250b0609e",
   "metadata": {},
   "outputs": [],
   "source": [
    "import matplotlib.pyplot as plt\n",
    "import numpy as np\n",
    "import cv2\n",
    "\n",
    "# Access the variable 'data' from the loaded .mat file\n",
    "data_array = data['d5']# [:,:,0]\n",
    "\n",
    "img_file = data_array # .reshape((650, 128, 512)).T\n",
    "            \n",
    "bscan_slices = []\n",
    "\n",
    "\n",
    "ascans = 650\n",
    "depth = 512\n",
    "bscans = 128\n",
    "\n",
    "\n",
    "for i, bscan_slice in enumerate(np.rollaxis(img_file, 2)):\n",
    "    # ========== 2 ==========\n",
    "\n",
    "    # transform each bscan\n",
    "    #bscan_slice = np.rot90(bscan_slice) # Rotating image 90 deg CCW\n",
    "    #bscan_slice = np.fliplr(bscan_slice) # Flipping image horizontally\n",
    "\n",
    "    #print(mode[\"dst_depth_px\"])\n",
    "    #print(mode[\"ascan\"])\n",
    "\n",
    "    bscan_slice = cv2.resize(bscan_slice, (ascans, bscans)) # Resizing image\n",
    "    \n",
    "    \n",
    "    plt.figure(figsize=(8, 6))\n",
    "    plt.imshow(bscan_slice)\n",
    "    plt.title('Data Plot')\n",
    "    plt.xlabel('X-axis')\n",
    "    plt.ylabel('Y-axis')\n",
    "    plt.grid(True)\n",
    "    plt.show()\n",
    "    \n",
    "    \n",
    "    # append bscans or SAVE IMAGE HERE (the slice)\n",
    "    bscan_slices.append(bscan_slice)\n",
    "\n",
    "# stack bscans\n",
    "bscan_file = np.stack(bscan_slices, axis=0) \n",
    "\n",
    "enface_file = np.zeros(shape = (bscans, ascans), dtype = np.uint8) # todo was 500, 500 before ... a or b first?\n",
    "\n",
    "# ========== 2 ==========\n",
    "for i, bscan in enumerate(bscan_file):                  \n",
    "    enfacedata = np.amax(bscan, axis=0) # Obtaining max value in each row and generating a n-by-1 matrix\n",
    "    enface_file[i] = enfacedata # Appending enfacedata to the enface array\n",
    "\n",
    "enface_file = cv2.resize(enface_file, (500, 500))\n",
    "    \n",
    "# Plot the data (adjust as needed)\n",
    "plt.figure(figsize=(8, 6))\n",
    "plt.imshow(enface_file, cmap=\"gray\")\n",
    "plt.title('Data Plot')\n",
    "plt.xlabel('X-axis')\n",
    "plt.ylabel('Y-axis')\n",
    "plt.grid(True)\n",
    "plt.show()\n"
   ]
  },
  {
   "cell_type": "code",
   "execution_count": 74,
   "id": "42aea9e8-27c9-4fd3-972a-cdddc1659cf1",
   "metadata": {},
   "outputs": [
    {
     "data": {
      "text/plain": [
       "(650, 512, 128)"
      ]
     },
     "execution_count": 74,
     "metadata": {},
     "output_type": "execute_result"
    }
   ],
   "source": [
    "data['d5'].shape"
   ]
  },
  {
   "cell_type": "code",
   "execution_count": 35,
   "id": "59b48472-7e52-4f46-9a01-30159caf46c3",
   "metadata": {},
   "outputs": [
    {
     "data": {
      "text/plain": [
       "1.0"
      ]
     },
     "execution_count": 35,
     "metadata": {},
     "output_type": "execute_result"
    }
   ],
   "source": [
    "380928 / 496 / 768 "
   ]
  },
  {
   "cell_type": "code",
   "execution_count": null,
   "id": "6aeb791c-ba2f-4131-a0ca-acaf32b85a34",
   "metadata": {},
   "outputs": [],
   "source": []
  },
  {
   "cell_type": "code",
   "execution_count": 11,
   "id": "2926ccc5-2814-48d1-becf-95ff699f1620",
   "metadata": {},
   "outputs": [
    {
     "data": {
      "text/plain": [
       "False"
      ]
     },
     "execution_count": 11,
     "metadata": {},
     "output_type": "execute_result"
    }
   ],
   "source": [
    "tarfile.is_tarfile('C:/Users/Christina/Downloads/label.zip')"
   ]
  },
  {
   "cell_type": "code",
   "execution_count": null,
   "id": "0f8698a3-cfba-4f47-a842-a815fd115435",
   "metadata": {},
   "outputs": [],
   "source": []
  }
 ],
 "metadata": {
  "kernelspec": {
   "display_name": "Python 3 (ipykernel)",
   "language": "python",
   "name": "python3"
  },
  "language_info": {
   "codemirror_mode": {
    "name": "ipython",
    "version": 3
   },
   "file_extension": ".py",
   "mimetype": "text/x-python",
   "name": "python",
   "nbconvert_exporter": "python",
   "pygments_lexer": "ipython3",
   "version": "3.9.18"
  }
 },
 "nbformat": 4,
 "nbformat_minor": 5
}
