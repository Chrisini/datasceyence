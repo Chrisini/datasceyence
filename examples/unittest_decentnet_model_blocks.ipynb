{
 "cells": [
  {
   "cell_type": "code",
   "execution_count": 1,
   "id": "b5748146-2890-4f63-b909-6b112fee81ea",
   "metadata": {},
   "outputs": [
    {
     "name": "stdout",
     "output_type": "stream",
     "text": [
      "['../helper', './helper', '/helper', 'helper', 'C:\\\\Users\\\\Prinzessin\\\\projects\\\\decentnet\\\\datasceyence\\\\examples', 'C:\\\\Users\\\\Prinzessin\\\\anaconda3\\\\envs\\\\feta\\\\python39.zip', 'C:\\\\Users\\\\Prinzessin\\\\anaconda3\\\\envs\\\\feta\\\\DLLs', 'C:\\\\Users\\\\Prinzessin\\\\anaconda3\\\\envs\\\\feta\\\\lib', 'C:\\\\Users\\\\Prinzessin\\\\anaconda3\\\\envs\\\\feta', '', 'C:\\\\Users\\\\Prinzessin\\\\anaconda3\\\\envs\\\\feta\\\\lib\\\\site-packages', 'C:\\\\Users\\\\Prinzessin\\\\anaconda3\\\\envs\\\\feta\\\\lib\\\\site-packages\\\\win32', 'C:\\\\Users\\\\Prinzessin\\\\anaconda3\\\\envs\\\\feta\\\\lib\\\\site-packages\\\\win32\\\\lib', 'C:\\\\Users\\\\Prinzessin\\\\anaconda3\\\\envs\\\\feta\\\\lib\\\\site-packages\\\\Pythonwin', 'C:\\\\Users\\\\Prinzessin\\\\anaconda3\\\\envs\\\\feta\\\\lib\\\\site-packages\\\\IPython\\\\extensions', 'C:\\\\Users\\\\Prinzessin\\\\.ipython']\n"
     ]
    }
   ],
   "source": [
    "# unit test\n",
    "import unittest\n",
    "# test data\n",
    "import medmnist\n",
    "from medmnist import INFO\n",
    "\n",
    "from PIL import Image, ImageDraw\n",
    "\n",
    "\n",
    "# \"helper\" needs to be part of sys path\n",
    "import sys\n",
    "sys.path.insert(0, \"helper\")\n",
    "sys.path.insert(0, \"/helper\")\n",
    "sys.path.insert(0, \"./helper\")\n",
    "sys.path.insert(0, \"../helper\")\n",
    "print(sys.path)\n",
    "\n",
    "%load_ext autoreload\n",
    "%autoreload 2\n",
    "\n",
    "# own module\n",
    "from model import * \n",
    "\n",
    "\n",
    "ckpt_file_path = \"example_ckpt/exp_1_mlp_c3_ep43_1.2093.ckpt\"\n",
    "\n",
    "device = \"cpu\"\n",
    "\n",
    "from model.decent_block import *\n"
   ]
  },
  {
   "cell_type": "code",
   "execution_count": null,
   "id": "13738541-ade2-46bd-86a4-c9f4da76e70f",
   "metadata": {},
   "outputs": [],
   "source": []
  },
  {
   "cell_type": "code",
   "execution_count": 2,
   "id": "96c97e96-d2c3-496d-8f43-adf054538dd3",
   "metadata": {},
   "outputs": [],
   "source": [
    "model = DecentBlock(\"example_ckpt\", \"exp_1_mlp_c3_ep43_1.2093.ckpt\", 2, device)"
   ]
  },
  {
   "cell_type": "code",
   "execution_count": 3,
   "id": "7a77dc86-407a-4066-be21-77f2b3d569b5",
   "metadata": {},
   "outputs": [
    {
     "name": "stdout",
     "output_type": "stream",
     "text": [
      "DecentBlock(\n",
      "  (decent_block): DecentBlock_Shuffle_116OutChannels(\n",
      "    (decent_block_116): Sequential(\n",
      "      (0): Sequential(\n",
      "        (0): Conv2d(3, 24, kernel_size=(3, 3), stride=(2, 2), padding=(1, 1), bias=False)\n",
      "        (1): BatchNorm2d(24, eps=1e-05, momentum=0.1, affine=True, track_running_stats=True)\n",
      "        (2): ReLU(inplace=True)\n",
      "      )\n",
      "      (1): MaxPool2d(kernel_size=3, stride=2, padding=1, dilation=1, ceil_mode=False)\n",
      "      (2): Sequential(\n",
      "        (0): InvertedResidual(\n",
      "          (branch1): Sequential(\n",
      "            (0): Conv2d(24, 24, kernel_size=(3, 3), stride=(2, 2), padding=(1, 1), groups=24, bias=False)\n",
      "            (1): BatchNorm2d(24, eps=1e-05, momentum=0.1, affine=True, track_running_stats=True)\n",
      "            (2): Conv2d(24, 58, kernel_size=(1, 1), stride=(1, 1), bias=False)\n",
      "            (3): BatchNorm2d(58, eps=1e-05, momentum=0.1, affine=True, track_running_stats=True)\n",
      "            (4): ReLU(inplace=True)\n",
      "          )\n",
      "          (branch2): Sequential(\n",
      "            (0): Conv2d(24, 58, kernel_size=(1, 1), stride=(1, 1), bias=False)\n",
      "            (1): BatchNorm2d(58, eps=1e-05, momentum=0.1, affine=True, track_running_stats=True)\n",
      "            (2): ReLU(inplace=True)\n",
      "            (3): Conv2d(58, 58, kernel_size=(3, 3), stride=(2, 2), padding=(1, 1), groups=58, bias=False)\n",
      "            (4): BatchNorm2d(58, eps=1e-05, momentum=0.1, affine=True, track_running_stats=True)\n",
      "            (5): Conv2d(58, 58, kernel_size=(1, 1), stride=(1, 1), bias=False)\n",
      "            (6): BatchNorm2d(58, eps=1e-05, momentum=0.1, affine=True, track_running_stats=True)\n",
      "            (7): ReLU(inplace=True)\n",
      "          )\n",
      "        )\n",
      "        (1): InvertedResidual(\n",
      "          (branch1): Sequential()\n",
      "          (branch2): Sequential(\n",
      "            (0): Conv2d(58, 58, kernel_size=(1, 1), stride=(1, 1), bias=False)\n",
      "            (1): BatchNorm2d(58, eps=1e-05, momentum=0.1, affine=True, track_running_stats=True)\n",
      "            (2): ReLU(inplace=True)\n",
      "            (3): Conv2d(58, 58, kernel_size=(3, 3), stride=(1, 1), padding=(1, 1), groups=58, bias=False)\n",
      "            (4): BatchNorm2d(58, eps=1e-05, momentum=0.1, affine=True, track_running_stats=True)\n",
      "            (5): Conv2d(58, 58, kernel_size=(1, 1), stride=(1, 1), bias=False)\n",
      "            (6): BatchNorm2d(58, eps=1e-05, momentum=0.1, affine=True, track_running_stats=True)\n",
      "            (7): ReLU(inplace=True)\n",
      "          )\n",
      "        )\n",
      "        (2): InvertedResidual(\n",
      "          (branch1): Sequential()\n",
      "          (branch2): Sequential(\n",
      "            (0): Conv2d(58, 58, kernel_size=(1, 1), stride=(1, 1), bias=False)\n",
      "            (1): BatchNorm2d(58, eps=1e-05, momentum=0.1, affine=True, track_running_stats=True)\n",
      "            (2): ReLU(inplace=True)\n",
      "            (3): Conv2d(58, 58, kernel_size=(3, 3), stride=(1, 1), padding=(1, 1), groups=58, bias=False)\n",
      "            (4): BatchNorm2d(58, eps=1e-05, momentum=0.1, affine=True, track_running_stats=True)\n",
      "            (5): Conv2d(58, 58, kernel_size=(1, 1), stride=(1, 1), bias=False)\n",
      "            (6): BatchNorm2d(58, eps=1e-05, momentum=0.1, affine=True, track_running_stats=True)\n",
      "            (7): ReLU(inplace=True)\n",
      "          )\n",
      "        )\n",
      "        (3): InvertedResidual(\n",
      "          (branch1): Sequential()\n",
      "          (branch2): Sequential(\n",
      "            (0): Conv2d(58, 58, kernel_size=(1, 1), stride=(1, 1), bias=False)\n",
      "            (1): BatchNorm2d(58, eps=1e-05, momentum=0.1, affine=True, track_running_stats=True)\n",
      "            (2): ReLU(inplace=True)\n",
      "            (3): Conv2d(58, 58, kernel_size=(3, 3), stride=(1, 1), padding=(1, 1), groups=58, bias=False)\n",
      "            (4): BatchNorm2d(58, eps=1e-05, momentum=0.1, affine=True, track_running_stats=True)\n",
      "            (5): Conv2d(58, 58, kernel_size=(1, 1), stride=(1, 1), bias=False)\n",
      "            (6): BatchNorm2d(58, eps=1e-05, momentum=0.1, affine=True, track_running_stats=True)\n",
      "            (7): ReLU(inplace=True)\n",
      "          )\n",
      "        )\n",
      "      )\n",
      "    )\n",
      "    (decent_block_reduction): Sequential(\n",
      "      (0): Conv2d(116, 2, kernel_size=(1, 1), stride=(1, 1))\n",
      "      (1): BatchNorm2d(2, eps=1e-05, momentum=0.1, affine=True, track_running_stats=True)\n",
      "      (2): ReLU()\n",
      "    )\n",
      "  )\n",
      ")\n"
     ]
    }
   ],
   "source": [
    "print(model)"
   ]
  },
  {
   "cell_type": "code",
   "execution_count": null,
   "id": "074f7d4f-42ae-40b6-8fce-52917b4adbb5",
   "metadata": {},
   "outputs": [],
   "source": []
  },
  {
   "cell_type": "code",
   "execution_count": null,
   "id": "ba060ae1-ef85-409d-9eff-c7b8d86e4d6c",
   "metadata": {},
   "outputs": [],
   "source": []
  }
 ],
 "metadata": {
  "kernelspec": {
   "display_name": "Python 3 (ipykernel)",
   "language": "python",
   "name": "python3"
  },
  "language_info": {
   "codemirror_mode": {
    "name": "ipython",
    "version": 3
   },
   "file_extension": ".py",
   "mimetype": "text/x-python",
   "name": "python",
   "nbconvert_exporter": "python",
   "pygments_lexer": "ipython3",
   "version": "3.9.10"
  }
 },
 "nbformat": 4,
 "nbformat_minor": 5
}
