{
 "cells": [
  {
   "cell_type": "code",
   "execution_count": 17,
   "id": "6dc21721-b557-453b-8c7f-82443bcfd2fe",
   "metadata": {},
   "outputs": [],
   "source": [
    "import numpy as np\n",
    "\n",
    "# inputs\n",
    "ms = list(range(0,10))\n",
    "ns = list(range(0,10))\n",
    "          \n",
    "weights1 = np.random.randint(50, size=10)\n",
    "m1 = 5; n1 = 6\n",
    "\n",
    "weights2 = np.random.randint(50, size=10)\n",
    "m2 = 2; n2 = 1"
   ]
  },
  {
   "cell_type": "code",
   "execution_count": 16,
   "id": "024a4185-5909-4fdd-8223-e2a92fa58105",
   "metadata": {},
   "outputs": [
    {
     "data": {
      "text/plain": [
       "([0, 1, 2, 3, 4, 5, 6, 7, 8, 9], [0, 1, 2, 3, 4, 5, 6, 7, 8, 9])"
      ]
     },
     "execution_count": 16,
     "metadata": {},
     "output_type": "execute_result"
    }
   ],
   "source": [
    "ms, ns"
   ]
  },
  {
   "cell_type": "code",
   "execution_count": 22,
   "id": "2116425a-818c-4555-a225-770b0e2f2f88",
   "metadata": {},
   "outputs": [
    {
     "data": {
      "text/plain": [
       "(5, 6, array([15, 22, 22, 43, 28, 19, 18,  7, 24, 14]))"
      ]
     },
     "execution_count": 22,
     "metadata": {},
     "output_type": "execute_result"
    }
   ],
   "source": [
    "m1, n1, weights1"
   ]
  },
  {
   "cell_type": "code",
   "execution_count": 23,
   "id": "aefe1f24-d63e-4df9-8c42-55b7f529b4d3",
   "metadata": {},
   "outputs": [
    {
     "data": {
      "text/plain": [
       "(2, 1, array([ 5, 39, 17,  2, 34, 20, 43, 28, 19, 23]))"
      ]
     },
     "execution_count": 23,
     "metadata": {},
     "output_type": "execute_result"
    }
   ],
   "source": [
    "m2, n2, weights2"
   ]
  },
  {
   "cell_type": "code",
   "execution_count": 14,
   "id": "2a9d6cd8-31a1-4064-81cd-1668a6c7bb10",
   "metadata": {},
   "outputs": [
    {
     "data": {
      "text/plain": [
       "6"
      ]
     },
     "execution_count": 14,
     "metadata": {},
     "output_type": "execute_result"
    }
   ],
   "source": []
  },
  {
   "cell_type": "code",
   "execution_count": null,
   "id": "a8e5680c-710c-4a98-8b66-41fc40f1d2d0",
   "metadata": {},
   "outputs": [],
   "source": []
  }
 ],
 "metadata": {
  "kernelspec": {
   "display_name": "Python 3 (ipykernel)",
   "language": "python",
   "name": "python3"
  },
  "language_info": {
   "codemirror_mode": {
    "name": "ipython",
    "version": 3
   },
   "file_extension": ".py",
   "mimetype": "text/x-python",
   "name": "python",
   "nbconvert_exporter": "python",
   "pygments_lexer": "ipython3",
   "version": "3.9.18"
  }
 },
 "nbformat": 4,
 "nbformat_minor": 5
}
