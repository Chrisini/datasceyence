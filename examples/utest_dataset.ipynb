{
 "cells": [
  {
   "cell_type": "code",
   "execution_count": 1,
   "id": "f3a95370-4962-4fe6-a0c5-3bad3104855d",
   "metadata": {},
   "outputs": [
    {
     "name": "stdout",
     "output_type": "stream",
     "text": [
      "['../helper', './helper', '/helper', 'helper', 'C:\\\\Users\\\\Prinzessin\\\\projects\\\\decentnet\\\\datasceyence\\\\examples', 'C:\\\\Users\\\\Prinzessin\\\\anaconda3\\\\envs\\\\feta\\\\python39.zip', 'C:\\\\Users\\\\Prinzessin\\\\anaconda3\\\\envs\\\\feta\\\\DLLs', 'C:\\\\Users\\\\Prinzessin\\\\anaconda3\\\\envs\\\\feta\\\\lib', 'C:\\\\Users\\\\Prinzessin\\\\anaconda3\\\\envs\\\\feta', '', 'C:\\\\Users\\\\Prinzessin\\\\AppData\\\\Roaming\\\\Python\\\\Python39\\\\site-packages', 'C:\\\\Users\\\\Prinzessin\\\\anaconda3\\\\envs\\\\feta\\\\lib\\\\site-packages', 'C:\\\\Users\\\\Prinzessin\\\\anaconda3\\\\envs\\\\feta\\\\lib\\\\site-packages\\\\win32', 'C:\\\\Users\\\\Prinzessin\\\\anaconda3\\\\envs\\\\feta\\\\lib\\\\site-packages\\\\win32\\\\lib', 'C:\\\\Users\\\\Prinzessin\\\\anaconda3\\\\envs\\\\feta\\\\lib\\\\site-packages\\\\Pythonwin', 'C:\\\\Users\\\\Prinzessin\\\\anaconda3\\\\envs\\\\feta\\\\lib\\\\site-packages\\\\IPython\\\\extensions', 'C:\\\\Users\\\\Prinzessin\\\\.ipython']\n"
     ]
    }
   ],
   "source": [
    "# unit test\n",
    "import unittest\n",
    "\n",
    "from PIL import Image, ImageDraw\n",
    "import scipy.io\n",
    "import skimage.io\n",
    "import numpy as np\n",
    "\n",
    "import torch\n",
    "from torch.utils.data import Dataset, DataLoader\n",
    "\n",
    "import matplotlib.pyplot as plt\n",
    "\n",
    "import math\n",
    "\n",
    "# \"helper\" needs to be part of sys path\n",
    "import sys\n",
    "sys.path.insert(0, \"helper\")\n",
    "sys.path.insert(0, \"/helper\")\n",
    "sys.path.insert(0, \"./helper\")\n",
    "sys.path.insert(0, \"../helper\")\n",
    "print(sys.path)\n",
    "\n",
    "%load_ext autoreload\n",
    "%autoreload 2\n",
    "\n",
    "# own module\n",
    "from data.meanteacher import MeanTeacherTrainDataset, MeanTeacherValDataset\n",
    "from data.octa500 import *"
   ]
  },
  {
   "cell_type": "markdown",
   "id": "7cd2a6a3-4f8c-483b-8a5d-5716ed322c2c",
   "metadata": {},
   "source": [
    "# OCTA500"
   ]
  },
  {
   "cell_type": "code",
   "execution_count": 14,
   "id": "376bbbfe-eb36-48bf-83e2-272ddd75c7a9",
   "metadata": {},
   "outputs": [],
   "source": [
    "import torch\n",
    "from torch.utils.data import Dataset     \n",
    "import torchvision # from torchvision import datasets, transforms\n",
    "import numpy as np\n",
    "from sklearn.model_selection import train_test_split\n",
    "import pandas as pd\n",
    "\n",
    "from data.template import TemplateDataLoaderWrapper, TemplateDataset\n",
    "from data.flattening import *\n",
    "\n",
    "    \n",
    "\n",
    "INFO = {\n",
    "    \"octa500\": {\n",
    "        \"python_class\": \"OCTA500\",\n",
    "        \"description\": \"The OCTA500 is based on optical coherence tomography (OCT) images for retinal diseases. The dataset is comprised of 4 diagnosis categories, leading to a multi-class classification task. We split the dataset with a ratio of n:n:n into training, validation and testset\",\n",
    "        \"task\": \"multi-class\",\n",
    "        \"label\": {\n",
    "            \"0\": \"choroidal neovascularization\", # cnv + amd?\n",
    "            \"1\": \"diabetic retinopathy\", # dr\n",
    "            \"2\": \"amd\", # amd\n",
    "            \"3\": \"normal\", # normal\n",
    "        },\n",
    "        \"n_channels\": 1,\n",
    "        \"n_samples\": {\"train\": 0, \"val\": 0, \"test\": 0},\n",
    "    }\n",
    "}\n",
    "\n",
    "path = \"data_prep/data_octa_500.csv\"\n",
    "\n",
    "class DataLoaderOCTA500(TemplateDataLoaderWrapper):\n",
    "    def __init__(self, train_kwargs, model_kwargs):\n",
    "        \n",
    "        # transforms\n",
    "        self.transforms = torchvision.transforms.Compose(self.get_transforms(train_kwargs))\n",
    "        \n",
    "        trainset = None # OCTA500Dataset(split=\"train\", transform=self.transforms, download=True)\n",
    "        valset = None #  OCTA500Dataset(split=\"val\", transform=self.transforms, download=True)\n",
    "        testset = OCTA500Dataset(mode=\"test\", transforms=self.transforms, index_col=None, channels=1, image_size=train_kwargs[\"img_size\"], csv_filenames=train_kwargs[\"input_data_csv\"], p_aug=0.5) \n",
    "        \n",
    "        self.info = INFO['octa500']\n",
    "        model_kwargs['n_classes'] = len(self.info['label'])\n",
    "\n",
    "        # indices for splitting and/or reducing data\n",
    "        train_indices = None # range(train_kwargs[\"train_size\"])\n",
    "        val_indices = None # range(train_kwargs[\"val_size\"])\n",
    "        test_indices = range(train_kwargs[\"test_size\"])\n",
    "        \n",
    "        # from parent\n",
    "        self.set_data(train_indices=train_indices, val_indices=val_indices, test_indices=test_indices, \n",
    "                      trainset=trainset, valset=valset, testset=testset, \n",
    "                      train_kwargs=train_kwargs) # TemplateData     \n",
    "        \n",
    "        # from parent\n",
    "        self.log_info()\n",
    "        \n",
    "    def get_transforms(self, train_kwargs):\n",
    "        \n",
    "        # grayscale (1 channel)\n",
    "        transform_list = [\n",
    "                          torchvision.transforms.Resize(size=train_kwargs[\"img_size\"]),\n",
    "                          torchvision.transforms.ToTensor(),\n",
    "                          torchvision.transforms.Normalize((0.1307,), (0.3081,))\n",
    "                         ]\n",
    "\n",
    "        return transform_list\n",
    "    \n",
    "    \n",
    "class OCTA500Dataset(TemplateDataset):\n",
    "    # =============================================================================\n",
    "    #\n",
    "    # Dataset\n",
    "    # create objects based on child class\n",
    "    #\n",
    "    # =============================================================================\n",
    "    # split=\"train\", transform=self.transforms, download=True\n",
    "    def __init__(self, mode=\"test\", transforms=None, index_col=None, channels=1, image_size=500, csv_filenames=[\"data_octa_500.csv\"], p_aug=0.5):\n",
    "        super(TemplateDataset, self).__init__()\n",
    "        \n",
    "        self.mode = mode # train/val\n",
    "        self.image_size = image_size\n",
    "        self.channels=channels\n",
    "        self.p_aug = p_aug\n",
    "        self.transforms = transforms\n",
    "        \n",
    "        csv_list = []\n",
    "\n",
    "        for i, filename in enumerate(csv_filenames):\n",
    "            df = pd.read_csv(filename, delimiter=\";\", index_col=index_col)\n",
    "            # df[\"dataset_type\"] = [i]*len(df.index)\n",
    "            csv_list.append(df)\n",
    "\n",
    "        self.csv_data = pd.concat(csv_list, axis=0, ignore_index=False)\n",
    "                    \n",
    "        \n",
    "        #print(\"here template\")\n",
    "        #print(self.csv_data)\n",
    "        \n",
    "        print(mode)\n",
    "        print(self.csv_data)\n",
    "                \n",
    "        self.csv_data = self.csv_data[self.csv_data[\"mode\"].str.contains(mode)]\n",
    "        \n",
    "        #if reduced_data:\n",
    "        #    self.csv_data = self.csv_data.sample(frac=1).reset_index(drop=True)\n",
    "        #    self.csv_data = self.csv_data.head(200)\n",
    "        \n",
    "        # self.transforms = torchvision.transforms.Compose(self.get_transforms())\n",
    "        \n",
    "    def __len__(self):\n",
    "        return len(self.csv_data)\n",
    "    \n",
    "    def __getitem__(self, index):\n",
    "        # =============================================================================\n",
    "        # parameters:\n",
    "        #   index of single image from dataloader\n",
    "        # returns:\n",
    "        #   dictionary \"item\" with:\n",
    "        #       image (transformed)\n",
    "        #       label\n",
    "        # notes:\n",
    "        # =============================================================================\n",
    "        \n",
    "        if torch.is_tensor(index):\n",
    "            index=index.tolist()\n",
    "\n",
    "        path = self.csv_data.iloc[index]['img_path']    \n",
    "        # image = Image.open(skimage.io.imread(filename)   \n",
    "        image = skimage.io.imread(path)\n",
    "        \n",
    "        img_id_minus_one = 200 - 1\n",
    "        path = self.csv_data.iloc[index]['msk_path']\n",
    "        mat = scipy.io.loadmat(path)\n",
    "        mask = mat[\"Layer\"][:, img_id_minus_one]\n",
    "        \n",
    "        label = self.csv_data.iloc[index]['lbl_disease']\n",
    "        \n",
    "        if self.transforms:\n",
    "            flt = OpScanFlatten(image.copy(), mask.copy())\n",
    "            image, mask = flt.execute() # flattened\n",
    "\n",
    "        \n",
    "        return image, label, mask # rewrite function in case other stuff is needed\n",
    "    "
   ]
  },
  {
   "cell_type": "code",
   "execution_count": 17,
   "id": "a937c4ab-e2cd-4d18-a10a-55325d20cee8",
   "metadata": {},
   "outputs": [
    {
     "name": "stdout",
     "output_type": "stream",
     "text": [
      "train kwargs {'input_data_csv': ['../data_prep/data_octa500.csv'], 'result_path': 'examples/example_results', 'exp_name': 'debug_octa500_no_fc', 'load_ckpt_file': '', 'epochs': 1, 'img_size': 28, 'batch_size': 2, 'log_every_n_steps': 4, 'device': 'cuda', 'num_workers': 0, 'train_size': 0, 'val_size': 0, 'test_size': 1, 'octa500_id': 199}\n",
      "model kwargs {'in_channels': 1, 'n_classes': None, 'out_dim': [1, 4, 4, 4], 'grid_size': 324, 'criterion': CrossEntropyLoss(), 'optimizer': 'sgd', 'base_lr': 0.001, 'min_lr': 1e-05, 'momentum': 0.9, 'lr_update': 100, 'cc_weight': 10, 'cc_metric': 'l2', 'ci_metric': 'l2', 'cm_metric': 'not implemented yet', 'update_every_nth_epoch': 1, 'pretrain_epochs': 1, 'prune_keep': 0.7, 'prune_keep_total': 0.4}\n"
     ]
    }
   ],
   "source": [
    "model_kwargs = {\n",
    "    'in_channels' : 1, # not in use yet\n",
    "    'n_classes': None, # filled in the dataset\n",
    "    'out_dim' :  [1, 4, 4, 4], # [1, 8, 16, 32], #[1, 16, 24, 32] # entry, decent1, decent2, decent3\n",
    "    'grid_size' : 18*18,\n",
    "    'criterion': torch.nn.CrossEntropyLoss(),# torch.nn.BCEWithLogitsLoss(),\n",
    "    'optimizer': \"sgd\", # sgd adamw\n",
    "    'base_lr': 0.001,\n",
    "    'min_lr' : 0.00001,\n",
    "    'momentum' : 0.9,\n",
    "    'lr_update' : 100,\n",
    "    # decentnet\n",
    "    'cc_weight': 10,\n",
    "    'cc_metric' : 'l2', # connection cost metric (for loss) - distance metric\n",
    "    'ci_metric' : 'l2', # channel importance metric (for pruning)\n",
    "    'cm_metric' : 'not implemented yet', # 'count', # crossing minimisation \n",
    "    'update_every_nth_epoch' : 1, # 5\n",
    "    'pretrain_epochs' : 1, # 20\n",
    "    'prune_keep' : 0.7, # 0.97, # in each epoch\n",
    "    'prune_keep_total' : 0.4, # this number is not exact, depends on the prune_keep value\n",
    "}\n",
    "\n",
    "train_kwargs = {\n",
    "    'input_data_csv': [\"../data_prep/data_octa500.csv\"],\n",
    "    'result_path': \"examples/example_results\", # \"example_results/lightning_logs\", # not in use??\n",
    "    'exp_name': \"debug_octa500_no_fc\", # must include dataset name, otherwise mnist is used\n",
    "    'load_ckpt_file' : '', # \"version_0/checkpoints/epoch=94-unpruned=1600-val_f1=0.67.ckpt\", # 'version_94/checkpoints/epoch=26-step=1080.ckpt', # change this for loading a file and using \"test\", if you want training, keep None\n",
    "    'epochs': 1, # including the pretrain epochs - no adding up\n",
    "    'img_size' : 28, #168, # keep mnist at original size, training didn't work when i increased the size ... # MNIST/MedMNIST 28 × 28 Pixel\n",
    "    'batch_size': 2, # 128, # the higher the batch_size the faster the training - every iteration adds A LOT OF comp cost\n",
    "    'log_every_n_steps' : 4, # lightning default: 50 # needs to be bigger than the amount of steps in an epoch (based on trainset size and batchsize)\n",
    "    'device': \"cuda\",\n",
    "    'num_workers' : 0, # 18, # 18 for computer, 0 for laptop\n",
    "    'train_size' : 0, # total or percentage (batch size * forward passes per epoch)\n",
    "    'val_size' : 0, # total or percentage (batch size * forward passes per epoch)\n",
    "    'test_size' : 1, # total or percentage - 0 for all\n",
    "    'octa500_id' : 199 # todo\n",
    "}\n",
    "\n",
    "print(\"train kwargs\", train_kwargs)\n",
    "print(\"model kwargs\", model_kwargs)\n",
    "\n",
    "kwargs = {'train_kwargs':train_kwargs, 'model_kwargs':model_kwargs}"
   ]
  },
  {
   "cell_type": "markdown",
   "id": "4f5c84be-1006-47ef-809b-b289c6eb6ad6",
   "metadata": {},
   "source": [
    "## run unit test"
   ]
  },
  {
   "cell_type": "code",
   "execution_count": 75,
   "id": "2705b47e-6e37-4c0b-b217-0fc2ddf6fd4b",
   "metadata": {},
   "outputs": [
    {
     "name": "stderr",
     "output_type": "stream",
     "text": [
      ".\n",
      "----------------------------------------------------------------------\n",
      "Ran 1 test in 0.096s\n",
      "\n",
      "OK\n"
     ]
    },
    {
     "name": "stdout",
     "output_type": "stream",
     "text": [
      "test\n",
      "        id                                     img_path  \\\n",
      "0    10001  example_data/octa500/imgs_6x6/10001_200.bmp   \n",
      "1    10002  example_data/octa500/imgs_6x6/10002_200.bmp   \n",
      "2    10003  example_data/octa500/imgs_6x6/10003_200.bmp   \n",
      "3    10004  example_data/octa500/imgs_6x6/10004_200.bmp   \n",
      "4    10005  example_data/octa500/imgs_6x6/10005_200.bmp   \n",
      "..     ...                                          ...   \n",
      "295  10296  example_data/octa500/imgs_6x6/10296_200.bmp   \n",
      "296  10297  example_data/octa500/imgs_6x6/10297_200.bmp   \n",
      "297  10298  example_data/octa500/imgs_6x6/10298_200.bmp   \n",
      "298  10299  example_data/octa500/imgs_6x6/10299_200.bmp   \n",
      "299  10300  example_data/octa500/imgs_6x6/10300_200.bmp   \n",
      "\n",
      "                                    msk_path  mode lbl_disease sex os-od  age  \n",
      "0    example_data/octa500/msks_6x6/10001.mat  test      NORMAL   M    OD   55  \n",
      "1    example_data/octa500/msks_6x6/10002.mat  test      OTHERS   F    OD   37  \n",
      "2    example_data/octa500/msks_6x6/10003.mat  test      OTHERS   M    OS   57  \n",
      "3    example_data/octa500/msks_6x6/10004.mat  test         AMD   M    OD   53  \n",
      "4    example_data/octa500/msks_6x6/10005.mat  test          DR   M    OS   27  \n",
      "..                                       ...   ...         ...  ..   ...  ...  \n",
      "295  example_data/octa500/msks_6x6/10296.mat  test      OTHERS   F    OD   23  \n",
      "296  example_data/octa500/msks_6x6/10297.mat  test          DR   M    OD   48  \n",
      "297  example_data/octa500/msks_6x6/10298.mat  test      OTHERS   M    OS   54  \n",
      "298  example_data/octa500/msks_6x6/10299.mat  test         RVO   M    OD   62  \n",
      "299  example_data/octa500/msks_6x6/10300.mat  test          DR   M    OD   59  \n",
      "\n",
      "[300 rows x 8 columns]\n",
      "python_class : OCTA500\n",
      "description : The OCTA500 is based on optical coherence tomography (OCT) images for retinal diseases. The dataset is comprised of 4 diagnosis categories, leading to a multi-class classification task. We split the dataset with a ratio of n:n:n into training, validation and testset\n",
      "task : multi-class\n",
      "label : {'0': 'choroidal neovascularization', '1': 'diabetic retinopathy', '2': 'amd', '3': 'normal'}\n",
      "n_channels : 1\n",
      "n_samples : {'train': 0, 'val': 0, 'test': 0}\n",
      "NORMAL\n"
     ]
    },
    {
     "data": {
      "image/png": "[encoded data removed]",
      "text/plain": [
       "<Figure size 432x288 with 2 Axes>"
      ]
     },
     "metadata": {
      "needs_background": "light"
     },
     "output_type": "display_data"
    }
   ],
   "source": [
    "class UnitTestLoss(unittest.TestCase):\n",
    "\n",
    "    def test_item_labelled(self):\n",
    "        \n",
    "        dataloaders = DataLoaderOCTA500(train_kwargs, model_kwargs)        \n",
    "        \n",
    "        img, label, msk = next(iter(dataloaders.test_dataloader)) # data.test_dataloader.__getitem__(index=800)\n",
    "\n",
    "        #print(\"mask\")\n",
    "        #print(len(msk))\n",
    "        #print(msk[0])\n",
    "\n",
    "        fig, (ax1, ax2) = plt.subplots(1, 2)\n",
    "        ax1.set_title(f'img - class: {label[0]}')\n",
    "        ax2.set_title('msk')\n",
    "        ax1.imshow(img.permute(1, 2, 0), cmap=\"gray\")\n",
    "        ax2.imshow(img.permute(1, 2, 0), cmap=\"gray\")\n",
    "\n",
    "\n",
    "        #print(msk[0])\n",
    "        #print(len(msk[0]))\n",
    "\n",
    "        for m in msk:\n",
    "            ax2.plot(m.detach().cpu().numpy()[0])\n",
    "\n",
    "        \n",
    "        print(label[0])\n",
    "        \n",
    "if __name__ == '__main__':\n",
    "    unittest.main(argv=['first-arg-is-ignored'], exit=False)"
   ]
  },
  {
   "cell_type": "code",
   "execution_count": 70,
   "id": "e75906d4-065b-4188-84c8-86a71a97cb3d",
   "metadata": {},
   "outputs": [
    {
     "name": "stdout",
     "output_type": "stream",
     "text": [
      "test\n",
      "        id                                     img_path  \\\n",
      "0    10001  example_data/octa500/imgs_6x6/10001_200.bmp   \n",
      "1    10002  example_data/octa500/imgs_6x6/10002_200.bmp   \n",
      "2    10003  example_data/octa500/imgs_6x6/10003_200.bmp   \n",
      "3    10004  example_data/octa500/imgs_6x6/10004_200.bmp   \n",
      "4    10005  example_data/octa500/imgs_6x6/10005_200.bmp   \n",
      "..     ...                                          ...   \n",
      "295  10296  example_data/octa500/imgs_6x6/10296_200.bmp   \n",
      "296  10297  example_data/octa500/imgs_6x6/10297_200.bmp   \n",
      "297  10298  example_data/octa500/imgs_6x6/10298_200.bmp   \n",
      "298  10299  example_data/octa500/imgs_6x6/10299_200.bmp   \n",
      "299  10300  example_data/octa500/imgs_6x6/10300_200.bmp   \n",
      "\n",
      "                                    msk_path  mode lbl_disease sex os-od  age  \n",
      "0    example_data/octa500/msks_6x6/10001.mat  test      NORMAL   M    OD   55  \n",
      "1    example_data/octa500/msks_6x6/10002.mat  test      OTHERS   F    OD   37  \n",
      "2    example_data/octa500/msks_6x6/10003.mat  test      OTHERS   M    OS   57  \n",
      "3    example_data/octa500/msks_6x6/10004.mat  test         AMD   M    OD   53  \n",
      "4    example_data/octa500/msks_6x6/10005.mat  test          DR   M    OS   27  \n",
      "..                                       ...   ...         ...  ..   ...  ...  \n",
      "295  example_data/octa500/msks_6x6/10296.mat  test      OTHERS   F    OD   23  \n",
      "296  example_data/octa500/msks_6x6/10297.mat  test          DR   M    OD   48  \n",
      "297  example_data/octa500/msks_6x6/10298.mat  test      OTHERS   M    OS   54  \n",
      "298  example_data/octa500/msks_6x6/10299.mat  test         RVO   M    OD   62  \n",
      "299  example_data/octa500/msks_6x6/10300.mat  test          DR   M    OD   59  \n",
      "\n",
      "[300 rows x 8 columns]\n",
      "python_class : OCTA500\n",
      "description : The OCTA500 is based on optical coherence tomography (OCT) images for retinal diseases. The dataset is comprised of 4 diagnosis categories, leading to a multi-class classification task. We split the dataset with a ratio of n:n:n into training, validation and testset\n",
      "task : multi-class\n",
      "label : {'0': 'choroidal neovascularization', '1': 'diabetic retinopathy', '2': 'amd', '3': 'normal'}\n",
      "n_channels : 1\n",
      "n_samples : {'train': 0, 'val': 0, 'test': 0}\n"
     ]
    },
    {
     "ename": "AttributeError",
     "evalue": "'tuple' object has no attribute 'item'",
     "output_type": "error",
     "traceback": [
      "\u001b[1;31m---------------------------------------------------------------------------\u001b[0m",
      "\u001b[1;31mAttributeError\u001b[0m                            Traceback (most recent call last)",
      "\u001b[1;32m~\\AppData\\Local\\Temp\\ipykernel_15920\\3630352621.py\u001b[0m in \u001b[0;36m<cell line: 6>\u001b[1;34m()\u001b[0m\n\u001b[0;32m      4\u001b[0m \u001b[1;33m\u001b[0m\u001b[0m\n\u001b[0;32m      5\u001b[0m \u001b[1;33m\u001b[0m\u001b[0m\n\u001b[1;32m----> 6\u001b[1;33m \u001b[0mlabel\u001b[0m\u001b[1;33m.\u001b[0m\u001b[0mitem\u001b[0m\u001b[1;33m\u001b[0m\u001b[1;33m\u001b[0m\u001b[0m\n\u001b[0m",
      "\u001b[1;31mAttributeError\u001b[0m: 'tuple' object has no attribute 'item'"
     ]
    }
   ],
   "source": [
    "dataloaders = DataLoaderOCTA500(train_kwargs, model_kwargs)        \n",
    "\n",
    "img, label, msk = next(iter(dataloaders.test_dataloader)) # data.test_dataloader.__getitem__(index=800)\n",
    "\n",
    "\n"
   ]
  },
  {
   "cell_type": "code",
   "execution_count": 73,
   "id": "a49f2da9-2cdf-49e5-9c0b-a070bc78b754",
   "metadata": {},
   "outputs": [
    {
     "data": {
      "text/plain": [
       "'NORMAL'"
      ]
     },
     "execution_count": 73,
     "metadata": {},
     "output_type": "execute_result"
    }
   ],
   "source": [
    "label[0]"
   ]
  },
  {
   "cell_type": "code",
   "execution_count": 49,
   "id": "f091be2a-096c-4568-b892-e141a86adf2c",
   "metadata": {},
   "outputs": [
    {
     "data": {
      "text/plain": [
       "400"
      ]
     },
     "execution_count": 49,
     "metadata": {},
     "output_type": "execute_result"
    }
   ],
   "source": [
    "m0 = msk[0].detach().cpu().numpy()\n",
    "len(m0[0])"
   ]
  },
  {
   "cell_type": "code",
   "execution_count": 45,
   "id": "888e7510-d890-40fe-8d57-b0c0efe56d08",
   "metadata": {},
   "outputs": [
    {
     "data": {
      "text/plain": [
       "tensor([[283, 282, 282, 281, 282, 281, 281, 280, 281, 280, 280, 279, 280, 279,\n",
       "         279, 278, 279, 278, 278, 277, 277, 276, 277, 276, 276, 276, 275, 276,\n",
       "         275, 275, 274, 275, 274, 274, 273, 274, 273, 273, 273, 273, 273, 272,\n",
       "         273, 272, 272, 272, 272, 272, 271, 272, 271, 271, 272, 271, 271, 271,\n",
       "         271, 271, 270, 271, 270, 270, 271, 270, 270, 270, 270, 270, 270, 270,\n",
       "         270, 269, 270, 269, 269, 270, 269, 269, 270, 269, 269, 269, 269, 269,\n",
       "         269, 269, 269, 269, 269, 270, 269, 269, 270, 269, 269, 269, 269, 269,\n",
       "         269, 268, 269, 269, 269, 268, 269, 269, 268, 268, 269, 268, 268, 269,\n",
       "         269, 268, 269, 269, 268, 269, 269, 269, 269, 269, 269, 269, 269, 270,\n",
       "         270, 269, 270, 270, 270, 270, 270, 271, 271, 270, 271, 271, 272, 271,\n",
       "         272, 272, 273, 272, 272, 273, 273, 274, 273, 274, 274, 275, 275, 275,\n",
       "         275, 276, 277, 277, 277, 277, 278, 278, 279, 279, 279, 280, 281, 282,\n",
       "         282, 283, 284, 285, 286, 287, 287, 288, 289, 290, 291, 292, 292, 292,\n",
       "         293, 294, 295, 296, 297, 298, 298, 299, 300, 300, 301, 302, 303, 302,\n",
       "         303, 303, 304, 304, 305, 305, 305, 305, 304, 304, 304, 304, 304, 304,\n",
       "         303, 303, 302, 302, 301, 300, 299, 298, 297, 296, 296, 295, 294, 293,\n",
       "         292, 291, 289, 289, 287, 287, 286, 285, 282, 281, 280, 279, 278, 277,\n",
       "         277, 276, 275, 274, 274, 273, 272, 272, 271, 271, 270, 269, 269, 268,\n",
       "         268, 267, 267, 266, 266, 265, 265, 265, 264, 264, 263, 263, 263, 262,\n",
       "         262, 262, 262, 261, 261, 261, 261, 260, 260, 260, 261, 261, 260, 260,\n",
       "         260, 260, 260, 260, 260, 260, 260, 260, 260, 260, 260, 260, 261, 261,\n",
       "         261, 261, 261, 261, 261, 261, 261, 261, 261, 263, 263, 263, 263, 263,\n",
       "         264, 264, 264, 264, 265, 266, 266, 266, 266, 266, 266, 267, 268, 268,\n",
       "         268, 268, 268, 268, 269, 270, 270, 270, 270, 270, 270, 272, 272, 272,\n",
       "         272, 272, 272, 273, 273, 273, 273, 273, 273, 274, 274, 274, 275, 275,\n",
       "         276, 276, 276, 276, 276, 277, 277, 278, 278, 277, 278, 278, 278, 278,\n",
       "         279, 279, 279, 279, 280, 280, 280, 280, 280, 281, 281, 281, 281, 282,\n",
       "         282, 282, 283, 283, 283, 283, 284, 283, 283, 283, 284, 284, 284, 284,\n",
       "         284, 284, 284, 285, 285, 285, 286, 286]], dtype=torch.int32)"
      ]
     },
     "execution_count": 45,
     "metadata": {},
     "output_type": "execute_result"
    }
   ],
   "source": [
    "msk[0]"
   ]
  },
  {
   "cell_type": "code",
   "execution_count": null,
   "id": "72786538-004f-4ae1-9b0b-86d611afeaad",
   "metadata": {},
   "outputs": [],
   "source": []
  },
  {
   "cell_type": "code",
   "execution_count": 5,
   "id": "ecf13e2e-356b-45a8-9dfd-fb7f310ce579",
   "metadata": {},
   "outputs": [
    {
     "ename": "SyntaxError",
     "evalue": "invalid syntax (645411641.py, line 1)",
     "output_type": "error",
     "traceback": [
      "\u001b[1;36m  File \u001b[1;32m\"C:\\Users\\Prinzessin\\AppData\\Local\\Temp\\ipykernel_15920\\645411641.py\"\u001b[1;36m, line \u001b[1;32m1\u001b[0m\n\u001b[1;33m    a d\u001b[0m\n\u001b[1;37m      ^\u001b[0m\n\u001b[1;31mSyntaxError\u001b[0m\u001b[1;31m:\u001b[0m invalid syntax\n"
     ]
    }
   ],
   "source": [
    "a d "
   ]
  },
  {
   "cell_type": "markdown",
   "id": "e30c2d37-b4e0-42d2-93f8-7d053e087463",
   "metadata": {},
   "source": [
    "# Mean teacher"
   ]
  },
  {
   "cell_type": "code",
   "execution_count": null,
   "id": "80136491-080b-4251-b8ac-e37d8dab8b0f",
   "metadata": {},
   "outputs": [],
   "source": [
    "class UnitTestLoss(unittest.TestCase):\n",
    "\n",
    "    def test_item_labelled(self):\n",
    "        \n",
    "        #csv_filenames = [\"../data_prep/mt_data_ichallenge_unlabelled.csv\"] \n",
    "        #csv_filenames = [\"../data_prep/mt_data_ichallenge_non_amd.csv\"] \n",
    "        #csv_filenames = [\"../data_prep/mt_data_ichallenge_amd.csv\"] \n",
    "        #csv_filenames = [\"../data_prep/mt_data_ichallenge_glaucoma.csv\"]\n",
    "        csv_filenames = [\"../data_prep/mt_data_plex.csv\", \"../data_prep/mt_data_ichallenge_amd.csv\", \"../data_prep/mt_data_cirrus.csv\"]\n",
    "        \n",
    "        mtd = MeanTeacherTrainDataset(mode=\"train\", image_size=512, csv_filenames=csv_filenames)\n",
    "        item = mtd.__getitem__(index=800)\n",
    "        print(\"item\")\n",
    "        print(item)\n",
    "    \n",
    "        fig, (ax1, ax2) = plt.subplots(1, 2)\n",
    "        ax1.set_title('img')\n",
    "        ax2.set_title('msk')\n",
    "        ax1.imshow(item[\"img\"].permute(1, 2, 0), cmap=\"gray\")\n",
    "        ax2.imshow(item[\"msk\"].permute(1, 2, 0), cmap=\"gray\")\n",
    "        \n",
    "\n",
    "        #print(\"Checks\")\n",
    "        #print(torch.sum(torch.isnan(item[\"msk\"])))\n",
    "        #print(torch.isnan(item[\"msk\"]))\n",
    "        #print(item[\"msk\"] != item[\"msk\"]) # math.nan\n",
    "        #print(item[\"msk\"])\n",
    "        \n",
    "    def test_item_unlabelled(self):\n",
    "        \n",
    "        #csv_filenames = [\"../data_prep/mt_data_ichallenge_unlabelled.csv\"] \n",
    "        #csv_filenames = [\"../data_prep/mt_data_ichallenge_non_amd.csv\"] \n",
    "        #csv_filenames = [\"../data_prep/mt_data_ichallenge_amd.csv\"] \n",
    "        #csv_filenames = [\"../data_prep/mt_data_ichallenge_glaucoma.csv\"]\n",
    "        csv_filenames = [\"../data_prep/mt_data_cirrus.csv\"]\n",
    "        \n",
    "        mtd = MeanTeacherTrainDataset(mode=\"train\", image_size=512, csv_filenames=csv_filenames)\n",
    "        item = mtd.__getitem__(index=300)\n",
    "        print(\"item\")\n",
    "        print(item)\n",
    "    \n",
    "        fig, (ax1, ax2) = plt.subplots(1, 2)\n",
    "        \n",
    "        ax1.set_title('img')\n",
    "        ax2.set_title('msk')\n",
    "        ax1.imshow(item[\"img\"].permute(1, 2, 0), cmap=\"gray\")\n",
    "        ax2.imshow(item[\"msk\"].permute(1, 2, 0), cmap=\"gray\")\n",
    "        \n",
    "        #print(\"Checks\")\n",
    "        #print(torch.sum(torch.isnan(item[\"msk\"])))\n",
    "        #print(torch.isnan(item[\"msk\"]))\n",
    "        #print(item[\"msk\"] != item[\"msk\"]) # math.nan\n",
    "        #print(item[\"msk\"])"
   ]
  },
  {
   "cell_type": "code",
   "execution_count": null,
   "id": "1ac2de3e-2440-477a-9b9e-0f654d9de005",
   "metadata": {},
   "outputs": [],
   "source": [
    "if __name__ == '__main__':\n",
    "    unittest.main(argv=['first-arg-is-ignored'], exit=False)"
   ]
  },
  {
   "cell_type": "code",
   "execution_count": null,
   "id": "c1e0617d-03b2-4ab6-82fe-f12a1b406e3c",
   "metadata": {},
   "outputs": [],
   "source": [
    "from dataset.transform.image2image import *"
   ]
  },
  {
   "cell_type": "code",
   "execution_count": null,
   "id": "6b931e60-4735-47a9-a720-be460b1d41f5",
   "metadata": {},
   "outputs": [],
   "source": [
    "tgt_paths = glob.glob(\"E:/Christina/Result_Data/CIRRUS_Glaucoma/enface/*_cube_z.tif\")\n",
    "import torchvision.transforms\n",
    "f = [FourierDomainAdapTransform(tgt_paths=tgt_paths)]\n",
    "f = torchvision.transforms.Compose(f)"
   ]
  },
  {
   "cell_type": "code",
   "execution_count": null,
   "id": "9e5afcbe-373b-46fd-b366-596145b17c20",
   "metadata": {},
   "outputs": [],
   "source": [
    "import glob\n",
    "\n",
    "from skimage import img_as_ubyte\n",
    "\n",
    "image_paths = glob.glob(\"E:/Christina/Result_Data/ADAM_AMD/fundus/*.jpg\"  )\n",
    "\n",
    "for i, path in enumerate( image_paths):\n",
    "    \n",
    "    try:\n",
    "        image = skimage.io.imread(path, plugin='tifffile')\n",
    "    except:\n",
    "        image = skimage.io.imread(path, as_gray=True)\n",
    "        image = img_as_ubyte(image)\n",
    "    \n",
    "    item = f({\"img\" : image, \"has_mask\" : True})\n",
    "    \n",
    "    \n",
    "    \n",
    "    image = item[\"img\"]\n",
    "    \n",
    "    #print(image.shape)\n",
    "    \n",
    "    p = f\"E:/Christina/Result_Data/FDA_Fundus_2_CIRRUS/fda_fundus_to_cirrus{i}.jpg\"\n",
    "    #print(p)\n",
    "    skimage.io.imsave(p, image)"
   ]
  },
  {
   "cell_type": "code",
   "execution_count": null,
   "id": "a95c46b2-d7a5-48ad-a090-165be200f306",
   "metadata": {},
   "outputs": [],
   "source": []
  }
 ],
 "metadata": {
  "kernelspec": {
   "display_name": "Python 3 (ipykernel)",
   "language": "python",
   "name": "python3"
  },
  "language_info": {
   "codemirror_mode": {
    "name": "ipython",
    "version": 3
   },
   "file_extension": ".py",
   "mimetype": "text/x-python",
   "name": "python",
   "nbconvert_exporter": "python",
   "pygments_lexer": "ipython3",
   "version": "3.9.10"
  }
 },
 "nbformat": 4,
 "nbformat_minor": 5
}
