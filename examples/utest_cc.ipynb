{
 "cells": [
  {
   "cell_type": "code",
   "execution_count": 7,
   "id": "b47ce1ba-1b1e-4fdb-aa73-5bd277dc47e1",
   "metadata": {},
   "outputs": [],
   "source": [
    "import sys\n",
    "sys.path.insert(0, r\"../helper\")\n",
    "\n",
    "from model.decentlayer import *\n",
    "\n",
    "new_cc_mode = True"
   ]
  },
  {
   "cell_type": "code",
   "execution_count": 63,
   "id": "2e590cd3-7cba-40ff-92f6-079f290204ac",
   "metadata": {},
   "outputs": [
    {
     "data": {
      "text/plain": [
       "True"
      ]
     },
     "execution_count": 63,
     "metadata": {},
     "output_type": "execute_result"
    }
   ],
   "source": [
    "-1 == -1.0"
   ]
  },
  {
   "cell_type": "code",
   "execution_count": 59,
   "id": "79d395b1-10e8-4d0d-b9e5-df838659a31f",
   "metadata": {},
   "outputs": [
    {
     "data": {
      "text/plain": [
       "tensor([0.9131])"
      ]
     },
     "execution_count": 59,
     "metadata": {},
     "output_type": "execute_result"
    }
   ],
   "source": [
    "torch.max(torch.tensor([0, 29, 0.3]))\n",
    "torch.rand(1)"
   ]
  },
  {
   "cell_type": "code",
   "execution_count": 62,
   "id": "1961f226-7130-48b1-9165-480ea708e4d9",
   "metadata": {},
   "outputs": [
    {
     "data": {
      "text/plain": [
       "tensor([-2])"
      ]
     },
     "execution_count": 62,
     "metadata": {},
     "output_type": "execute_result"
    }
   ],
   "source": [
    "1-torch.abs(torch.tensor([2]) - torch.tensor([5]))"
   ]
  },
  {
   "cell_type": "code",
   "execution_count": 51,
   "id": "3955ec4e-b3b0-4be4-9c1a-7d803982f85d",
   "metadata": {},
   "outputs": [],
   "source": [
    "ms_in_2 = [torch.tensor(0), torch.tensor(8), torch.tensor(17)]\n",
    "ns_in_2 = [torch.tensor(0), torch.tensor(8), torch.tensor(17)]\n",
    "\n",
    "model_kwargs = {\n",
    "    'in_channels' : 1, # not in use yet\n",
    "    'n_classes': None, # filled in the dataset\n",
    "    'out_dim' :  [1, 8, 16, 32], # [1, 8, 16, 32], #[1, 16, 24, 32] # entry, decent1, decent2, decent3\n",
    "    'grid_size' : 18*18,\n",
    "    'criterion': torch.nn.CrossEntropyLoss(),# torch.nn.BCEWithLogitsLoss(),\n",
    "    'new_cc_mode' : new_cc_mode, # connection cost number new!!\n",
    "    'optimizer': \"sgd\", # sgd adamw\n",
    "    'base_lr': 0.001,\n",
    "    'min_lr' : 0.00001,\n",
    "    'momentum' : 0.9,\n",
    "    'lr_update' : 100,\n",
    "    # decentnet\n",
    "    'cc_weight': 0.5,\n",
    "    'cc_metric' : 'l1', # connection cost metric (for loss) - distance metric\n",
    "    'ci_metric' : 'l2', # channel importance metric (for pruning)\n",
    "    'cm_metric' : 'not implemented yet', # 'count', # crossing minimisation \n",
    "    'update_every_nth_epoch' : 10, # 5\n",
    "    'pretrain_epochs' : 20, # 20\n",
    "    'prune_keep' : 0.97, # 0.97, # in each epoch\n",
    "    'prune_keep_total' : 0.4, # this number is not exact, depends on the prune_keep value\n",
    "}\n",
    "\n",
    "decent2 = DecentLayer(ms_in=ms_in_2, ns_in=ns_in_2, n_filters=10, \n",
    "                           kernel_size=3, stride=1, padding=0, dilation=1,\n",
    "                           model_kwargs=model_kwargs, \n",
    "                           layer_name='decent2',\n",
    "                           ckpt_path=\"\")\n",
    "\n",
    "\n"
   ]
  },
  {
   "cell_type": "code",
   "execution_count": 52,
   "id": "ef87c101-cd19-4a30-8952-b92e6e8a830c",
   "metadata": {},
   "outputs": [
    {
     "name": "stdout",
     "output_type": "stream",
     "text": [
      "tensor(1.5000, dtype=torch.float64)\n",
      "tensor(1.1111, dtype=torch.float64)\n",
      "tensor(1.3889, dtype=torch.float64)\n",
      "tensor(1.3889, dtype=torch.float64)\n",
      "tensor(1.3333, dtype=torch.float64)\n",
      "tensor(1.1667, dtype=torch.float64)\n",
      "tensor(1.3889, dtype=torch.float64)\n",
      "tensor(1.0556, dtype=torch.float64)\n",
      "tensor(1.1111, dtype=torch.float64)\n",
      "tensor(1.7222, dtype=torch.float64)\n"
     ]
    }
   ],
   "source": [
    "# =============================================================================\n",
    "# compute connection cost for this layer - based on distance\n",
    "# returns:\n",
    "#    connection cost for the loss function\n",
    "# notes:\n",
    "#    currently using l2 norm, doesn't work that well\n",
    "# sources:\n",
    "#    adapted from BIMT: https://github.com/KindXiaoming/BIMT/blob/main/mnist_3.5.ipynb\n",
    "#    https://stackoverflow.com/questions/74086766/how-to-find-total-cost-of-each-path-in-graph-using-dictionary-in-python\n",
    "# nonsense?\n",
    "#    i don't even know what the following comments are about ... \n",
    "#    based on previous layer (cause I only have input ms_in, n_in information)\n",
    "#    mean( sum( of connection cost between this filter and all incoming filters\n",
    "#    need it for loss - aka all layers, all filters together\n",
    "#    need it for swapping - this layer, all filters\n",
    "#    only the active ones (we need to use the indices for that)\n",
    "#    for swapping i need ??\n",
    "# =============================================================================\n",
    "\n",
    "# connection cost list\n",
    "cc = []\n",
    "\n",
    "for i_f, f in enumerate(decent2.filter_list):\n",
    "    \n",
    "    #print(\"filter\", i_f)\n",
    "    #print(f)\n",
    "    # for each filter we use the current position and all incoming positions\n",
    "\n",
    "    #mn = torch.cat([torch.tensor(f.m_this), torch.tensor(f.n_this)])\n",
    "    #print(mn.shape)\n",
    "    #msns = torch.cat([torch.tensor(f.ms_in), torch.tensor(f.ns_in)]) # .transpose(1,0)\n",
    "    #print(msns.shape)\n",
    "    #cc.append(torch.cdist(mn.unsqueeze(dim=0), msns.transpose(1,0), 'euclidean') / 8) # number comes from 9*9 = 81 [0-8]\n",
    "\n",
    "    mn = torch.cat([f.m_this.unsqueeze(0), f.n_this.unsqueeze(0)]).transpose(1,0)\n",
    "    msns = torch.cat([f.ms_in.unsqueeze(0), f.ns_in.unsqueeze(0)]).transpose(1,0)\n",
    "    #print(mn)\n",
    "    #print(msns)\n",
    "\n",
    "    # mean ( l2 norm as distance metric / normalisation term for l2 norm)\n",
    "    # mean of distances\n",
    "    # normalise with max=grid square root, min=0\n",
    "    # mean from all non-nan values\n",
    "    #\n",
    "    \n",
    "\n",
    "    if decent2.cc_metric == 'l1':\n",
    "        cc.append(torch.nanmean( torch.tensor( scipy.spatial.distance.cdist(mn.detach().cpu().numpy(), msns.detach().cpu().numpy(), 'cityblock') /decent2.grid_sqrt ) ))\n",
    "    elif decent2.cc_metric == 'l2':\n",
    "        cc.append(torch.nanmean( torch.tensor( scipy.spatial.distance.cdist(mn.detach().cpu().numpy(), msns.detach().cpu().numpy(), 'euclidean') /decent2.grid_sqrt ) ))\n",
    "    elif decent2.cc_metric == 'l2_torch':\n",
    "        cc.append(torch.nanmean( torch.cdist( a=mn.float(), b=msns.float(), p=2) /decent2.grid_sqrt ))\n",
    "    elif decent2.cc_metric == 'linf':\n",
    "        cc.append(torch.nanmean( torch.tensor( scipy.spatial.distance.cdist(mn.detach().cpu().numpy(), msns.detach().cpu().numpy(), 'chebyshev') /decent2.grid_sqrt ) ))\n",
    "    elif decent2.cc_metric == 'cos':\n",
    "        cc.append(torch.nanmean( torch.tensor( scipy.spatial.distance.cdist(mn.detach().cpu().numpy(), msns.detach().cpu().numpy(), 'cosine') /decent2.grid_sqrt ) ))\n",
    "    elif decent2.cc_metric == 'jac':\n",
    "        cc.append(torch.nanmean( torch.tensor( scipy.spatial.distance.cdist(mn.detach().cpu().numpy(), msns.detach().cpu().numpy(), 'jaccard') /decent2.grid_sqrt ) ))\n",
    "    elif decent2.cc_metric == 'cor':\n",
    "        cc.append(torch.nanmean( torch.tensor( scipy.spatial.distance.cdist(mn.detach().cpu().numpy(), msns.detach().cpu().numpy(), 'correlation') /decent2.grid_sqrt ) ))\n",
    "    else:\n",
    "        print(\"DECENT WARNING: no valid cc metric chosen.\")\n",
    "        \n",
    "    print(torch.max( torch.tensor(scipy.spatial.distance.cdist(mn.detach().cpu().numpy(), msns.detach().cpu().numpy(), 'cityblock') /decent2.grid_sqrt) ))\n",
    "\n",
    "# mean connection cost of a layer\n",
    "# mean from all non-nan values\n",
    " # , max_cc"
   ]
  },
  {
   "cell_type": "code",
   "execution_count": null,
   "id": "6371b8c1-5df0-4d77-bf85-f016b238cc6b",
   "metadata": {},
   "outputs": [],
   "source": []
  },
  {
   "cell_type": "code",
   "execution_count": 41,
   "id": "e160292c-bf01-45b9-97a0-117f7660aaf8",
   "metadata": {},
   "outputs": [
    {
     "data": {
      "text/plain": [
       "tensor(0.6162, dtype=torch.float64)"
      ]
     },
     "execution_count": 41,
     "metadata": {},
     "output_type": "execute_result"
    }
   ],
   "source": [
    "torch.nanmean(torch.tensor(cc))"
   ]
  },
  {
   "cell_type": "code",
   "execution_count": 42,
   "id": "fab0387c-3f18-45da-989d-ed06d2ee3dd3",
   "metadata": {},
   "outputs": [
    {
     "data": {
      "text/plain": [
       "DecentFilter(weights: torch.Size([1, 3, 3, 3]) at position: m_this=Parameter containing:\n",
       "tensor([12.]), n_this=Parameter containing:\n",
       "tensor([12.]))\n",
       " with inputs: ms_in= 0, 8, 17, ns_in= 0, 8, 17)"
      ]
     },
     "execution_count": 42,
     "metadata": {},
     "output_type": "execute_result"
    }
   ],
   "source": [
    "f # a filter"
   ]
  },
  {
   "cell_type": "code",
   "execution_count": 43,
   "id": "415e3091-f3be-421d-8415-c03a97c70293",
   "metadata": {},
   "outputs": [
    {
     "data": {
      "text/plain": [
       "array([[16.97056275,  5.65685425,  7.07106781]])"
      ]
     },
     "execution_count": 43,
     "metadata": {},
     "output_type": "execute_result"
    }
   ],
   "source": [
    "scipy.spatial.distance.cdist(mn.detach().cpu().numpy(), msns.detach().cpu().numpy(), 'euclidean')"
   ]
  },
  {
   "cell_type": "code",
   "execution_count": 44,
   "id": "e7edb36b-6dc6-4d9a-b80a-22f57631a3d9",
   "metadata": {},
   "outputs": [
    {
     "data": {
      "text/plain": [
       "array([[0.94280904, 0.31426968, 0.3928371 ]])"
      ]
     },
     "execution_count": 44,
     "metadata": {},
     "output_type": "execute_result"
    }
   ],
   "source": [
    "scipy.spatial.distance.cdist(mn.detach().cpu().numpy(), msns.detach().cpu().numpy(), 'euclidean') / decent2.grid_sqrt"
   ]
  },
  {
   "cell_type": "code",
   "execution_count": 45,
   "id": "547326bd-26f8-49d9-8541-3a74e4787c51",
   "metadata": {},
   "outputs": [
    {
     "data": {
      "text/plain": [
       "tensor(0.5500, dtype=torch.float64)"
      ]
     },
     "execution_count": 45,
     "metadata": {},
     "output_type": "execute_result"
    }
   ],
   "source": [
    "torch.nanmean( torch.tensor( scipy.spatial.distance.cdist(mn.detach().cpu().numpy(), msns.detach().cpu().numpy(), 'euclidean') / decent2.grid_sqrt ) )"
   ]
  },
  {
   "cell_type": "code",
   "execution_count": 46,
   "id": "56ee9552-0754-4d52-8e7d-2379ad1821ba",
   "metadata": {},
   "outputs": [
    {
     "data": {
      "text/plain": [
       "tensor(0.9428, dtype=torch.float64)"
      ]
     },
     "execution_count": 46,
     "metadata": {},
     "output_type": "execute_result"
    }
   ],
   "source": [
    "torch.max( torch.tensor(scipy.spatial.distance.cdist(mn.detach().cpu().numpy(), msns.detach().cpu().numpy(), 'euclidean') / decent2.grid_sqrt) )"
   ]
  },
  {
   "cell_type": "code",
   "execution_count": 53,
   "id": "7a35fcc2-da05-4e82-abe9-f97ee12c0641",
   "metadata": {},
   "outputs": [
    {
     "data": {
      "text/plain": [
       "5.555555555555555"
      ]
     },
     "execution_count": 53,
     "metadata": {},
     "output_type": "execute_result"
    }
   ],
   "source": [
    "5/0.9"
   ]
  },
  {
   "cell_type": "code",
   "execution_count": 54,
   "id": "4518f9e2-e083-4d20-a774-4a9ce11206ae",
   "metadata": {},
   "outputs": [
    {
     "data": {
      "text/plain": [
       "0.0"
      ]
     },
     "execution_count": 54,
     "metadata": {},
     "output_type": "execute_result"
    }
   ],
   "source": [
    "0/0.9"
   ]
  },
  {
   "cell_type": "code",
   "execution_count": 55,
   "id": "20f397b7-bbfc-4b1e-b5d4-409cc4be293e",
   "metadata": {},
   "outputs": [
    {
     "data": {
      "text/plain": [
       "0.11111111111111112"
      ]
     },
     "execution_count": 55,
     "metadata": {},
     "output_type": "execute_result"
    }
   ],
   "source": [
    "0.1/0.9"
   ]
  },
  {
   "cell_type": "code",
   "execution_count": null,
   "id": "c769bcba-b9c7-4e05-a6eb-ed32c976d06f",
   "metadata": {},
   "outputs": [],
   "source": []
  }
 ],
 "metadata": {
  "kernelspec": {
   "display_name": "Python 3 (ipykernel)",
   "language": "python",
   "name": "python3"
  },
  "language_info": {
   "codemirror_mode": {
    "name": "ipython",
    "version": 3
   },
   "file_extension": ".py",
   "mimetype": "text/x-python",
   "name": "python",
   "nbconvert_exporter": "python",
   "pygments_lexer": "ipython3",
   "version": "3.9.10"
  }
 },
 "nbformat": 4,
 "nbformat_minor": 5
}
