{
 "cells": [
  {
   "cell_type": "markdown",
   "id": "95959ced-f969-4d06-884a-259dea8a377c",
   "metadata": {},
   "source": [
    "# 𝔼𝕩𝕡𝕝𝕠𝕣𝕒𝕥𝕠𝕣𝕪 𝔻𝕒𝕥𝕒 𝔸𝕟𝕒𝕝𝕪𝕤𝕚𝕤 / 𝔻𝕠𝕞𝕒𝕚𝕟 𝕊𝕙𝕚𝕗𝕥\n",
    "\n",
    "THIS IS AN OLD VERSION!!! \n",
    "\n",
    "* Feature extraction\n",
    "* Feature selection (Correlation Matrix and (Random Forest or Univariate Feature Selection))\n",
    "* Plotting"
   ]
  },
  {
   "cell_type": "markdown",
   "id": "ef1295e4-990b-4873-a432-f117549c949d",
   "metadata": {},
   "source": [
    "# Imports and Data"
   ]
  },
  {
   "cell_type": "code",
   "execution_count": null,
   "id": "4105dfc6-3be1-44cd-9b52-628bcc72090b",
   "metadata": {},
   "outputs": [],
   "source": [
    "import glob\n",
    "import skimage.io\n",
    "import numpy as np\n",
    "import pandas as pd\n",
    "import sklearn.model_selection\n",
    "import numpy as np\n",
    "from sklearn.ensemble import RandomForestRegressor\n",
    "from sklearn.model_selection import train_test_split\n",
    "from sklearn.feature_selection import RFECV\n",
    "import matplotlib.pyplot as plt\n",
    "import numpy as np\n",
    "from skimage.feature import graycomatrix, graycoprops\n",
    "from skimage.color import rgb2gray\n",
    "# from skimage.feature import greycomatrix, greycoprops\n",
    "from skimage.util import img_as_ubyte\n",
    "\n",
    "import scipy.stats\n",
    "from skimage.transform import rescale, resize, downscale_local_mean\n",
    "\n",
    "from colour import *\n",
    "\n",
    "#domain1 = glob.glob('C:/snec_data/Result_Data/cirrus/enface/*_cube_z.tif')\n",
    "#domain2 = glob.glob('C:/snec_data/Result_Data/plex/enface/*_cube_z.tif')\n",
    "#domain3 = glob.glob('C:/Users/Prinzessin/projects/image_data/iChallenge_AMD_OD_Fovea_lesions/images_AMD/*.jpg')\n",
    "# domain2 = glob.glob('C:/Users/Prinzessin/projects/image_data/iChallenge_AMD_OD_Fovea_lesions/images_Non-AMD/*.jpg')\n",
    "\n",
    "dev_mode = False\n",
    "\n",
    "domain = []\n",
    "domain_name = []\n",
    "\n",
    "if False:\n",
    "    domain1 = glob.glob('C:/Users/Prinzessin/projects/image_data/drac_oct/DR/images/train/*')[0:10]\n",
    "    domain2 = glob.glob('C:/Users/Prinzessin/projects/image_data/OCTA-500/OCTA_3M/Projection Maps/OCT(FULL)/*')[0:10]\n",
    "    domain3 = glob.glob('C:/Users/Prinzessin/projects/image_data/iChallenge_AMD_OD_Fovea_lesions/images_AMD/*.jpg')[0:10]\n",
    "    domain1_name = \"DRAC\"\n",
    "    domain2_name = \"OCTA-500\"\n",
    "    domain3_name = \"Fundus\"\n",
    "elif False: \n",
    "    domain.append(glob.glob(\"E:/Christina/Result_Data/CIRRUS_*/enface/*_cube_z.tif\") )\n",
    "    domain.append(glob.glob(\"E:/Christina/Result_Data/PLEX_*/enface/*/*_cube_z.tif\")  )      \n",
    "    domain_name.append(\"CIRRUS\" )\n",
    "    domain_name.append(\"PLEX\" )\n",
    "    \n",
    "else:\n",
    "    # domain.append(glob.glob(\"E:/Christina/Result_Data/CIRRUS_*/enface/*_cube_z.tif\") [0:10] )\n",
    "    domain.append(glob.glob(\"E:/Christina/Result_Data/CIRRUS_Normal/enface/*_cube_z.tif\"))\n",
    "    domain.append(glob.glob(\"E:/Christina/Result_Data/CIRRUS_Glaucoma/enface/*_cube_z.tif\"))\n",
    "    domain.append(glob.glob(\"E:/Christina/Result_Data/PLEX_*/enface/*/*_cube_z.tif\")      ) \n",
    "    domain.append(glob.glob(\"E:/Christina/Result_Data/ADAM_*/fundus/*jpg\")  )\n",
    "    domain_name.append(\"CIRRUS Normal\" )\n",
    "    domain_name.append(\"CIRRUS Glaucoma\" )\n",
    "    domain_name.append(\"PLEX Normal\" )\n",
    "    domain_name.append(\"Fundus\" )\n",
    "    \n",
    "    #domain4 = glob.glob(\"E:/Christina/Result_Data/FDA_ADAM_2_CIRRUS/*jpg\")\n",
    "    #domain5 = glob.glob(\"E:/Christina/Result_Data/FDA_PLEX_2_CIRRUS/*jpg\")\n",
    "    # domain6 = glob.glob(\"E:/Christina/Result_Data/MUNIT_ADAM_2_CIRRUS/*jpg\")\n",
    "    domain.append(glob.glob(\"E:/Christina/Result_Data/MUNIT_PLEX_2_CIRRUS/*jpg\") )\n",
    "    domain_name.append(\"PLEX-2-CIRRUS (MUNIT)\" )\n",
    "    \n",
    "    domain.append(glob.glob(\"E:/Christina/Result_Data/FDA_PLEX_2_CIRRUS/*jpg\") )\n",
    "    domain_name.append(\"PLEX-2-CIRRUS (FDA)\" )\n",
    "    \n",
    "    domain.append(glob.glob(\"E:/Christina/Result_Data/FDA_FUNDUS_2_CIRRUS/*jpg\") )\n",
    "    domain_name.append(\"FUNDUS-2-CIRRUS (FDA)\" )\n",
    "    \n",
    "    "
   ]
  },
  {
   "cell_type": "markdown",
   "id": "fc7be88d-3e64-43db-b7af-f77def4410be",
   "metadata": {},
   "source": [
    "# Feature Extraction"
   ]
  },
  {
   "cell_type": "code",
   "execution_count": null,
   "id": "ee0f1438-c9ff-4f4c-a50e-0ffc16147012",
   "metadata": {},
   "outputs": [],
   "source": [
    "\n",
    "\n",
    "def get_features(img, label=None):\n",
    "    \n",
    "    glcm = graycomatrix(img, distances=[1], \n",
    "                           angles=[0], symmetric=True, \n",
    "                           normed=True)\n",
    "    \n",
    "    # print(scipy.stats.describe(glcm.flatten()))\n",
    "    \n",
    "    # print(graycoprops(glcm, \"contrast\")[0][0].type)\n",
    "        \n",
    "    feature = {\"contrast\" :  graycoprops(glcm, \"contrast\")[0][0],\n",
    "               \"dissimilarity\" : graycoprops(glcm, \"dissimilarity\")[0][0],\n",
    "               \"homogeneity\" : graycoprops(glcm, \"homogeneity\")[0][0],\n",
    "               \"ASM\" : graycoprops(glcm, \"ASM\")[0][0],\n",
    "               \"energy\" :  graycoprops(glcm, \"energy\")[0][0],\n",
    "               \"correlation\" : graycoprops(glcm, \"correlation\")[0][0],\n",
    "               # \"kurtosis\" : scipy.stats.kurtosis(img.flatten()),\n",
    "               # \"skew\" : scipy.stats.skew(img.flatten()),\n",
    "               #\"coarse\" : coarseness(img, 5),\n",
    "               # \"coarse 2\" : get_coarseness_tamura(img),\n",
    "               \"mean img\" :  np.mean(img),\n",
    "               #\"contrast 2\" : contrast(img),\n",
    "               #\"direction\" : directionality(img),\n",
    "               \"label\" : label\n",
    "                }    \n",
    "    \n",
    "    return feature\n",
    "\n",
    "\n",
    "features = []\n",
    "\n",
    "for d_i, d in enumerate(domain):\n",
    "    \n",
    "    \n",
    "    for i, path in enumerate(d):\n",
    "        \n",
    "        \n",
    "        if False:\n",
    "            print(i, path)\n",
    "        else:\n",
    "            try:\n",
    "                image = skimage.io.imread(path, plugin='tifffile')\n",
    "            except:\n",
    "                image = skimage.io.imread(path, as_gray=True)\n",
    "                image = img_as_ubyte(image)\n",
    "            \n",
    "            image = resize(image, (256, 256), anti_aliasing=True)\n",
    "            image = img_as_ubyte(image)\n",
    "                \n",
    "            #print(image.shape)\n",
    "\n",
    "            tmp = get_features(image, label=d_i)\n",
    "            \n",
    "        features.append(tmp)\n",
    "\n",
    "    \n",
    "\"\"\"\n",
    "for path in domain1a:\n",
    "    if dev_mode:\n",
    "        image = skimage.io.imread(path, as_gray=True)\n",
    "        image = img_as_ubyte(image)\n",
    "    else:\n",
    "        image = skimage.io.imread(path, plugin='pil')\n",
    "    features1a.append(get_features(image, label=1))\n",
    "    \n",
    "    \n",
    "    \n",
    "for path in domain1b:\n",
    "    if dev_mode:\n",
    "        image = skimage.io.imread(path, as_gray=True)\n",
    "        image = img_as_ubyte(image)\n",
    "    else:\n",
    "        image = skimage.io.imread(path, plugin='pil')\n",
    "    features1b.append(get_features(image, label=1))  \n",
    "print(\"done domain 1\")      \n",
    "    \n",
    "\n",
    "for path in domain2:\n",
    "    if dev_mode:\n",
    "        image = skimage.io.imread(path, as_gray=True)\n",
    "        image = img_as_ubyte(image)\n",
    "    else:\n",
    "        image = skimage.io.imread(path, plugin='pil')\n",
    "    features2.append(get_features(image, label=2))\n",
    "print(\"done domain 2\")    \n",
    "\n",
    "for path in domain3:\n",
    "    image = skimage.io.imread(path, as_gray=True)\n",
    "    image = img_as_ubyte(image)\n",
    "    features3.append(get_features(image, label=3))\n",
    "print(\"done domain 3\")    \n",
    "    \n",
    "\n",
    "for path in domain7:\n",
    "    image = skimage.io.imread(path, as_gray=True)\n",
    "    image = img_as_ubyte(image)\n",
    "    features7.append(get_features(image, label=3))\n",
    "print(\"done domain 3\") \n",
    "\"\"\""
   ]
  },
  {
   "cell_type": "code",
   "execution_count": null,
   "id": "9e19c57a-2926-4409-bf96-57279e2a7e63",
   "metadata": {},
   "outputs": [],
   "source": [
    "#features"
   ]
  },
  {
   "cell_type": "code",
   "execution_count": null,
   "id": "d9be337c-9de2-43e4-bc5e-367e0b4a88f0",
   "metadata": {},
   "outputs": [],
   "source": [
    "df = pd.DataFrame(features)"
   ]
  },
  {
   "cell_type": "code",
   "execution_count": null,
   "id": "90b194b3-e62a-475a-97cb-a39bb0e49b70",
   "metadata": {},
   "outputs": [],
   "source": [
    "\n",
    "\n",
    "df = pd.DataFrame(features) #  + features3)\n",
    "\n",
    "\n",
    "features_train, features_test, gt_train, gt_test = sklearn.model_selection.train_test_split( df.loc[:, df.columns != \"label\"], df[\"label\"], test_size=0.5, random_state=42)\n",
    "\n",
    "print(df.shape)\n",
    "print(df.info())\n",
    "print(df.head(10))\n",
    "print(features_train.head(10))\n",
    "print(gt_train.head(10))"
   ]
  },
  {
   "cell_type": "markdown",
   "id": "430ae96e-c1be-4b2d-bcb9-be93b36f8c92",
   "metadata": {},
   "source": [
    "# correlation matrix"
   ]
  },
  {
   "cell_type": "markdown",
   "id": "b8248bac-2fd8-447c-99c1-6794ef9c9cf1",
   "metadata": {},
   "source": [
    "# Feature selection"
   ]
  },
  {
   "cell_type": "markdown",
   "id": "54dce8df-e908-4897-96fe-5b1cf608ceaa",
   "metadata": {},
   "source": [
    "## Correlation Matrix\n",
    "* Remove correlating features with Paerson correlation"
   ]
  },
  {
   "cell_type": "code",
<<<<<<< HEAD
   "execution_count": 84,
   "id": "d1a6fe32-ac4a-4f34-91ae-edf5517c409a",
   "metadata": {},
   "outputs": [
    {
     "data": {
      "image/png": "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\n",
      "text/plain": [
       "<Figure size 504x360 with 2 Axes>"
      ]
     },
     "metadata": {
      "needs_background": "light"
     },
     "output_type": "display_data"
    }
   ],
   "source": [
    "f = plt.figure(figsize=(7, 5))\n",
=======
   "execution_count": null,
   "id": "5c6b785c-6b91-4968-984a-cb5ca0b0b3f1",
   "metadata": {},
   "outputs": [],
   "source": [
    "f = plt.figure(figsize=(10, 10))\n",
>>>>>>> 7b2bf9d2605d3a0968408fe4422d0f88db9d62b9
    "plt.matshow(features_train.corr(), fignum=f.number, cmap=variint_map, vmin=-1, vmax=1)\n",
    "plt.xticks(range(features_train.select_dtypes(['number']).shape[1]), features_train.select_dtypes(['number']).columns, fontsize=14, rotation=90)\n",
    "plt.yticks(range(features_train.select_dtypes(['number']).shape[1]), features_train.select_dtypes(['number']).columns, fontsize=14)\n",
    "cb = plt.colorbar()\n",
    "cb.ax.tick_params(labelsize=14)\n",
    "plt.title('Correlation Matrix', fontsize=16)\n",
    "#plt.subplots_adjust(left=2)\n",
    "# fig.tight_layout()\n",
    "plt.savefig(\"example_results/correlation.png\", dpi=1200)"
   ]
<<<<<<< HEAD
=======
  },
  {
   "cell_type": "code",
   "execution_count": null,
   "id": "9b1e672e-da1a-4368-a2a0-998e2525f624",
   "metadata": {},
   "outputs": [],
   "source": [
    "features_train2, features_test2 = features_train.drop(\n",
    "    columns=[\"dissimilarity\", \"homogeneity\", \"ASM\"]), features_test.drop(columns=[\"dissimilarity\", \"homogeneity\", \"ASM\"])\n",
    "\n",
    "features_train2"
   ]
>>>>>>> 7b2bf9d2605d3a0968408fe4422d0f88db9d62b9
  },
  {
   "cell_type": "markdown",
   "id": "07b0d98a-ec33-4ac5-86ff-e90934ee074a",
   "metadata": {},
   "source": [
    "## Random Forest\n",
    "* Feature importance with RF and Gini / Permutation"
   ]
  },
  {
   "cell_type": "code",
   "execution_count": null,
   "id": "f4141182-e8b7-432e-a758-269a535e6c9a",
   "metadata": {},
   "outputs": [],
   "source": [
    "from sklearn.metrics import accuracy_score \n",
    "from sklearn.ensemble import RandomForestClassifier\n",
    "\n",
    "rf = RandomForestClassifier(random_state=0)\n",
    "rf.fit(features_train, list(gt_train))\n",
    "\n",
    "result = rf.predict(features_test)\n",
    "print(result)\n",
    "print(list(gt_test))\n",
    "acc = accuracy_score(list(gt_test), result)\n",
    "print(acc)\n",
    "\n",
    "r = rf.score(features_test, gt_test)\n",
    "print(r)\n",
    "\n",
    "features_test.columns\n"
   ]
  },
  {
   "cell_type": "code",
   "execution_count": null,
   "id": "3325c2b2-be9e-4c8c-8952-bdbd8625862b",
   "metadata": {},
   "outputs": [],
   "source": [
    "from sklearn.metrics import accuracy_score \n",
    "from sklearn.ensemble import RandomForestClassifier\n",
    "\n",
    "rf = RandomForestClassifier(random_state=0)\n",
    "rf.fit(features_train2, list(gt_train))\n",
    "\n",
    "result = rf.predict(features_test2)\n",
    "print(result)\n",
    "print(list(gt_test))\n",
    "acc = accuracy_score(list(gt_test), result)\n",
    "print(acc)\n",
    "\n",
    "r = rf.score(features_test2, gt_test)\n",
    "print(r)\n",
    "\n",
    "features_test.columns"
   ]
  },
  {
   "cell_type": "markdown",
   "id": "1110a405-7de1-46e6-939b-16f87eb766e6",
   "metadata": {},
   "source": [
    "### Gini (mean decrease in impurity)"
   ]
  },
  {
   "cell_type": "code",
   "execution_count": null,
   "id": "cabd42eb-841f-46f8-aeb1-144b4269ee8b",
   "metadata": {},
   "outputs": [],
   "source": [
    "importances = rf.feature_importances_\n",
    "std = np.std([tree.feature_importances_ for tree in rf.estimators_], axis=0)\n",
    "\n",
    "forest_importances = pd.Series(importances, index=features_train2.columns)\n",
    "\n",
    "fig, ax = plt.subplots()\n",
    "forest_importances.plot.barh(xerr=std, ax=ax, color=\"darkorange\")\n",
    "plt.gca().invert_yaxis()\n",
    "\n",
    "ax.set_title(\"Feature importances using MDI\")\n",
    "ax.set_ylabel(\"feature\")\n",
    "ax.set_xlabel(\"mean decrease in impurity\")\n",
    "fig.tight_layout()\n",
    "plt.savefig(\"example_results/gini.png\", dpi=1200)"
   ]
  },
  {
   "cell_type": "markdown",
   "id": "a6be93f9-0337-43d9-9d66-36856157ca1d",
   "metadata": {},
   "source": [
    "### Permutation importance (Mean Decrease in Accuracy)\n",
    "* https://scikit-learn.org/stable/modules/permutation_importance.html"
   ]
  },
  {
   "cell_type": "code",
   "execution_count": null,
   "id": "aefd380c-bfbb-4c43-b945-665975cd45ce",
   "metadata": {},
   "outputs": [],
   "source": [
    "from sklearn.inspection import permutation_importance\n",
    "\n",
    "\n",
    "rf = RandomForestClassifier(random_state=10)\n",
    "rf.fit(features_train2, list(gt_train))\n",
    "\n",
    "\n",
    "result = permutation_importance(\n",
    "    rf, features_test2, list(gt_test), n_repeats=10, random_state=42, n_jobs=2\n",
    ")\n",
    "\n",
    "print(list(gt_test))\n",
    "\n",
    "print(result)\n",
    "\n",
    "forest_importances = pd.Series(result.importances_mean, index=features_test2.columns)\n",
    "\n",
    "fig, ax = plt.subplots()\n",
    "forest_importances.plot.barh(xerr=result.importances_std, ax=ax, color=\"darkorange\")\n",
    "plt.gca().invert_yaxis()\n",
    "\n",
    "ax.set_title(\"Feature importances using permutation on full model\")\n",
    "ax.set_xlabel(\"mean accuracy decrease\")\n",
    "ax.set_ylabel(\"feature\")\n",
    "fig.tight_layout()\n",
    "plt.savefig(\"example_results/permutation.png\", dpi=1200)"
   ]
  },
  {
   "cell_type": "markdown",
   "id": "1a68235e-5872-47e0-88a3-a42862737021",
   "metadata": {},
   "source": [
    "## Univariate feature selection\n",
    "* Feature significance with P-Values and chi square scores"
   ]
  },
  {
   "cell_type": "code",
   "execution_count": null,
   "id": "bc08eb27-d57b-4574-b6d0-f8a5e0b36d56",
   "metadata": {},
   "outputs": [],
   "source": [
    "# import packages\n",
    "import pandas as pd\n",
    "\n",
    "# import data\n",
    "my_df = df.drop(columns=[\"dissimilarity\", \"homogeneity\", \"ASM\"]) #, df.copy()\n",
    "\n",
    "from sklearn.feature_selection import SelectKBest, chi2\n",
    "\n",
    "X = my_df.drop([\"label\"], axis = 1)\n",
    "y = my_df[\"label\"]\n",
    "\n",
    "feature_selector = SelectKBest(chi2, k = \"all\")\n",
    "fit = feature_selector.fit(X,y)\n",
    "\n",
    "p_values = pd.DataFrame(fit.pvalues_)\n",
    "scores = pd.DataFrame(fit.scores_)\n",
    "\n",
    "input_variable_names = pd.DataFrame(X.columns)\n",
    "summary_stats = pd.concat([input_variable_names, p_values, scores], axis = 1)\n",
    "summary_stats.columns = [\"input_variable\", \"p_value\", \"chi2_score\"]\n",
    "summary_stats.sort_values(by = \"p_value\", inplace = True)\n",
    "\n",
    "p_value_threshold = 0.05\n",
    "score_threshold = 5\n",
    "\n",
    "selected_variables = summary_stats.loc[(summary_stats[\"chi2_score\"] >= score_threshold) &\n",
    "                                       (summary_stats[\"p_value\"] <= p_value_threshold)]\n",
    "selected_variables = selected_variables[\"input_variable\"].tolist()\n",
    "X_new = X[selected_variables]\n",
    "\n",
    "#print(X_new)\n",
    "\n",
    "\n",
    "# forest_importances = pd.DataFrame(summary_stats[\"p_value\"].flatten(), columns=features_test.columns)\n",
    "\n",
    "forest_importances = summary_stats[\"p_value\"].reindex(index=features_test2.columns)\n",
    "\n",
    "index = features_test2.columns\n",
    "\n",
    "forest_importances = pd.DataFrame({'p_value': list(summary_stats[\"p_value\"].sort_index())}, index=index)\n",
    "\n",
    "print(summary_stats[\"chi2_score\"].sort_index())\n",
    "print(summary_stats[\"p_value\"].sort_index())"
   ]
  },
  {
   "cell_type": "markdown",
   "id": "3c700e8d-68e6-413a-9814-514c73025559",
   "metadata": {},
   "source": [
    "### p-value"
   ]
  },
  {
   "cell_type": "code",
   "execution_count": null,
   "id": "76e7bdda-95de-4510-8853-dc1458922ff7",
   "metadata": {},
   "outputs": [],
   "source": [
    "fig, ax = plt.subplots()\n",
    "ax.barh(features_test2.columns, 1 - summary_stats[\"p_value\"].sort_index(), color=\"darkorange\") # yerr=result.importances_std\n",
    "plt.gca().invert_yaxis()\n",
    "ax.set_title(\"Feature significance\")\n",
    "ax.set_xlabel(\"1 - p_value\")\n",
    "ax.set_ylabel(\"feature\")\n",
    "fig.tight_layout()\n",
    "plt.savefig(\"example_results/one_minus_pvalue.png\", dpi=1200)"
   ]
  },
  {
   "cell_type": "markdown",
   "id": "d994f19b-c401-4a3a-800c-3048bf5d0012",
   "metadata": {},
   "source": [
    "### chi2 score"
   ]
  },
  {
   "cell_type": "code",
   "execution_count": null,
   "id": "58008fde-3f7a-43cc-b7e0-852855dd6b3c",
   "metadata": {},
   "outputs": [],
   "source": [
    "fig, ax = plt.subplots()\n",
    "ax.barh(features_test2.columns, summary_stats[\"chi2_score\"].sort_index(), color=\"darkorange\") # yerr=result.importances_std\n",
    "plt.gca().invert_yaxis()\n",
    "ax.set_title(\"Feature significance\")\n",
    "ax.set_xlabel(\"chi2 score\")\n",
    "ax.set_ylabel(\"feature\")\n",
    "fig.tight_layout()\n",
    "plt.savefig(\"example_results/chi2score.png\", dpi=1200)"
   ]
  },
  {
   "cell_type": "markdown",
<<<<<<< HEAD
   "id": "f21ceb41-d2ea-4f24-8fb2-6fe2b9c0f3aa",
=======
   "id": "54dce8df-e908-4897-96fe-5b1cf608ceaa",
   "metadata": {},
   "source": [
    "## Correlation Matrix"
   ]
  },
  {
   "cell_type": "markdown",
   "id": "f21ceb41-d2ea-4f24-8fb2-6fe2b9c0f3aa",
   "metadata": {},
   "source": [
    "## Plotting 2 features"
   ]
  },
  {
   "cell_type": "code",
   "execution_count": null,
   "id": "3d21d9f9-fcc5-4405-965c-1b31e5a38886",
>>>>>>> 7b2bf9d2605d3a0968408fe4422d0f88db9d62b9
   "metadata": {},
   "outputs": [],
   "source": [
<<<<<<< HEAD
    "# Plotting 2 features"
=======
    "\n",
    "key_x = \"dissimilarity\"\n",
    "key_y = \"mean img\"\n",
    "# key_y = \"energy\"\n",
    "\n",
    "key_x = \"contrast\"\n",
    "#key_y = \"energy\"\n",
    "#key_y = \"correlation\"\n",
    "#key_y = \"dissimilarity\"\n",
    "#key_y = \"kurtosis\"\n",
    "\n",
    "\n",
    "plt.figure()\n",
    "plt.xlabel(key_x)\n",
    "plt.ylabel(key_y)\n",
    "\n",
    "\n",
    "print(df.head())\n",
    "\n",
    "i = 1\n",
    "x = df[df['label'] == i][key_x]\n",
    "y = df[df['label'] == i][key_y]\n",
    "plt.scatter(x, y, label=domain_name[i], color='teal', s=10, marker='^')\n",
    "\n",
    "i = 0\n",
    "x = df[df['label'] == i][key_x]\n",
    "y = df[df['label'] == i][key_y]\n",
    "plt.scatter(x, y, label=domain_name[i], color='black', s=10, marker='^')\n",
    "\n",
    "\n",
    "i = 2\n",
    "x = df[df['label'] == i][key_x]\n",
    "y = df[df['label'] == i][key_y]\n",
    "plt.scatter(x, y,  label=domain_name[i], color='blue', s=10, marker='^')\n",
    "\n",
    "\n",
    "i += 1\n",
    "x = df[df['label'] == i][key_x]\n",
    "y = df[df['label'] == i][key_y]\n",
    "plt.scatter(x, y,  label=domain_name[i], color='green', s=10, marker='^')\n",
    "\n",
    "i += 1\n",
    "x = df[df['label'] == i][key_x]\n",
    "y = df[df['label'] == i][key_y]\n",
    "plt.scatter(x, y, label=domain_name[i], color='mediumvioletred', s=10, marker='^')\n",
    "\n",
    "i += 1\n",
    "x = df[df['label'] == i][key_x]\n",
    "y = df[df['label'] == i][key_y]\n",
    "plt.scatter(x, y, label=domain_name[i], color='red', s=10, marker='^')\n",
    "\n",
    "i += 1\n",
    "x = df[df['label'] == i][key_x]\n",
    "y = df[df['label'] == i][key_y]\n",
    "plt.scatter(x, y, label=domain_name[i], color='darkorange', s=10, marker='^')\n",
    "\n",
    "plt.legend()\n",
    "plt.tight_layout()\n",
    "plt.savefig(\"example_results/domainshift.png\", dpi=1200)"
>>>>>>> 7b2bf9d2605d3a0968408fe4422d0f88db9d62b9
   ]
  },
  {
   "cell_type": "code",
   "execution_count": null,
   "id": "5cce07ff-af4f-4947-868d-7527f3bed7a4",
   "metadata": {},
   "outputs": [],
   "source": [
    "\n",
    "key_x = \"dissimilarity\"\n",
    "key_y = \"mean img\"\n",
    "# key_y = \"energy\"\n",
    "\n",
    "key_x = \"contrast\"\n",
    "key_y = \"correlation\"\n",
    "#key_y = \"kurtosis\"\n",
    "\n",
    "x1 = df[df['label'] == 1][key_x]\n",
    "y1 = df[df['label'] == 1][key_y]\n",
    "\n",
    "x2 = df[df['label'] == 2][key_x]\n",
    "y2 = df[df['label'] == 2][key_y]\n",
    "\n",
    "x3 = df[df['label'] == 3][key_x]\n",
    "y3 = df[df['label'] == 3][key_y]\n",
    "\n",
    "plt.figure()\n",
    "plt.xlabel(key_x)\n",
    "plt.ylabel(key_y)\n",
    "plt.scatter(x1, y1, label=domain1_name, color='mediumvioletred', s=10, marker='+')\n",
    "plt.scatter(x2, y2, label=domain2_name, color='darkorange', s=10, marker='^')\n",
    "plt.scatter(x3, y3, label=domain3_name, color='teal', s=7, marker=',')\n",
    "plt.legend()\n",
    "plt.tight_layout()\n",
    "plt.savefig(\"example_results/domainshift.png\", dpi=1200)"
   ]
  },
  {
   "cell_type": "markdown",
   "id": "4044c68b-68b2-4494-a69f-5f090437a042",
   "metadata": {},
   "source": [
    "# Mean and average images\n",
    "* https://towardsdatascience.com/exploratory-data-analysis-ideas-for-image-classification-d3fc6bbfb2d2"
   ]
  },
  {
   "cell_type": "code",
   "execution_count": null,
   "id": "7d77c78e-803e-49b9-a9e4-290a41d905a9",
   "metadata": {},
   "outputs": [],
   "source": []
  },
  {
   "cell_type": "code",
   "execution_count": null,
   "id": "eb27ba8c-d2ab-434b-a5e2-186747c4b484",
   "metadata": {},
   "outputs": [],
   "source": [
    "def img2np(paths, size = (150, 150)):\n",
    "    # making n X m matrix\n",
    "    # iterating through each file\n",
    "\n",
    "    images = []\n",
    "    current_image = None\n",
    "    \n",
    "    for i, path in enumerate(paths):  \n",
    "        current_image = skimage.io.imread(path, as_gray=True, plugin='pil')\n",
    "        current_image = resize(current_image, size, anti_aliasing=True)\n",
    "        images.append(current_image)\n",
    "        stacked = np.stack(images, axis=-1)  \n",
    "    \n",
    "    return stacked\n",
    "\n",
    "def find_mean_img(full_mat, title, f):\n",
    "    # calculate the average\n",
    "    result = np.mean(full_mat, axis = 2)\n",
    "    \n",
    "    f.imshow(result, cmap='gray')\n",
    "    f.set_title(f'Mean {title}')\n",
    "    f.axis('off')\n",
    "    return result\n",
    "\n",
    "def find_std_img(full_mat, title, f):\n",
    "    # calculate the standard deviation\n",
    "    result = np.std(full_mat, axis = 2)\n",
    "\n",
    "    f.imshow(result, cmap='gray')\n",
    "    f.set_title(f'Std {title}')\n",
    "    f.axis('off')\n",
    "    return result"
   ]
  },
  {
   "cell_type": "code",
   "execution_count": null,
   "id": "ccdd12a3-793b-4dd9-a278-daadcafeb6a1",
   "metadata": {},
   "outputs": [],
   "source": [
    "# run it on our folders\n",
    "domain1_images = img2np(domain[0])\n",
    "print(\"done 1\")\n",
    "domain2_images = img2np(domain[2])\n",
    "print(\"done 2\")\n",
    "domain3_images = img2np(domain[4])\n",
    "print(\"done 3\")\n",
    "domain4_images = img2np(domain[5])\n",
    "print(\"done 3\")\n",
    "domain5_images = img2np(domain[6])\n",
    "print(\"done 3\")"
   ]
  },
  {
   "cell_type": "code",
   "execution_count": null,
   "id": "c6a6d8af-1c74-45b4-a23b-2776d1a4dee0",
   "metadata": {},
   "outputs": [],
   "source": [
    "domain4_images = img2np(domain[5])\n",
    "print(\"done 3\")\n",
    "domain5_images = img2np(domain[6])\n",
    "print(\"done 3\")"
   ]
  },
  {
   "cell_type": "markdown",
   "id": "574b1910-0b11-4afd-8fe4-a77194603c80",
   "metadata": {},
   "source": [
    "## Plot mean"
   ]
  },
  {
   "cell_type": "code",
   "execution_count": null,
   "id": "baf109b1-efd4-4d64-b964-2d7471df7982",
   "metadata": {},
   "outputs": [],
   "source": [
    "fig, axs = plt.subplots(1, 5)\n",
    "mean1 = find_mean_img(domain1_images, \"CIRRUS\", axs[0])\n",
    "mean2 = find_mean_img(domain2_images, \"PLEX\", axs[1])\n",
    "mean3 = find_mean_img(domain3_images, \"P2C (M)\", axs[2])\n",
    "mean4 = find_mean_img(domain4_images, \"P2C (F)\", axs[3])\n",
    "mean5 = find_mean_img(domain5_images, \"F2C (F)\", axs[4])\n",
    "fig.tight_layout()\n",
    "fig.savefig(f\"example_results/domain_shift_mean.png\", dpi=1200)\n"
   ]
  },
  {
   "cell_type": "markdown",
   "id": "4ddc7a18-d3ac-48b5-bcfe-6e5f4c4f569f",
   "metadata": {},
   "source": [
    "## Plot absolute mean difference"
   ]
  },
  {
   "cell_type": "code",
   "execution_count": null,
   "id": "efe73e4d-9811-4dcf-a477-68df9ea8e930",
   "metadata": {},
   "outputs": [],
   "source": [
    "contrast_mean = np.absolute(mean1 - mean2)\n",
    "# contrast_mean = cv2.absdiff(plex_mean, cirrus_mean)\n",
    "#contrast_mean = plex_mean * cirrus_mean\n",
    "\n",
    "plt.imshow(contrast_mean, cmap=variint_map)\n",
    "plt.title(f'Absolute difference')\n",
    "plt.axis('off')\n",
    "plt.tight_layout()\n",
    "plt.savefig(f\"example_results/domain_shift_diff_mean.png\", dpi=1200)\n"
   ]
  },
  {
   "cell_type": "markdown",
   "id": "16fe5d17-984a-48ba-8351-90bd1fe77eb1",
   "metadata": {},
   "source": [
    "## Plot standard dev"
   ]
  },
  {
   "cell_type": "code",
   "execution_count": null,
   "id": "28d29db2-fec7-4d33-8aac-57faf6c1129e",
   "metadata": {},
   "outputs": [],
   "source": [
    "fig, axs = plt.subplots(1, 5)\n",
    "\n",
    "std1 = find_std_img(domain1_images, \"CIRRUS\", axs[0])\n",
    "std2 = find_std_img(domain2_images, \"PLEX\", axs[1])\n",
    "std3 = find_std_img(domain3_images, \"P2C (M)\", axs[2])\n",
    "std4 = find_std_img(domain4_images, \"P2C (F)\", axs[3])\n",
    "std5 = find_std_img(domain5_images, \"F2C (F)\", axs[4])\n",
    "\n",
    "fig.tight_layout()\n",
    "fig.savefig(f\"example_results/domain_shift_std.png\", dpi=1200)\n"
   ]
  },
  {
   "cell_type": "code",
   "execution_count": null,
   "id": "57db19ac-877a-4d22-9e70-13312a3cec7e",
   "metadata": {},
   "outputs": [],
   "source": []
  },
  {
   "cell_type": "code",
   "execution_count": null,
   "id": "8bb9dd86-84e6-409c-b34a-bfba461de10a",
   "metadata": {},
   "outputs": [],
   "source": []
  }
 ],
 "metadata": {
  "kernelspec": {
   "display_name": "Python 3 (ipykernel)",
   "language": "python",
   "name": "python3"
  },
  "language_info": {
   "codemirror_mode": {
    "name": "ipython",
    "version": 3
   },
   "file_extension": ".py",
   "mimetype": "text/x-python",
   "name": "python",
   "nbconvert_exporter": "python",
   "pygments_lexer": "ipython3",
   "version": "3.9.16"
  }
 },
 "nbformat": 4,
 "nbformat_minor": 5
}
