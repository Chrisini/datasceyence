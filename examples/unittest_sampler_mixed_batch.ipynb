{
 "cells": [
  {
   "cell_type": "code",
   "execution_count": 1,
   "id": "f42f0a34-2903-4f66-9ae9-f04ac736fb1c",
   "metadata": {},
   "outputs": [
    {
     "name": "stdout",
     "output_type": "stream",
     "text": [
      "['../helper', './helper', '/helper', 'helper', 'C:\\\\Users\\\\Prinzessin\\\\projects\\\\decentnet\\\\datasceyence\\\\examples', 'C:\\\\Users\\\\Prinzessin\\\\anaconda3\\\\envs\\\\feta\\\\python39.zip', 'C:\\\\Users\\\\Prinzessin\\\\anaconda3\\\\envs\\\\feta\\\\DLLs', 'C:\\\\Users\\\\Prinzessin\\\\anaconda3\\\\envs\\\\feta\\\\lib', 'C:\\\\Users\\\\Prinzessin\\\\anaconda3\\\\envs\\\\feta', '', 'C:\\\\Users\\\\Prinzessin\\\\anaconda3\\\\envs\\\\feta\\\\lib\\\\site-packages', 'C:\\\\Users\\\\Prinzessin\\\\anaconda3\\\\envs\\\\feta\\\\lib\\\\site-packages\\\\win32', 'C:\\\\Users\\\\Prinzessin\\\\anaconda3\\\\envs\\\\feta\\\\lib\\\\site-packages\\\\win32\\\\lib', 'C:\\\\Users\\\\Prinzessin\\\\anaconda3\\\\envs\\\\feta\\\\lib\\\\site-packages\\\\Pythonwin', 'C:\\\\Users\\\\Prinzessin\\\\anaconda3\\\\envs\\\\feta\\\\lib\\\\site-packages\\\\IPython\\\\extensions', 'C:\\\\Users\\\\Prinzessin\\\\.ipython']\n"
     ]
    }
   ],
   "source": [
    "# unit test\n",
    "import unittest\n",
    "\n",
    "from PIL import Image, ImageDraw\n",
    "\n",
    "from torch.utils.data import Dataset, DataLoader\n",
    "\n",
    "import torch\n",
    "\n",
    "\n",
    "import numpy as np\n",
    "\n",
    "# \"helper\" needs to be part of sys path\n",
    "import sys\n",
    "sys.path.insert(0, \"helper\")\n",
    "sys.path.insert(0, \"/helper\")\n",
    "sys.path.insert(0, \"./helper\")\n",
    "sys.path.insert(0, \"../helper\")\n",
    "print(sys.path)\n",
    "\n",
    "%load_ext autoreload\n",
    "%autoreload 2\n",
    "\n",
    "# own module\n",
    "from sampler import *"
   ]
  },
  {
   "cell_type": "code",
   "execution_count": 2,
   "id": "bd442da0-1e40-4078-989e-c55e6891ac3c",
   "metadata": {},
   "outputs": [],
   "source": [
    "class DS(Dataset):\n",
    "    def __init__(self):\n",
    "        super(DS, self).__init__()\n",
    "        \n",
    "        self.data  = [11, 12, 13, 14, 15, 16, 17, 18, 19, \n",
    "                      21, 22, 23, 24, 25, 26, 27, 28, 29, -21, -22, -23, -24,\n",
    "                      71, 72, 73, 74, 75, 76,\n",
    "                      #42, 43\n",
    "                     ]\n",
    "        self.lbl   = [1,  1,  1,  1,  1,  1,  1,  1,  1,  \n",
    "                      2,  2,  2,  2,  2,  2,  2,  2,  2,   2,   2,   2,   2,\n",
    "                      7,  7,  7,  7,  7,  7,\n",
    "                      #0, 0\n",
    "                     ]\n",
    "        \n",
    "    def get_labels(self):\n",
    "        return list(self.lbl)\n",
    "\n",
    "    def __len__(self):\n",
    "        return len(self.data)\n",
    "\n",
    "    def __getitem__(self, index):\n",
    "        \n",
    "        item = { \"img\" : self.data[index],\n",
    "                 \"lbl\" : self.lbl[index]\n",
    "               }\n",
    "        \n",
    "        return item   "
   ]
  },
  {
   "cell_type": "code",
   "execution_count": 3,
   "id": "e5247636-4002-4ecc-bba1-9505fe568491",
   "metadata": {},
   "outputs": [],
   "source": [
    "class UnitTestLoss(unittest.TestCase):   \n",
    "    \n",
    "    def test_mixed_batch_sampler(self):\n",
    "        \n",
    "        \n",
    "        # if 1+: taking care of balance in batches in epoch\n",
    "        # if smaller than 1: not taking care of balance accross batches in epoch\n",
    "        n_samples_per_class_per_batch = 3 # 2 # 0.5\n",
    "        \n",
    "        ds = DS()\n",
    "\n",
    "        print(\"-\"*5, \"item\", \"-\"*5)\n",
    "        print(ds.__getitem__(2))\n",
    "\n",
    "        print(\"-\"*5, \"label\", \"-\"*5)\n",
    "        print(ds.get_labels())\n",
    "\n",
    "\n",
    "        mbs = MixedBatchSampler(ds.get_labels(), n_samples_per_class_per_batch=n_samples_per_class_per_batch)\n",
    "\n",
    "        print(\"-\"*5, \"idx\", \"-\"*5)\n",
    "        print(list(mbs))\n",
    "\n",
    "\n",
    "        train_loader = DataLoader(ds, batch_sampler=mbs)\n",
    "\n",
    "        print(\"\")\n",
    "        print(\"=\"*10 ,\"train loader\", \"=\"*10)\n",
    "        print(\"\")\n",
    "\n",
    "        for idx, item in enumerate(train_loader):\n",
    "\n",
    "            print(\"-\"*5, \"batch\", \"-\"*5)\n",
    "            print(item[\"img\"])\n",
    "            print(item[\"lbl\"])\n",
    "            \n",
    "            label_counter = torch.nn.functional.one_hot(item[\"lbl\"]).sum(dim = 0)\n",
    "            for c in label_counter:\n",
    "                if n_samples_per_class_per_batch < 1:\n",
    "                    n_samples_per_class_per_batch = 1\n",
    "                if c != 0: # exclude empty classes\n",
    "                    self.assertEqual(c, n_samples_per_class_per_batch)\n",
    "            \n",
    "            \n",
    "            "
   ]
  },
  {
   "cell_type": "code",
   "execution_count": 4,
   "id": "b38079dd-6323-4550-b01d-701c5ef26459",
   "metadata": {},
   "outputs": [
    {
     "name": "stderr",
     "output_type": "stream",
     "text": [
      ".\n",
      "----------------------------------------------------------------------\n",
      "Ran 1 test in 0.009s\n",
      "\n",
      "OK\n"
     ]
    },
    {
     "name": "stdout",
     "output_type": "stream",
     "text": [
      "----- item -----\n",
      "{'img': 13, 'lbl': 1}\n",
      "----- label -----\n",
      "[1, 1, 1, 1, 1, 1, 1, 1, 1, 2, 2, 2, 2, 2, 2, 2, 2, 2, 2, 2, 2, 2, 7, 7, 7, 7, 7, 7]\n",
      "----- idx -----\n",
      "[[7, 0, 8, 9, 15, 10, 25, 27, 26], [22, 24, 23, 14, 17, 20, 1, 5, 4]]\n",
      "\n",
      "========== train loader ==========\n",
      "\n",
      "----- batch -----\n",
      "tensor([18, 17, 19, 21, 26, 29, 76, 75, 71])\n",
      "tensor([1, 1, 1, 2, 2, 2, 7, 7, 7])\n",
      "----- batch -----\n",
      "tensor([27, 22, 23, 16, 15, 13, 72, 73, 74])\n",
      "tensor([2, 2, 2, 1, 1, 1, 7, 7, 7])\n"
     ]
    }
   ],
   "source": [
    "if __name__ == '__main__':\n",
    "    unittest.main(argv=['first-arg-is-ignored'], exit=False)"
   ]
  },
  {
   "cell_type": "code",
   "execution_count": null,
   "id": "890516b6-54a6-4c7e-b35a-6759e766ea8b",
   "metadata": {},
   "outputs": [],
   "source": []
  },
  {
   "cell_type": "code",
   "execution_count": null,
   "id": "6dc6dc64-1ca9-45e2-9e21-8020af7cd712",
   "metadata": {},
   "outputs": [],
   "source": []
  }
 ],
 "metadata": {
  "kernelspec": {
   "display_name": "Python 3 (ipykernel)",
   "language": "python",
   "name": "python3"
  },
  "language_info": {
   "codemirror_mode": {
    "name": "ipython",
    "version": 3
   },
   "file_extension": ".py",
   "mimetype": "text/x-python",
   "name": "python",
   "nbconvert_exporter": "python",
   "pygments_lexer": "ipython3",
   "version": "3.9.16"
  }
 },
 "nbformat": 4,
 "nbformat_minor": 5
}
