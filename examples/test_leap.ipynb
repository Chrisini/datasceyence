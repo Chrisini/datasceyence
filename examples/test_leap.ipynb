{
 "cells": [
  {
   "cell_type": "code",
   "execution_count": 1,
   "id": "3df7331a-2cc5-40b9-8c81-f3de33690e6d",
   "metadata": {},
   "outputs": [
    {
     "name": "stderr",
     "output_type": "stream",
     "text": [
      "C:\\Users\\Christina\\AppData\\Local\\Temp\\ipykernel_2204\\3326991717.py:1: DeprecationWarning: \n",
      "Pyarrow will become a required dependency of pandas in the next major release of pandas (pandas 3.0),\n",
      "(to allow more performant data types, such as the Arrow string type, and better interoperability with other libraries)\n",
      "but was not found to be installed on your system.\n",
      "If this would cause problems for you,\n",
      "please provide us feedback at https://github.com/pandas-dev/pandas/issues/54466\n",
      "        \n",
      "  from leap_ie.vision import engine\n"
     ]
    }
   ],
   "source": [
    "from leap_ie.vision import engine\n",
    "from leap_ie.vision.models import get_model"
   ]
  },
  {
   "cell_type": "code",
   "execution_count": 2,
   "id": "cfc43c1d-17c7-470e-8595-709f9574bf0d",
   "metadata": {},
   "outputs": [],
   "source": [
    "config = {\"leap_api_key\": \"LEAPI0EEE8B91B14F6CE88A323950A008CE75\"}"
   ]
  },
  {
   "cell_type": "code",
   "execution_count": 5,
   "id": "dab12e4c-f69f-4fb7-a86e-06fe1f55689f",
   "metadata": {},
   "outputs": [
    {
     "name": "stdout",
     "output_type": "stream",
     "text": [
      "Found device: cuda\n",
      "Pytorch mode enabled.\n",
      "Generating class prototypes...\n",
      "Using device cuda\n"
     ]
    },
    {
     "name": "stderr",
     "output_type": "stream",
     "text": [
      "  0%|▏                                                                                | 2/1000 [00:00<05:00,  3.32it/s]\n"
     ]
    },
    {
     "ename": "KeyboardInterrupt",
     "evalue": "",
     "output_type": "error",
     "traceback": [
      "\u001b[1;31m---------------------------------------------------------------------------\u001b[0m",
      "\u001b[1;31mKeyboardInterrupt\u001b[0m                         Traceback (most recent call last)",
      "Cell \u001b[1;32mIn[5], line 12\u001b[0m\n\u001b[0;32m      9\u001b[0m target_classes \u001b[38;5;241m=\u001b[39m [\u001b[38;5;241m292\u001b[39m, \u001b[38;5;241m483\u001b[39m, \u001b[38;5;241m951\u001b[39m]\n\u001b[0;32m     11\u001b[0m \u001b[38;5;66;03m# generate prototypes\u001b[39;00m\n\u001b[1;32m---> 12\u001b[0m results_df, results_dict \u001b[38;5;241m=\u001b[39m \u001b[43mengine\u001b[49m\u001b[38;5;241;43m.\u001b[39;49m\u001b[43mgenerate\u001b[49m\u001b[43m(\u001b[49m\u001b[43mproject_name\u001b[49m\u001b[38;5;241;43m=\u001b[39;49m\u001b[38;5;124;43m\"\u001b[39;49m\u001b[38;5;124;43mresnet18\u001b[39;49m\u001b[38;5;124;43m\"\u001b[39;49m\u001b[43m,\u001b[49m\u001b[43m \u001b[49m\u001b[43mmodel\u001b[49m\u001b[38;5;241;43m=\u001b[39;49m\u001b[43mmodel\u001b[49m\u001b[43m,\u001b[49m\u001b[43m \u001b[49m\u001b[43mclass_list\u001b[49m\u001b[38;5;241;43m=\u001b[39;49m\u001b[43mclass_list\u001b[49m\u001b[43m,\u001b[49m\u001b[43m \u001b[49m\u001b[43mconfig\u001b[49m\u001b[38;5;241;43m=\u001b[39;49m\u001b[43mconfig\u001b[49m\u001b[43m,\u001b[49m\n\u001b[0;32m     13\u001b[0m \u001b[43m                             \u001b[49m\u001b[43mtarget_classes\u001b[49m\u001b[38;5;241;43m=\u001b[39;49m\u001b[43mtarget_classes\u001b[49m\u001b[43m,\u001b[49m\u001b[43m \u001b[49m\u001b[43mpreprocessing\u001b[49m\u001b[38;5;241;43m=\u001b[39;49m\u001b[43mpreprocessing_fn\u001b[49m\u001b[43m)\u001b[49m\n\u001b[0;32m     16\u001b[0m \u001b[38;5;66;03m# Head to https://app.leap-labs.com/ to explore your prototypes!\u001b[39;00m\n\u001b[0;32m     17\u001b[0m engine\u001b[38;5;241m.\u001b[39mdisplay_df(results_df)\n",
      "File \u001b[1;32mleap_ie\\\\vision\\\\engine.py:252\u001b[0m, in \u001b[0;36mleap_ie.vision.engine.generate\u001b[1;34m()\u001b[0m\n",
      "File \u001b[1;32mleap_ie\\\\vision\\\\generation.py:118\u001b[0m, in \u001b[0;36mleap_ie.vision.generation.generator\u001b[1;34m()\u001b[0m\n",
      "File \u001b[1;32mleap_ie\\\\vision\\\\transforms.py:157\u001b[0m, in \u001b[0;36mleap_ie.vision.transforms.compose.inner\u001b[1;34m()\u001b[0m\n",
      "File \u001b[1;32mleap_ie\\\\vision\\\\transforms.py:62\u001b[0m, in \u001b[0;36mleap_ie.vision.transforms.random_crop.inner\u001b[1;34m()\u001b[0m\n",
      "File \u001b[1;32m~\\.conda\\envs\\feta\\Lib\\site-packages\\torch\\nn\\modules\\module.py:1507\u001b[0m, in \u001b[0;36mModule._wrapped_call_impl\u001b[1;34m(self, *args, **kwargs)\u001b[0m\n\u001b[0;32m   1504\u001b[0m             tracing_state\u001b[38;5;241m.\u001b[39mpop_scope()\n\u001b[0;32m   1505\u001b[0m     \u001b[38;5;28;01mreturn\u001b[39;00m result\n\u001b[1;32m-> 1507\u001b[0m \u001b[38;5;28;01mdef\u001b[39;00m \u001b[38;5;21m_wrapped_call_impl\u001b[39m(\u001b[38;5;28mself\u001b[39m, \u001b[38;5;241m*\u001b[39margs, \u001b[38;5;241m*\u001b[39m\u001b[38;5;241m*\u001b[39mkwargs):\n\u001b[0;32m   1508\u001b[0m     \u001b[38;5;28;01mif\u001b[39;00m \u001b[38;5;28mself\u001b[39m\u001b[38;5;241m.\u001b[39m_compiled_call_impl \u001b[38;5;129;01mis\u001b[39;00m \u001b[38;5;129;01mnot\u001b[39;00m \u001b[38;5;28;01mNone\u001b[39;00m:\n\u001b[0;32m   1509\u001b[0m         \u001b[38;5;28;01mreturn\u001b[39;00m \u001b[38;5;28mself\u001b[39m\u001b[38;5;241m.\u001b[39m_compiled_call_impl(\u001b[38;5;241m*\u001b[39margs, \u001b[38;5;241m*\u001b[39m\u001b[38;5;241m*\u001b[39mkwargs)  \u001b[38;5;66;03m# type: ignore[misc]\u001b[39;00m\n",
      "\u001b[1;31mKeyboardInterrupt\u001b[0m: "
     ]
    }
   ],
   "source": [
    "\n",
    "# Replace this model with your own, or explore any imagenet classifier from torchvision (https://pytorch.org/vision/main/models.html#classification).\n",
    "preprocessing_fn, model, class_list = get_model('resnet18', source='torchvision')\n",
    "\n",
    "#print(preprocessing_fn)\n",
    "#print(model)\n",
    "#print(class_list)\n",
    "\n",
    "# indexes of classes to generate prototypes for.\n",
    "target_classes = [292, 483, 951]\n",
    "\n",
    "# generate prototypes\n",
    "results_df, results_dict = engine.generate(project_name=\"resnet18\", model=model, class_list=class_list, config=config,\n",
    "                             target_classes=target_classes, preprocessing=preprocessing_fn)\n",
    "\n",
    "\n",
    "# Head to https://app.leap-labs.com/ to explore your prototypes!\n",
    "engine.display_df(results_df)\n"
   ]
  },
  {
   "cell_type": "code",
   "execution_count": null,
   "id": "ca3fdd93-7707-47c9-9c33-2da9d2b6fe06",
   "metadata": {},
   "outputs": [],
   "source": [
    "\n",
    "#Let's turn on isolation, to see which features are most important.\n",
    "config[\"isolation\"] = True\n",
    "\n",
    "# indexes of classes to generate prototypes for.\n",
    "target_classes = [951]\n",
    "\n",
    "# generate prototypes\n",
    "results_df, results_dict = engine.generate(project_name=\"resnet18\", model=model, class_list=class_list, config=config,\n",
    "                             target_classes=target_classes, preprocessing=preprocessing_fn)\n",
    "\n",
    "#Head to https://app.leap-labs.com/ to explore your prototypes and feature isolations!\n",
    "engine.display_df(results_df)"
   ]
  }
 ],
 "metadata": {
  "kernelspec": {
   "display_name": "Python 3 (ipykernel)",
   "language": "python",
   "name": "python3"
  },
  "language_info": {
   "codemirror_mode": {
    "name": "ipython",
    "version": 3
   },
   "file_extension": ".py",
   "mimetype": "text/x-python",
   "name": "python",
   "nbconvert_exporter": "python",
   "pygments_lexer": "ipython3",
   "version": "3.12.1"
  }
 },
 "nbformat": 4,
 "nbformat_minor": 5
}
