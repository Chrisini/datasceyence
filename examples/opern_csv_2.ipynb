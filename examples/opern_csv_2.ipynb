{
 "cells": [
  {
   "cell_type": "code",
   "execution_count": 6,
   "id": "3b46823c-5ffb-4ecb-923d-7fc05f1efb30",
   "metadata": {},
   "outputs": [],
   "source": [
    "import pandas as pd\n",
    "\n",
    "data = pd.read_csv(r\"E:\\Christina\\MIL_Data\\octa_whole_octa500_6_faz_unknown\\labels\\text_labels.csv\", delimiter=';')"
   ]
  },
  {
   "cell_type": "code",
   "execution_count": 8,
   "id": "47490e31-e2ed-489f-a577-01c5532bff4d",
   "metadata": {},
   "outputs": [
    {
     "data": {
      "text/plain": [
       "array(['NORMAL', 'OTHERS', 'AMD', 'DR', 'CNV', 'RVO', 'CSC'], dtype=object)"
      ]
     },
     "execution_count": 8,
     "metadata": {},
     "output_type": "execute_result"
    }
   ],
   "source": [
    "data['Disease'].unique()"
   ]
  },
  {
   "cell_type": "code",
   "execution_count": 9,
   "id": "052bae84-f074-4d9e-a944-4c60f2f3aec9",
   "metadata": {},
   "outputs": [
    {
     "data": {
      "text/plain": [
       "<bound method DataFrame.info of         ID Sex OS/OD  Age Disease  Unnamed: 5\n",
       "0    10001   M    OD   55  NORMAL         NaN\n",
       "1    10002   F    OD   37  OTHERS         NaN\n",
       "2    10003   M    OS   57  OTHERS         NaN\n",
       "3    10004   M    OD   53     AMD         NaN\n",
       "4    10005   M    OS   27      DR         NaN\n",
       "..     ...  ..   ...  ...     ...         ...\n",
       "295  10296   F    OD   23  OTHERS         NaN\n",
       "296  10297   M    OD   48      DR         NaN\n",
       "297  10298   M    OS   54  OTHERS         NaN\n",
       "298  10299   M    OD   62     RVO         NaN\n",
       "299  10300   M    OD   59      DR         NaN\n",
       "\n",
       "[300 rows x 6 columns]>"
      ]
     },
     "execution_count": 9,
     "metadata": {},
     "output_type": "execute_result"
    }
   ],
   "source": [
    "data.info"
   ]
  },
  {
   "cell_type": "code",
   "execution_count": 12,
   "id": "e0fb322f-a68f-46ea-8588-5f2adfacae76",
   "metadata": {},
   "outputs": [
    {
     "data": {
      "text/plain": [
       "OTHERS    96\n",
       "NORMAL    91\n",
       "AMD       43\n",
       "DR        35\n",
       "CSC       14\n",
       "CNV       11\n",
       "RVO       10\n",
       "Name: Disease, dtype: int64"
      ]
     },
     "execution_count": 12,
     "metadata": {},
     "output_type": "execute_result"
    }
   ],
   "source": [
    "data['Disease'].value_counts()"
   ]
  },
  {
   "cell_type": "code",
   "execution_count": null,
   "id": "0c76ae44-0b08-4b5c-85f4-9347c8cc3245",
   "metadata": {},
   "outputs": [],
   "source": []
  }
 ],
 "metadata": {
  "kernelspec": {
   "display_name": "Python 3 (ipykernel)",
   "language": "python",
   "name": "python3"
  },
  "language_info": {
   "codemirror_mode": {
    "name": "ipython",
    "version": 3
   },
   "file_extension": ".py",
   "mimetype": "text/x-python",
   "name": "python",
   "nbconvert_exporter": "python",
   "pygments_lexer": "ipython3",
   "version": "3.9.18"
  }
 },
 "nbformat": 4,
 "nbformat_minor": 5
}
