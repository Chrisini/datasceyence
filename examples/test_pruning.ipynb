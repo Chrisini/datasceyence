{
 "cells": [
  {
   "cell_type": "markdown",
   "id": "d5267b66-291b-4292-9dd3-d454925cbcd2",
   "metadata": {},
   "source": [
    "# Pruning"
   ]
  },
  {
   "cell_type": "code",
   "execution_count": 253,
   "id": "78aa12ab-b8f3-429d-a10c-4e8c088952c3",
   "metadata": {},
   "outputs": [
    {
     "name": "stdout",
     "output_type": "stream",
     "text": [
      "['../helper', './helper', '/helper', 'helper', 'C:\\\\Users\\\\Prinzessin\\\\projects\\\\decentnet\\\\datasceyence\\\\examples', 'C:\\\\Users\\\\Prinzessin\\\\anaconda3\\\\envs\\\\feta\\\\python39.zip', 'C:\\\\Users\\\\Prinzessin\\\\anaconda3\\\\envs\\\\feta\\\\DLLs', 'C:\\\\Users\\\\Prinzessin\\\\anaconda3\\\\envs\\\\feta\\\\lib', 'C:\\\\Users\\\\Prinzessin\\\\anaconda3\\\\envs\\\\feta', '', 'C:\\\\Users\\\\Prinzessin\\\\anaconda3\\\\envs\\\\feta\\\\lib\\\\site-packages', 'C:\\\\Users\\\\Prinzessin\\\\anaconda3\\\\envs\\\\feta\\\\lib\\\\site-packages\\\\win32', 'C:\\\\Users\\\\Prinzessin\\\\anaconda3\\\\envs\\\\feta\\\\lib\\\\site-packages\\\\win32\\\\lib', 'C:\\\\Users\\\\Prinzessin\\\\anaconda3\\\\envs\\\\feta\\\\lib\\\\site-packages\\\\Pythonwin', 'C:\\\\Users\\\\Prinzessin\\\\anaconda3\\\\envs\\\\feta\\\\lib\\\\site-packages\\\\IPython\\\\extensions', 'C:\\\\Users\\\\Prinzessin\\\\.ipython']\n"
     ]
    }
   ],
   "source": [
    "import torch.nn.utils.prune as prune\n",
    "import torch\n",
    "import torchvision.transforms\n",
    "from torchvision import datasets, transforms\n",
    "from torch import nn\n",
    "from typing import Optional, List, Tuple, Union\n",
    "\n",
    "from __future__ import print_function\n",
    "\n",
    "import torch\n",
    "import torch.nn as nn\n",
    "import torch.nn.functional as F\n",
    "import torch.optim as optim\n",
    "from torchvision import datasets, transforms\n",
    "from torch.optim.lr_scheduler import StepLR\n",
    "\n",
    "import math\n",
    "import warnings\n",
    "\n",
    "import torch\n",
    "from torch import Tensor\n",
    "from torch.nn.parameter import Parameter, UninitializedParameter\n",
    "from torch.nn import functional as F\n",
    "from torch.nn import init\n",
    "from torch.nn.modules.module import Module\n",
    "from torch.nn.modules.utils import _single, _pair, _triple, _reverse_repeat_tuple\n",
    "from torch._torch_docs import reproducibility_notes\n",
    "\n",
    "from torch.nn.common_types import _size_1_t, _size_2_t, _size_3_t\n",
    "from typing import Optional, List, Tuple, Union\n",
    "\n",
    "import sys\n",
    "sys.path.insert(0, \"helper\")\n",
    "sys.path.insert(0, \"/helper\")\n",
    "sys.path.insert(0, \"./helper\")\n",
    "sys.path.insert(0, \"../helper\")\n",
    "print(sys.path)\n",
    "\n",
    "# own module\n",
    "from visualisation.feature_map import *\n",
    "\n",
    "import random\n",
    "\n",
    "\n",
    "mode = \"l1\""
   ]
  },
  {
   "cell_type": "code",
   "execution_count": 262,
   "id": "b9e16b51-652b-4fd5-acf4-8100fabead90",
   "metadata": {},
   "outputs": [],
   "source": [
    "class _ConvNd(torch.nn.Module):\n",
    "\n",
    "    __constants__ = ['stride', 'padding', 'dilation', 'groups',\n",
    "                     'padding_mode', 'output_padding', 'in_channels',\n",
    "                     'out_channels', 'kernel_size']\n",
    "    __annotations__ = {'bias': Optional[torch.Tensor]}\n",
    "\n",
    "    def _conv_forward(self, input: Tensor, weight: Tensor, bias: Optional[Tensor]) -> Tensor:\n",
    "        ...\n",
    "\n",
    "    in_channels: int\n",
    "    _reversed_padding_repeated_twice: List[int]\n",
    "    out_channels: int\n",
    "    kernel_size: Tuple[int, ...]\n",
    "    stride: Tuple[int, ...]\n",
    "    padding: Union[str, Tuple[int, ...]]\n",
    "    dilation: Tuple[int, ...]\n",
    "    transposed: bool\n",
    "    output_padding: Tuple[int, ...]\n",
    "    groups: int\n",
    "    padding_mode: str\n",
    "    weight: Tensor\n",
    "    bias: Optional[Tensor]\n",
    "\n",
    "    def __init__(self,\n",
    "                 in_channels: int,\n",
    "                 out_channels: int,\n",
    "                 kernel_size: Tuple[int, ...],\n",
    "                 stride: Tuple[int, ...],\n",
    "                 padding: Tuple[int, ...],\n",
    "                 dilation: Tuple[int, ...],\n",
    "                 transposed: bool,\n",
    "                 output_padding: Tuple[int, ...],\n",
    "                 groups: int,\n",
    "                 bias: bool,\n",
    "                 padding_mode: str,\n",
    "                 device=None,\n",
    "                 dtype=None) -> None:\n",
    "        factory_kwargs = {'device': device, 'dtype': dtype}\n",
    "        print(factory_kwargs)\n",
    "        super().__init__()\n",
    "        if groups <= 0:\n",
    "            raise ValueError('groups must be a positive integer')\n",
    "        if in_channels % groups != 0:\n",
    "            raise ValueError('in_channels must be divisible by groups')\n",
    "        if out_channels % groups != 0:\n",
    "            raise ValueError('out_channels must be divisible by groups')\n",
    "        valid_padding_strings = {'same', 'valid'}\n",
    "        if isinstance(padding, str):\n",
    "            if padding not in valid_padding_strings:\n",
    "                raise ValueError(\n",
    "                    \"Invalid padding string {!r}, should be one of {}\".format(\n",
    "                        padding, valid_padding_strings))\n",
    "            if padding == 'same' and any(s != 1 for s in stride):\n",
    "                raise ValueError(\"padding='same' is not supported for strided convolutions\")\n",
    "\n",
    "        valid_padding_modes = {'zeros', 'reflect', 'replicate', 'circular'}\n",
    "        if padding_mode not in valid_padding_modes:\n",
    "            raise ValueError(\"padding_mode must be one of {}, but got padding_mode='{}'\".format(\n",
    "                valid_padding_modes, padding_mode))\n",
    "        self.in_channels = in_channels\n",
    "        self.out_channels = out_channels\n",
    "        self.kernel_size = kernel_size\n",
    "        self.stride = stride\n",
    "        self.padding = padding\n",
    "        self.dilation = dilation\n",
    "        self.transposed = transposed\n",
    "        self.output_padding = output_padding\n",
    "        self.groups = groups\n",
    "        self.padding_mode = padding_mode\n",
    "        # `_reversed_padding_repeated_twice` is the padding to be passed to\n",
    "        # `F.pad` if needed (e.g., for non-zero padding types that are\n",
    "        # implemented as two ops: padding + conv). `F.pad` accepts paddings in\n",
    "        # reverse order than the dimension.\n",
    "        if isinstance(self.padding, str):\n",
    "            self._reversed_padding_repeated_twice = [0, 0] * len(kernel_size)\n",
    "            if padding == 'same':\n",
    "                for d, k, i in zip(dilation, kernel_size,\n",
    "                                   range(len(kernel_size) - 1, -1, -1)):\n",
    "                    total_padding = d * (k - 1)\n",
    "                    left_pad = total_padding // 2\n",
    "                    self._reversed_padding_repeated_twice[2 * i] = left_pad\n",
    "                    self._reversed_padding_repeated_twice[2 * i + 1] = (\n",
    "                        total_padding - left_pad)\n",
    "        else:\n",
    "            self._reversed_padding_repeated_twice = _reverse_repeat_tuple(self.padding, 2)\n",
    "\n",
    "        if transposed:\n",
    "            self.weight = Parameter(torch.empty(\n",
    "                (in_channels, out_channels // groups, *kernel_size), **factory_kwargs))\n",
    "            self.importance = Parameter(torch.empty(\n",
    "                (in_channels, out_channels // groups), **factory_kwargs))\n",
    "            \n",
    "        else:\n",
    "            self.weight = Parameter(torch.empty(\n",
    "                (out_channels, in_channels // groups, *kernel_size), **factory_kwargs))\n",
    "            self.importance = Parameter(torch.empty(\n",
    "                (out_channels, in_channels // groups), **factory_kwargs))\n",
    "            \n",
    "        if bias:\n",
    "            self.bias = Parameter(torch.empty(out_channels, **factory_kwargs))\n",
    "        else:\n",
    "            self.register_parameter('bias', None)\n",
    "\n",
    "        self.reset_parameters()\n",
    "\n",
    "\n",
    "class CustomConv2d(_ConvNd):\n",
    "    \n",
    "    # additionally needed\n",
    "    \"\"\"\n",
    "    \n",
    "    position\n",
    "    activated channels\n",
    "    connection between channels\n",
    "    \n",
    "    \"\"\"\n",
    "\n",
    "    def __init__(\n",
    "        self,\n",
    "        in_channels: int,\n",
    "        out_channels: int,\n",
    "        kernel_size: _size_2_t,\n",
    "        stride: _size_2_t = 1,\n",
    "        padding: Union[str, _size_2_t] = 0,\n",
    "        dilation: _size_2_t = 1,\n",
    "        groups: int = 1,\n",
    "        bias: bool = True,\n",
    "        padding_mode: str = 'zeros',  # TODO: refine this type\n",
    "        device=None,\n",
    "        dtype=None\n",
    "    ) -> None:\n",
    "        factory_kwargs = {'device': device, 'dtype': dtype}\n",
    "        kernel_size_ = _pair(kernel_size)\n",
    "        stride_ = _pair(stride)\n",
    "        padding_ = padding if isinstance(padding, str) else _pair(padding)\n",
    "        dilation_ = _pair(dilation)\n",
    "        super().__init__(\n",
    "            in_channels, out_channels, kernel_size_, stride_, padding_, dilation_,\n",
    "            False, _pair(0), groups, bias, padding_mode, **factory_kwargs)\n",
    "        \n",
    "        # this layer id\n",
    "        layer_id = 0\n",
    "        \n",
    "        # within this layer, a whole filter can be deactivated\n",
    "        # within a filter, single channels can be deactivated\n",
    "        # within this layer, filters can be swapped\n",
    "\n",
    "    def reset_parameters(self) -> None:\n",
    "        # Setting a=sqrt(5) in kaiming_uniform is the same as initializing with\n",
    "        # uniform(-1/sqrt(k), 1/sqrt(k)), where k = weight.size(1) * prod(*kernel_size)\n",
    "        # For more details see: https://github.com/pytorch/pytorch/issues/15314#issuecomment-477448573\n",
    "        init.kaiming_uniform_(self.weight, a=math.sqrt(5))\n",
    "        if self.bias is not None:\n",
    "            fan_in, _ = init._calculate_fan_in_and_fan_out(self.weight)\n",
    "            if fan_in != 0:\n",
    "                bound = 1 / math.sqrt(fan_in)\n",
    "                init.uniform_(self.bias, -bound, bound)\n",
    "\n",
    "    def extra_repr(self):\n",
    "        s = ('{in_channels}, {out_channels}, kernel_size={kernel_size}'\n",
    "             ', stride={stride}')\n",
    "        if self.padding != (0,) * len(self.padding):\n",
    "            s += ', padding={padding}'\n",
    "        if self.dilation != (1,) * len(self.dilation):\n",
    "            s += ', dilation={dilation}'\n",
    "        if self.output_padding != (0,) * len(self.output_padding):\n",
    "            s += ', output_padding={output_padding}'\n",
    "        if self.groups != 1:\n",
    "            s += ', groups={groups}'\n",
    "        if self.bias is None:\n",
    "            s += ', bias=False'\n",
    "        if self.padding_mode != 'zeros':\n",
    "            s += ', padding_mode={padding_mode}'\n",
    "        return s.format(**self.__dict__)\n",
    "\n",
    "    def __setstate__(self, state):\n",
    "        super().__setstate__(state)\n",
    "        if not hasattr(self, 'padding_mode'):\n",
    "            self.padding_mode = 'zeros'\n",
    "\n",
    "    def _conv_forward(self, input: Tensor, weight: Tensor, bias: Optional[Tensor]):\n",
    "        if self.padding_mode != 'zeros':\n",
    "            return F.conv2d(F.pad(input, self._reversed_padding_repeated_twice, mode=self.padding_mode),\n",
    "                            weight, bias, self.stride,\n",
    "                            _pair(0), self.dilation, self.groups)\n",
    "        \n",
    "        # this is written in c++ - try not to change ...\n",
    "        return F.conv2d(input, weight, bias, self.stride,\n",
    "                        self.padding, self.dilation, self.groups)\n",
    "\n",
    "    def forward(self, input: Tensor) -> Tensor:\n",
    "        return self._conv_forward(input, self.weight, self.bias)\n",
    "\n"
   ]
  },
  {
   "cell_type": "code",
   "execution_count": 263,
   "id": "1a96c3fb-8653-47ae-a1bd-b7ff856ff5e6",
   "metadata": {},
   "outputs": [],
   "source": [
    "class Net(nn.Module):\n",
    "    def __init__(self):\n",
    "        super(Net, self).__init__()\n",
    "        self.conv1 = CustomConv2d(1, 32, kernel_size=3, stride=1, padding=0, dilation=3)\n",
    "        self.conv2 = CustomConv2d(32, 64, kernel_size=3, stride=1, padding=0, dilation=3)\n",
    "        self.conv3 = CustomConv2d(64, 128, kernel_size=3, stride=1, padding=0, dilation=3)\n",
    "        self.conv1x1 = CustomConv2d(128, 10, kernel_size=1, stride=1, padding=0, dilation=1)\n",
    "        \n",
    "        self.K = 100 \n",
    "        self.L = 10 # last one\n",
    "        self.num_of_bases = 1 # 3rd dim\n",
    "        \n",
    "        if False:\n",
    "            self.conv1 = Conv2d(1, 32, kernel_size=3, stride=1, padding=0, dilation=3)\n",
    "            self.conv2 = Conv2d(32, 64, kernel_size=3, stride=1, padding=0, dilation=3)\n",
    "            self.conv3 = Conv2d(64, 128, kernel_size=3, stride=1, padding=0, dilation=3)\n",
    "            self.conv1x1 = Conv2d(128, 10, kernel_size=1, stride=1, padding=0, dilation=1)\n",
    "        #self.dropout1 = nn.Dropout(0.25)\n",
    "        #self.dropout2 = nn.Dropout(0.5)\n",
    "        # 4x16384\n",
    "        # self.fc1 = nn.Linear(10*10*10, 10)\n",
    "        #self.fc2 = nn.Linear(10, 10)\n",
    "        \n",
    "        #self.flat = nn.Flatten()\n",
    "        \n",
    "        self.fc3 = nn.Linear(10, 10)\n",
    "        \n",
    "        self.mish1 = torch.nn.Mish()\n",
    "        self.mish2 = torch.nn.Mish()\n",
    "        self.mish3 = torch.nn.Mish()\n",
    "        self.mish1x1 = torch.nn.Mish()\n",
    "        \n",
    "        #self.sub_concept_pooling = nn.modules.MaxPool2d((self.K, 1), stride=(1,1))\n",
    "        #self.instance_pooling = nn.modules.MaxPool2d((opt.num_of_bases, 1), stride=(1,1))\n",
    "        \n",
    "        self.flat = nn.Flatten()\n",
    "        \n",
    "        self.sigmoid = nn.Sigmoid()\n",
    "\n",
    "    def forward(self, x):\n",
    "        \n",
    "        x = self.conv1(x)\n",
    "        x = self.mish1(x)\n",
    "        \n",
    "        x = self.conv2(x)\n",
    "        x = self.mish2(x)\n",
    "        \n",
    "        x = self.conv3(x)\n",
    "        x = self.mish3(x)\n",
    "        \n",
    "        x = self.conv1x1(x)\n",
    "        x = self.mish1x1(x)\n",
    "        \n",
    "        # print(x.shape)\n",
    "        \n",
    "        #x = F.max_pool2d(x, 2)\n",
    "        #x = self.dropout1(x)\n",
    "        \n",
    "        #print(x.size())\n",
    "        #print(x.size()[2:])\n",
    "        \n",
    "        x = F.avg_pool2d(x, kernel_size=x.size()[2:])\n",
    "        \n",
    "        x = x.reshape(x.size(0), -1)\n",
    "        x = self.fc3(x)\n",
    "        \n",
    "        # x = self.flat(x)\n",
    "        \n",
    "        #x = self.fc2(x)\n",
    "        \n",
    "        \n",
    "        #x = x.view(-1, self.L, self.K, 10)\n",
    "        \n",
    "        # input, kernel_size, stride, padding, dilation, ceil_mode\n",
    "        #x = self.sub_concept_pooling(x).view(-1, self.L, self.num_of_bases).permute(0,2,1).unsqueeze(1)\n",
    "        \n",
    "        # output = F.sigmoid(x)\n",
    "        # x = x.reshape(x.size(0), -1)\n",
    "        \n",
    "        #x = torch.flatten(x, 1)\n",
    "        # x = self.fc1(x)\n",
    "        #x = F.relu(x)\n",
    "        \n",
    "        #x = self.dropout2(x)\n",
    "        #x = self.fc2(x)\n",
    "        #output = F.log_softmax(x, dim=1)\n",
    "        \n",
    "        x = self.sigmoid(x)\n",
    "        \n",
    "        return x\n",
    "\n",
    "\n",
    "\n"
   ]
  },
  {
   "cell_type": "code",
   "execution_count": 269,
   "id": "4e28a308-6510-412a-9df9-bdad33b211f5",
   "metadata": {},
   "outputs": [],
   "source": [
    "def train(args, model, device, train_loader, optimizer, epoch):\n",
    "    model.train()\n",
    "    for batch_idx, (data, target) in enumerate(train_loader):\n",
    "        \n",
    "        \n",
    "        \n",
    "        data, target = data.to(device), target.unsqueeze(1) # .to(device)\n",
    "        optimizer.zero_grad()\n",
    "        output = model(data)\n",
    "        \n",
    "        target_multi_hot = torch.zeros(target.size(0), 10).scatter_(1, target, 1.).to(device)\n",
    "        \n",
    "        if batch_idx == -1:\n",
    "            print(data.shape) # torch.Size([4, 1, 28, 28])\n",
    "            print(target)\n",
    "            \"\"\"\n",
    "            tensor([[8],\n",
    "            [7],\n",
    "            [2],\n",
    "            [7]])\n",
    "            \"\"\"\n",
    "            print(target_multi_hot)\n",
    "            \"\"\"\n",
    "            tensor([[0., 0., 0., 0., 0., 0., 0., 0., 1., 0.],\n",
    "            [0., 0., 0., 0., 0., 0., 0., 1., 0., 0.],\n",
    "            [0., 0., 1., 0., 0., 0., 0., 0., 0., 0.],\n",
    "            [0., 0., 0., 0., 0., 0., 0., 1., 0., 0.]], device='cuda:0')\n",
    "            \"\"\"\n",
    "        \n",
    "        loss = F.binary_cross_entropy(output, target_multi_hot)\n",
    "        loss.backward()\n",
    "        optimizer.step()\n",
    "        if batch_idx % (args.log_interval*1000) == 0:\n",
    "            print('Train Epoch: {} [{}/{} ({:.0f}%)]\\tLoss: {:.6f}'.format(\n",
    "                epoch, batch_idx * len(data), len(train_loader.dataset),\n",
    "                100. * batch_idx / len(train_loader), loss.item()))\n",
    "            \n",
    "\n",
    "\n",
    "def test(args, model, device, test_loader, epoch):\n",
    "    model.eval()\n",
    "    test_loss = 0\n",
    "    correct = 0\n",
    "    with torch.no_grad():\n",
    "        for i, (data, target) in enumerate(test_loader):\n",
    "            data, target = data.to(device), target.unsqueeze(1) # .to(device)\n",
    "            \n",
    "            output = model(data)\n",
    "            \n",
    "            target_multi_hot = torch.zeros(target.size(0), 10).scatter_(1, target, 1.).to(device)\n",
    "            test_loss += F.binary_cross_entropy(output, target_multi_hot, reduction='mean').item()\n",
    "        \n",
    "            # test_loss += F.nll_loss(output, target, reduction='sum').item()  # sum up batch loss\n",
    "            pred = output.argmax(dim=1, keepdim=True)  # get the index of the max log-probability\n",
    "            correct += pred.eq(target.to(device).view_as(pred)).sum().item()\n",
    "            \n",
    "            \"\"\"\n",
    "            if i == 0 and epoch % args.log_interval == 0:\n",
    "            # if False: # i == 0:\n",
    "                print(data.shape)\n",
    "                layer = model.conv1x1 # model.conv1[0] # model.stage2[0].branch1[2] # model.fusion_layer # conv\n",
    "                # run feature map\n",
    "                dd = FeatureMap(model=model, layer=layer, device=device, iterations=None, lr=None)\n",
    "                dd.run(data)\n",
    "                dd.plot(path=f\"example_results/feature_map_{epoch}.png\")\n",
    "                \"\"\"\n",
    "\n",
    "    test_loss /= len(test_loader.dataset)\n",
    "\n",
    "    print('\\nTest set: Average loss: {:.4f}, Accuracy: {}/{} ({:.0f}%)\\n'.format(\n",
    "        test_loss, correct, len(test_loader.dataset),\n",
    "        100. * correct / len(test_loader.dataset)))\n",
    "\n",
    "class Parser():\n",
    "    def __init__(self):\n",
    "        self.batch_size = 128\n",
    "        self.test_batch_size = 1\n",
    "        self.epochs = 100\n",
    "        self.lr = 0.1\n",
    "        self.gamma = 0.7\n",
    "        self.log_interval = 5\n",
    "        self.save_model = True\n",
    "        \n",
    "\n",
    "def main_train():\n",
    "    # Training settings\n",
    "    args = Parser()\n",
    "    \n",
    "    if True:\n",
    "        device = torch.device(\"cuda\")\n",
    "    else:\n",
    "        device = torch.device(\"cpu\")\n",
    "\n",
    "    train_kwargs = {'batch_size': args.batch_size}\n",
    "    test_kwargs = {'batch_size': args.test_batch_size}\n",
    "    if device == torch.device(\"cuda\"):\n",
    "        cuda_kwargs = {'num_workers': 1,\n",
    "                       'pin_memory': True,\n",
    "                       'shuffle': True}\n",
    "        train_kwargs.update(cuda_kwargs)\n",
    "        test_kwargs.update(cuda_kwargs)\n",
    "\n",
    "    transform=torchvision.transforms.Compose([\n",
    "        torchvision.transforms.ToTensor(),\n",
    "        torchvision.transforms.Normalize((0.1307,), (0.3081,))\n",
    "        ])\n",
    "    dataset1 = datasets.MNIST('example_data', train=True, download=True,\n",
    "                       transform=transform)\n",
    "    dataset2 = datasets.MNIST('example_data', train=False,\n",
    "                       transform=transform)\n",
    "    train_loader = torch.utils.data.DataLoader(dataset1,**train_kwargs)\n",
    "    test_loader = torch.utils.data.DataLoader(dataset2, **test_kwargs)\n",
    "\n",
    "    model = Net().to(device)\n",
    "    optimizer = optim.SGD(model.parameters(), lr=args.lr)\n",
    "\n",
    "    #scheduler = StepLR(optimizer, step_size=1, gamma=args.gamma)\n",
    "    for epoch in range(1, args.epochs + 1):\n",
    "        train(args, model, device, train_loader, optimizer, epoch)\n",
    "        test(args, model, device, test_loader, epoch)\n",
    "        #scheduler.step()\n",
    "        \n",
    "        \n",
    "        if args.save_model and epoch % args.log_interval == 0:\n",
    "            torch.save(model.state_dict(), f\"example_results/mnist_cnn_{epoch}.ckpt\")\n",
    "\n",
    "\n",
    "def main_test():\n",
    "    # Training settings\n",
    "    args = Parser()\n",
    "    \n",
    "    if True:\n",
    "        device = torch.device(\"cuda\")\n",
    "    else:\n",
    "        device = torch.device(\"cpu\")\n",
    "\n",
    "    test_kwargs = {'batch_size': args.test_batch_size}\n",
    "    if device == torch.device(\"cuda\"):\n",
    "        cuda_kwargs = {'num_workers': 1,\n",
    "                       'pin_memory': True,\n",
    "                       'shuffle': True}\n",
    "        test_kwargs.update(cuda_kwargs)\n",
    "\n",
    "    transform=torchvision.transforms.Compose([\n",
    "        torchvision.transforms.ToTensor(),\n",
    "        torchvision.transforms.Normalize((0.1307,), (0.3081,))\n",
    "        ])\n",
    "    dataset2 = datasets.MNIST('example_data', train=False,\n",
    "                       transform=transform)\n",
    "    test_loader = torch.utils.data.DataLoader(dataset2, **test_kwargs)\n",
    "\n",
    "    model = Net().to(device)\n",
    "\n",
    "    if True:\n",
    "        model.load_state_dict(torch.load(\"example_results/mnist_cnn_5.ckpt\"))\n",
    "    else:\n",
    "        model.load_state_dict(torch.load(\"example_results/pruned_model.ckpt\"))\n",
    "    \n",
    "\n",
    "    # model = torch.load(model.state_dict(), \"example_results/mnist_cnn_30.ckpt\")\n",
    "    #est(args, model, device, test_loader, 0)\n",
    "    \n",
    "    return model\n",
    "        \n",
    "    \n",
    "            \n"
   ]
  },
  {
   "cell_type": "code",
   "execution_count": 270,
   "id": "225c9223-c100-4fe1-aad9-fcd64b422ef4",
   "metadata": {},
   "outputs": [
    {
     "name": "stdout",
     "output_type": "stream",
     "text": [
      "{'device': None, 'dtype': None}\n",
      "{'device': None, 'dtype': None}\n",
      "{'device': None, 'dtype': None}\n",
      "{'device': None, 'dtype': None}\n"
     ]
    }
   ],
   "source": [
    "model_to_prune = main_test()"
   ]
  },
  {
   "cell_type": "code",
   "execution_count": 271,
   "id": "84ed9226-1b19-49eb-b784-e951eed0c88c",
   "metadata": {},
   "outputs": [],
   "source": [
    "if mode == \"l1\":\n",
    "    prune.l1_unstructured(model_to_prune.conv2, name=\"weight\", amount=0.7)"
   ]
  },
  {
   "cell_type": "code",
   "execution_count": 272,
   "id": "5a683125-a4ab-418b-b121-ca64683d61b9",
   "metadata": {},
   "outputs": [],
   "source": [
    "if mode == \"random\":\n",
    "    prune.random_unstructured(model_to_prune.conv2, name=\"weight\", amount=0.7)"
   ]
  },
  {
   "cell_type": "code",
   "execution_count": 273,
   "id": "5c12e9df-a2f0-4d7c-a458-9a991e0a7275",
   "metadata": {},
   "outputs": [
    {
     "name": "stdout",
     "output_type": "stream",
     "text": [
      "OrderedDict([(0, <torch.nn.utils.prune.L1Unstructured object at 0x00000211B4F731F0>)])\n"
     ]
    }
   ],
   "source": [
    "print(model_to_prune.conv2._forward_pre_hooks)"
   ]
  },
  {
   "cell_type": "code",
   "execution_count": 274,
   "id": "ad1a4592-f6d1-4144-a8dc-799b40d52aa4",
   "metadata": {},
   "outputs": [
    {
     "data": {
      "text/plain": [
       "CustomConv2d(32, 64, kernel_size=(3, 3), stride=(1, 1), dilation=(3, 3))"
      ]
     },
     "execution_count": 274,
     "metadata": {},
     "output_type": "execute_result"
    }
   ],
   "source": [
    "prune.remove(model_to_prune.conv2, \"weight\")"
   ]
  },
  {
   "cell_type": "code",
   "execution_count": 275,
   "id": "15583249-6be0-4c28-8221-6c559e2a4cfe",
   "metadata": {},
   "outputs": [],
   "source": [
    "torch.save(model_to_prune.state_dict(), f\"example_results/pruned_model.ckpt\")"
   ]
  },
  {
   "cell_type": "code",
   "execution_count": 276,
   "id": "13b7b0fc-0514-4b28-85cd-ff27beab9c69",
   "metadata": {},
   "outputs": [
    {
     "name": "stdout",
     "output_type": "stream",
     "text": [
      "torch.Size([64, 32, 3, 3])\n"
     ]
    }
   ],
   "source": [
    "print(model_to_prune.conv2.weight.shape)"
   ]
  },
  {
   "cell_type": "code",
   "execution_count": 277,
   "id": "e5732167-ea3b-42d5-b8a4-032b830259e8",
   "metadata": {},
   "outputs": [
    {
     "name": "stdout",
     "output_type": "stream",
     "text": [
      "torch.Size([64, 32, 3, 3])\n"
     ]
    }
   ],
   "source": [
    "print(model_to_prune.conv2.weight.shape)"
   ]
  },
  {
   "cell_type": "code",
   "execution_count": 285,
   "id": "bf88be89-d3ac-40de-b3bc-47cb41ee7e85",
   "metadata": {},
   "outputs": [],
   "source": [
    "torch.set_printoptions(profile=\"full\")\n",
    "\n",
    "tmp = model_to_prune.conv2.weight.to_sparse() # .indices()"
   ]
  },
  {
   "cell_type": "code",
   "execution_count": 279,
   "id": "804ac3f1-caec-4d8b-a446-98551c8720c2",
   "metadata": {},
   "outputs": [],
   "source": [
    "# Visualisation"
   ]
  },
  {
   "cell_type": "code",
   "execution_count": 286,
   "id": "03fbc036-d6c6-4409-a7aa-2b91b37e0284",
   "metadata": {},
   "outputs": [],
   "source": [
    "model = model_to_prune"
   ]
  },
  {
   "cell_type": "code",
   "execution_count": 287,
   "id": "cf354b65-6328-4ca7-9bcb-758816985ed7",
   "metadata": {},
   "outputs": [
    {
     "name": "stdout",
     "output_type": "stream",
     "text": [
      "torch.Size([64, 32, 3, 3])\n"
     ]
    },
    {
     "data": {
      "image/png": "[encoded data removed]",
      "text/plain": [
       "<Figure size 720x720 with 3 Axes>"
      ]
     },
     "metadata": {
      "needs_background": "light"
     },
     "output_type": "display_data"
    }
   ],
   "source": [
    "import numpy as np\n",
    "import matplotlib.pyplot as plt\n",
    "from torchvision import utils\n",
    "\n",
    "def visChannels(tensor, ch=0, allkernels=False, nrow=8, padding=1): \n",
    "    n,c,w,h = tensor.shape\n",
    "\n",
    "    if allkernels: tensor = tensor.view(n*c, -1, w, h)\n",
    "    elif c != 3: tensor = tensor[:,ch,:,:].unsqueeze(dim=1)\n",
    "\n",
    "    rows = np.min((tensor.shape[0] // nrow + 1, 64))    \n",
    "    grid = utils.make_grid(tensor, nrow=nrow, normalize=True, padding=padding)\n",
    "    \n",
    "    plt.figure(figsize=(nrow,rows) )\n",
    "    plt.title(f\"Channels with index {ch}\")\n",
    "    plt.imshow(grid.detach().cpu().numpy().transpose((1, 2, 0)))\n",
    "\n",
    "\n",
    "def visFilters(tensor, filt=0, allkernels=False, nrow=8, padding=1): \n",
    "    f,c,w,h = tensor.shape\n",
    "\n",
    "    if allkernels: tensor = tensor.view(f*c, -1, w, h)\n",
    "    elif f != 3: tensor = tensor[filt,:,:,:].unsqueeze(dim=1)\n",
    "\n",
    "    rows = np.min((tensor.shape[0] // nrow + 1, 64))    \n",
    "    grid = utils.make_grid(tensor, nrow=nrow, normalize=True, padding=padding)\n",
    "    plt.figure( figsize=(nrow,rows) )\n",
    "    plt.title(f\"Filter {filt}\")\n",
    "    plt.imshow(grid.detach().cpu().numpy().transpose((1, 2, 0)))\n",
    "\n",
    "def visFilters_subplot(subplot, tensor, filt=0, allkernels=False, nrow=8, padding=1): \n",
    "    f,c,w,h = tensor.shape\n",
    "\n",
    "    if allkernels: tensor = tensor.view(f*c, -1, w, h)\n",
    "    elif f != 3: tensor = tensor[filt,:,:,:].unsqueeze(dim=1)\n",
    "\n",
    "    rows = np.min((tensor.shape[0] // nrow + 1, 64))    \n",
    "    grid = utils.make_grid(tensor, nrow=nrow, normalize=True, padding=padding)\n",
    "    # plt.figure( figsize=(nrow,rows) )\n",
    "    subplot.set_title(f\"Filter {filt+1} with {c} channels\")\n",
    "    subplot.imshow(grid.detach().cpu().numpy().transpose((1, 2, 0)))\n",
    "    subplot.axis('off')\n",
    "    \n",
    "layer = 1\n",
    "filter = model.conv2.weight.data.clone()\n",
    "\n",
    "print(model.conv2.weight.shape)\n",
    "\n",
    "# need to match the network parameters!!!!\n",
    "in_channels = 5\n",
    "out_filters = 3 # 64\n",
    "\n",
    "\n",
    "fig, subplot = plt.subplots(out_filters, figsize=(10, 10))\n",
    "fig.suptitle(f'Layer with shape {list(model.conv2.weight.shape)} [out, in, kernel, kernel]')\n",
    "\n",
    "for filt in range(0, out_filters):\n",
    "    \n",
    "    visFilters_subplot(subplot[filt], filter, filt=filt, allkernels=False)\n",
    "\n",
    "    #plt.axis('off')\n",
    "    #plt.ioff()\n",
    "    \n",
    "plt.tight_layout()\n",
    "plt.savefig(f\"example_results/filter_with_weights.png\")\n",
    "plt.show()\n",
    "    \n",
    "if False:    \n",
    "    for filt in range(0, out_filters):\n",
    "\n",
    "        visFilters(filter, filt=filt, allkernels=False)\n",
    "\n",
    "        plt.axis('off')\n",
    "        plt.ioff()\n",
    "        plt.tight_layout()\n",
    "        #plt.savefig(f\"examples/example_results/filter_with_weights.png\")\n",
    "        plt.show()\n",
    "\n",
    "    for ch in range(0, in_channels):\n",
    "\n",
    "        visChannels(filter, ch=ch, allkernels=False)\n",
    "\n",
    "        plt.axis('off')\n",
    "        plt.ioff()\n",
    "        plt.show()"
   ]
  },
  {
   "cell_type": "markdown",
   "id": "7d8912e4-d08e-4874-af12-051c4da8fe97",
   "metadata": {},
   "source": [
    "# Magnitude as importance score"
   ]
  },
  {
   "cell_type": "code",
   "execution_count": 289,
   "id": "7f135271-759b-42a7-9594-9e4fc15075b6",
   "metadata": {},
   "outputs": [
    {
     "name": "stdout",
     "output_type": "stream",
     "text": [
      "Vector: [0 1 2 3 4]\n",
      "Magnitude of the Vector: 5.477225575051661\n"
     ]
    }
   ],
   "source": [
    "# program to compute magnitude of a vector\n",
    " \n",
    "# importing required libraries\n",
    "import numpy\n",
    "import math\n",
    " \n",
    "# function definition to compute magnitude o f the vector\n",
    "def magnitude(vector): \n",
    "    return math.sqrt(sum(pow(element, 2) for element in vector))\n",
    "\n",
    " \n",
    "# displaying the original vector\n",
    "v = numpy.array([0, 1, 2, 3, 4])\n",
    "print('Vector:', v)\n",
    " \n",
    "# computing and displaying the magnitude of the vector\n",
    "print('Magnitude of the Vector:', magnitude(v))\n"
   ]
  },
  {
   "cell_type": "code",
   "execution_count": 298,
   "id": "bf455a31-9163-4f34-816e-052709cc0b02",
   "metadata": {},
   "outputs": [
    {
     "name": "stdout",
     "output_type": "stream",
     "text": [
      "****************************************\n",
      "****************************************\n",
      "****************************************\n",
      "****************************************\n",
      "****************************************\n",
      "****************************************\n"
     ]
    },
    {
     "data": {
      "image/png": "[encoded data removed]",
      "text/plain": [
       "<Figure size 432x288 with 1 Axes>"
      ]
     },
     "metadata": {
      "needs_background": "light"
     },
     "output_type": "display_data"
    }
   ],
   "source": [
    "\n",
    "for i_f, f in enumerate(filter):\n",
    "    \n",
    "\n",
    "    l1_norm = f[1].abs().sum().detach().cpu().numpy()\n",
    "    l2_norm = f[1].norm(2).detach().cpu().numpy()\n",
    "    mag = math.sqrt(sum(pow(f[1].flatten(), 2)))\n",
    "    \n",
    "    m = magnitude(f[1].flatten())\n",
    "    z = np.count_nonzero(np.abs(f[1].detach().cpu().numpy())==0.0)\n",
    "    \n",
    "    if False:\n",
    "        print()\n",
    "        print(i_f)\n",
    "        print(f[1].shape)\n",
    "\n",
    "        print(l2_norm)\n",
    "        print(f[1])\n",
    "\n",
    "        print(z)\n",
    "    \n",
    "    if m > 0.1 and z > 5:\n",
    "        print(\"*\" * 40)\n",
    "    \n",
    "    plt.scatter(mag, z, alpha=0.5)\n",
    "\n",
    "plt.show()\n",
    "        \n",
    "    "
   ]
  },
  {
   "cell_type": "code",
   "execution_count": null,
   "id": "7b437bec-e7c6-41ec-9f1d-2e78a6198c9c",
   "metadata": {},
   "outputs": [],
   "source": [
    "np.abs(f[1].detach().cpu().numpy())==0.0"
   ]
  },
  {
   "cell_type": "markdown",
   "id": "71dbecea-6a15-4b46-8115-fee233742f12",
   "metadata": {},
   "source": [
    "# L1"
   ]
  },
  {
   "cell_type": "code",
   "execution_count": null,
   "id": "4bca57b8-a8bf-41b9-9572-760583b80181",
   "metadata": {},
   "outputs": [],
   "source": [
    "import torch\n",
    "import torch.nn as nn\n",
    "\n",
    "# Example: Define a simple neural network\n",
    "class SimpleModel(nn.Module):\n",
    "    def __init__(self):\n",
    "        super(SimpleModel, self).__init__()\n",
    "        self.conv = nn.Conv2d(100,10,(3,3))\n",
    "        self.fc = nn.Linear(10, 5)\n",
    "\n",
    "model = SimpleModel()\n",
    "\n",
    "# Access the parameters (weights) of the model\n",
    "params = list(model.parameters())\n",
    "\n",
    "weight = torch.rand(3, 3)\n",
    "\n",
    "# Calculate L1 norm\n",
    "l1_norm = weight.abs().sum()\n",
    "\n",
    "# Calculate L2 norm\n",
    "l2_norm = weight.norm(2)\n",
    "\n",
    "mag = math.sqrt(sum(pow(weight.flatten(), 2)))\n",
    "\n",
    "print(\"L1 Norm:\", l1_norm.item())\n",
    "print(\"L2 Norm:\", l2_norm.item())\n",
    "print(\"magnitude:\", mag)"
   ]
  },
  {
   "cell_type": "code",
   "execution_count": null,
   "id": "ac2e242f-cd63-4621-a890-73ab0c0d5ee9",
   "metadata": {},
   "outputs": [],
   "source": [
    "for p in params:\n",
    "    print(p.shape)"
   ]
  },
  {
   "cell_type": "markdown",
   "id": "f09bc0f7-be97-4443-80ad-5c92f24af4ca",
   "metadata": {},
   "source": [
    "# L1 unstructured and Ln structured pruning"
   ]
  },
  {
   "cell_type": "code",
   "execution_count": null,
   "id": "ea544e63-df2f-41e4-80e0-7815c6337a4f",
   "metadata": {},
   "outputs": [],
   "source": [
    "import torch\n",
    "import torch.nn as nn\n",
    "import torch.nn.utils.prune as prune\n",
    "\n",
    "m = nn.Linear(10,1,bias=False)\n",
    "m"
   ]
  },
  {
   "cell_type": "code",
   "execution_count": 79,
   "id": "51c31e1c-88c4-43be-bcbf-9945f9c938a4",
   "metadata": {},
   "outputs": [
    {
     "data": {
      "text/plain": [
       "tensor([47.,  9., 31., 32., 48., 16., 38., 28., 29., 46.])"
      ]
     },
     "execution_count": 79,
     "metadata": {},
     "output_type": "execute_result"
    }
   ],
   "source": [
    "data = torch.arange(10).float()\n",
    "data = torch.randperm(50).float()[:10]\n",
    "data"
   ]
  },
  {
   "cell_type": "code",
   "execution_count": 80,
   "id": "fe5307e0-ccfe-4c4b-bff8-b2f0fbc25b4c",
   "metadata": {},
   "outputs": [
    {
     "data": {
      "text/plain": [
       "Parameter containing:\n",
       "tensor([47.,  9., 31., 32., 48., 16., 38., 28., 29., 46.], requires_grad=True)"
      ]
     },
     "execution_count": 80,
     "metadata": {},
     "output_type": "execute_result"
    }
   ],
   "source": [
    "m.weight = nn.Parameter(data)\n",
    "m.weight"
   ]
  },
  {
   "cell_type": "code",
   "execution_count": 81,
   "id": "2982f37a-45e5-41b4-86c7-4bd7c25349c1",
   "metadata": {},
   "outputs": [
    {
     "data": {
      "text/plain": [
       "tensor([47.,  0., 31., 32., 48.,  0., 38.,  0., 29., 46.],\n",
       "       grad_fn=<MulBackward0>)"
      ]
     },
     "execution_count": 81,
     "metadata": {},
     "output_type": "execute_result"
    }
   ],
   "source": [
    "prune.l1_unstructured(m, 'weight', .3) # prune lowest 30 percent, aka 3 values\n",
    "m.weight"
   ]
  },
  {
   "cell_type": "code",
   "execution_count": 105,
   "id": "9f3be156-ac39-432d-9bb6-801bce6f44d3",
   "metadata": {},
   "outputs": [
    {
     "data": {
      "text/plain": [
       "Parameter containing:\n",
       "tensor([[[[-0.0900,  0.2500],\n",
       "          [-0.2184, -0.0167]],\n",
       "\n",
       "         [[ 0.0215,  0.1768],\n",
       "          [-0.1058,  0.1643]],\n",
       "\n",
       "         [[-0.2095, -0.2312],\n",
       "          [-0.1659,  0.2375]],\n",
       "\n",
       "         [[ 0.2153,  0.2165],\n",
       "          [ 0.2357, -0.2218]]],\n",
       "\n",
       "\n",
       "        [[[ 0.0665, -0.2468],\n",
       "          [ 0.0473,  0.1049]],\n",
       "\n",
       "         [[ 0.2415, -0.0008],\n",
       "          [-0.1689,  0.1381]],\n",
       "\n",
       "         [[ 0.1242,  0.2478],\n",
       "          [ 0.2110,  0.2438]],\n",
       "\n",
       "         [[ 0.0061, -0.0929],\n",
       "          [ 0.1407, -0.0912]]],\n",
       "\n",
       "\n",
       "        [[[-0.1477, -0.0976],\n",
       "          [-0.2365,  0.1050]],\n",
       "\n",
       "         [[ 0.1973,  0.2303],\n",
       "          [ 0.1177,  0.2101]],\n",
       "\n",
       "         [[-0.2278, -0.1134],\n",
       "          [ 0.2372, -0.1012]],\n",
       "\n",
       "         [[ 0.1795,  0.1624],\n",
       "          [ 0.1832,  0.1367]]]], requires_grad=True)"
      ]
     },
     "execution_count": 105,
     "metadata": {},
     "output_type": "execute_result"
    }
   ],
   "source": [
    "c = nn.Conv2d(4, 3, 2)\n",
    "c.weight"
   ]
  },
  {
   "cell_type": "code",
   "execution_count": 106,
   "id": "fadc4ee9-a4b7-4b29-bc56-b8425de84beb",
   "metadata": {},
   "outputs": [],
   "source": [
    "from torch.nn.utils import prune\n",
    "m = prune.ln_structured(\n",
    "    c, 'weight', amount=0.6, dim=1, n=float('-inf')\n",
    ")"
   ]
  },
  {
   "cell_type": "code",
   "execution_count": 107,
   "id": "91308169-aced-4a61-9783-e5670fdc5580",
   "metadata": {},
   "outputs": [
    {
     "data": {
      "text/plain": [
       "tensor([[[[-0.0900,  0.2500],\n",
       "          [-0.2184, -0.0167]],\n",
       "\n",
       "         [[ 0.0000,  0.0000],\n",
       "          [-0.0000,  0.0000]],\n",
       "\n",
       "         [[-0.2095, -0.2312],\n",
       "          [-0.1659,  0.2375]],\n",
       "\n",
       "         [[ 0.0000,  0.0000],\n",
       "          [ 0.0000, -0.0000]]],\n",
       "\n",
       "\n",
       "        [[[ 0.0665, -0.2468],\n",
       "          [ 0.0473,  0.1049]],\n",
       "\n",
       "         [[ 0.0000, -0.0000],\n",
       "          [-0.0000,  0.0000]],\n",
       "\n",
       "         [[ 0.1242,  0.2478],\n",
       "          [ 0.2110,  0.2438]],\n",
       "\n",
       "         [[ 0.0000, -0.0000],\n",
       "          [ 0.0000, -0.0000]]],\n",
       "\n",
       "\n",
       "        [[[-0.1477, -0.0976],\n",
       "          [-0.2365,  0.1050]],\n",
       "\n",
       "         [[ 0.0000,  0.0000],\n",
       "          [ 0.0000,  0.0000]],\n",
       "\n",
       "         [[-0.2278, -0.1134],\n",
       "          [ 0.2372, -0.1012]],\n",
       "\n",
       "         [[ 0.0000,  0.0000],\n",
       "          [ 0.0000,  0.0000]]]], grad_fn=<MulBackward0>)"
      ]
     },
     "execution_count": 107,
     "metadata": {},
     "output_type": "execute_result"
    }
   ],
   "source": [
    "m.weight"
   ]
  },
  {
   "cell_type": "code",
   "execution_count": 108,
   "id": "602005cf-2480-48fa-9386-e44edb585b76",
   "metadata": {},
   "outputs": [
    {
     "data": {
      "text/plain": [
       "tensor([[[[-0.0900,  0.2500],\n",
       "          [-0.2184, -0.0167]],\n",
       "\n",
       "         [[ 0.0000,  0.0000],\n",
       "          [-0.0000,  0.0000]],\n",
       "\n",
       "         [[-0.2095, -0.2312],\n",
       "          [-0.1659,  0.2375]],\n",
       "\n",
       "         [[ 0.0000,  0.0000],\n",
       "          [ 0.0000, -0.0000]]],\n",
       "\n",
       "\n",
       "        [[[ 0.0665, -0.2468],\n",
       "          [ 0.0473,  0.1049]],\n",
       "\n",
       "         [[ 0.0000, -0.0000],\n",
       "          [-0.0000,  0.0000]],\n",
       "\n",
       "         [[ 0.1242,  0.2478],\n",
       "          [ 0.2110,  0.2438]],\n",
       "\n",
       "         [[ 0.0000, -0.0000],\n",
       "          [ 0.0000, -0.0000]]],\n",
       "\n",
       "\n",
       "        [[[-0.1477, -0.0976],\n",
       "          [-0.2365,  0.1050]],\n",
       "\n",
       "         [[ 0.0000,  0.0000],\n",
       "          [ 0.0000,  0.0000]],\n",
       "\n",
       "         [[-0.2278, -0.1134],\n",
       "          [ 0.2372, -0.1012]],\n",
       "\n",
       "         [[ 0.0000,  0.0000],\n",
       "          [ 0.0000,  0.0000]]]], grad_fn=<MulBackward0>)"
      ]
     },
     "execution_count": 108,
     "metadata": {},
     "output_type": "execute_result"
    }
   ],
   "source": [
    "m.weight"
   ]
  },
  {
   "cell_type": "code",
   "execution_count": null,
   "id": "a3b6dc54-83a8-4b8c-85f4-7ddf8b08ae11",
   "metadata": {},
   "outputs": [],
   "source": []
  },
  {
   "cell_type": "code",
   "execution_count": null,
   "id": "dda812b7-47de-4fe0-8365-c616684f5c71",
   "metadata": {},
   "outputs": [],
   "source": []
  },
  {
   "cell_type": "markdown",
   "id": "74d14d15-29d0-4a31-8941-0cfc28dd2671",
   "metadata": {},
   "source": [
    "# connection cost calculation"
   ]
  },
  {
   "cell_type": "code",
   "execution_count": 116,
   "id": "b4ef0cc5-f517-4f7b-8c1b-564785e71307",
   "metadata": {},
   "outputs": [],
   "source": [
    "import matplotlib.pyplot as plt\n",
    "import numpy as np\n",
    "from scipy.spatial.distance import cdist\n",
    "\n",
    "# Example: One point and many points\n",
    "def calc_distances(m,n,ms,ns):\n",
    "    mn = np.array((m,n)) \n",
    "\n",
    "    msns = np.array((ms, ns)).transpose(1,0)\n",
    "    # print(msns)\n",
    "    \n",
    "    list = []\n",
    "\n",
    "    # Calculate Euclidean distances\n",
    "    distances = cdist([mn], msns, 'euclidean')\n",
    "    #print(\"euclidean distances:\", distances)\n",
    "    list.append(np.mean(distances))\n",
    "    print(\"mean\", np.mean(distances))\n",
    "    \n",
    "    distances = cdist([mn], msns, 'cityblock')\n",
    "    #print(\"cityblock distances:\", distances)\n",
    "    list.append(np.mean(distances))\n",
    "    print(\"mean\", np.mean(distances))\n",
    "    \n",
    "    distances = cdist([mn], msns,  'chebyshev')\n",
    "    #print(\"chebyshev distances:\", distances)\n",
    "    list.append(np.mean(distances))\n",
    "    print(\"mean\", np.mean(distances))\n",
    "\n",
    "    distances = cdist([mn], msns,  'cosine')\n",
    "    #print(\"cosine distances:\", distances)\n",
    "    list.append(np.mean(distances))\n",
    "    print(\"mean\", np.mean(distances))\n",
    "\n",
    "    distances = cdist([mn], msns,  'jaccard')\n",
    "    #print(\"jaccard distances:\", distances)\n",
    "    list.append(np.mean(distances))\n",
    "    print(\"mean\", np.mean(distances))\n",
    "    \n",
    "    # disimilarity of two vectors\n",
    "    distances = cdist([mn], msns,  'correlation')\n",
    "    #print(\"correlation:\", distances)\n",
    "    list.append(np.mean(distances))\n",
    "    print(\"mean\", np.mean(distances))\n",
    "\n",
    "    \n",
    "    fig, ax = plt.subplots(figsize=(5,5))\n",
    "    ax.scatter(m, n, s=500)\n",
    "    ax.scatter(ms, ns)\n",
    "    plt.xlim(0, 8) # m coordinate of 81 fields\n",
    "    plt.ylim(0, 8) # n coordinate of 81 fields\n",
    "    ax.grid() # enable grid line\n",
    "    \n",
    "    \n",
    "    return list"
   ]
  },
  {
   "cell_type": "code",
   "execution_count": 91,
   "id": "58509fae-ba35-4fc4-8a84-a5457ca6a39b",
   "metadata": {},
   "outputs": [],
   "source": [
    "import matplotlib.pyplot as plt\n",
    "import numpy as np\n",
    "from scipy.spatial.distance import cdist\n",
    "\n",
    "# Example: One point and many points\n",
    "def calc_distances(m,n,ms,ns):\n",
    "    \n",
    "    list = []\n",
    "    \n",
    "    for f in range(5):\n",
    "        mn = np.array((m,n)) \n",
    "        msns = np.array((ms, ns)).transpose(1,0)\n",
    "        # print(msns)\n",
    "\n",
    "        # Calculate Euclidean distances\n",
    "        distances = cdist([mn], msns, 'euclidean')\n",
    "        #print(\"euclidean distances:\", distances)\n",
    "        list.append(np.mean(distances)/8)\n",
    "        \n",
    "    print(\"mean\", np.mean(list))\n"
   ]
  },
  {
   "cell_type": "code",
   "execution_count": 92,
   "id": "ee5356ce-e7c1-4736-a73a-7da58572b3f9",
   "metadata": {},
   "outputs": [
    {
     "name": "stdout",
     "output_type": "stream",
     "text": [
      "mean 0.6191009465408638\n"
     ]
    }
   ],
   "source": [
    "# this point\n",
    "m = 3; n = 7\n",
    "# points from previous layer\n",
    "ms = [2, 4, 0, 2, 5, 7]; ns = [3, 1, 5, 8, 0, 1]\n",
    "very_bad = calc_distances(m,n,ms,ns)"
   ]
  },
  {
   "cell_type": "code",
   "execution_count": 88,
   "id": "89b154ee-1244-44d9-aed8-5df0d7544712",
   "metadata": {},
   "outputs": [],
   "source": [
    "# pytorch version\n",
    "import torch\n",
    "import torch.nn as nn\n",
    "\n",
    "def calc_distances(m_this,n_this,ms_in,ns_in):\n",
    "    \n",
    "    \n",
    "    cc = []\n",
    "        \n",
    "    for f in range(5):\n",
    "        \n",
    "        ms_in = nn.Parameter(torch.Tensor(ms_in), requires_grad=False) # ms_in # list\n",
    "        ns_in = nn.Parameter(torch.Tensor(ns_in), requires_grad=False) # ns_in # list\n",
    "        m_this = nn.Parameter(torch.Tensor(m_this), requires_grad=False) # m_this # single integer\n",
    "        n_this = nn.Parameter(torch.Tensor(n_this), requires_grad=False) # n_this # single integer\n",
    "\n",
    "        print(ms_in)\n",
    "        print(m_this)\n",
    "        \n",
    "        mn = torch.cat([m_this.unsqueeze(0), n_this.unsqueeze(0)]).transpose(1,0)\n",
    "        print(mn.shape)\n",
    "        msns = torch.cat([ms_in.unsqueeze(0), ns_in.unsqueeze(0)]).transpose(1,0)\n",
    "        print(msns.shape)\n",
    "        cc.append(torch.mean(torch.cdist(mn, msns) / 8)) # number comes from 9*9 = 81 [0-8]\n",
    "\n",
    "    \"\"\"\n",
    "    num_linear = len(self.linears)\n",
    "    for i in range(num_linear):\n",
    "        if i == num_linear - 1 and no_penalize_last:\n",
    "            weight_factor = 0.\n",
    "        biolinear = self.linears[i]\n",
    "        dist = torch.sum(torch.abs(biolinear.out_coordinates.unsqueeze(dim=1) - biolinear.in_coordinates.unsqueeze(dim=0)),dim=2)\n",
    "        cc += torch.mean(torch.abs(biolinear.linear.weight)*(weight_factor*dist+self.l0))\n",
    "        if bias_penalize == True:\n",
    "            cc += torch.mean(torch.abs(biolinear.linear.bias)*(self.l0))\n",
    "    if self.token_embedding:\n",
    "        cc += torch.mean(torch.abs(self.embedding)*(self.l0))\n",
    "        #pass\n",
    "    \"\"\"\n",
    "    print(cc)\n",
    "    print(torch.tensor(cc))\n",
    "    print(torch.mean(torch.tensor(cc)))\n",
    "\n",
    "    # mean connection cost of a layer\n",
    "    return torch.mean(torch.tensor(cc))\n",
    "    \n",
    "    "
   ]
  },
  {
   "cell_type": "code",
   "execution_count": 121,
   "id": "81c82914-d55a-4205-ab7e-4b1e012ca03d",
   "metadata": {},
   "outputs": [
    {
     "name": "stdout",
     "output_type": "stream",
     "text": [
      "Parameter containing:\n",
      "tensor([2., 4., 0., 2., 5., 7.])\n",
      "Parameter containing:\n",
      "tensor([3.])\n",
      "torch.Size([1, 2])\n",
      "torch.Size([6, 2])\n",
      "Parameter containing:\n",
      "tensor([2., 4., 0., 2., 5., 7.])\n",
      "Parameter containing:\n",
      "tensor([3.])\n",
      "torch.Size([1, 2])\n",
      "torch.Size([6, 2])\n",
      "Parameter containing:\n",
      "tensor([2., 4., 0., 2., 5., 7.])\n",
      "Parameter containing:\n",
      "tensor([3.])\n",
      "torch.Size([1, 2])\n",
      "torch.Size([6, 2])\n",
      "Parameter containing:\n",
      "tensor([2., 4., 0., 2., 5., 7.])\n",
      "Parameter containing:\n",
      "tensor([3.])\n",
      "torch.Size([1, 2])\n",
      "torch.Size([6, 2])\n",
      "Parameter containing:\n",
      "tensor([2., 4., 0., 2., 5., 7.])\n",
      "Parameter containing:\n",
      "tensor([3.])\n",
      "torch.Size([1, 2])\n",
      "torch.Size([6, 2])\n",
      "[tensor(0.6191), tensor(0.6191), tensor(0.6191), tensor(0.6191), tensor(0.6191)]\n",
      "tensor([0.6191, 0.6191, 0.6191, 0.6191, 0.6191])\n",
      "tensor(0.6191)\n"
     ]
    }
   ],
   "source": [
    "# this point\n",
    "m = [3]; n = [7]\n",
    "# points from previous layer\n",
    "ms = [2, 4, 0, 2, 5, 7]; ns = [3, 1, 5, 8, 0, 1]\n",
    "very_bad = calc_distances(m,n,ms,ns)"
   ]
  },
  {
   "cell_type": "code",
   "execution_count": 47,
   "id": "17fb00b9-93da-4a66-a660-7c4bb7db78f6",
   "metadata": {},
   "outputs": [
    {
     "data": {
      "text/plain": [
       "Parameter containing:\n",
       "tensor(5)"
      ]
     },
     "execution_count": 47,
     "metadata": {},
     "output_type": "execute_result"
    }
   ],
   "source": [
    "torch.nn.Parameter(torch.tensor(5), requires_grad=False)"
   ]
  },
  {
   "cell_type": "code",
   "execution_count": 149,
   "id": "0067dbe3-0c3b-4b94-bd67-d00277847700",
   "metadata": {},
   "outputs": [
    {
     "name": "stdout",
     "output_type": "stream",
     "text": [
      "mean 3.132781879222723\n",
      "mean 4.0\n",
      "mean 2.8333333333333335\n",
      "mean 0.20240905661420536\n",
      "mean 0.8333333333333334\n",
      "mean nan\n"
     ]
    },
    {
     "data": {
      "image/png": "[encoded data removed]",
      "text/plain": [
       "<Figure size 360x360 with 1 Axes>"
      ]
     },
     "metadata": {
      "needs_background": "light"
     },
     "output_type": "display_data"
    }
   ],
   "source": [
    "# this point\n",
    "m = 4; n = 2\n",
    "# points from previous layer\n",
    "ms = [2, 4, 0, 2, 5, 2]; ns = [3, 1, 5, 8, 0, 2]\n",
    "bad = calc_distances(m,n,ms,ns)"
   ]
  },
  {
   "cell_type": "code",
   "execution_count": 150,
   "id": "2f12fce7-1949-48c4-8977-02be3e359532",
   "metadata": {},
   "outputs": [
    {
     "name": "stdout",
     "output_type": "stream",
     "text": [
      "mean 2.79944854588939\n",
      "mean 3.6666666666666665\n",
      "mean 2.5\n",
      "mean 0.19385627295595767\n",
      "mean 0.75\n",
      "mean 1.0\n"
     ]
    },
    {
     "data": {
      "image/png": "[encoded data removed]",
      "text/plain": [
       "<Figure size 360x360 with 1 Axes>"
      ]
     },
     "metadata": {
      "needs_background": "light"
     },
     "output_type": "display_data"
    }
   ],
   "source": [
    "# this point\n",
    "m = 4; n = 2\n",
    "# points from previous layer\n",
    "ms = [2, 4, 0, 2, 5, 4]; ns = [3, 1, 5, 8, 0, 2]\n",
    "okay = calc_distances(m,n,ms,ns)"
   ]
  },
  {
   "cell_type": "code",
   "execution_count": 151,
   "id": "9faa54e0-1bde-4657-a522-387561922b06",
   "metadata": {},
   "outputs": [
    {
     "name": "stdout",
     "output_type": "stream",
     "text": [
      "mean 1.8537362491454108\n",
      "mean 2.3333333333333335\n",
      "mean 1.6666666666666667\n",
      "mean 0.04250090338056228\n",
      "mean 0.75\n",
      "mean nan\n"
     ]
    },
    {
     "data": {
      "image/png": "[encoded data removed]",
      "text/plain": [
       "<Figure size 360x360 with 1 Axes>"
      ]
     },
     "metadata": {
      "needs_background": "light"
     },
     "output_type": "display_data"
    }
   ],
   "source": [
    "# this point\n",
    "m = 3; n = 3\n",
    "# points from previous layer\n",
    "ms = [2, 5, 3, 4, 4, 7]; ns = [3, 4, 2, 4, 3, 1]\n",
    "middle = calc_distances(m,n,ms,ns)"
   ]
  },
  {
   "cell_type": "code",
   "execution_count": 152,
   "id": "44695c24-a46d-406c-b3e3-089e00ee9880",
   "metadata": {},
   "outputs": [
    {
     "name": "stdout",
     "output_type": "stream",
     "text": [
      "mean 1.481058252895446\n",
      "mean 1.8333333333333333\n",
      "mean 1.3333333333333333\n",
      "mean 0.048472839822705414\n",
      "mean 0.5833333333333334\n",
      "mean nan\n"
     ]
    },
    {
     "data": {
      "image/png": "[encoded data removed]",
      "text/plain": [
       "<Figure size 360x360 with 1 Axes>"
      ]
     },
     "metadata": {
      "needs_background": "light"
     },
     "output_type": "display_data"
    }
   ],
   "source": [
    "# this point\n",
    "m = 3; n = 3\n",
    "# points from previous layer\n",
    "ms = [2, 2, 3, 3, 4, 7]; ns = [3, 4, 3, 4, 3, 1]\n",
    "good = calc_distances(m,n,ms,ns)"
   ]
  },
  {
   "cell_type": "code",
   "execution_count": 142,
   "id": "89861470-7668-4379-b479-add4643753da",
   "metadata": {},
   "outputs": [
    {
     "name": "stdout",
     "output_type": "stream",
     "text": [
      "mean 0.9023689270621825\n",
      "mean 1.0\n",
      "mean 0.8333333333333334\n",
      "mean 0.018376060540885364\n",
      "mean 0.5\n",
      "mean nan\n"
     ]
    },
    {
     "data": {
      "image/png": "[encoded data removed]",
      "text/plain": [
       "<Figure size 360x360 with 1 Axes>"
      ]
     },
     "metadata": {
      "needs_background": "light"
     },
     "output_type": "display_data"
    }
   ],
   "source": [
    "# this point\n",
    "m = 3; n = 3\n",
    "# points from previous layer\n",
    "ms = [2, 2, 3, 3, 4, 3]; ns = [3, 4, 3, 4, 3, 2]\n",
    "very_good = calc_distances(m,n,ms,ns)"
   ]
  },
  {
   "cell_type": "code",
   "execution_count": 153,
   "id": "e189e98d-75ba-44f0-9f07-b99410e729aa",
   "metadata": {},
   "outputs": [
    {
     "name": "stdout",
     "output_type": "stream",
     "text": [
      "[7.67193045 3.13278188 2.79944855 1.85373625 1.48105825 0.90236893]\n",
      "[9.66666667 4.         3.66666667 2.33333333 1.83333333 1.        ]\n",
      "[7.         2.83333333 2.5        1.66666667 1.33333333 0.83333333]\n",
      "[0.18170332 0.20240906 0.19385627 0.0425009  0.04847284 0.01837606]\n",
      "[0.91666667 0.83333333 0.75       0.75       0.58333333 0.5       ]\n",
      "[nan nan  1. nan nan nan]\n"
     ]
    }
   ],
   "source": [
    "n_bad = (bad - np.min(bad)) / (np.max(bad) - np.min(bad))\n",
    "n_middle = (middle - np.min(middle)) / (np.max(middle) - np.min(middle))\n",
    "n_good = (good - np.min(good)) / (np.max(good) - np.min(good))\n",
    "\n",
    "\n",
    "all = np.array((very_bad, bad, okay, middle, good, very_good))\n",
    "\n",
    "new_all = []\n",
    "for i in range(all.shape[1]):\n",
    "    print(all[:,i])\n",
    "    new_all.append( (all[:,i] - np.min(all[:,i])) / (np.max(all[:,i]) - np.min(all[:,i])) )\n",
    "\n",
    "new_all = np.array(new_all).transpose(1,0)"
   ]
  },
  {
   "cell_type": "code",
   "execution_count": 154,
   "id": "f2c9b792-3758-4192-9fd2-edd4db780574",
   "metadata": {},
   "outputs": [
    {
     "data": {
      "text/plain": [
       "array([3.13278188, 4.        , 2.83333333, 0.20240906, 0.83333333,\n",
       "              nan])"
      ]
     },
     "execution_count": 154,
     "metadata": {},
     "output_type": "execute_result"
    }
   ],
   "source": [
    "all[1]"
   ]
  },
  {
   "cell_type": "code",
   "execution_count": 155,
   "id": "91c91c1b-17af-43e3-b55c-aba02130f57e",
   "metadata": {},
   "outputs": [
    {
     "data": {
      "text/plain": [
       "array([[7.67193045, 9.66666667, 7.        , 0.18170332, 0.91666667,\n",
       "               nan],\n",
       "       [3.13278188, 4.        , 2.83333333, 0.20240906, 0.83333333,\n",
       "               nan],\n",
       "       [2.79944855, 3.66666667, 2.5       , 0.19385627, 0.75      ,\n",
       "        1.        ],\n",
       "       [1.85373625, 2.33333333, 1.66666667, 0.0425009 , 0.75      ,\n",
       "               nan],\n",
       "       [1.48105825, 1.83333333, 1.33333333, 0.04847284, 0.58333333,\n",
       "               nan],\n",
       "       [0.90236893, 1.        , 0.83333333, 0.01837606, 0.5       ,\n",
       "               nan]])"
      ]
     },
     "execution_count": 155,
     "metadata": {},
     "output_type": "execute_result"
    }
   ],
   "source": [
    "all"
   ]
  },
  {
   "cell_type": "code",
   "execution_count": 156,
   "id": "b6185ed7-6ecb-4239-856e-31ab77994482",
   "metadata": {},
   "outputs": [
    {
     "data": {
      "text/plain": [
       "(6, 6)"
      ]
     },
     "execution_count": 156,
     "metadata": {},
     "output_type": "execute_result"
    }
   ],
   "source": [
    "all.shape"
   ]
  },
  {
   "cell_type": "code",
   "execution_count": 174,
   "id": "006580e3-3795-4a2c-8fe6-32e9d762309e",
   "metadata": {},
   "outputs": [
    {
     "data": {
      "image/png": "[encoded data removed]",
      "text/plain": [
       "<Figure size 432x288 with 1 Axes>"
      ]
     },
     "metadata": {
      "needs_background": "light"
     },
     "output_type": "display_data"
    }
   ],
   "source": [
    "labels = [\"euc\", \"city\", \"cheby\", \"cos X\", \"jac X\", \"corr X\"]\n",
    "\n",
    "plt.plot(new_all)\n",
    "plt.legend(labels)\n",
    "plt.title(\"normalised\")\n",
    "plt.ylabel(\"error\")\n",
    "plt.xticks(ticks= range(0,6) ,labels=[\"very_bad\", \"bad\", \"okay\", \"middle\", \"good\", \"very_good\"])\n",
    "plt.show()"
   ]
  },
  {
   "cell_type": "code",
   "execution_count": 175,
   "id": "5c6380e8-5f56-4b1d-8a9e-3d224f721ca1",
   "metadata": {},
   "outputs": [
    {
     "data": {
      "image/png": "[encoded data removed]",
      "text/plain": [
       "<Figure size 432x288 with 1 Axes>"
      ]
     },
     "metadata": {
      "needs_background": "light"
     },
     "output_type": "display_data"
    }
   ],
   "source": [
    "plt.plot(all)\n",
    "plt.legend(labels)\n",
    "plt.xticks(ticks= range(0,6) ,labels=[\"very_bad\", \"bad\", \"okay\", \"middle\", \"good\", \"very_good\"])\n",
    "plt.ylabel(\"error\")\n",
    "plt.show()"
   ]
  },
  {
   "cell_type": "code",
   "execution_count": null,
   "id": "fb85acc7-a47c-4c7e-807a-bb19e7ea854f",
   "metadata": {},
   "outputs": [],
   "source": []
  },
  {
   "cell_type": "code",
   "execution_count": null,
   "id": "8372a7c1-efc6-4cdd-8765-7d4d224b9399",
   "metadata": {},
   "outputs": [],
   "source": []
  },
  {
   "cell_type": "code",
   "execution_count": null,
   "id": "978d7f56-8ffd-4814-8268-b906ca7d3e33",
   "metadata": {},
   "outputs": [],
   "source": []
  },
  {
   "cell_type": "code",
   "execution_count": 5,
   "id": "40b7c9e8-2eae-4441-8c04-8ca6e9a5b93a",
   "metadata": {},
   "outputs": [
    {
     "name": "stdout",
     "output_type": "stream",
     "text": [
      "Original Grid:\n",
      "[[1 8 9]\n",
      " [7 2 6]\n",
      " [4 5 3]]\n",
      "\n",
      "Sorted Grid based on Row Sum Metric:\n",
      "[[4 5 3]\n",
      " [7 2 6]\n",
      " [1 8 9]]\n"
     ]
    }
   ],
   "source": [
    "import numpy as np\n",
    "\n",
    "# Create a sample 2D grid (matrix)\n",
    "grid = np.array([[1, 8, 9],\n",
    "                 [7, 2, 6],\n",
    "                 [4, 5, 3]])\n",
    "\n",
    "# Define the metric function (sum of values in each row)\n",
    "def row_sum_metric(row):\n",
    "    return np.sum(row)\n",
    "\n",
    "# Sort the rows based on the metric\n",
    "sorted_indices = np.argsort([row_sum_metric(row) for row in grid])\n",
    "\n",
    "# Rearrange the rows in the grid based on the sorting order\n",
    "sorted_grid = grid[sorted_indices]\n",
    "\n",
    "print(\"Original Grid:\")\n",
    "print(grid)\n",
    "\n",
    "print(\"\\nSorted Grid based on Row Sum Metric:\")\n",
    "print(sorted_grid)"
   ]
  },
  {
   "cell_type": "code",
   "execution_count": 10,
   "id": "527495e0-6ddf-4529-b3b8-bd1b8c0e4176",
   "metadata": {},
   "outputs": [
    {
     "name": "stdout",
     "output_type": "stream",
     "text": [
      "[8 3 8]\n",
      "[4 5 6]\n",
      "[3 1 3]\n",
      "\n",
      "[3 8 8]\n",
      "[4 5 6]\n",
      "[1 3 3]\n",
      "\n",
      "[3 8 8]\n",
      "[4 5 6]\n",
      "[1 3 3]\n",
      "\n",
      "[3 8 8]\n",
      "[4 5 6]\n",
      "[1 3 3]\n",
      "\n",
      "[3 8 8]\n",
      "[4 5 6]\n",
      "[1 3 3]\n",
      "\n",
      "[3 8 8]\n",
      "[4 5 6]\n",
      "[1 3 3]\n",
      "\n",
      "[3 8 8]\n",
      "[4 5 6]\n",
      "[1 3 3]\n",
      "\n",
      "[3 8 8]\n",
      "[4 5 6]\n",
      "[1 3 3]\n",
      "\n",
      "[3 8 8]\n",
      "[4 5 6]\n",
      "[1 3 3]\n",
      "\n"
     ]
    }
   ],
   "source": [
    "import numpy as np\n",
    "\n",
    "def bubble_sort_step(grid):\n",
    "    # Perform one step of Bubble Sort on the rows of the grid\n",
    "    for i in range(len(grid)):\n",
    "        for j in range(len(grid[0]) - 1):\n",
    "            if grid[i, j] > grid[i, j + 1]:\n",
    "                # Swap elements if they are in the wrong order\n",
    "                grid[i, j], grid[i, j + 1] = grid[i, j + 1], grid[i, j]\n",
    "    return grid\n",
    "\n",
    "def visualize(grid):\n",
    "    # Print the current state of the grid\n",
    "    for row in grid:\n",
    "        print(row)\n",
    "    print()\n",
    "\n",
    "# Create a sample 2D grid\n",
    "grid = np.array([[8, 8, 3],\n",
    "                 [6, 4, 5],\n",
    "                 [3, 3, 1]])\n",
    "\n",
    "# Number of iterations (steps) to perform the sorting\n",
    "iterations = len(grid) * len(grid[0])\n",
    "\n",
    "# Perform sorting using cellular automaton\n",
    "for _ in range(iterations):\n",
    "    grid = bubble_sort_step(grid)\n",
    "    visualize(grid)\n"
   ]
  },
  {
   "cell_type": "code",
   "execution_count": 17,
   "id": "d388159f-2896-451a-b9e9-eae3d340b28e",
   "metadata": {},
   "outputs": [
    {
     "name": "stdout",
     "output_type": "stream",
     "text": [
      "[3 4 5]\n",
      "[9 7 2]\n",
      "[3 1 8]\n",
      "\n",
      "[3 4 5]\n",
      "[3 1 8]\n",
      "[9 7 2]\n",
      "\n",
      "[3 4 5]\n",
      "[3 1 8]\n",
      "[9 7 2]\n",
      "\n",
      "[3 4 5]\n",
      "[3 1 8]\n",
      "[9 7 2]\n",
      "\n",
      "[3 4 5]\n",
      "[3 1 8]\n",
      "[9 7 2]\n",
      "\n",
      "[3 4 5]\n",
      "[3 1 8]\n",
      "[9 7 2]\n",
      "\n",
      "[3 4 5]\n",
      "[3 1 8]\n",
      "[9 7 2]\n",
      "\n",
      "[3 4 5]\n",
      "[3 1 8]\n",
      "[9 7 2]\n",
      "\n",
      "[3 4 5]\n",
      "[3 1 8]\n",
      "[9 7 2]\n",
      "\n"
     ]
    }
   ],
   "source": [
    "import numpy as np\n",
    "\n",
    "def row_sum_metric(row):\n",
    "    # Simple metric: Sum of values in a row\n",
    "    return np.sum(row)\n",
    "\n",
    "def update_cellular_automaton(grid, metric_function):\n",
    "    new_grid = np.copy(grid)\n",
    "\n",
    "    for i in range(1, len(grid)):\n",
    "        metric_current = metric_function(grid[i])\n",
    "        metric_previous = metric_function(grid[i - 1])\n",
    "\n",
    "        if metric_current < metric_previous:\n",
    "            # Swap rows if the metric is smaller in the current row\n",
    "            new_grid[i] = grid[i - 1]\n",
    "            new_grid[i - 1] = grid[i]\n",
    "\n",
    "    return new_grid\n",
    "\n",
    "def visualize(grid):\n",
    "    for row in grid:\n",
    "        print(row)\n",
    "    print()\n",
    "\n",
    "# Create a sample 2D grid\n",
    "grid = np.array([[9, 7, 2],\n",
    "                 [3, 4, 5],\n",
    "                 [3, 1, 8]])\n",
    "\n",
    "# Number of iterations (steps) to perform the rearrangement\n",
    "iterations = len(grid) * len(grid[0])\n",
    "\n",
    "# Perform rearrangement using cellular automaton\n",
    "for _ in range(iterations):\n",
    "    grid = update_cellular_automaton(grid, row_sum_metric)\n",
    "    visualize(grid)\n"
   ]
  },
  {
   "cell_type": "code",
   "execution_count": 120,
   "id": "36272930-822e-4a8b-b4d7-9c44d053fbb1",
   "metadata": {},
   "outputs": [
    {
     "name": "stdout",
     "output_type": "stream",
     "text": [
      "The original list is : [50, 6, 100, 4, 70, 1, 190]\n",
      "Indices list of min K elements is : [0, 4, 2, 6]\n"
     ]
    }
   ],
   "source": [
    "\n",
    "# Python3 code to demonstrate working of\n",
    "# Smallest K elements indices\n",
    "# using sorted() + lambda + list slicing\n",
    " \n",
    "# Initialize list\n",
    "test_list = [50, 6, 100, 4, 70, 1, 190]\n",
    " \n",
    "# Printing original list\n",
    "print(\"The original list is : \" + str(test_list))\n",
    " \n",
    "# initialize K\n",
    "K = 3\n",
    " \n",
    "# Smallest K elements indices\n",
    "# using sorted() + lambda + list slicing\n",
    "res = sorted(range(len(test_list)), key=lambda sub: test_list[sub])[K:]\n",
    " \n",
    "# Printing result\n",
    "print(\"Indices list of min K elements is : \" + str(res))\n"
   ]
  },
  {
   "cell_type": "code",
   "execution_count": 109,
   "id": "4a380b5e-1d9e-4fc4-992a-aa57c541cfee",
   "metadata": {},
   "outputs": [
    {
     "name": "stdout",
     "output_type": "stream",
     "text": [
      "K Maximum with indices : [(7, 7), (8, 8), (9, 9)]\n"
     ]
    }
   ],
   "source": [
    "# Using sorted() + index()\n",
    "# using sorted() to sort and slice K maximum elements \n",
    "temp = sorted(test_list)[-K:]\n",
    "res = []\n",
    "for ele in temp:\n",
    "     \n",
    "    # encapsulating elements with index using index()\n",
    "    res.append((test_list.index(ele), ele))\n",
    "\n",
    "# printing result \n",
    "print(\"K Maximum with indices : \" + str(res))"
   ]
  },
  {
   "cell_type": "code",
   "execution_count": null,
   "id": "a0ff8adb-383c-456c-8b90-451523bba79d",
   "metadata": {},
   "outputs": [],
   "source": []
  }
 ],
 "metadata": {
  "kernelspec": {
   "display_name": "Python 3 (ipykernel)",
   "language": "python",
   "name": "python3"
  },
  "language_info": {
   "codemirror_mode": {
    "name": "ipython",
    "version": 3
   },
   "file_extension": ".py",
   "mimetype": "text/x-python",
   "name": "python",
   "nbconvert_exporter": "python",
   "pygments_lexer": "ipython3",
   "version": "3.9.10"
  }
 },
 "nbformat": 4,
 "nbformat_minor": 5
}
