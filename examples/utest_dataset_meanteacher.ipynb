{
 "cells": [
  {
   "cell_type": "code",
   "execution_count": null,
   "id": "f3a95370-4962-4fe6-a0c5-3bad3104855d",
   "metadata": {},
   "outputs": [],
   "source": [
    "# unit test\n",
    "import unittest\n",
    "\n",
    "from PIL import Image, ImageDraw\n",
    "\n",
    "import numpy as np\n",
    "\n",
    "import torch\n",
    "from torch.utils.data import Dataset, DataLoader\n",
    "\n",
    "import matplotlib.pyplot as plt\n",
    "\n",
    "import math\n",
    "\n",
    "# \"helper\" needs to be part of sys path\n",
    "import sys\n",
    "sys.path.insert(0, \"helper\")\n",
    "sys.path.insert(0, \"/helper\")\n",
    "sys.path.insert(0, \"./helper\")\n",
    "sys.path.insert(0, \"../helper\")\n",
    "print(sys.path)\n",
    "\n",
    "%load_ext autoreload\n",
    "%autoreload 2\n",
    "\n",
    "# own module\n",
    "from dataset.meanteacher import MeanTeacherTrainDataset, MeanTeacherValDataset"
   ]
  },
  {
   "cell_type": "code",
   "execution_count": null,
   "id": "80136491-080b-4251-b8ac-e37d8dab8b0f",
   "metadata": {},
   "outputs": [],
   "source": [
    "class UnitTestLoss(unittest.TestCase):\n",
    "\n",
    "    def test_item_labelled(self):\n",
    "        \n",
    "        #csv_filenames = [\"../data_prep/mt_data_ichallenge_unlabelled.csv\"] \n",
    "        #csv_filenames = [\"../data_prep/mt_data_ichallenge_non_amd.csv\"] \n",
    "        #csv_filenames = [\"../data_prep/mt_data_ichallenge_amd.csv\"] \n",
    "        #csv_filenames = [\"../data_prep/mt_data_ichallenge_glaucoma.csv\"]\n",
    "        csv_filenames = [\"../data_prep/mt_data_plex.csv\", \"../data_prep/mt_data_ichallenge_amd.csv\", \"../data_prep/mt_data_cirrus.csv\"]\n",
    "        \n",
    "        mtd = MeanTeacherTrainDataset(mode=\"train\", image_size=512, csv_filenames=csv_filenames)\n",
    "        item = mtd.__getitem__(index=800)\n",
    "        print(\"item\")\n",
    "        print(item)\n",
    "    \n",
    "        fig, (ax1, ax2) = plt.subplots(1, 2)\n",
    "        ax1.set_title('img')\n",
    "        ax2.set_title('msk')\n",
    "        ax1.imshow(item[\"img\"].permute(1, 2, 0), cmap=\"gray\")\n",
    "        ax2.imshow(item[\"msk\"].permute(1, 2, 0), cmap=\"gray\")\n",
    "        \n",
    "\n",
    "        #print(\"Checks\")\n",
    "        #print(torch.sum(torch.isnan(item[\"msk\"])))\n",
    "        #print(torch.isnan(item[\"msk\"]))\n",
    "        #print(item[\"msk\"] != item[\"msk\"]) # math.nan\n",
    "        #print(item[\"msk\"])\n",
    "        \n",
    "    def test_item_unlabelled(self):\n",
    "        \n",
    "        #csv_filenames = [\"../data_prep/mt_data_ichallenge_unlabelled.csv\"] \n",
    "        #csv_filenames = [\"../data_prep/mt_data_ichallenge_non_amd.csv\"] \n",
    "        #csv_filenames = [\"../data_prep/mt_data_ichallenge_amd.csv\"] \n",
    "        #csv_filenames = [\"../data_prep/mt_data_ichallenge_glaucoma.csv\"]\n",
    "        csv_filenames = [\"../data_prep/mt_data_cirrus.csv\"]\n",
    "        \n",
    "        mtd = MeanTeacherTrainDataset(mode=\"train\", image_size=512, csv_filenames=csv_filenames)\n",
    "        item = mtd.__getitem__(index=300)\n",
    "        print(\"item\")\n",
    "        print(item)\n",
    "    \n",
    "        fig, (ax1, ax2) = plt.subplots(1, 2)\n",
    "        \n",
    "        ax1.set_title('img')\n",
    "        ax2.set_title('msk')\n",
    "        ax1.imshow(item[\"img\"].permute(1, 2, 0), cmap=\"gray\")\n",
    "        ax2.imshow(item[\"msk\"].permute(1, 2, 0), cmap=\"gray\")\n",
    "        \n",
    "        #print(\"Checks\")\n",
    "        #print(torch.sum(torch.isnan(item[\"msk\"])))\n",
    "        #print(torch.isnan(item[\"msk\"]))\n",
    "        #print(item[\"msk\"] != item[\"msk\"]) # math.nan\n",
    "        #print(item[\"msk\"])"
   ]
  },
  {
   "cell_type": "code",
   "execution_count": null,
   "id": "1ac2de3e-2440-477a-9b9e-0f654d9de005",
   "metadata": {},
   "outputs": [],
   "source": [
    "if __name__ == '__main__':\n",
    "    unittest.main(argv=['first-arg-is-ignored'], exit=False)"
   ]
  },
  {
   "cell_type": "code",
   "execution_count": null,
   "id": "c1e0617d-03b2-4ab6-82fe-f12a1b406e3c",
   "metadata": {},
   "outputs": [],
   "source": [
    "from dataset.transform.image2image import *"
   ]
  },
  {
   "cell_type": "code",
   "execution_count": null,
   "id": "6b931e60-4735-47a9-a720-be460b1d41f5",
   "metadata": {},
   "outputs": [],
   "source": [
    "tgt_paths = glob.glob(\"E:/Christina/Result_Data/CIRRUS_Glaucoma/enface/*_cube_z.tif\")\n",
    "import torchvision.transforms\n",
    "f = [FourierDomainAdapTransform(tgt_paths=tgt_paths)]\n",
    "f = torchvision.transforms.Compose(f)"
   ]
  },
  {
   "cell_type": "code",
   "execution_count": null,
   "id": "9e5afcbe-373b-46fd-b366-596145b17c20",
   "metadata": {},
   "outputs": [],
   "source": [
    "import glob\n",
    "\n",
    "from skimage import img_as_ubyte\n",
    "\n",
    "image_paths = glob.glob(\"E:/Christina/Result_Data/ADAM_AMD/fundus/*.jpg\"  )\n",
    "\n",
    "for i, path in enumerate( image_paths):\n",
    "    \n",
    "    try:\n",
    "        image = skimage.io.imread(path, plugin='tifffile')\n",
    "    except:\n",
    "        image = skimage.io.imread(path, as_gray=True)\n",
    "        image = img_as_ubyte(image)\n",
    "    \n",
    "    item = f({\"img\" : image, \"has_mask\" : True})\n",
    "    \n",
    "    \n",
    "    \n",
    "    image = item[\"img\"]\n",
    "    \n",
    "    #print(image.shape)\n",
    "    \n",
    "    p = f\"E:/Christina/Result_Data/FDA_Fundus_2_CIRRUS/fda_fundus_to_cirrus{i}.jpg\"\n",
    "    #print(p)\n",
    "    skimage.io.imsave(p, image)"
   ]
  },
  {
   "cell_type": "code",
   "execution_count": null,
   "id": "a95c46b2-d7a5-48ad-a090-165be200f306",
   "metadata": {},
   "outputs": [],
   "source": []
  }
 ],
 "metadata": {
  "kernelspec": {
   "display_name": "Python 3 (ipykernel)",
   "language": "python",
   "name": "python3"
  },
  "language_info": {
   "codemirror_mode": {
    "name": "ipython",
    "version": 3
   },
   "file_extension": ".py",
   "mimetype": "text/x-python",
   "name": "python",
   "nbconvert_exporter": "python",
   "pygments_lexer": "ipython3",
   "version": "3.9.10"
  }
 },
 "nbformat": 4,
 "nbformat_minor": 5
}
