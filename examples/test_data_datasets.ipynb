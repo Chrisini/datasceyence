{
 "cells": [
  {
   "cell_type": "markdown",
   "id": "d6366f3b-d324-4f8d-8991-df340d1c2073",
   "metadata": {},
   "source": [
    "# Dataset tests"
   ]
  },
  {
   "cell_type": "code",
   "execution_count": 8,
   "id": "9c7409fb-9bf3-4a9a-8639-0ae2ccf53cb0",
   "metadata": {},
   "outputs": [],
   "source": [
    "from torchvision import datasets, transforms\n",
    "import torch"
   ]
  },
  {
   "cell_type": "markdown",
   "id": "b9d7e803-36b3-43f8-8088-975dd55335d9",
   "metadata": {},
   "source": [
    "# MNIST"
   ]
  },
  {
   "cell_type": "code",
   "execution_count": 9,
   "id": "1ad73a21-152a-4b33-8ed4-e3df27ac8c01",
   "metadata": {},
   "outputs": [
    {
     "name": "stdout",
     "output_type": "stream",
     "text": [
      "10000\n",
      "60000\n"
     ]
    }
   ],
   "source": [
    "transform=transforms.Compose([\n",
    "    transforms.ToTensor(),\n",
    "    transforms.Normalize((0.1307,), (0.3081,))\n",
    "    ])\n",
    "dataset = datasets.MNIST('example_data', train=True, download=True, transform=transform)\n",
    "val_set = datasets.MNIST('example_data', train=False, download=True, transform=transform)\n",
    "\n",
    "print(len(val_set))\n",
    "print(len(dataset))"
   ]
  },
  {
   "cell_type": "markdown",
   "id": "78a96613-778f-4b6f-b27b-704a110172eb",
   "metadata": {},
   "source": [
    "# Labels"
   ]
  },
  {
   "cell_type": "code",
   "execution_count": 10,
   "id": "9397ab9d-74e2-4561-a903-3bc110055b8d",
   "metadata": {},
   "outputs": [
    {
     "name": "stdout",
     "output_type": "stream",
     "text": [
      "tensor([[1., 1., 1., 0., 0., 1., 0., 0., 0., 0.]])\n",
      "tensor([[1, 0, 5, 2]])\n"
     ]
    }
   ],
   "source": [
    "labels = torch.tensor([1, 0, 5, 2])\n",
    "labels = labels.unsqueeze(0)\n",
    "\n",
    "target = torch.zeros(labels.size(0), 10).scatter_(1, labels, 1.)\n",
    "print(target)\n",
    "print(labels)"
   ]
  },
  {
   "cell_type": "code",
   "execution_count": null,
   "id": "3872a6d9-0cf0-402c-9552-d7b440d9d11e",
   "metadata": {},
   "outputs": [],
   "source": []
  }
 ],
 "metadata": {
  "kernelspec": {
   "display_name": "Python 3 (ipykernel)",
   "language": "python",
   "name": "python3"
  },
  "language_info": {
   "codemirror_mode": {
    "name": "ipython",
    "version": 3
   },
   "file_extension": ".py",
   "mimetype": "text/x-python",
   "name": "python",
   "nbconvert_exporter": "python",
   "pygments_lexer": "ipython3",
   "version": "3.9.10"
  }
 },
 "nbformat": 4,
 "nbformat_minor": 5
}
