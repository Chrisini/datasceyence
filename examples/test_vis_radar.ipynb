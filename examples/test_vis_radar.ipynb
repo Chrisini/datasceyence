{
 "cells": [
  {
   "cell_type": "code",
   "execution_count": 1,
   "id": "8af5e177-376c-4add-bd46-f0e57a4e5a57",
   "metadata": {},
   "outputs": [
    {
     "name": "stdout",
     "output_type": "stream",
     "text": [
      "['../helper', 'C:\\\\Users\\\\Prinzessin\\\\projects\\\\decentnet\\\\datasceyence\\\\examples', 'C:\\\\Users\\\\Prinzessin\\\\anaconda3\\\\envs\\\\feta\\\\python39.zip', 'C:\\\\Users\\\\Prinzessin\\\\anaconda3\\\\envs\\\\feta\\\\DLLs', 'C:\\\\Users\\\\Prinzessin\\\\anaconda3\\\\envs\\\\feta\\\\lib', 'C:\\\\Users\\\\Prinzessin\\\\anaconda3\\\\envs\\\\feta', '', 'C:\\\\Users\\\\Prinzessin\\\\AppData\\\\Roaming\\\\Python\\\\Python39\\\\site-packages', 'C:\\\\Users\\\\Prinzessin\\\\anaconda3\\\\envs\\\\feta\\\\lib\\\\site-packages', 'C:\\\\Users\\\\Prinzessin\\\\anaconda3\\\\envs\\\\feta\\\\lib\\\\site-packages\\\\win32', 'C:\\\\Users\\\\Prinzessin\\\\anaconda3\\\\envs\\\\feta\\\\lib\\\\site-packages\\\\win32\\\\lib', 'C:\\\\Users\\\\Prinzessin\\\\anaconda3\\\\envs\\\\feta\\\\lib\\\\site-packages\\\\Pythonwin', 'C:\\\\Users\\\\Prinzessin\\\\anaconda3\\\\envs\\\\feta\\\\lib\\\\site-packages\\\\IPython\\\\extensions', 'C:\\\\Users\\\\Prinzessin\\\\.ipython']\n"
     ]
    }
   ],
   "source": [
    "import os\n",
    "\n",
    "import pandas as pd\n",
    "\n",
    "import sys\n",
    "sys.path.insert(0, \"../helper\")\n",
    "print(sys.path)\n",
    "\n",
    "# own module\n",
    "from visualisation.colour import *\n",
    "from visualisation.radar_plot import * \n"
   ]
  },
  {
   "cell_type": "code",
   "execution_count": 11,
   "id": "e09125d9-8199-4664-9a69-dcd103b0333b",
   "metadata": {},
   "outputs": [],
   "source": [
    "path = r\"C:/Users/Prinzessin/projects/decentnet/datasceyence/examples/example_results/lightning_logs/first_ever_experiment_xAI/version_0\"\n",
    "\n",
    "save_path = os.path.join(path, \"radar\")\n",
    "os.makedirs(save_path, exist_ok=True)\n",
    "\n",
    "colours = normal_amd_cnv_dr.colors\n",
    "data, disease_labels = get_csv_data(path)\n",
    "concept_labels = data[0]\n",
    "data = data[1:]\n",
    "theta = radar_factory(len(concept_labels), frame='polygon')\n",
    "\n",
    "plot_each_filter(data, theta, make_pretty=False, colours=colours, concept_labels=concept_labels, save_path=save_path)"
   ]
  },
  {
   "cell_type": "code",
   "execution_count": 3,
   "id": "79e71970-3d0a-4647-bd11-c1332aca53dc",
   "metadata": {},
   "outputs": [
    {
     "name": "stdout",
     "output_type": "stream",
     "text": [
      "[(0.6980392156862745, 0.8745098039215686, 0.5411764705882353), (0.792156862745098, 0.6980392156862745, 0.8392156862745098), (0.41568627450980394, 0.23921568627450981, 0.6039215686274509), (0.6509803921568628, 0.807843137254902, 0.8901960784313725)]\n"
     ]
    }
   ],
   "source": [
    "print(colours)"
   ]
  },
  {
   "cell_type": "code",
   "execution_count": 4,
   "id": "f857df4e-c5be-48f1-8977-625205da7600",
   "metadata": {},
   "outputs": [
    {
     "name": "stdout",
     "output_type": "stream",
     "text": [
      "['healthy' 'amd' 'cnv' 'dr']\n"
     ]
    }
   ],
   "source": [
    "print(disease_labels)"
   ]
  },
  {
   "cell_type": "code",
   "execution_count": 5,
   "id": "007905e8-11af-4a79-8a31-1fb7d2e18cc8",
   "metadata": {},
   "outputs": [
    {
     "name": "stdout",
     "output_type": "stream",
     "text": [
      "['abyss', 'RNFL-to-IPL', 'INL-to-OPL', 'ONL+IS', 'OS', 'RPE', 'CH']\n"
     ]
    }
   ],
   "source": [
    "print(concept_labels)"
   ]
  },
  {
   "cell_type": "code",
   "execution_count": 6,
   "id": "c07ae779-57f3-473f-9813-6a1d4170c846",
   "metadata": {},
   "outputs": [
    {
     "name": "stdout",
     "output_type": "stream",
     "text": [
      "('0_13_3', [[6.352997192225651, 5.635592349906759, 5.33350069656785, 5.701891425729246, 3.8208888513501895, 0.0, 6.932337645900271], [6.316724687528439, 5.56767577361849, 5.227047185301657, 5.552046941304843, 4.837103914924532, 2.584962500721156, 6.855485011754851], [6.407469411385767, 5.466978586977477, 5.133408466954942, 5.45629354659592, 4.718488437474712, 2.584962500721156, 7.022024217897084], [6.289402526067804, 5.769784485064123, 5.4693247094270365, 5.788812088338684, 3.9603987016834057, 0.0, 6.795536558593286]])\n"
     ]
    }
   ],
   "source": [
    "print(data[0])"
   ]
  },
  {
   "cell_type": "code",
   "execution_count": 7,
   "id": "325fc828-e0f9-4301-8b8d-fcfb4b917460",
   "metadata": {},
   "outputs": [
    {
     "name": "stdout",
     "output_type": "stream",
     "text": [
      "('9_7_2', [[6.453922310876727, 5.222842753365256, 4.746347922255842, 5.641962939381969, 4.33209539866017, 0.0, 6.825262236786309], [6.539436579936693, 5.476906232857299, 5.004258030953043, 5.412731923108907, 4.960018242943092, 3.0163326399706234, 6.847646706325031], [6.5881380312166415, 5.200801918141953, 4.814038455005564, 5.459777881186664, 4.933322169263464, 0.0, 6.976747231903384], [6.50931702914616, 5.434945349750933, 5.096484492463503, 6.05117288411629, 4.622013778637555, 0.0, 6.8342145536562295]])\n"
     ]
    }
   ],
   "source": [
    "print(data[-1])"
   ]
  },
  {
   "cell_type": "code",
   "execution_count": 8,
   "id": "d4c96d1b-e7a5-420b-bb97-d992f0519d8b",
   "metadata": {},
   "outputs": [
    {
     "name": "stdout",
     "output_type": "stream",
     "text": [
      "[0.         0.8975979  1.7951958  2.6927937  3.5903916  4.48798951\n",
      " 5.38558741]\n"
     ]
    }
   ],
   "source": [
    "print(theta)"
   ]
  },
  {
   "cell_type": "code",
   "execution_count": 9,
   "id": "2fc36ed6-1065-4818-9d60-bf161b2e6fbd",
   "metadata": {},
   "outputs": [],
   "source": [
    "# colors = ['#4682B4', '#DC143C', '#FF8C00', '#00CED1', '#9400D3']\n",
    "#colors = ['#AEC6CF', '#FFB6C1', '#FFDAB9', '#B39EB5', '#FF6961']\n",
    "#colors = ['#87A7B3', '#FF9AA2', '#FFB69E', '#937D92', '#E25B5D']\n",
    "#colors = ['#55787F', '#FF5A66', '#FF7C5F', '#6D5671', '#C43E41']\n",
    "\n",
    "# colors = ['#FF0000', '#00FFFF', '#FF5700', '#370617', '#FF006E']\n",
    "\n",
    "#colors = sns.color_palette(\"Paired\")[4:]\n",
    "# diverging\n",
    "#colors = sns.color_palette(\"Paired\")\n",
    "#colors.pop(4)\n",
    "#colors.pop(4)\n",
    "\n",
    "#colors = sns.color_palette(\"diverging\")\n",
    "\n",
    "#colors = ['#8A2BE2', '#00CED1', '#FF7F50', '#00FF00']\n",
    "#colors = ['#8A2BE2', '#00CED1', '#FF7F50', '#FFD700']\n",
    "\n",
    "\n",
    "#data, disease_labels = get_csv_data()\n",
    "# data\n",
    "\n",
    "#get_csv_data()"
   ]
  },
  {
   "cell_type": "code",
   "execution_count": 10,
   "id": "5f247e1b-bc79-44d8-9dba-ade82ec892f0",
   "metadata": {},
   "outputs": [
    {
     "data": {
      "text/plain": [
       "9"
      ]
     },
     "execution_count": 10,
     "metadata": {},
     "output_type": "execute_result"
    }
   ],
   "source": [
    "# data\n",
    "a, b = example_data()\n",
    "a\n",
    "\n",
    "data, disease_labels = example_data()\n",
    "len(data[0])"
   ]
  }
 ],
 "metadata": {
  "kernelspec": {
   "display_name": "Python 3 (ipykernel)",
   "language": "python",
   "name": "python3"
  },
  "language_info": {
   "codemirror_mode": {
    "name": "ipython",
    "version": 3
   },
   "file_extension": ".py",
   "mimetype": "text/x-python",
   "name": "python",
   "nbconvert_exporter": "python",
   "pygments_lexer": "ipython3",
   "version": "3.9.10"
  }
 },
 "nbformat": 4,
 "nbformat_minor": 5
}
