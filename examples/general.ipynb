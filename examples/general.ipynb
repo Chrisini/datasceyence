{
 "cells": [
  {
   "cell_type": "markdown",
   "id": "0c113af1-da2a-474d-b281-20d163a23edf",
   "metadata": {},
   "source": [
    "# Activation Functions - dimensions"
   ]
  },
  {
   "cell_type": "code",
   "execution_count": 1,
   "id": "fb4adc42-cc62-4c9d-92ed-56e2eadfb26c",
   "metadata": {},
   "outputs": [
    {
     "name": "stdout",
     "output_type": "stream",
     "text": [
      "tensor([[[ 0.1900,  0.8290, -0.3285],\n",
      "         [ 0.8916, -0.5556, -0.8311]]])\n",
      "tensor([[[0.3315, 0.7997, 0.6231],\n",
      "         [0.6685, 0.2003, 0.3769]]])\n"
     ]
    }
   ],
   "source": [
    "import torch.nn\n",
    "\n",
    "m = torch.nn.Softmax(dim=1)\n",
    "img = torch.randn(1, 2, 3)\n",
    "model_output = m(img)\n",
    "\n",
    "print(img)\n",
    "print(model_output)"
   ]
  },
  {
   "cell_type": "markdown",
   "id": "2880fe6e-72b8-4182-aacf-2a28f686230a",
   "metadata": {},
   "source": [
    "# MSE"
   ]
  },
  {
   "cell_type": "code",
   "execution_count": 187,
   "id": "595b102d-00b1-4878-8492-d3aa29930b68",
   "metadata": {},
   "outputs": [
    {
     "name": "stdout",
     "output_type": "stream",
     "text": [
      "tensor(0.0200) tensor(0.0800) tensor(0.4450)\n"
     ]
    }
   ],
   "source": [
    "criterion = torch.nn.MSELoss()\n",
    "\n",
    "# x and y coordinate of center of max area element pred and center of oval around max area element pred\n",
    "\n",
    "good = criterion(torch.tensor([0.5, 0.1]), torch.tensor([0.3, 0.1]))\n",
    "mid = criterion(torch.tensor([0.5, 0.1]), torch.tensor([0.10, 0.1]))\n",
    "bad = criterion(torch.tensor([0.8, 0.9]), torch.tensor([0.3, 0.1]))\n",
    "\n",
    "print(good, mid, bad)"
   ]
  },
  {
   "cell_type": "markdown",
   "id": "0c3c24c9-7348-412d-8a36-b5cee5ff440c",
   "metadata": {},
   "source": [
    "# Rampup function visualisation"
   ]
  },
  {
   "cell_type": "code",
   "execution_count": 2,
   "id": "aba393e8-9e41-46fc-9d74-0085ba7b898a",
   "metadata": {},
   "outputs": [
    {
     "name": "stdout",
     "output_type": "stream",
     "text": [
      "0.010132432219606831\n"
     ]
    },
    {
     "data": {
      "image/png": "[encoded data removed]",
      "text/plain": [
       "<Figure size 432x288 with 1 Axes>"
      ]
     },
     "metadata": {
      "needs_background": "light"
     },
     "output_type": "display_data"
    }
   ],
   "source": [
    "import numpy as np\n",
    "import matplotlib.pyplot as plt\n",
    "\n",
    "currents = range(0, 1000)\n",
    "rampup_length = 600\n",
    "\n",
    "results = []\n",
    "for current in currents:\n",
    "    current = np.clip(current, 0.0, rampup_length)\n",
    "    result = float(np.exp(-5.0 * (1.0 - current / rampup_length) ** 2))\n",
    "    results.append(result)\n",
    "\n",
    "print(results[25])\n",
    "    \n",
    "plt.figure()\n",
    "plt.plot(currents, results, color = 'k', label = \"ramp(t, 75)\")\n",
    "plt.xlabel(\"Epoch t\")\n",
    "plt.ylabel(\"Rampup value [0, 1]\")\n",
    "plt.axvline(x = 75, color = 'darkorange', label = 't=75: 1.0', linestyle = '-.')\n",
    "plt.axhline(y = 1, color = 'darkorange', linestyle = '-.')\n",
    "plt.axvline(x = 50, color = 'mediumvioletred', label = 't=50: 0.57', linestyle = '--')\n",
    "plt.axhline(y = 0.57, color = 'mediumvioletred', linestyle = '--')\n",
    "plt.axvline(x = 25, color = 'teal', label = 't=25: 0.11', linestyle = ':')\n",
    "plt.axhline(y = 0.11, color = 'teal', linestyle = ':')\n",
    "plt.legend(loc = 'lower right', facecolor=\"white\", framealpha=1, fontsize=\"large\")\n",
    "plt.tight_layout()\n",
    "plt.savefig(\"example_results/rampup.png\", dpi=1200)\n"
   ]
  },
  {
   "cell_type": "markdown",
   "id": "fb44a9fd-2ef1-4a42-b5e2-62f77d4e9a2c",
   "metadata": {},
   "source": [
    "# dict from keys"
   ]
  },
  {
   "cell_type": "code",
   "execution_count": 3,
   "id": "48ce5390-b0ce-44e1-84ba-8ee4fe9b0b2b",
   "metadata": {},
   "outputs": [
    {
     "name": "stdout",
     "output_type": "stream",
     "text": [
      "{'loss': [], 'acc': [], 'fscore': [], 'fmicro': [], 'jac': [], 'prec': [], 'rec': [], 'symhd': []}\n",
      "{'loss': [4, 4, 4, 4, 4], 'acc': [], 'fscore': [], 'fmicro': [], 'jac': [], 'prec': [], 'rec': [], 'symhd': []}\n"
     ]
    }
   ],
   "source": [
    "b_keys = [  'loss',\n",
    "            'acc', 'fscore', 'fmicro', 'jac', 'prec', 'rec',\n",
    "            'symhd' # task specific: segmentation\n",
    "        ]\n",
    "\n",
    "# everything we want to track\n",
    "batch_collector = { key : [] for key in b_keys }\n",
    "\n",
    "print(batch_collector)\n",
    "\n",
    "for i in range(5):\n",
    "    batch_collector[\"loss\"].append(4)\n",
    "    # batch_collector[\"acc\"] = 1.0\n",
    "\n",
    "print(batch_collector)"
   ]
  },
  {
   "cell_type": "code",
   "execution_count": 4,
   "id": "8617f66c-9bd3-40a1-b12b-160155700023",
   "metadata": {},
   "outputs": [
    {
     "name": "stdout",
     "output_type": "stream",
     "text": [
      "{'Destination': 'China', 'Nationality': 'Italian', 'Age': [2, 2, 2, 2, 2]}\n"
     ]
    }
   ],
   "source": [
    "Details = {\"Destination\": \"China\", \n",
    "           \"Nationality\": \"Italian\", \"Age\": []}\n",
    "\n",
    "for i in range(5):\n",
    "    Details[\"Age\"].append(2) # [20, \"Twenty\"]\n",
    "    \n",
    "print(Details)"
   ]
  },
  {
   "cell_type": "code",
   "execution_count": 5,
   "id": "503f082a-1de8-4451-a5ec-dfa6e2b155d3",
   "metadata": {},
   "outputs": [
    {
     "name": "stdout",
     "output_type": "stream",
     "text": [
      "loss 4.0\n",
      "acc nan\n",
      "fscore nan\n",
      "fmicro nan\n",
      "jac nan\n",
      "prec nan\n",
      "rec nan\n",
      "symhd nan\n"
     ]
    },
    {
     "name": "stderr",
     "output_type": "stream",
     "text": [
      "C:\\Users\\Prinzessin\\anaconda3\\envs\\feta\\lib\\site-packages\\numpy\\core\\fromnumeric.py:3419: RuntimeWarning: Mean of empty slice.\n",
      "  return _methods._mean(a, axis=axis, dtype=dtype,\n",
      "C:\\Users\\Prinzessin\\anaconda3\\envs\\feta\\lib\\site-packages\\numpy\\core\\_methods.py:188: RuntimeWarning: invalid value encountered in double_scalars\n",
      "  ret = ret.dtype.type(ret / rcount)\n"
     ]
    }
   ],
   "source": [
    "for key in batch_collector.keys():\n",
    "    print(key, np.mean(batch_collector[key]))\n",
    "    "
   ]
  },
  {
   "cell_type": "code",
   "execution_count": 6,
   "id": "dc15ca34-aa93-4e23-bf8f-2f7942c04861",
   "metadata": {},
   "outputs": [
    {
     "name": "stdout",
     "output_type": "stream",
     "text": [
      "{'u': [], 'a': ['hi'], 'o': [], 'i': [], 'e': []}\n"
     ]
    }
   ],
   "source": [
    "# set of vowels\n",
    "keys = {'a', 'e', 'i', 'o', 'u' }\n",
    "\n",
    "# assign empty list to value\n",
    "value = []\n",
    "\n",
    "# creates a dictionary with keys and values\n",
    "vowels = { key : [] for key in keys }\n",
    "\n",
    "vowels[\"a\"].append(\"hi\")\n",
    "\n",
    "print(vowels)"
   ]
  },
  {
   "cell_type": "markdown",
   "id": "3dfbcd35-e40b-4d00-96eb-41ed03e06194",
   "metadata": {},
   "source": [
    "# Grid Search"
   ]
  },
  {
   "cell_type": "code",
   "execution_count": 7,
   "id": "af99fb06-f4ed-4b55-a6ab-349c2821133f",
   "metadata": {},
   "outputs": [],
   "source": [
    "param_grid = [\n",
    "  {'C': [1, 10, 100, 1000], 'kernel': ['linear']},\n",
    "  {'C': [1, 10, 100, 1000], 'gamma': [0.001, 0.0001], 'kernel': ['rbf']},\n",
    " ]"
   ]
  },
  {
   "cell_type": "markdown",
   "id": "b1cf7c67-3592-49f9-a0db-b72503b3659f",
   "metadata": {},
   "source": [
    "# doing contour stuff here - to draw an area, it needs to be in a list"
   ]
  },
  {
   "cell_type": "code",
   "execution_count": null,
   "id": "5f8a1b9e-f3a9-4356-908e-80e5efd4c213",
   "metadata": {},
   "outputs": [],
   "source": [
    "import numpy as np\n",
    "import cv2\n",
    "img = cv2.imread('E:/Christina/Result_Data/ADAM_AMD/fundus_mask_bin/A0010.bmp', cv2.IMREAD_GRAYSCALE)\n",
    "assert img is not None, \"file could not be read, check with os.path.exists()\"\n",
    "ret,thresh = cv2.threshold(img,127,255,0)\n",
    "contours,hierarchy = cv2.findContours(thresh, 1, 2)\n",
    "cnt = contours[0]\n",
    "M = cv.moments(cnt)\n",
    "print( M )\n",
    "\n",
    "area = cv2.contourArea(cnt)\n",
    "print(area)\n",
    "\n",
    "num_labels, labels_im = cv2.findContours(thresh, cv2.RETR_CCOMP, cv2.CHAIN_APPROX_SIMPLE)    \n",
    "if len(num_labels) > 0:\n",
    "    max_area = max(num_labels, key = cv2.contourArea)\n",
    "    max_area = cv2.contourArea(max_area)\n",
    "    print(max_area)"
   ]
  },
  {
   "cell_type": "markdown",
   "id": "151f5794-fd75-4b04-9137-aef238465d7b",
   "metadata": {},
   "source": [
    "# segmentation model"
   ]
  },
  {
   "cell_type": "code",
   "execution_count": 59,
   "id": "d4d19a07-896e-40ff-8bea-176a62449381",
   "metadata": {},
   "outputs": [
    {
     "name": "stderr",
     "output_type": "stream",
     "text": [
      "C:\\Users\\Prinzessin\\AppData\\Local\\Temp\\ipykernel_22980\\209935705.py:29: UserWarning: To copy construct from a tensor, it is recommended to use sourceTensor.clone().detach() or sourceTensor.clone().detach().requires_grad_(True), rather than torch.tensor(sourceTensor).\n",
      "  img = torch.tensor(img, requires_grad=True)\n"
     ]
    }
   ],
   "source": [
    "import segmentation_models_pytorch as smp\n",
    "import torchvision.datasets\n",
    "import torchvision.transforms\n",
    "device = \"cpu\"\n",
    "\n",
    "s_model = smp.UnetPlusPlus(\n",
    "                        encoder_name=\"efficientnet-b0\",        # choose encoder, e.g. mobilenet_v2 or efficientnet-b7\n",
    "                        encoder_weights=\"imagenet\",\n",
    "                        in_channels=3,          # model input channels (1 for gray-scale images, 3 for RGB, etc.)\n",
    "                        classes=2,         # model output channels (number of classes in your dataset)\n",
    "                        aux_params =dict(\n",
    "                            pooling='avg',             # one of 'avg', 'max'\n",
    "                            dropout=0.5,               # dropout ratio, default is None\n",
    "                            activation='sigmoid',      # activation function, default is None\n",
    "                            classes=4,                 # define number of output labels\n",
    "                        )\n",
    "                    )\n",
    "\n",
    "\n",
    "# print(s_model.encoder)\n",
    "\n",
    "ichallenge_data = torchvision.datasets.ImageFolder('example_data')\n",
    "img, label = ichallenge_data.__getitem__(1)\n",
    "\n",
    "resize = torchvision.transforms.Resize((256, 256))\n",
    "to_tensor = torchvision.transforms.ToTensor()\n",
    "img = to_tensor(resize(img)).unsqueeze(dim=0).to(device)\n",
    "\n",
    "img = torch.tensor(img, requires_grad=True)\n"
   ]
  },
  {
   "cell_type": "code",
   "execution_count": 60,
   "id": "96de8bc3-26fc-40b2-9f0a-45bad64a9b83",
   "metadata": {},
   "outputs": [
    {
     "data": {
      "text/plain": [
       "torch.Size([1, 3, 256, 256])"
      ]
     },
     "execution_count": 60,
     "metadata": {},
     "output_type": "execute_result"
    }
   ],
   "source": [
    "img.shape"
   ]
  },
  {
   "cell_type": "code",
   "execution_count": 61,
   "id": "befc6c0a-2687-4ce6-9692-93d24f3a2bda",
   "metadata": {},
   "outputs": [
    {
     "name": "stdout",
     "output_type": "stream",
     "text": [
      "tensor([[[[-3.2287e+00, -2.9443e-01,  2.4354e+00,  ...,  7.8962e-02,\n",
      "            1.5800e+00,  4.1605e-01],\n",
      "          [-3.2185e+00, -1.8237e+00,  2.3771e+00,  ..., -1.5823e+00,\n",
      "            1.1622e+00,  1.2906e+00],\n",
      "          [-4.7241e+00, -1.4297e+00,  3.5937e+00,  ..., -2.0682e+00,\n",
      "            5.0089e-01,  1.2916e+00],\n",
      "          ...,\n",
      "          [ 4.6199e-01,  4.0764e-01, -3.2802e+00,  ..., -7.9685e-01,\n",
      "           -8.0828e-01, -1.2488e+00],\n",
      "          [ 7.9828e-01, -5.0191e-01, -1.2954e+00,  ..., -1.3759e-02,\n",
      "           -6.9857e-01, -4.3763e-01],\n",
      "          [ 5.5215e-01,  5.2819e-01,  1.6702e+00,  ...,  6.2360e+00,\n",
      "            3.4746e+00,  1.9865e+00]],\n",
      "\n",
      "         [[-1.9588e+00,  1.7296e+00, -7.8145e-01,  ..., -2.5324e+00,\n",
      "           -1.8729e+00, -4.8150e+00],\n",
      "          [-8.0341e-01,  3.7225e+00,  2.2803e+00,  ...,  6.4071e-01,\n",
      "           -1.1455e+00, -4.1234e+00],\n",
      "          [-3.5486e+00,  9.4624e+00,  4.3165e+00,  ...,  8.5058e-01,\n",
      "            2.9397e+00, -3.1713e+00],\n",
      "          ...,\n",
      "          [-3.0981e+00,  3.2390e+00,  4.6239e+00,  ...,  2.9661e+00,\n",
      "            2.6705e+00, -1.7289e+00],\n",
      "          [-1.6159e+00, -6.0232e-01,  2.8008e+00,  ...,  4.1082e+00,\n",
      "            9.8452e-01, -1.7599e+00],\n",
      "          [-1.5935e+00, -1.0923e+00, -7.2498e-01,  ..., -3.8085e+00,\n",
      "           -2.5955e+00, -2.4186e+00]],\n",
      "\n",
      "         [[ 3.8528e-02,  8.1032e-02, -5.1120e-01,  ..., -1.3264e+00,\n",
      "           -5.2673e-01, -3.3035e-01],\n",
      "          [-5.8121e-01, -1.1013e+00, -2.8534e+00,  ..., -6.9432e-01,\n",
      "            3.2737e-01, -7.8694e-01],\n",
      "          [-1.4886e+00,  1.2523e-01, -6.0420e-03,  ..., -6.9660e-01,\n",
      "           -9.3912e-02,  2.7839e-01],\n",
      "          ...,\n",
      "          [-8.5002e-01, -2.0831e+00, -1.2757e+00,  ...,  1.3031e+00,\n",
      "            2.3915e+00,  2.1717e+00],\n",
      "          [ 1.3004e+00,  9.0833e-01,  3.3594e-02,  ..., -6.3685e-01,\n",
      "            5.2434e-01,  1.2987e+00],\n",
      "          [ 1.5939e+00,  2.0138e+00,  2.9852e+00,  ...,  3.2092e+00,\n",
      "            1.7290e+00,  4.1199e-01]],\n",
      "\n",
      "         ...,\n",
      "\n",
      "         [[ 8.8268e-01,  1.0147e+00,  1.1509e+00,  ...,  1.1183e+00,\n",
      "            1.2510e+00,  2.7347e+00],\n",
      "          [ 8.2757e-01,  2.1395e-01,  1.2768e+00,  ..., -1.7194e-01,\n",
      "           -6.9805e-01,  2.3965e+00],\n",
      "          [-1.1551e+00, -3.8646e+00, -3.4398e-01,  ..., -6.9123e-01,\n",
      "           -1.8656e+00,  7.6401e-01],\n",
      "          ...,\n",
      "          [ 4.3027e+00,  5.6156e+00, -2.0451e+00,  ..., -3.7948e+00,\n",
      "            1.7394e+00,  2.1296e+00],\n",
      "          [ 3.8775e+00,  5.4639e+00,  1.1803e+00,  ...,  1.7122e-01,\n",
      "            2.0734e+00,  2.9555e+00],\n",
      "          [ 2.3551e+00,  1.8609e+00,  2.3386e-01,  ..., -2.9693e+00,\n",
      "            2.5914e-01,  2.9004e+00]],\n",
      "\n",
      "         [[-1.9775e+00, -4.1883e-01,  1.9852e+00,  ...,  3.1025e+00,\n",
      "            1.1728e+00, -1.0533e+00],\n",
      "          [-2.1001e+00, -1.2920e+00,  1.1341e+00,  ...,  4.7115e+00,\n",
      "            1.5770e+00,  4.9754e-01],\n",
      "          [-3.3273e+00,  7.6337e-01,  3.6163e+00,  ..., -1.4662e+00,\n",
      "           -1.2103e+00, -9.3339e-01],\n",
      "          ...,\n",
      "          [-6.4928e+00, -5.4913e+00, -2.7908e+00,  ...,  2.1589e-01,\n",
      "           -5.1937e-01, -2.6743e+00],\n",
      "          [-1.7351e+00, -2.7453e+00, -1.3217e+00,  ...,  1.3656e+00,\n",
      "            4.6095e-01, -2.2963e+00],\n",
      "          [ 9.4742e-01,  1.1630e+00,  6.1480e-01,  ...,  1.0970e+00,\n",
      "           -5.8429e-01, -2.3874e+00]],\n",
      "\n",
      "         [[-6.6270e-01, -2.1796e+00,  1.3454e+00,  ...,  7.3961e-01,\n",
      "            7.0642e-01, -6.0205e-01],\n",
      "          [-3.5052e+00, -4.4104e+00,  8.4448e-01,  ...,  2.2954e+00,\n",
      "            1.0123e+00, -9.4109e-01],\n",
      "          [ 5.3071e-01, -1.4140e+00, -5.2211e+00,  ...,  3.8430e+00,\n",
      "            1.3106e+00, -4.0336e+00],\n",
      "          ...,\n",
      "          [ 2.9710e+00,  2.7232e+00, -1.8186e+00,  ...,  1.5100e+00,\n",
      "            2.0011e+00, -6.7431e-01],\n",
      "          [-8.6712e-01, -9.2501e-01, -8.3898e-01,  ...,  3.6099e+00,\n",
      "            1.5235e+00, -1.3987e+00],\n",
      "          [-3.7335e-01, -2.7690e+00, -2.0048e+00,  ...,  3.0072e+00,\n",
      "            6.9201e-01, -5.1608e-01]]]], grad_fn=<NativeBatchNormBackward0>)\n"
     ]
    }
   ],
   "source": [
    "pred = s_model.encoder(img)\n",
    "\n",
    "# self.encoder.out_channels[-1]\n",
    "\n",
    "pred = pred[-1]\n",
    "\n",
    "print(pred)\n",
    "\n",
    "pred = s_model.classification_head(pred)"
   ]
  },
  {
   "cell_type": "code",
   "execution_count": 62,
   "id": "09d1b2b0-73f8-4732-bbbd-4823e050b9c8",
   "metadata": {},
   "outputs": [],
   "source": [
    "s_model.encoder._conv_head.static_padding = s_model.classification_head"
   ]
  },
  {
   "cell_type": "code",
   "execution_count": 63,
   "id": "584362f6-7038-420c-a4bd-e1b3b6b53794",
   "metadata": {},
   "outputs": [
    {
     "data": {
      "text/plain": [
       "Activation(\n",
       "  (activation): Sigmoid()\n",
       ")"
      ]
     },
     "execution_count": 63,
     "metadata": {},
     "output_type": "execute_result"
    }
   ],
   "source": [
    "s_model.encoder._conv_head.static_padding[4]"
   ]
  },
  {
   "cell_type": "code",
   "execution_count": 64,
   "id": "50420ba3-f677-40c4-b654-b5adf6a2a11c",
   "metadata": {},
   "outputs": [
    {
     "data": {
      "text/plain": [
       "tensor([[0.5004, 0.5005, 0.4994, 0.5000]], grad_fn=<SigmoidBackward0>)"
      ]
     },
     "execution_count": 64,
     "metadata": {},
     "output_type": "execute_result"
    }
   ],
   "source": [
    "pred"
   ]
  },
  {
   "cell_type": "code",
   "execution_count": 102,
   "id": "11852c9d-c86f-445c-b996-dc7c126d70f6",
   "metadata": {},
   "outputs": [
    {
     "data": {
      "image/png": "[encoded data removed]",
      "text/plain": [
       "<Figure size 432x288 with 3 Axes>"
      ]
     },
     "metadata": {
      "needs_background": "light"
     },
     "output_type": "display_data"
    }
   ],
   "source": [
    "import numpy as np\n",
    "import matplotlib.pyplot as plt\n",
    "from skimage import io\n",
    "from sklearn.cluster import KMeans\n",
    "from sklearn.utils import shuffle\n",
    "\n",
    "img1 = skimage.io.imread(\"example_data/texture/texture_30.jpg\")\n",
    "img2 = skimage.io.imread(\"example_data/texture/texture_5.jpg\")\n",
    "\n",
    "colors = 10\n",
    "imgOriginal = img1\n",
    "imgOriginal2 = img2\n",
    "\n",
    "imgArray = np.reshape(imgOriginal, (-1, 3))\n",
    "imgArray = imgArray / 255\n",
    "\n",
    "imgArrayTrain = shuffle(imgArray, random_state=0)[:10000]\n",
    "kmeans = KMeans(n_clusters=colors, random_state=0).fit(imgArrayTrain)\n",
    "\n",
    "labels = kmeans.predict(imgArray)\n",
    "centers = kmeans.cluster_centers_\n",
    "img_a = np.reshape(centers[labels], imgOriginal.shape)\n",
    "\n",
    "imgArray2 = np.reshape(imgOriginal2, (-1, 3))\n",
    "imgArray2 = imgArray2 / 255\n",
    "labels2 = kmeans.predict(imgArray2)\n",
    "centers2 = kmeans.cluster_centers_\n",
    "img_b = np.reshape(centers2[labels2], imgOriginal2.shape)\n",
    "\n",
    "fig, (ax1, ax2, ax3) = plt.subplots(1, 3)\n",
    "ax1.axis('off')\n",
    "ax1.set_title('Original image (590,906 colors)')\n",
    "ax1.imshow(imgOriginal)\n",
    "ax2.axis('off')\n",
    "ax2.set_title('Quantized image (K=32 colors)')\n",
    "ax2.imshow(img_a)\n",
    "ax3.axis('off')\n",
    "ax3.set_title('Quantized image (K=32 colors)')\n",
    "ax3.imshow(img_b)\n",
    "plt.show()"
   ]
  },
  {
   "cell_type": "code",
   "execution_count": 118,
   "id": "9e86a309-4fd5-4a6d-b725-0392cb87fc25",
   "metadata": {},
   "outputs": [],
   "source": [
    "n = 1\n",
    "exclude = [False] * (5-n)\n",
    "\n",
    "exclude.extend(([True] * n))"
   ]
  },
  {
   "cell_type": "code",
   "execution_count": 119,
   "id": "8fcbe57d-1b67-485e-90c2-0b3aaf516e11",
   "metadata": {},
   "outputs": [
    {
     "data": {
      "text/plain": [
       "[False, False, False, False, True]"
      ]
     },
     "execution_count": 119,
     "metadata": {},
     "output_type": "execute_result"
    }
   ],
   "source": [
    "exclude"
   ]
  },
  {
   "cell_type": "code",
   "execution_count": null,
   "id": "de6cffea-bfdc-4de3-b24e-ef4f29564882",
   "metadata": {},
   "outputs": [],
   "source": []
  }
 ],
 "metadata": {
  "kernelspec": {
   "display_name": "Python 3 (ipykernel)",
   "language": "python",
   "name": "python3"
  },
  "language_info": {
   "codemirror_mode": {
    "name": "ipython",
    "version": 3
   },
   "file_extension": ".py",
   "mimetype": "text/x-python",
   "name": "python",
   "nbconvert_exporter": "python",
   "pygments_lexer": "ipython3",
   "version": "3.9.10"
  }
 },
 "nbformat": 4,
 "nbformat_minor": 5
}
