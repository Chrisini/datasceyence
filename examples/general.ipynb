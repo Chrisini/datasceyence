{
 "cells": [
  {
   "cell_type": "markdown",
   "id": "0c113af1-da2a-474d-b281-20d163a23edf",
   "metadata": {},
   "source": [
    "# Activation Functions - dimensions"
   ]
  },
  {
   "cell_type": "code",
   "execution_count": 9,
   "id": "fb4adc42-cc62-4c9d-92ed-56e2eadfb26c",
   "metadata": {},
   "outputs": [
    {
     "name": "stdout",
     "output_type": "stream",
     "text": [
      "tensor([[[-0.0512,  0.0511,  0.0087],\n",
      "         [-0.0934, -1.7486,  0.4311]]])\n",
      "tensor([[[0.5105, 0.8581, 0.3960],\n",
      "         [0.4895, 0.1419, 0.6040]]])\n"
     ]
    }
   ],
   "source": [
    "import torch.nn\n",
    "\n",
    "m = torch.nn.Softmax(dim=1)\n",
    "img = torch.randn(1, 2, 3)\n",
    "model_output = m(img)\n",
    "\n",
    "print(img)\n",
    "print(model_output)"
   ]
  },
  {
   "cell_type": "markdown",
   "id": "0c3c24c9-7348-412d-8a36-b5cee5ff440c",
   "metadata": {},
   "source": [
    "# Rampup function visualisation"
   ]
  },
  {
   "cell_type": "code",
   "execution_count": 30,
   "id": "aba393e8-9e41-46fc-9d74-0085ba7b898a",
   "metadata": {},
   "outputs": [
    {
     "name": "stdout",
     "output_type": "stream",
     "text": [
      "0.009568922283839675\n"
     ]
    },
    {
     "data": {
      "image/png": "[encoded data removed]",
      "text/plain": [
       "<Figure size 432x288 with 1 Axes>"
      ]
     },
     "metadata": {
      "needs_background": "light"
     },
     "output_type": "display_data"
    }
   ],
   "source": [
    "import numpy as np\n",
    "import matplotlib.pyplot as plt\n",
    "\n",
    "currents = range(0, 1000)\n",
    "rampup_length = 700\n",
    "\n",
    "results = []\n",
    "for current in currents:\n",
    "    current = np.clip(current, 0.0, rampup_length)\n",
    "    result = float(np.exp(-5.0 * (1.0 - current / rampup_length) ** 2))\n",
    "    results.append(result)\n",
    "\n",
    "print(results[25])\n",
    "    \n",
    "plt.figure()\n",
    "plt.plot(currents, results, color = 'k', label = \"ramp(t, 75)\")\n",
    "plt.xlabel(\"Epoch t\")\n",
    "plt.ylabel(\"Rampup value [0, 1]\")\n",
    "plt.axvline(x = 75, color = 'darkorange', label = 't=75: 1.0', linestyle = '-.')\n",
    "plt.axhline(y = 1, color = 'darkorange', linestyle = '-.')\n",
    "plt.axvline(x = 50, color = 'mediumvioletred', label = 't=50: 0.57', linestyle = '--')\n",
    "plt.axhline(y = 0.57, color = 'mediumvioletred', linestyle = '--')\n",
    "plt.axvline(x = 25, color = 'teal', label = 't=25: 0.11', linestyle = ':')\n",
    "plt.axhline(y = 0.11, color = 'teal', linestyle = ':')\n",
    "plt.legend(loc = 'lower right', facecolor=\"white\", framealpha=1, fontsize=\"large\")\n",
    "plt.savefig(\"example_results/rampup.png\", dpi=1200)\n"
   ]
  },
  {
   "cell_type": "markdown",
   "id": "fb44a9fd-2ef1-4a42-b5e2-62f77d4e9a2c",
   "metadata": {},
   "source": [
    "# dict from keys"
   ]
  },
  {
   "cell_type": "code",
   "execution_count": 47,
   "id": "48ce5390-b0ce-44e1-84ba-8ee4fe9b0b2b",
   "metadata": {},
   "outputs": [
    {
     "name": "stdout",
     "output_type": "stream",
     "text": [
      "{'loss': [], 'acc': [], 'fscore': [], 'fmicro': [], 'jac': [], 'prec': [], 'rec': [], 'symhd': []}\n",
      "{'loss': [4, 4, 4, 4, 4], 'acc': [], 'fscore': [], 'fmicro': [], 'jac': [], 'prec': [], 'rec': [], 'symhd': []}\n"
     ]
    }
   ],
   "source": [
    "b_keys = [  'loss',\n",
    "            'acc', 'fscore', 'fmicro', 'jac', 'prec', 'rec',\n",
    "            'symhd' # task specific: segmentation\n",
    "        ]\n",
    "\n",
    "# everything we want to track\n",
    "batch_collector = { key : [] for key in b_keys }\n",
    "\n",
    "print(batch_collector)\n",
    "\n",
    "for i in range(5):\n",
    "    batch_collector[\"loss\"].append(4)\n",
    "    # batch_collector[\"acc\"] = 1.0\n",
    "\n",
    "print(batch_collector)"
   ]
  },
  {
   "cell_type": "code",
   "execution_count": 48,
   "id": "8617f66c-9bd3-40a1-b12b-160155700023",
   "metadata": {},
   "outputs": [
    {
     "name": "stdout",
     "output_type": "stream",
     "text": [
      "{'Destination': 'China', 'Nationality': 'Italian', 'Age': [2, 2, 2, 2, 2]}\n"
     ]
    }
   ],
   "source": [
    "Details = {\"Destination\": \"China\", \n",
    "           \"Nationality\": \"Italian\", \"Age\": []}\n",
    "\n",
    "for i in range(5):\n",
    "    Details[\"Age\"].append(2) # [20, \"Twenty\"]\n",
    "    \n",
    "print(Details)"
   ]
  },
  {
   "cell_type": "code",
   "execution_count": 76,
   "id": "503f082a-1de8-4451-a5ec-dfa6e2b155d3",
   "metadata": {},
   "outputs": [
    {
     "name": "stdout",
     "output_type": "stream",
     "text": [
      "loss 4.0\n",
      "acc nan\n",
      "fscore nan\n",
      "fmicro nan\n",
      "jac nan\n",
      "prec nan\n",
      "rec nan\n",
      "symhd nan\n"
     ]
    }
   ],
   "source": [
    "for key in batch_collector.keys():\n",
    "    print(key, np.mean(batch_collector[key]))\n",
    "    "
   ]
  },
  {
   "cell_type": "code",
   "execution_count": 46,
   "id": "dc15ca34-aa93-4e23-bf8f-2f7942c04861",
   "metadata": {},
   "outputs": [
    {
     "name": "stdout",
     "output_type": "stream",
     "text": [
      "{'a': ['hi'], 'o': [], 'u': [], 'i': [], 'e': []}\n"
     ]
    }
   ],
   "source": [
    "# set of vowels\n",
    "keys = {'a', 'e', 'i', 'o', 'u' }\n",
    "\n",
    "# assign empty list to value\n",
    "value = []\n",
    "\n",
    "# creates a dictionary with keys and values\n",
    "vowels = { key : [] for key in keys }\n",
    "\n",
    "vowels[\"a\"].append(\"hi\")\n",
    "\n",
    "print(vowels)"
   ]
  },
  {
   "cell_type": "markdown",
   "id": "3dfbcd35-e40b-4d00-96eb-41ed03e06194",
   "metadata": {},
   "source": [
    "# Grid Search"
   ]
  },
  {
   "cell_type": "code",
   "execution_count": 77,
   "id": "af99fb06-f4ed-4b55-a6ab-349c2821133f",
   "metadata": {},
   "outputs": [],
   "source": [
    "param_grid = [\n",
    "  {'C': [1, 10, 100, 1000], 'kernel': ['linear']},\n",
    "  {'C': [1, 10, 100, 1000], 'gamma': [0.001, 0.0001], 'kernel': ['rbf']},\n",
    " ]"
   ]
  },
  {
   "cell_type": "markdown",
   "id": "6c953d77-f877-49fe-b2b8-b96019ee9433",
   "metadata": {},
   "source": [
    "# Domain shift dependent on two features"
   ]
  },
  {
   "cell_type": "code",
   "execution_count": 26,
   "id": "24d10005-f612-41ce-8e7c-8bd7566e0403",
   "metadata": {},
   "outputs": [
    {
     "name": "stdout",
     "output_type": "stream",
     "text": [
      "done domain 1\n",
      "done domain 2\n"
     ]
    },
    {
     "data": {
      "image/png": "[encoded data removed]",
      "text/plain": [
       "<Figure size 432x288 with 1 Axes>"
      ]
     },
     "metadata": {
      "needs_background": "light"
     },
     "output_type": "display_data"
    }
   ],
   "source": [
    "import glob\n",
    "import skimage.io\n",
    "import numpy as np\n",
    "\n",
    "domain1 = glob.glob('C:/snec_data/Result_Data/cirrus/enface/*_cube_z.tif')\n",
    "domain2 = glob.glob('C:/snec_data/Result_Data/plex/enface/*_cube_z.tif')\n",
    "\n",
    "\n",
    "domain1 = glob.glob('C:/Users/Prinzessin/projects/image_data/iChallenge_AMD_OD_Fovea_lesions/images_AMD/*.jpg')\n",
    "# domain2 = glob.glob('C:/Users/Prinzessin/projects/image_data/iChallenge_AMD_OD_Fovea_lesions/images_Non-AMD/*.jpg')\n",
    "\n",
    "\n",
    "mean1 = []\n",
    "mean2 = []\n",
    "\n",
    "median1 = []\n",
    "median2 = []\n",
    "\n",
    "for path in domain1:\n",
    "    #print(path)\n",
    "    image = skimage.io.imread(path)\n",
    "    mean1.append(np.mean(image))\n",
    "    median1.append(np.median(image))    \n",
    "print(\"done domain 1\")    \n",
    "\n",
    "for path in domain2:\n",
    "    #print(path)\n",
    "    image = skimage.io.imread(path)\n",
    "    mean2.append(np.mean(image))\n",
    "    median2.append(np.median(image))\n",
    "print(\"done domain 2\")    \n",
    "    \n",
    "import matplotlib.pyplot as plt\n",
    "\n",
    "#print(mean2)\n",
    "#print(median2)\n",
    "\n",
    "#print(mean1)\n",
    "#print(median1)\n",
    "    \n",
    "plt.figure()\n",
    "plt.scatter(mean2, median2, label=\"plex\")\n",
    "plt.scatter(mean1, median1, label=\"cirrus\")\n",
    "\n",
    "plt.legend()\n",
    "plt.show()"
   ]
  },
  {
   "cell_type": "code",
   "execution_count": null,
   "id": "c27c77a2-6fc2-496e-a8b2-7616570be780",
   "metadata": {},
   "outputs": [],
   "source": [
    "plt.figure()\n",
    "plt.scatter(mean2, median2, label=\"plex\")\n",
    "plt.scatter(mean1, median1, label=\"cirrus\")\n",
    "\n",
    "plt.legend()\n",
    "plt.show()"
   ]
  },
  {
   "cell_type": "code",
   "execution_count": null,
   "id": "9468e277-17a0-43e2-9810-f9fe4f8edf5e",
   "metadata": {},
   "outputs": [],
   "source": []
  }
 ],
 "metadata": {
  "kernelspec": {
   "display_name": "Python 3 (ipykernel)",
   "language": "python",
   "name": "python3"
  },
  "language_info": {
   "codemirror_mode": {
    "name": "ipython",
    "version": 3
   },
   "file_extension": ".py",
   "mimetype": "text/x-python",
   "name": "python",
   "nbconvert_exporter": "python",
   "pygments_lexer": "ipython3",
   "version": "3.9.10"
  }
 },
 "nbformat": 4,
 "nbformat_minor": 5
}
