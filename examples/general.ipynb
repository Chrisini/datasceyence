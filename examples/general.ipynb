{
 "cells": [
  {
   "cell_type": "markdown",
   "id": "0c113af1-da2a-474d-b281-20d163a23edf",
   "metadata": {},
   "source": [
    "# Activation Functions - dimensions"
   ]
  },
  {
   "cell_type": "code",
   "execution_count": 1,
   "id": "fb4adc42-cc62-4c9d-92ed-56e2eadfb26c",
   "metadata": {},
   "outputs": [
    {
     "name": "stdout",
     "output_type": "stream",
     "text": [
      "tensor([[[ 0.1900,  0.8290, -0.3285],\n",
      "         [ 0.8916, -0.5556, -0.8311]]])\n",
      "tensor([[[0.3315, 0.7997, 0.6231],\n",
      "         [0.6685, 0.2003, 0.3769]]])\n"
     ]
    }
   ],
   "source": [
    "import torch.nn\n",
    "\n",
    "m = torch.nn.Softmax(dim=1)\n",
    "img = torch.randn(1, 2, 3)\n",
    "model_output = m(img)\n",
    "\n",
    "print(img)\n",
    "print(model_output)"
   ]
  },
  {
   "cell_type": "markdown",
   "id": "2880fe6e-72b8-4182-aacf-2a28f686230a",
   "metadata": {},
   "source": [
    "# MSE"
   ]
  },
  {
   "cell_type": "code",
   "execution_count": 187,
   "id": "595b102d-00b1-4878-8492-d3aa29930b68",
   "metadata": {},
   "outputs": [
    {
     "name": "stdout",
     "output_type": "stream",
     "text": [
      "tensor(0.0200) tensor(0.0800) tensor(0.4450)\n"
     ]
    }
   ],
   "source": [
    "criterion = torch.nn.MSELoss()\n",
    "\n",
    "# x and y coordinate of center of max area element pred and center of oval around max area element pred\n",
    "\n",
    "good = criterion(torch.tensor([0.5, 0.1]), torch.tensor([0.3, 0.1]))\n",
    "mid = criterion(torch.tensor([0.5, 0.1]), torch.tensor([0.10, 0.1]))\n",
    "bad = criterion(torch.tensor([0.8, 0.9]), torch.tensor([0.3, 0.1]))\n",
    "\n",
    "print(good, mid, bad)"
   ]
  },
  {
   "cell_type": "markdown",
   "id": "0c3c24c9-7348-412d-8a36-b5cee5ff440c",
   "metadata": {},
   "source": [
    "# Rampup function visualisation"
   ]
  },
  {
   "cell_type": "code",
   "execution_count": 2,
   "id": "aba393e8-9e41-46fc-9d74-0085ba7b898a",
   "metadata": {},
   "outputs": [
    {
     "name": "stdout",
     "output_type": "stream",
     "text": [
      "0.010132432219606831\n"
     ]
    },
    {
     "data": {
      "image/png": "[encoded data removed]",
      "text/plain": [
       "<Figure size 432x288 with 1 Axes>"
      ]
     },
     "metadata": {
      "needs_background": "light"
     },
     "output_type": "display_data"
    }
   ],
   "source": [
    "import numpy as np\n",
    "import matplotlib.pyplot as plt\n",
    "\n",
    "currents = range(0, 1000)\n",
    "rampup_length = 600\n",
    "\n",
    "results = []\n",
    "for current in currents:\n",
    "    current = np.clip(current, 0.0, rampup_length)\n",
    "    result = float(np.exp(-5.0 * (1.0 - current / rampup_length) ** 2))\n",
    "    results.append(result)\n",
    "\n",
    "print(results[25])\n",
    "    \n",
    "plt.figure()\n",
    "plt.plot(currents, results, color = 'k', label = \"ramp(t, 75)\")\n",
    "plt.xlabel(\"Epoch t\")\n",
    "plt.ylabel(\"Rampup value [0, 1]\")\n",
    "plt.axvline(x = 75, color = 'darkorange', label = 't=75: 1.0', linestyle = '-.')\n",
    "plt.axhline(y = 1, color = 'darkorange', linestyle = '-.')\n",
    "plt.axvline(x = 50, color = 'mediumvioletred', label = 't=50: 0.57', linestyle = '--')\n",
    "plt.axhline(y = 0.57, color = 'mediumvioletred', linestyle = '--')\n",
    "plt.axvline(x = 25, color = 'teal', label = 't=25: 0.11', linestyle = ':')\n",
    "plt.axhline(y = 0.11, color = 'teal', linestyle = ':')\n",
    "plt.legend(loc = 'lower right', facecolor=\"white\", framealpha=1, fontsize=\"large\")\n",
    "plt.tight_layout()\n",
    "plt.savefig(\"example_results/rampup.png\", dpi=1200)\n"
   ]
  },
  {
   "cell_type": "markdown",
   "id": "fb44a9fd-2ef1-4a42-b5e2-62f77d4e9a2c",
   "metadata": {},
   "source": [
    "# dict from keys"
   ]
  },
  {
   "cell_type": "code",
   "execution_count": 3,
   "id": "48ce5390-b0ce-44e1-84ba-8ee4fe9b0b2b",
   "metadata": {},
   "outputs": [
    {
     "name": "stdout",
     "output_type": "stream",
     "text": [
      "{'loss': [], 'acc': [], 'fscore': [], 'fmicro': [], 'jac': [], 'prec': [], 'rec': [], 'symhd': []}\n",
      "{'loss': [4, 4, 4, 4, 4], 'acc': [], 'fscore': [], 'fmicro': [], 'jac': [], 'prec': [], 'rec': [], 'symhd': []}\n"
     ]
    }
   ],
   "source": [
    "b_keys = [  'loss',\n",
    "            'acc', 'fscore', 'fmicro', 'jac', 'prec', 'rec',\n",
    "            'symhd' # task specific: segmentation\n",
    "        ]\n",
    "\n",
    "# everything we want to track\n",
    "batch_collector = { key : [] for key in b_keys }\n",
    "\n",
    "print(batch_collector)\n",
    "\n",
    "for i in range(5):\n",
    "    batch_collector[\"loss\"].append(4)\n",
    "    # batch_collector[\"acc\"] = 1.0\n",
    "\n",
    "print(batch_collector)"
   ]
  },
  {
   "cell_type": "code",
   "execution_count": 4,
   "id": "8617f66c-9bd3-40a1-b12b-160155700023",
   "metadata": {},
   "outputs": [
    {
     "name": "stdout",
     "output_type": "stream",
     "text": [
      "{'Destination': 'China', 'Nationality': 'Italian', 'Age': [2, 2, 2, 2, 2]}\n"
     ]
    }
   ],
   "source": [
    "Details = {\"Destination\": \"China\", \n",
    "           \"Nationality\": \"Italian\", \"Age\": []}\n",
    "\n",
    "for i in range(5):\n",
    "    Details[\"Age\"].append(2) # [20, \"Twenty\"]\n",
    "    \n",
    "print(Details)"
   ]
  },
  {
   "cell_type": "code",
   "execution_count": 5,
   "id": "503f082a-1de8-4451-a5ec-dfa6e2b155d3",
   "metadata": {},
   "outputs": [
    {
     "name": "stdout",
     "output_type": "stream",
     "text": [
      "loss 4.0\n",
      "acc nan\n",
      "fscore nan\n",
      "fmicro nan\n",
      "jac nan\n",
      "prec nan\n",
      "rec nan\n",
      "symhd nan\n"
     ]
    },
    {
     "name": "stderr",
     "output_type": "stream",
     "text": [
      "C:\\Users\\Prinzessin\\anaconda3\\envs\\feta\\lib\\site-packages\\numpy\\core\\fromnumeric.py:3419: RuntimeWarning: Mean of empty slice.\n",
      "  return _methods._mean(a, axis=axis, dtype=dtype,\n",
      "C:\\Users\\Prinzessin\\anaconda3\\envs\\feta\\lib\\site-packages\\numpy\\core\\_methods.py:188: RuntimeWarning: invalid value encountered in double_scalars\n",
      "  ret = ret.dtype.type(ret / rcount)\n"
     ]
    }
   ],
   "source": [
    "for key in batch_collector.keys():\n",
    "    print(key, np.mean(batch_collector[key]))\n",
    "    "
   ]
  },
  {
   "cell_type": "code",
   "execution_count": 6,
   "id": "dc15ca34-aa93-4e23-bf8f-2f7942c04861",
   "metadata": {},
   "outputs": [
    {
     "name": "stdout",
     "output_type": "stream",
     "text": [
      "{'u': [], 'a': ['hi'], 'o': [], 'i': [], 'e': []}\n"
     ]
    }
   ],
   "source": [
    "# set of vowels\n",
    "keys = {'a', 'e', 'i', 'o', 'u' }\n",
    "\n",
    "# assign empty list to value\n",
    "value = []\n",
    "\n",
    "# creates a dictionary with keys and values\n",
    "vowels = { key : [] for key in keys }\n",
    "\n",
    "vowels[\"a\"].append(\"hi\")\n",
    "\n",
    "print(vowels)"
   ]
  },
  {
   "cell_type": "markdown",
   "id": "3dfbcd35-e40b-4d00-96eb-41ed03e06194",
   "metadata": {},
   "source": [
    "# Grid Search"
   ]
  },
  {
   "cell_type": "code",
   "execution_count": 7,
   "id": "af99fb06-f4ed-4b55-a6ab-349c2821133f",
   "metadata": {},
   "outputs": [],
   "source": [
    "param_grid = [\n",
    "  {'C': [1, 10, 100, 1000], 'kernel': ['linear']},\n",
    "  {'C': [1, 10, 100, 1000], 'gamma': [0.001, 0.0001], 'kernel': ['rbf']},\n",
    " ]"
   ]
  },
  {
   "cell_type": "markdown",
   "id": "b1cf7c67-3592-49f9-a0db-b72503b3659f",
   "metadata": {},
   "source": [
    "# doing contour stuff here - to draw an area, it needs to be in a list"
   ]
  },
  {
   "cell_type": "code",
   "execution_count": null,
   "id": "5f8a1b9e-f3a9-4356-908e-80e5efd4c213",
   "metadata": {},
   "outputs": [],
   "source": [
    "import numpy as np\n",
    "import cv2\n",
    "img = cv2.imread('E:/Christina/Result_Data/ADAM_AMD/fundus_mask_bin/A0010.bmp', cv2.IMREAD_GRAYSCALE)\n",
    "assert img is not None, \"file could not be read, check with os.path.exists()\"\n",
    "ret,thresh = cv2.threshold(img,127,255,0)\n",
    "contours,hierarchy = cv2.findContours(thresh, 1, 2)\n",
    "cnt = contours[0]\n",
    "M = cv.moments(cnt)\n",
    "print( M )\n",
    "\n",
    "area = cv2.contourArea(cnt)\n",
    "print(area)\n",
    "\n",
    "num_labels, labels_im = cv2.findContours(thresh, cv2.RETR_CCOMP, cv2.CHAIN_APPROX_SIMPLE)    \n",
    "if len(num_labels) > 0:\n",
    "    max_area = max(num_labels, key = cv2.contourArea)\n",
    "    max_area = cv2.contourArea(max_area)\n",
    "    print(max_area)"
   ]
  },
  {
   "cell_type": "code",
   "execution_count": null,
   "id": "54e36424-831e-4bd6-a5ba-925293674400",
   "metadata": {},
   "outputs": [],
   "source": []
  },
  {
   "cell_type": "code",
   "execution_count": null,
   "id": "d4d19a07-896e-40ff-8bea-176a62449381",
   "metadata": {},
   "outputs": [],
   "source": []
  }
 ],
 "metadata": {
  "kernelspec": {
   "display_name": "Python 3 (ipykernel)",
   "language": "python",
   "name": "python3"
  },
  "language_info": {
   "codemirror_mode": {
    "name": "ipython",
    "version": 3
   },
   "file_extension": ".py",
   "mimetype": "text/x-python",
   "name": "python",
   "nbconvert_exporter": "python",
   "pygments_lexer": "ipython3",
   "version": "3.9.16"
  }
 },
 "nbformat": 4,
 "nbformat_minor": 5
}
