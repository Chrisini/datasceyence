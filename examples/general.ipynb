{
 "cells": [
  {
   "cell_type": "markdown",
   "id": "0c113af1-da2a-474d-b281-20d163a23edf",
   "metadata": {},
   "source": [
    "# Activation Functions - dimensions"
   ]
  },
  {
   "cell_type": "code",
   "execution_count": 9,
   "id": "fb4adc42-cc62-4c9d-92ed-56e2eadfb26c",
   "metadata": {},
   "outputs": [
    {
     "name": "stdout",
     "output_type": "stream",
     "text": [
      "tensor([[[-0.0512,  0.0511,  0.0087],\n",
      "         [-0.0934, -1.7486,  0.4311]]])\n",
      "tensor([[[0.5105, 0.8581, 0.3960],\n",
      "         [0.4895, 0.1419, 0.6040]]])\n"
     ]
    }
   ],
   "source": [
    "import torch.nn\n",
    "\n",
    "m = torch.nn.Softmax(dim=1)\n",
    "img = torch.randn(1, 2, 3)\n",
    "model_output = m(img)\n",
    "\n",
    "print(img)\n",
    "print(model_output)"
   ]
  },
  {
   "cell_type": "markdown",
   "id": "0c3c24c9-7348-412d-8a36-b5cee5ff440c",
   "metadata": {},
   "source": [
    "# Rampup function visualisation"
   ]
  },
  {
   "cell_type": "code",
   "execution_count": 31,
   "id": "aba393e8-9e41-46fc-9d74-0085ba7b898a",
   "metadata": {},
   "outputs": [
    {
     "name": "stdout",
     "output_type": "stream",
     "text": [
      "0.010132432219606831\n"
     ]
    },
    {
     "data": {
      "image/png": "[encoded data removed]",
      "text/plain": [
       "<Figure size 432x288 with 1 Axes>"
      ]
     },
     "metadata": {
      "needs_background": "light"
     },
     "output_type": "display_data"
    }
   ],
   "source": [
    "import numpy as np\n",
    "import matplotlib.pyplot as plt\n",
    "\n",
    "currents = range(0, 1000)\n",
    "rampup_length = 600\n",
    "\n",
    "results = []\n",
    "for current in currents:\n",
    "    current = np.clip(current, 0.0, rampup_length)\n",
    "    result = float(np.exp(-5.0 * (1.0 - current / rampup_length) ** 2))\n",
    "    results.append(result)\n",
    "\n",
    "print(results[25])\n",
    "    \n",
    "plt.figure()\n",
    "plt.plot(currents, results, color = 'k', label = \"ramp(t, 75)\")\n",
    "plt.xlabel(\"Epoch t\")\n",
    "plt.ylabel(\"Rampup value [0, 1]\")\n",
    "plt.axvline(x = 75, color = 'darkorange', label = 't=75: 1.0', linestyle = '-.')\n",
    "plt.axhline(y = 1, color = 'darkorange', linestyle = '-.')\n",
    "plt.axvline(x = 50, color = 'mediumvioletred', label = 't=50: 0.57', linestyle = '--')\n",
    "plt.axhline(y = 0.57, color = 'mediumvioletred', linestyle = '--')\n",
    "plt.axvline(x = 25, color = 'teal', label = 't=25: 0.11', linestyle = ':')\n",
    "plt.axhline(y = 0.11, color = 'teal', linestyle = ':')\n",
    "plt.legend(loc = 'lower right', facecolor=\"white\", framealpha=1, fontsize=\"large\")\n",
    "plt.savefig(\"example_results/rampup.png\", dpi=1200)\n"
   ]
  },
  {
   "cell_type": "markdown",
   "id": "fb44a9fd-2ef1-4a42-b5e2-62f77d4e9a2c",
   "metadata": {},
   "source": [
    "# dict from keys"
   ]
  },
  {
   "cell_type": "code",
   "execution_count": 47,
   "id": "48ce5390-b0ce-44e1-84ba-8ee4fe9b0b2b",
   "metadata": {},
   "outputs": [
    {
     "name": "stdout",
     "output_type": "stream",
     "text": [
      "{'loss': [], 'acc': [], 'fscore': [], 'fmicro': [], 'jac': [], 'prec': [], 'rec': [], 'symhd': []}\n",
      "{'loss': [4, 4, 4, 4, 4], 'acc': [], 'fscore': [], 'fmicro': [], 'jac': [], 'prec': [], 'rec': [], 'symhd': []}\n"
     ]
    }
   ],
   "source": [
    "b_keys = [  'loss',\n",
    "            'acc', 'fscore', 'fmicro', 'jac', 'prec', 'rec',\n",
    "            'symhd' # task specific: segmentation\n",
    "        ]\n",
    "\n",
    "# everything we want to track\n",
    "batch_collector = { key : [] for key in b_keys }\n",
    "\n",
    "print(batch_collector)\n",
    "\n",
    "for i in range(5):\n",
    "    batch_collector[\"loss\"].append(4)\n",
    "    # batch_collector[\"acc\"] = 1.0\n",
    "\n",
    "print(batch_collector)"
   ]
  },
  {
   "cell_type": "code",
   "execution_count": 48,
   "id": "8617f66c-9bd3-40a1-b12b-160155700023",
   "metadata": {},
   "outputs": [
    {
     "name": "stdout",
     "output_type": "stream",
     "text": [
      "{'Destination': 'China', 'Nationality': 'Italian', 'Age': [2, 2, 2, 2, 2]}\n"
     ]
    }
   ],
   "source": [
    "Details = {\"Destination\": \"China\", \n",
    "           \"Nationality\": \"Italian\", \"Age\": []}\n",
    "\n",
    "for i in range(5):\n",
    "    Details[\"Age\"].append(2) # [20, \"Twenty\"]\n",
    "    \n",
    "print(Details)"
   ]
  },
  {
   "cell_type": "code",
   "execution_count": 76,
   "id": "503f082a-1de8-4451-a5ec-dfa6e2b155d3",
   "metadata": {},
   "outputs": [
    {
     "name": "stdout",
     "output_type": "stream",
     "text": [
      "loss 4.0\n",
      "acc nan\n",
      "fscore nan\n",
      "fmicro nan\n",
      "jac nan\n",
      "prec nan\n",
      "rec nan\n",
      "symhd nan\n"
     ]
    }
   ],
   "source": [
    "for key in batch_collector.keys():\n",
    "    print(key, np.mean(batch_collector[key]))\n",
    "    "
   ]
  },
  {
   "cell_type": "code",
   "execution_count": 46,
   "id": "dc15ca34-aa93-4e23-bf8f-2f7942c04861",
   "metadata": {},
   "outputs": [
    {
     "name": "stdout",
     "output_type": "stream",
     "text": [
      "{'a': ['hi'], 'o': [], 'u': [], 'i': [], 'e': []}\n"
     ]
    }
   ],
   "source": [
    "# set of vowels\n",
    "keys = {'a', 'e', 'i', 'o', 'u' }\n",
    "\n",
    "# assign empty list to value\n",
    "value = []\n",
    "\n",
    "# creates a dictionary with keys and values\n",
    "vowels = { key : [] for key in keys }\n",
    "\n",
    "vowels[\"a\"].append(\"hi\")\n",
    "\n",
    "print(vowels)"
   ]
  },
  {
   "cell_type": "markdown",
   "id": "3dfbcd35-e40b-4d00-96eb-41ed03e06194",
   "metadata": {},
   "source": [
    "# Grid Search"
   ]
  },
  {
   "cell_type": "code",
   "execution_count": 77,
   "id": "af99fb06-f4ed-4b55-a6ab-349c2821133f",
   "metadata": {},
   "outputs": [],
   "source": [
    "param_grid = [\n",
    "  {'C': [1, 10, 100, 1000], 'kernel': ['linear']},\n",
    "  {'C': [1, 10, 100, 1000], 'gamma': [0.001, 0.0001], 'kernel': ['rbf']},\n",
    " ]"
   ]
  },
  {
   "cell_type": "markdown",
   "id": "6c953d77-f877-49fe-b2b8-b96019ee9433",
   "metadata": {},
   "source": [
    "# Domain shift dependent on two features"
   ]
  },
  {
   "cell_type": "code",
   "execution_count": 51,
   "id": "24d10005-f612-41ce-8e7c-8bd7566e0403",
   "metadata": {},
   "outputs": [
    {
     "name": "stdout",
     "output_type": "stream",
     "text": [
      "done domain 1\n",
      "done domain 2\n",
      "done domain 3\n",
      "[210.213684]\n",
      "[211.0]\n",
      "[175.2397224489796]\n",
      "[176.0]\n"
     ]
    }
   ],
   "source": [
    "import glob\n",
    "import skimage.io\n",
    "import numpy as np\n",
    "\n",
    "domain1 = glob.glob('C:/snec_data/Result_Data/cirrus/enface/*_cube_z.tif')\n",
    "domain2 = glob.glob('C:/snec_data/Result_Data/plex/enface/*_cube_z.tif')\n",
    "domain3 = glob.glob('C:/Users/Prinzessin/projects/image_data/iChallenge_AMD_OD_Fovea_lesions/images_AMD/*.jpg')\n",
    "# domain2 = glob.glob('C:/Users/Prinzessin/projects/image_data/iChallenge_AMD_OD_Fovea_lesions/images_Non-AMD/*.jpg')\n",
    "\n",
    "\n",
    "mean1 = []\n",
    "mean2 = []\n",
    "mean3 = []\n",
    "\n",
    "median1 = []\n",
    "median2 = []\n",
    "median3 = []\n",
    "\n",
    "for path in domain1:\n",
    "    #print(path)\n",
    "    image = skimage.io.imread(path)\n",
    "    mean1.append(np.mean(image))\n",
    "    median1.append(np.median(image))    \n",
    "print(\"done domain 1\")    \n",
    "\n",
    "for path in domain2:\n",
    "    #print(path)\n",
    "    image = skimage.io.imread(path)\n",
    "    mean2.append(np.mean(image))\n",
    "    median2.append(np.median(image))\n",
    "print(\"done domain 2\")    \n",
    "\n",
    "for path in domain3:\n",
    "    #print(path)\n",
    "    image = skimage.io.imread(path)\n",
    "    mean3.append(np.mean(image))\n",
    "    median3.append(np.median(image))\n",
    "print(\"done domain 3\")    \n",
    "    \n",
    "import matplotlib.pyplot as plt\n",
    "\n",
    "print(mean2)\n",
    "print(median2)\n",
    "\n",
    "print(mean1)\n",
    "print(median1)\n",
    "    "
   ]
  },
  {
   "cell_type": "code",
   "execution_count": 52,
   "id": "9468e277-17a0-43e2-9810-f9fe4f8edf5e",
   "metadata": {},
   "outputs": [
    {
     "data": {
      "image/png": "[encoded data removed]",
      "text/plain": [
       "<Figure size 432x288 with 1 Axes>"
      ]
     },
     "metadata": {
      "needs_background": "light"
     },
     "output_type": "display_data"
    }
   ],
   "source": [
    "plt.figure()\n",
    "plt.xlabel(\"mean\")\n",
    "plt.ylabel(\"median\")\n",
    "plt.scatter(mean2, median2, label=\"PLEX\", color = 'darkorange', s=10, marker='^')\n",
    "plt.scatter(mean1, median1, label=\"CIRRUS\",  color = 'mediumvioletred', s=10, marker='+')\n",
    "plt.scatter(mean3, median3, label=\"iChallenge\", color = 'teal', s=7, marker=',')\n",
    "\n",
    "plt.legend()\n",
    "plt.savefig(\"example_results/domainshift.png\", dpi=1200)"
   ]
  },
  {
   "cell_type": "markdown",
   "id": "7bb30b56-66e6-407f-b94e-aeef1ec9f217",
   "metadata": {},
   "source": [
    "# Mean and average images\n",
    "* https://towardsdatascience.com/exploratory-data-analysis-ideas-for-image-classification-d3fc6bbfb2d2"
   ]
  },
  {
   "cell_type": "code",
   "execution_count": 162,
   "id": "c952af38-03eb-40bc-b826-fabd5811556a",
   "metadata": {},
   "outputs": [],
   "source": [
    "domain1 = glob.glob('C:/snec_data/Result_Data/cirrus/enface/*_cube_z.tif')\n",
    "domain2 = glob.glob('C:/snec_data/Result_Data/plex/enface/*_cube_z.tif')\n",
    "domain3 = glob.glob('C:/Users/Prinzessin/projects/image_data/iChallenge_AMD_OD_Fovea_lesions/images_AMD/*.jpg')\n",
    "\n",
    "from skimage.transform import rescale, resize, downscale_local_mean\n",
    "\n",
    "# making n X m matrix\n",
    "def img2np(paths, size = (150, 150)):\n",
    "    # iterating through each file\n",
    "    \n",
    "    images = []\n",
    "    current_image = None\n",
    "    \n",
    "    for i, path in enumerate(paths):\n",
    "                \n",
    "        current_image = skimage.io.imread(path, as_gray=True)\n",
    "        current_image = resize(current_image, size, anti_aliasing=True)\n",
    "                \n",
    "        images.append(current_image)\n",
    "        \n",
    "        stacked = np.stack(images, axis=-1)  \n",
    "    \n",
    "    return stacked\n"
   ]
  },
  {
   "cell_type": "code",
   "execution_count": 163,
   "id": "52f8d88e-1b1e-41c3-9890-dc1ea6411783",
   "metadata": {},
   "outputs": [
    {
     "name": "stdout",
     "output_type": "stream",
     "text": [
      "done 2\n",
      "done 3\n"
     ]
    }
   ],
   "source": [
    "# run it on our folders\n",
    "domain2_images = img2np(domain2)\n",
    "print(\"done 2\")\n",
    "domain3_images = img2np(domain3)\n",
    "print(\"done 3\")"
   ]
  },
  {
   "cell_type": "code",
   "execution_count": 151,
   "id": "159b7a63-ac8d-4533-b98d-dfea27260649",
   "metadata": {},
   "outputs": [],
   "source": [
    "def find_mean_img(full_mat, title, f):\n",
    "    # calculate the average\n",
    "    result = np.mean(full_mat, axis = 2)\n",
    "    \n",
    "    f.imshow(result, cmap='gray')\n",
    "    f.set_title(f'Mean {title}')\n",
    "    f.axis('off')\n",
    "    return result\n",
    "\n",
    "def find_std_img(full_mat, title, f):\n",
    "    # calculate the standard deviation\n",
    "    result = np.std(full_mat, axis = 2)\n",
    "\n",
    "    f.imshow(result, cmap='gray')\n",
    "    f.set_title(f'Mean {title}')\n",
    "    f.axis('off')\n",
    "    return result"
   ]
  },
  {
   "cell_type": "code",
   "execution_count": 156,
   "id": "574b0b48-bac9-4c50-b536-0e67a03da758",
   "metadata": {},
   "outputs": [
    {
     "name": "stderr",
     "output_type": "stream",
     "text": [
      "C:\\Users\\Prinzessin\\AppData\\Local\\Temp\\ipykernel_32352\\2190325356.py:6: UserWarning: Matplotlib is currently using module://matplotlib_inline.backend_inline, which is a non-GUI backend, so cannot show the figure.\n",
      "  fig.show()\n"
     ]
    },
    {
     "data": {
      "image/png": "[encoded data removed]",
      "text/plain": [
       "<Figure size 432x288 with 2 Axes>"
      ]
     },
     "metadata": {
      "needs_background": "light"
     },
     "output_type": "display_data"
    }
   ],
   "source": [
    "fig, axs = plt.subplots(1, 2)\n",
    "plex_mean = find_mean_img(domain2_images, \"PLEX\", axs[0])\n",
    "ichallenge_mean = find_mean_img(domain3_images, \"iChallenge\", axs[1])\n",
    "fig.tight_layout()\n",
    "fig.savefig(f\"example_results/domain_shift_mean.png\", dpi=1200)\n",
    "fig.show()"
   ]
  },
  {
   "cell_type": "code",
   "execution_count": 164,
   "id": "d3e9b875-468a-41d0-a161-f59c4e31610a",
   "metadata": {},
   "outputs": [
    {
     "data": {
      "image/png": "[encoded data removed]",
      "text/plain": [
       "<Figure size 432x288 with 1 Axes>"
      ]
     },
     "metadata": {
      "needs_background": "light"
     },
     "output_type": "display_data"
    }
   ],
   "source": [
    "contrast_mean = plex_mean - ichallenge_mean\n",
    "plt.imshow(contrast_mean, cmap='cool')\n",
    "plt.title(f'Difference of mean PLEX and CIRRUS')\n",
    "plt.axis('off')\n",
    "plt.tight_layout()\n",
    "plt.savefig(f\"example_results/domain_shift_diff_mean.png\", dpi=1200)\n",
    "plt.show()"
   ]
  },
  {
   "cell_type": "code",
   "execution_count": 161,
   "id": "1f573976-f46d-41da-afb1-a70667e3deb9",
   "metadata": {},
   "outputs": [
    {
     "name": "stderr",
     "output_type": "stream",
     "text": [
      "C:\\Users\\Prinzessin\\AppData\\Local\\Temp\\ipykernel_32352\\2524335081.py:6: UserWarning: Matplotlib is currently using module://matplotlib_inline.backend_inline, which is a non-GUI backend, so cannot show the figure.\n",
      "  fig.show()\n"
     ]
    },
    {
     "data": {
      "image/png": "[encoded data removed]",
      "text/plain": [
       "<Figure size 432x288 with 2 Axes>"
      ]
     },
     "metadata": {
      "needs_background": "light"
     },
     "output_type": "display_data"
    }
   ],
   "source": [
    "fig, axs = plt.subplots(1, 2)\n",
    "plex_std = find_std_img(domain2_images, \"PLEX\", axs[0])\n",
    "ichallenge_std = find_std_img(domain3_images, \"iChallenge\", axs[1])\n",
    "fig.tight_layout()\n",
    "fig.savefig(f\"example_results/domain_shift_std.png\", dpi=1200)\n",
    "fig.show()"
   ]
  },
  {
   "cell_type": "code",
   "execution_count": null,
   "id": "2f8a6880-3c77-4459-83ea-2a17a73175f4",
   "metadata": {},
   "outputs": [],
   "source": []
  },
  {
   "cell_type": "code",
   "execution_count": null,
   "id": "5f8a1b9e-f3a9-4356-908e-80e5efd4c213",
   "metadata": {},
   "outputs": [],
   "source": []
  }
 ],
 "metadata": {
  "kernelspec": {
   "display_name": "Python 3 (ipykernel)",
   "language": "python",
   "name": "python3"
  },
  "language_info": {
   "codemirror_mode": {
    "name": "ipython",
    "version": 3
   },
   "file_extension": ".py",
   "mimetype": "text/x-python",
   "name": "python",
   "nbconvert_exporter": "python",
   "pygments_lexer": "ipython3",
   "version": "3.9.10"
  }
 },
 "nbformat": 4,
 "nbformat_minor": 5
}
