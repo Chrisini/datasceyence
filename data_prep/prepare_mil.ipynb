{
 "cells": [
  {
   "cell_type": "code",
   "execution_count": null,
   "id": "395ee3b7-53e4-4da1-b324-079e516c8685",
   "metadata": {},
   "outputs": [],
   "source": [
    "import os\n",
    "import pandas as pd\n",
    "from PIL import Image\n",
    "import numpy as np\n",
    "\n",
    "run = True"
   ]
  },
  {
   "cell_type": "code",
   "execution_count": null,
   "id": "c3ac6eab-aa95-40ba-9f3a-df56fbe0afde",
   "metadata": {},
   "outputs": [],
   "source": [
    "def generate_mil_csv_file(images_path, masks_path, csv_path, meta_data, image_postfix=\".jpg\", mask_postfix=\".bmp\", split_percentage=90, new_mask_path=None, mask_crop=False, drop=False):\n",
    "    \n",
    "    # have to call for each dataset that contains images + masks\n",
    "    # finding image (.image_postfix) and mask (.mask_postfix) pairs for same base filename\n",
    "    # this works if your_img_dir/A0001.jpg and your_mask_dir/A0001.bmp\n",
    "    # optic nerve head\n",
    "    # converts all the masks - 0 background, 255 foreground if new_mask_path is not None\n",
    "    \n",
    "    mode = []\n",
    "    \n",
    "    import glob\n",
    "    # need one file for each concept \n",
    "    image_path = glob.glob(images_path) # list(set(os.listdir(images_path)) - {'desktop.ini'})\n",
    "    \n",
    "    \n",
    "    image_id = [os.path.basename(x).replace(image_postfix, \"\") for x in image_path]\n",
    "    \n",
    "    \n",
    "    \n",
    "    print(image_id[0:5])\n",
    "    \n",
    "    image_path = [os.path.join(images_path, x) for x in image_path]\n",
    "    a = {\"image_path\" : image_path, \"id\" : image_id}\n",
    "    a = pd.DataFrame(data={\"img_path\" : image_path}, index=image_id)\n",
    "    \n",
    "    has_roi = []\n",
    "    \n",
    "    if masks_path is not None:\n",
    "        mask_path  = glob.glob(masks_path)\n",
    "        mask_id = [os.path.basename(x).replace(mask_postfix, \"\").replace(\"mask_\", \"\").replace(\"DiskMask\", \"\") for x in mask_path]\n",
    "        mask_path = [os.path.join(masks_path, x) for x in mask_path]\n",
    "                \n",
    "        # b = {\"msk_path\" : msk_path, \"id\" : mask_id, \"has_roi\" : has_roi}\n",
    "        b = pd.DataFrame(data={\"msk_path\" : mask_path}, index=mask_id)\n",
    "        \n",
    "        print(a.head())\n",
    "        print(b.head())\n",
    "        \n",
    "        csv_data = pd.concat([a, b], axis=1, join=\"outer\")\n",
    "        \n",
    "        csv_data[\"has_mask\"] = [True] * len(a.index) # this has a bug\n",
    "        \n",
    "        \n",
    "    else: # if no mask available\n",
    "        csv_data = a\n",
    "        csv_data[\"msk_path\"] = [None] * len(a.index)\n",
    "        csv_data[\"has_mask\"] = [False] * len(a.index)\n",
    "        \n",
    "    for key, value in meta_data.items():\n",
    "        csv_data[key] = [value] * len(a.index)  \n",
    "        \n",
    "    \n",
    "    csv_data = csv_data.sample(frac=1, random_state=19)\n",
    "\n",
    "    percent_train = int(len(csv_data)/100*split_percentage)\n",
    "    percent_val = len(csv_data)-percent_train\n",
    "    \n",
    "    mode.extend([\"train\" for i in range(percent_train)])\n",
    "    mode.extend([\"val\" for i in range(percent_val)])\n",
    "    \n",
    "    csv_data[\"mode\"] = mode\n",
    "\n",
    "    print(csv_data)\n",
    "    \n",
    "    if drop:\n",
    "        csv_data = csv_data.dropna(subset=['msk_path'])\n",
    "    \n",
    "    csv_data.to_csv(csv_path, sep=';')\n",
    "            "
   ]
  },
  {
   "cell_type": "code",
   "execution_count": null,
   "id": "01c916ac-0222-4433-93d8-ac50a8dc2271",
   "metadata": {},
   "outputs": [],
   "source": [
    "if run:\n",
    "    images_path = r\"E:/Christina/MIL_Data/octa_whole_cirrus_6_onh_glaucoma/images/*.bmp\"\n",
    "    masks_path  = None\n",
    "    csv_path    = r\"mil_data_cirrus_glaucoma.csv\"\n",
    "    meta_data = { \"glaucoma\":True, \"dr\":None, \"healthy\":False, \"ONH\":True, \"FAZ\":False}\n",
    "    generate_mil_csv_file(images_path, masks_path, csv_path, meta_data, image_postfix=\".bmp\", mask_postfix=None, split_percentage=80, new_mask_path=None, drop=False)"
   ]
  },
  {
   "cell_type": "code",
   "execution_count": null,
   "id": "068918ba-450f-46d2-b497-d5dfaeca6679",
   "metadata": {},
   "outputs": [],
   "source": [
    "if run:\n",
    "    images_path = r\"E:/Christina/MIL_Data/octa_whole_cirrus_6_onh_healthy/images/*.bmp\"\n",
    "    masks_path  = None\n",
    "    csv_path    = r\"mil_data_cirrus_healthy.csv\"\n",
    "    meta_data = { \"glaucoma\":False, \"dr\":False, \"healthy\":True, \"ONH\":True, \"FAZ\":False}\n",
    "    generate_mil_csv_file(images_path, masks_path, csv_path, meta_data, image_postfix=\".bmp\", mask_postfix=None, split_percentage=80, new_mask_path=None, drop=False)"
   ]
  },
  {
   "cell_type": "code",
   "execution_count": null,
   "id": "562be47d-97d5-4949-ab8a-090082b68635",
   "metadata": {},
   "outputs": [],
   "source": [
    "if run:\n",
    "    images_path = r\"E:/Christina/MIL_Data/octa_whole_octa500_6_faz_unknown/images/*.bmp\"\n",
    "    masks_path  = None\n",
    "    csv_path    = r\"mil_data_octa500_unknown.csv\"\n",
    "    meta_data = { \"glaucoma\":None, \"dr\":None, \"healthy\":None, \"ONH\":False, \"FAZ\":True}\n",
    "    generate_mil_csv_file(images_path, masks_path, csv_path, meta_data, image_postfix=\".bmp\", mask_postfix=None, split_percentage=80, new_mask_path=None, drop=False)"
   ]
  },
  {
   "cell_type": "code",
   "execution_count": null,
   "id": "44c010f7-5d0c-4782-a925-00b719c4a338",
   "metadata": {},
   "outputs": [],
   "source": []
  },
  {
   "cell_type": "code",
   "execution_count": null,
   "id": "cb6fc950-aa2a-4742-a2c3-f1f1a6439b12",
   "metadata": {},
   "outputs": [],
   "source": []
  }
 ],
 "metadata": {
  "kernelspec": {
   "display_name": "Python 3 (ipykernel)",
   "language": "python",
   "name": "python3"
  },
  "language_info": {
   "codemirror_mode": {
    "name": "ipython",
    "version": 3
   },
   "file_extension": ".py",
   "mimetype": "text/x-python",
   "name": "python",
   "nbconvert_exporter": "python",
   "pygments_lexer": "ipython3",
   "version": "3.9.16"
  }
 },
 "nbformat": 4,
 "nbformat_minor": 5
}
