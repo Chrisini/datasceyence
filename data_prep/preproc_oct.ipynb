{
 "cells": [
  {
   "cell_type": "markdown",
   "id": "d6be404d-9c72-44e3-8689-ddb8baa56ef1",
   "metadata": {},
   "source": [
    "# Preprocessing OCT images\n",
    "* flatten\n",
    "* crop\n",
    "* resize\n",
    "* get activated region\n",
    "\n",
    "of images and masks\n",
    "\n",
    "\n",
    "Source:\n",
    "* Flattening: Corrects retinal curvature using a plynomial fit to reflective RPE layer.\n",
    "* https://github.com/forihuelaespina/OCTant/blob/master/src/octant/op/OpScanFlatten.py\n",
    "* https://github.com/forihuelaespina/OCTant/blob/master/src/octant/op/Operation.py"
   ]
  },
  {
   "cell_type": "markdown",
   "id": "25c2ab6f-d7e7-4b18-8b43-b60339bc097b",
   "metadata": {},
   "source": [
    "# Imports"
   ]
  },
  {
   "cell_type": "code",
   "execution_count": 36,
   "id": "9a5bc7bc-ef4d-45cb-b3ba-40674a4da97f",
   "metadata": {},
   "outputs": [],
   "source": [
    "# Import\n",
    "import warnings\n",
    "# from deprecated import deprecated\n",
    "\n",
    "\n",
    "import numpy as np\n",
    "import matplotlib.pyplot as plt\n",
    "#import matplotlib.image as mpimg\n",
    "from skimage import io, color\n",
    "\n",
    "from scipy.optimize import curve_fit\n",
    "\n",
    "from abc import ABC, abstractmethod\n",
    "\n",
    "import os\n",
    "import sys\n",
    "\n",
    "import numpy as np\n",
    "import matplotlib.pyplot as plt\n",
    "import matplotlib.gridspec as gridspec\n",
    "from matplotlib.figure import Figure\n",
    "#from matplotlib.backend_bases import KeyEvent, MouseEvent\n",
    "from skimage import io\n",
    "\n",
    "import copy #Permits deep copying objects\n",
    "\n",
    "import scipy.io\n",
    "\n",
    "import cv2\n",
    "import numpy as np\n",
    "\n",
    "import matplotlib.pyplot as plt\n",
    "import cv2"
   ]
  },
  {
   "cell_type": "markdown",
   "id": "c3afe49d-0bca-4b0a-aeef-6027a18c193d",
   "metadata": {},
   "source": [
    "# Classes"
   ]
  },
  {
   "cell_type": "markdown",
   "id": "695d10ec-21f1-48a7-b525-96a2ddb305a6",
   "metadata": {},
   "source": [
    "## Super class operation"
   ]
  },
  {
   "cell_type": "code",
   "execution_count": 37,
   "id": "9a030268-be40-4f63-b125-48c4984e182b",
   "metadata": {},
   "outputs": [],
   "source": [
    "class Operation(ABC):\n",
    "    # https://github.com/forihuelaespina/OCTant/blob/master/src/octant/op/Operation.py\n",
    "    \n",
    "    def __init__(self,**kwargs):\n",
    "        \"\"\"The class constructor.\n",
    "\n",
    "        The class constructor. Creates an empty operation\n",
    "\n",
    "        \"\"\"\n",
    "        super().__init__()\n",
    "\n",
    "        #Initialize attributes (without decorator @property)\n",
    "\n",
    "        #Initialize properties (with decorator @property)\n",
    "        self.name = 'Operation' #The operation name\n",
    "        self.operands = list() #Operands\n",
    "        self.parameters = list() #Parameters\n",
    "        self.result = None #Operation outputs (a list in case it is multivalued).\n",
    "                           #None until executed or cleared.\n",
    "\n",
    "        if kwargs is not None:\n",
    "            for key, value in kwargs.items():\n",
    "                if (key=='name'):\n",
    "                    self.name = value\n",
    "\n",
    "        return\n",
    "\n",
    "    #Properties getters/setters\n",
    "    #\n",
    "    # Remember: Sphinx ignores docstrings on property setters so all\n",
    "    #documentation for a property must be on the @property method\n",
    "    @property\n",
    "    def operands(self): #operands getter\n",
    "        \"\"\"\n",
    "        The list of operands.\n",
    "\n",
    "        :getter: Gets the list of operands\n",
    "        :setter: Sets the list of operands.\n",
    "        :type: list\n",
    "        \"\"\"\n",
    "        return self.__operands\n",
    "\n",
    "\n",
    "    @operands.setter\n",
    "    def operands(self,opList): #operands setter\n",
    "        #if (not isinstance(opList,(list,))):\n",
    "        if type(opList) is not list:\n",
    "            warnMsg = self.getClassName() + ':operands: Unexpected type. ' \\\n",
    "                            'Please provide operands as a list.'\n",
    "            warnings.warn(warnMsg,SyntaxWarning)\n",
    "        else:\n",
    "            self.__operands = opList;\n",
    "        return None\n",
    "\n",
    "    @property\n",
    "    def name(self): #name getter\n",
    "        \"\"\"\n",
    "        The operation name\n",
    "\n",
    "        :getter: Gets the operation name\n",
    "        :setter: Sets the operation name.\n",
    "        :type: string\n",
    "        \"\"\"\n",
    "        return self.__name\n",
    "\n",
    "    @name.setter\n",
    "    def name(self,opName): #name setter\n",
    "        #if (not isinstance(opName,(str,))):\n",
    "        if type(opName) is not str:\n",
    "            warnMsg = self.getClassName() + ':name: Unexpected type. ' \\\n",
    "                            'Operations name must be a string.'\n",
    "            warnings.warn(warnMsg,SyntaxWarning)\n",
    "        else:\n",
    "            self.__name = opName;\n",
    "        return None\n",
    "\n",
    "\n",
    "    @property\n",
    "    def parameters(self): #operands getter\n",
    "        \"\"\"\n",
    "        The list of parameters.\n",
    "\n",
    "        :getter: Gets the list of parameters\n",
    "        :setter: Sets the list of parameters.\n",
    "        :type: list\n",
    "        \"\"\"\n",
    "        return self.__parameters\n",
    "\n",
    "\n",
    "    @parameters.setter\n",
    "    def parameters(self,opList): #operands setter\n",
    "        #if (not isinstance(opList,(list,))):\n",
    "        if type(opList) is not list:\n",
    "            warnMsg = self.getClassName() + ':parameters: Unexpected type. ' \\\n",
    "                            'Please provide operands as a list.'\n",
    "            warnings.warn(warnMsg,SyntaxWarning)\n",
    "        else:\n",
    "            self.__parameters = opList;\n",
    "        return None\n",
    "\n",
    "\n",
    "    @property\n",
    "    def result(self): #result getter\n",
    "        \"\"\"\n",
    "        The list of results.\n",
    "\n",
    "        This is a read only property. There is no setter method.\n",
    "\n",
    "        :getter: Gets the list of results\n",
    "        :setter: Sets the list of results\n",
    "        :type: list\n",
    "        \"\"\"\n",
    "        return self.__result\n",
    "\n",
    "\n",
    "    @result.setter\n",
    "    def result(self,rList): #result setter\n",
    "        self.__result = rList;\n",
    "        return None\n",
    "\n",
    "\n",
    "    #Private methods\n",
    "    def __str__(self):\n",
    "        tmp = '['\n",
    "        for x in self.operands:\n",
    "            tmp += format(x) + ','\n",
    "        tmp+=']'\n",
    "        s = '<' + self.getClassName() + '([' \\\n",
    "            + 'name: ' + self.name + ';' \\\n",
    "            + ' operands: ' + tmp + '])>'\n",
    "        return s\n",
    "\n",
    "    #Public methods\n",
    "    def getClassName(self):\n",
    "        \"\"\"Get the class name as a string.\n",
    "\n",
    "        Get the class name as a string.\n",
    "\n",
    "        :returns: The class name.\n",
    "        :rtype: string\n",
    "        \"\"\"\n",
    "        return type(self).__name__\n",
    "\n",
    "    def addOperand(self,op,i=None):\n",
    "        \"\"\"\n",
    "        Add a new operand.\n",
    "\n",
    "        :param op: The operand.\n",
    "        :type op: object\n",
    "        :param i: (optional) The operand order. If given it may shift the\n",
    "            order of other operands already set. If not given, the operand\n",
    "            is appended at the end of the list of operands.\n",
    "        :type op: int\n",
    "        :return: None\n",
    "        \"\"\"\n",
    "        if (i is None):\n",
    "            self.__operands.append(op)\n",
    "        else:\n",
    "            self.__operands.insert(i,op)\n",
    "        return None\n",
    "\n",
    "    def setOperand(self,op,i):\n",
    "        \"\"\"\n",
    "        Set an operand; substitutes an existing operand with a new one.\n",
    "\n",
    "        Calling setOperand when the :py:attr:`i`-th operand has not been\n",
    "        previously set will result in an out-of-range error.\n",
    "\n",
    "        :param op: The new operand.\n",
    "        :type op: object\n",
    "        :param i: The operand order. Operand index is zero-base i.e. the\n",
    "            first operand occupies i=0\n",
    "        :type op: int\n",
    "        :return: None\n",
    "        \"\"\"\n",
    "        self.__operands[i] = op\n",
    "        return None\n",
    "\n",
    "    def addParameter(self,param,i=None):\n",
    "        \"\"\"\n",
    "        Add a new parameter.\n",
    "\n",
    "        :param op: The parameter.\n",
    "        :type op: object\n",
    "        :param i: (optional) The paremeter order. If given it may shift the\n",
    "            order of other parameters already set. If not given, the parameter\n",
    "            is appended at the end of the list of parameters.\n",
    "        :type op: int\n",
    "        :return: None\n",
    "        \"\"\"\n",
    "        if (i is None):\n",
    "            self.__parameters.append(op)\n",
    "        else:\n",
    "            self.__parameters.insert(i,op)\n",
    "        return None\n",
    "\n",
    "    def setParameter(self,op,i):\n",
    "        \"\"\"\n",
    "        Set a parameter; substitutes an existing parameter with a new one.\n",
    "\n",
    "        Calling setParameter when the :py:attr:`i`-th parameter has not been\n",
    "        previously set will result in an out-of-range error.\n",
    "\n",
    "        :param op: The new operand.\n",
    "        :type op: object\n",
    "        :param i: The operand order. Operand index is zero-base i.e. the\n",
    "            first operand occupies i=0\n",
    "        :type op: int\n",
    "        :return: None\n",
    "        \"\"\"\n",
    "        self.__operands[i] = op\n",
    "        return None\n",
    "\n",
    "    def arity(self):\n",
    "        \"\"\"Gets the operation arity (number of operands).\n",
    "\n",
    "        :return: The operation arity\n",
    "        :rtype: int\n",
    "        \"\"\"\n",
    "        return len(self.__operands)\n",
    "\n",
    "    def clear(self):\n",
    "        \"\"\"\n",
    "        Clears the operands; Removes all operands.\n",
    "\n",
    "        :return: None\n",
    "        \"\"\"\n",
    "        self.__operands = list()\n",
    "        return None\n",
    "\n",
    "    #@abstractmethod\n",
    "    def execute(self,*args,**kwargs):\n",
    "        \"\"\"Executes the operation on the operands.\n",
    "\n",
    "        This is an abstract method. Executes the operation on the .operands\n",
    "        and stores the outcome in .result\n",
    "\n",
    "        Operation meta-parameters may be also passed.\n",
    "\n",
    "        :returns: Result of executing the operation.\n",
    "        :rtype: Type of result -depends on subclass implementation-.\n",
    "        \"\"\"\n",
    "        pass"
   ]
  },
  {
   "cell_type": "markdown",
   "id": "2e885eb6-a90c-443e-915a-c5a854d45426",
   "metadata": {},
   "source": [
    "## Flatten"
   ]
  },
  {
   "cell_type": "code",
   "execution_count": 38,
   "id": "606f6263-0264-4a53-b46e-c5df0d8dd9c4",
   "metadata": {},
   "outputs": [],
   "source": [
    "class OpScanFlatten(Operation):\n",
    "    \"\"\"A flattening operation for :class:`data.OCTscan`.\n",
    "    \n",
    "    A flattening operation for :class:`data.OCTscan`.\n",
    "\n",
    "    The operation represented by this class rectifies an OCT scan.\n",
    "    \n",
    "    .. seealso:: None\n",
    "    .. note:: None\n",
    "    .. todo:: None\n",
    "        \n",
    "    \"\"\"\n",
    " \n",
    "    #Private class attributes shared by all instances\n",
    "    \n",
    "    #Class constructor\n",
    "    def __init__(self, image, mask=None):\n",
    "        #Call superclass constructor\n",
    "        super().__init__()\n",
    "        \n",
    "        #Set the operation name\n",
    "        self.name = \"Flattening\"\n",
    "        \n",
    "        self.__deformationMap = None\n",
    "        \n",
    "        self.image = image\n",
    "        self.mask = mask\n",
    "        \n",
    "        return\n",
    "    \n",
    "    \n",
    "    @property\n",
    "    def deformationMap(self): #name getter\n",
    "        \"\"\"\n",
    "        A logical name for the study.\n",
    "        \n",
    "        This is a read only property.\n",
    "        \n",
    "        :getter: Gets the deformationMap associated to the last flattening.\n",
    "        :type: str\n",
    "        \"\"\"\n",
    "        return self.__deformationMap\n",
    "    \n",
    "\n",
    "\n",
    "    @staticmethod\n",
    "    def fittingQuadraticModel(x, a, b, c):\n",
    "        #quadratic model for curve optimization\n",
    "        return a * x*x + b*x + c\n",
    "\n",
    "    \n",
    "    #Public methods\n",
    "    def execute(self,*args,**kwargs):\n",
    "        \"\"\"Executes the operation on the :py:attr:`operands`.\n",
    "        \n",
    "        Executes the operation on the :py:attr:`operands` and stores the outcome\n",
    "        in :py:attr:`result`. Preload operands using\n",
    "        :func:`Operation.addOperand()`.\n",
    "        \n",
    "        :returns: Result of executing the operation.\n",
    "        :rtype: :class:`data.OCTscan`\n",
    "        \"\"\"\n",
    "        #print(self._getClasName(),\": flattening: Starting flattening\")\n",
    "        \n",
    "        #Ensure the operand has been set.\n",
    "        \n",
    "        \n",
    "        \n",
    "        #Check whether the image is in RGB (ndim=3) or in grayscale (ndim=2)\n",
    "        #and convert to grayscale if necessary\n",
    "        if self.image.ndim == 2:\n",
    "            #Dimensions are only width and height. The image is already in grayscale.\n",
    "            I2=self.image\n",
    "        elif self.image.ndim == 3:\n",
    "            #Image is in RGB. Convert.\n",
    "            I2=color.rgb2gray(self.image);\n",
    "        else: #Unexpected case. Return warning\n",
    "            print(self._getClasName(),\": Unexpected image shape.\")\n",
    "            self.result = self.image\n",
    "            return self.result\n",
    "        \n",
    "        aux = np.argmax(I2, axis=0)\n",
    "        mg = np.mean(aux)\n",
    "        sdg = np.std(aux)\n",
    "        markers = []\n",
    "        remover =[]\n",
    "        x0 = np.arange(len(aux))\n",
    "        \n",
    "        for i in range(0,len(aux)):\n",
    "            if mg - 3*sdg <= aux[i] <= mg +3*sdg: \n",
    "                markers+= [aux[i]]\n",
    "            else:\n",
    "                remover+= [i]\n",
    "                \n",
    "        x=np.delete(x0,remover)\n",
    "        \n",
    "        \n",
    "        \n",
    "        modelCoeffs, pcov = curve_fit(self.fittingQuadraticModel, x, markers, \\\n",
    "                                    method = 'dogbox', loss = 'soft_l1')\n",
    "        \n",
    "        #print(pcov)\n",
    "        #print(markers)\n",
    "        \n",
    "        a = self.fittingQuadraticModel(x0, *modelCoeffs)\n",
    "        \n",
    "        #print(a)\n",
    "        \n",
    "        shift = np.max(a)\n",
    "        flat  = shift-a\n",
    "        flat  = np.round(flat)\n",
    "        flat  = np.ravel(flat).astype(int)\n",
    "        self.__deformationMap = flat\n",
    "        \n",
    "        newgray = I2\n",
    "        for i in range(0,len(a)):\n",
    "            newgray[:,i] = np.roll(I2[:,i], flat[i], axis=0)\n",
    "\n",
    "        self.result = newgray\n",
    "        \n",
    "        # mask part\n",
    "        try:\n",
    "            #print(self.__deformationMap)\n",
    "\n",
    "            self.new_mask = []\n",
    "            if self.mask is not None:\n",
    "                for layer in self.mask:\n",
    "                    self.new_mask.append(layer + self.__deformationMap)\n",
    "        except Exception as e:\n",
    "            print(\"no mask possible\")\n",
    "            return self.result, []\n",
    "        \n",
    "        \n",
    "        \n",
    "            \n",
    "        return self.result, self.new_mask\n",
    "\n",
    "\n",
    "    def applyOperation(self, scanA):\n",
    "        \"\"\"Apply the current flattening to the given scan.\n",
    "        \n",
    "        Instead of calculating the fitting again needed for the\n",
    "        flattening, this method applies a known fitted quadratic model to\n",
    "        the given parameters.\n",
    "        \n",
    "        The result is NOT stored in :py:attr:`result`.\n",
    "        \n",
    "        :param scanA: Image to flatten.\n",
    "        :type scanA: :class:`data.OCTscan`\n",
    "        :returns: Result of repeating the last flattening operation onto\n",
    "             parameter scanA.\n",
    "        :rtype: :class:`data.OCTscan`\n",
    "        \"\"\"\n",
    "            #scanA=scanA.data\n",
    "        newgray = scanA\n",
    "        for i in range(0,len(self.deformationMap)):\n",
    "            newgray[:,i] = np.roll(scanA[:,i], self.deformationMap[i], axis=0)\n",
    "        return newgray"
   ]
  },
  {
   "cell_type": "markdown",
   "id": "9b668f21-2ce9-4c64-b11e-6fe969df4c8b",
   "metadata": {},
   "source": [
    "# Run code"
   ]
  },
  {
   "cell_type": "markdown",
   "id": "e4fa66a1-ba85-4535-abea-3ec28cbf8c97",
   "metadata": {},
   "source": [
    "## open image and mask"
   ]
  },
  {
   "cell_type": "code",
   "execution_count": 64,
   "id": "c8920483-2eaa-4ac6-99d2-faf3a327fed6",
   "metadata": {},
   "outputs": [
    {
     "name": "stdout",
     "output_type": "stream",
     "text": [
      "Init testing...\n",
      "Loading image.\n",
      "layers x a x b (or b x a ??): (6, 400, 400)\n"
     ]
    }
   ],
   "source": [
    "# Test.py\n",
    "\n",
    "print(\"Init testing...\")\n",
    "print(\"Loading image.\")\n",
    "filename = '../examples/example_data/octa500/10001/200.bmp'\n",
    "#filename = '../examples/example_data/biobank/fds_testing_62.png'\n",
    "\n",
    "img = io.imread(filename)\n",
    "\n",
    "base_path = \"../examples/example_data/octa500\"\n",
    "mat = scipy.io.loadmat(os.path.join(base_path, \"10001.mat\")    )\n",
    "mask = mat[\"Layer\"]\n",
    "\n",
    "print(\"layers x a x b (or b x a ??):\", mask.shape)\n",
    "\n",
    "id_minus_one = 200-1"
   ]
  },
  {
   "cell_type": "code",
   "execution_count": 68,
   "id": "3b91a1c1-0f66-4bf2-934d-96f9f0376ea3",
   "metadata": {},
   "outputs": [
    {
     "data": {
      "text/plain": [
       "array([[217, 217, 217, ..., 264, 264, 264],\n",
       "       [242, 242, 243, ..., 292, 292, 292],\n",
       "       [260, 261, 261, ..., 308, 308, 307],\n",
       "       [285, 286, 286, ..., 332, 332, 332],\n",
       "       [302, 302, 302, ..., 345, 345, 345],\n",
       "       [307, 307, 307, ..., 353, 354, 354]], dtype=uint16)"
      ]
     },
     "execution_count": 68,
     "metadata": {},
     "output_type": "execute_result"
    }
   ],
   "source": [
    "mat[\"Layer\"][:, id_minus_one]"
   ]
  },
  {
   "cell_type": "markdown",
   "id": "ac19188d-b32f-4b30-9e3b-d4e50fcae7dc",
   "metadata": {
    "toc-hr-collapsed": true
   },
   "source": [
    "## run flatten"
   ]
  },
  {
   "cell_type": "code",
   "execution_count": 40,
   "id": "869316a3-e137-49d3-8d76-4f6d2e8c209f",
   "metadata": {},
   "outputs": [
    {
     "name": "stdout",
     "output_type": "stream",
     "text": [
      "-- Flattening.\n",
      "Done.\n"
     ]
    }
   ],
   "source": [
    "print(\"-- Flattening.\")\n",
    "flt = OpScanFlatten(img.copy(), mat[\"Layer\"][:, id_minus_one].copy())\n",
    "imFlattened, mask_flattened = flt.execute()\n",
    "print(\"Done.\")       "
   ]
  },
  {
   "cell_type": "code",
   "execution_count": 41,
   "id": "907064e2-4059-41f3-af5f-484d6a1698ab",
   "metadata": {},
   "outputs": [],
   "source": [
    "try:\n",
    "    mask_flattened[0]\n",
    "except:\n",
    "    print(\"potentially no mask found\")"
   ]
  },
  {
   "cell_type": "markdown",
   "id": "c8fe6b17-9a33-4b4f-a2de-a0cce8c094f4",
   "metadata": {},
   "source": [
    "## run cropping"
   ]
  },
  {
   "cell_type": "code",
   "execution_count": 42,
   "id": "5b295f29-1f9e-407c-aad3-cee298cada00",
   "metadata": {},
   "outputs": [
    {
     "name": "stdout",
     "output_type": "stream",
     "text": [
      "xmin, xmax, ymin, ymax: 0 399 261 445\n",
      "gray shape: (640, 400)\n",
      "crop shape: (204, 400)\n"
     ]
    }
   ],
   "source": [
    "# load image as grayscale\n",
    "\n",
    "#gray = cv2.cvtColor(img, cv2.COLOR_BGR2GRAY)\n",
    "#  * 255\n",
    "gray = (imFlattened).astype(np.uint8)  \n",
    "\n",
    "gray = cv2.GaussianBlur(gray,(5,5),0)\n",
    "\n",
    "# threshold \n",
    "thresh = cv2.threshold(gray, 50, 255, cv2.THRESH_BINARY+cv2.THRESH_OTSU)[1]\n",
    "hh, ww = thresh.shape\n",
    "\n",
    "# make bottom 2 rows black where they are white the full width of the image\n",
    "thresh[hh-3:hh, 0:ww] = 0\n",
    "\n",
    "# get bounds of white pixels\n",
    "white = np.where(thresh==255)\n",
    "xmin, ymin, xmax, ymax = np.min(white[1]), np.min(white[0]), np.max(white[1]), np.max(white[0])\n",
    "print(\"xmin, xmax, ymin, ymax:\", xmin, xmax, ymin, ymax)\n",
    "\n",
    "padding = 10\n",
    "\n",
    "# crop the image at the bounds adding rows at the top and bottom (y)\n",
    "crop = gray[ymin-padding:ymax+padding, xmin:xmax+1]\n",
    "\n",
    "print(\"gray shape:\", gray.shape)\n",
    "print(\"crop shape:\", crop.shape)\n",
    "\n",
    "mask_cropped = mask_flattened.copy()\n",
    "\n",
    "for i in range(len(mask_cropped)):\n",
    "    mask_cropped[i] = mask_cropped[i]-ymin+padding+1 # +1 looks better ..."
   ]
  },
  {
   "cell_type": "markdown",
   "id": "d8d5d773-6c64-4f3c-9b30-356a128edfc8",
   "metadata": {},
   "source": [
    "## run resize"
   ]
  },
  {
   "cell_type": "code",
   "execution_count": 43,
   "id": "6fdfc85b-fe75-444e-ba1d-6405299d38f7",
   "metadata": {},
   "outputs": [
    {
     "name": "stdout",
     "output_type": "stream",
     "text": [
      "crop shape from threshold: (204, 400)\n",
      "length of layer 1: 28\n",
      "length of layer 1: 400\n",
      "amount of layers: 6\n"
     ]
    }
   ],
   "source": [
    "size = 28\n",
    "new_size = (size, size)\n",
    "\n",
    "# image\n",
    "resized = cv2.resize(crop, new_size)\n",
    "\n",
    "# mask\n",
    "\n",
    "try:\n",
    "    # Calculate scaling factors\n",
    "    scale_x = new_size[0] / crop.shape[1]\n",
    "    scale_y = new_size[1] / crop.shape[0]\n",
    "\n",
    "    # Scale the coordinates\n",
    "    # scaled_coordinates = coordinates * [scale_x, scale_y]\n",
    "\n",
    "    print(\"crop shape from threshold:\", crop.shape)\n",
    "\n",
    "    # mask_resized_layerid\n",
    "    mask_resized_0 = list(np.resize(mask_cropped[0], (new_size)))\n",
    "    mask_resized_1 = list(np.resize(mask_cropped[1], (new_size)))\n",
    "    mask_resized_2 = list(np.resize(mask_cropped[2], (new_size)))\n",
    "    mask_resized_3 = list(np.resize(mask_cropped[3], (new_size)))\n",
    "    mask_resized_4 = list(np.resize(mask_cropped[4], (new_size)))\n",
    "    mask_resized_5 = list(np.resize(mask_cropped[5], (new_size)))\n",
    "\n",
    "    print(\"length of layer 1:\", len(mask_resized_0))\n",
    "\n",
    "    mask_resized_0 = np.array(list(zip( mask_cropped[0], range(len(mask_cropped[0])) ))) * [scale_y, scale_x]\n",
    "    mask_resized_1 = np.array(list(zip( mask_cropped[1], range(len(mask_cropped[0])) ))) * [scale_y, scale_x]\n",
    "    mask_resized_2 = np.array(list(zip( mask_cropped[2], range(len(mask_cropped[0])) ))) * [scale_y, scale_x]\n",
    "    mask_resized_3 = np.array(list(zip( mask_cropped[3], range(len(mask_cropped[0])) ))) * [scale_y, scale_x]\n",
    "    mask_resized_4 = np.array(list(zip( mask_cropped[4], range(len(mask_cropped[0])) ))) * [scale_y, scale_x]\n",
    "    mask_resized_5 = np.array(list(zip( mask_cropped[5], range(len(mask_cropped[0])) ))) * [scale_y, scale_x]\n",
    "\n",
    "    print(\"length of layer 1:\", len(mask_resized_0))\n",
    "    \n",
    "    print(\"amount of layers:\", len(mask_cropped))\n",
    "except:\n",
    "    print(\"potentially no mask found\")"
   ]
  },
  {
   "cell_type": "code",
   "execution_count": 44,
   "id": "02551b11-41e8-4e71-9564-4fa46d2abda8",
   "metadata": {},
   "outputs": [
    {
     "data": {
      "text/plain": [
       "array([34, 34, 33, 33, 33, 33, 32, 32, 32, 32, 31, 31, 31, 31, 30, 30, 30,\n",
       "       30, 29, 29, 28, 28, 28, 28, 27, 27, 26, 27, 26, 26, 25, 26, 25, 25,\n",
       "       24, 25, 25, 24, 24, 24, 24, 23, 24, 23, 23, 23, 23, 23, 22, 23, 22,\n",
       "       22, 23, 22, 22, 22, 22, 21, 21, 22, 21, 21, 21, 21, 21, 21, 21, 20,\n",
       "       21, 21, 20, 20, 21, 20, 20, 20, 20, 20, 20, 20, 20, 20, 20, 20, 20,\n",
       "       20, 19, 20, 20, 20, 20, 20, 20, 20, 20, 19, 20, 20, 19, 19, 20, 19,\n",
       "       19, 19, 20, 19, 19, 19, 19, 19, 19, 19, 19, 19, 20, 19, 19, 20, 19,\n",
       "       19, 20, 20, 19, 20, 20, 20, 20, 20, 21, 20, 20, 21, 21, 21, 21, 21,\n",
       "       22, 21, 22, 22, 23, 22, 23, 23, 23, 23, 23, 24, 24, 25, 24, 25, 25,\n",
       "       26, 26, 26, 27, 27, 28, 27, 28, 28, 29, 30, 30, 30, 31, 32, 33, 34,\n",
       "       34, 35, 36, 37, 38, 39, 39, 40, 41, 42, 42, 43, 43, 44, 45, 46, 47,\n",
       "       48, 49, 49, 50, 50, 51, 52, 53, 53, 54, 53, 54, 54, 55, 55, 55, 55,\n",
       "       55, 55, 54, 54, 54, 54, 53, 53, 52, 52, 51, 50, 50, 48, 47, 46, 46,\n",
       "       45, 44, 43, 42, 41, 39, 39, 37, 37, 36, 35, 33, 31, 30, 29, 28, 27,\n",
       "       27, 26, 25, 24, 24, 23, 22, 22, 21, 21, 20, 19, 19, 18, 18, 17, 17,\n",
       "       16, 16, 15, 15, 15, 14, 14, 13, 13, 13, 12, 12, 12, 12, 11, 11, 11,\n",
       "       11, 10, 10, 10, 10, 11, 10, 10, 10, 10, 10, 10, 10, 10, 10, 10, 10,\n",
       "       10, 10, 10, 10, 11, 11, 11, 11, 11, 11, 11, 11, 11, 11, 12, 13, 13,\n",
       "       13, 13, 14, 14, 14, 14, 14, 16, 16, 16, 16, 16, 16, 17, 17, 18, 18,\n",
       "       18, 18, 18, 19, 19, 20, 20, 20, 20, 20, 21, 21, 22, 22, 22, 22, 22,\n",
       "       23, 23, 23, 23, 23, 23, 24, 24, 25, 25, 25, 26, 26, 26, 26, 26, 27,\n",
       "       28, 28, 27, 27, 28, 28, 28, 28, 29, 29, 29, 29, 29, 30, 30, 30, 30,\n",
       "       31, 31, 31, 31, 32, 32, 32, 32, 33, 33, 33, 33, 33, 33, 33, 34, 34,\n",
       "       33, 33, 34, 34, 34, 35, 35, 35, 36])"
      ]
     },
     "execution_count": 44,
     "metadata": {},
     "output_type": "execute_result"
    }
   ],
   "source": [
    "mask_cropped[0]"
   ]
  },
  {
   "cell_type": "code",
   "execution_count": 45,
   "id": "457aead7-4667-4360-a6e1-028cd6af4387",
   "metadata": {},
   "outputs": [
    {
     "data": {
      "text/plain": [
       "400"
      ]
     },
     "execution_count": 45,
     "metadata": {},
     "output_type": "execute_result"
    }
   ],
   "source": [
    "len(mask_resized_0)"
   ]
  },
  {
   "cell_type": "code",
   "execution_count": 46,
   "id": "d9c496c7-b53c-4365-b137-945cf56b9637",
   "metadata": {},
   "outputs": [
    {
     "data": {
      "text/plain": [
       "(28, 28)"
      ]
     },
     "execution_count": 46,
     "metadata": {},
     "output_type": "execute_result"
    }
   ],
   "source": [
    "np.resize(mask_cropped[0], (new_size)).shape"
   ]
  },
  {
   "cell_type": "code",
   "execution_count": 47,
   "id": "14602311-ae63-4e24-a250-0db231325c19",
   "metadata": {},
   "outputs": [
    {
     "data": {
      "text/plain": [
       "(400, 2)"
      ]
     },
     "execution_count": 47,
     "metadata": {},
     "output_type": "execute_result"
    }
   ],
   "source": [
    "mask_resized_0.shape"
   ]
  },
  {
   "cell_type": "markdown",
   "id": "b8b7d99b-fe47-4381-9e15-d6f4421af410",
   "metadata": {},
   "source": [
    "# Plot"
   ]
  },
  {
   "cell_type": "markdown",
   "id": "9ec3ef62-2867-4e83-8442-a9b30084dd56",
   "metadata": {},
   "source": [
    "## plot original"
   ]
  },
  {
   "cell_type": "code",
   "execution_count": 48,
   "id": "d17a8771-cbb7-4961-8c2c-8d7dfff2863d",
   "metadata": {},
   "outputs": [
    {
     "data": {
      "image/png": "[encoded data removed]",
      "text/plain": [
       "<Figure size 432x288 with 1 Axes>"
      ]
     },
     "metadata": {
      "needs_background": "light"
     },
     "output_type": "display_data"
    }
   ],
   "source": [
    "plt.imshow(img, cmap=\"gray\")\n",
    "plt.axis('off')  # Optional: to turn off the axis\n",
    "plt.show()"
   ]
  },
  {
   "cell_type": "code",
   "execution_count": 49,
   "id": "80ed4ea8-c032-4c14-9b43-a7999f280d47",
   "metadata": {},
   "outputs": [],
   "source": [
    "# plot original + mask"
   ]
  },
  {
   "cell_type": "code",
   "execution_count": 50,
   "id": "2df32368-41c0-4906-af95-f25cda3ce023",
   "metadata": {},
   "outputs": [
    {
     "data": {
      "image/png": "[encoded data removed]",
      "text/plain": [
       "<Figure size 432x288 with 1 Axes>"
      ]
     },
     "metadata": {
      "needs_background": "light"
     },
     "output_type": "display_data"
    }
   ],
   "source": [
    "plt.imshow(img, cmap=\"gray\")\n",
    "#plt.axis('off')  # Optional: to turn off the axis\n",
    "if \"octa500\" in filename:\n",
    "    plt.plot(mask[0, id_minus_one])\n",
    "    plt.plot(mask[1, id_minus_one])\n",
    "    plt.plot(mask[2, id_minus_one])\n",
    "    plt.plot(mask[3, id_minus_one])\n",
    "    plt.plot(mask[4, id_minus_one])\n",
    "    plt.plot(mask[5, id_minus_one])\n",
    "#plt.gca().invert_yaxis()\n",
    "plt.show()"
   ]
  },
  {
   "cell_type": "markdown",
   "id": "f4af74ad-82b2-42d1-b6ec-1bfea4401b3f",
   "metadata": {},
   "source": [
    "## plot flattened image"
   ]
  },
  {
   "cell_type": "code",
   "execution_count": 51,
   "id": "2effdb85-1801-4e0d-bfb9-55be0f5ab019",
   "metadata": {},
   "outputs": [
    {
     "data": {
      "image/png": "[encoded data removed]",
      "text/plain": [
       "<Figure size 432x288 with 1 Axes>"
      ]
     },
     "metadata": {
      "needs_background": "light"
     },
     "output_type": "display_data"
    }
   ],
   "source": [
    "plt.imshow(imFlattened, cmap=\"gray\")\n",
    "plt.axis('off')  # Optional: to turn off the axis\n",
    "plt.show()"
   ]
  },
  {
   "cell_type": "markdown",
   "id": "590df10a-37a4-4120-b7d1-90ffff5f2fe0",
   "metadata": {},
   "source": [
    "## plot flattened + mask"
   ]
  },
  {
   "cell_type": "code",
   "execution_count": 52,
   "id": "45a20abd-ab4b-42c5-b624-da5fb841118e",
   "metadata": {},
   "outputs": [
    {
     "data": {
      "image/png": "[encoded data removed]",
      "text/plain": [
       "<Figure size 432x288 with 1 Axes>"
      ]
     },
     "metadata": {
      "needs_background": "light"
     },
     "output_type": "display_data"
    }
   ],
   "source": [
    "plt.imshow(imFlattened, cmap=\"gray\")\n",
    "try:\n",
    "    plt.plot(mask_flattened[0])\n",
    "    plt.plot(mask_flattened[1])\n",
    "    plt.plot(mask_flattened[2])\n",
    "    plt.plot(mask_flattened[3])\n",
    "    plt.plot(mask_flattened[4])\n",
    "    plt.plot(mask_flattened[5])\n",
    "except:\n",
    "    print(\"potentially no mask found\")\n",
    "plt.show()"
   ]
  },
  {
   "cell_type": "markdown",
   "id": "b4e26f2b-eba5-4293-aa3b-5aed33efa20c",
   "metadata": {},
   "source": [
    "## plot thresholded image"
   ]
  },
  {
   "cell_type": "code",
   "execution_count": 53,
   "id": "d45b3b77-a840-41dc-a87d-de7c245475bc",
   "metadata": {},
   "outputs": [
    {
     "data": {
      "image/png": "[encoded data removed]",
      "text/plain": [
       "<Figure size 432x288 with 1 Axes>"
      ]
     },
     "metadata": {
      "needs_background": "light"
     },
     "output_type": "display_data"
    }
   ],
   "source": [
    "plt.imshow(thresh)\n",
    "plt.axis('off')  # Optional: to turn off the axis\n",
    "plt.show()"
   ]
  },
  {
   "cell_type": "markdown",
   "id": "09d44560-89cf-4273-bfad-5debfe978f00",
   "metadata": {},
   "source": [
    "## plot cropped image + mask"
   ]
  },
  {
   "cell_type": "code",
   "execution_count": 54,
   "id": "2edf26eb-5c5f-4d78-9c7f-73ac9a476be3",
   "metadata": {},
   "outputs": [
    {
     "data": {
      "image/png": "[encoded data removed]",
      "text/plain": [
       "<Figure size 432x288 with 1 Axes>"
      ]
     },
     "metadata": {
      "needs_background": "light"
     },
     "output_type": "display_data"
    }
   ],
   "source": [
    "plt.imshow(crop, cmap=\"gray\")\n",
    "# plt.axis('off')  # Optional: to turn off the axis\n",
    "try:\n",
    "    plt.plot(mask_cropped[0])\n",
    "    plt.plot(mask_cropped[1])\n",
    "    plt.plot(mask_cropped[2])\n",
    "    plt.plot(mask_cropped[3])\n",
    "    plt.plot(mask_cropped[4])\n",
    "    plt.plot(mask_cropped[5])\n",
    "except:\n",
    "    print(\"potentially no mask found\")\n",
    "plt.show()"
   ]
  },
  {
   "cell_type": "markdown",
   "id": "7b5d5a0c-c9b4-406e-83e7-32d53a217612",
   "metadata": {},
   "source": [
    "## plot resized"
   ]
  },
  {
   "cell_type": "code",
   "execution_count": 55,
   "id": "68c419dd-e031-4803-a832-770bdbc156c5",
   "metadata": {},
   "outputs": [
    {
     "data": {
      "image/png": "[encoded data removed]",
      "text/plain": [
       "<Figure size 432x288 with 1 Axes>"
      ]
     },
     "metadata": {
      "needs_background": "light"
     },
     "output_type": "display_data"
    }
   ],
   "source": [
    "plt.imshow(resized, cmap=\"gray\")\n",
    "plt.axis('off')  # Optional: to turn off the axis\n",
    "plt.show()"
   ]
  },
  {
   "cell_type": "markdown",
   "id": "7752d0e7-6d6b-4da1-9188-285f2deb17a6",
   "metadata": {},
   "source": [
    "## plot resized + mask"
   ]
  },
  {
   "cell_type": "code",
   "execution_count": 59,
   "id": "b8e27afd-4c2c-421c-acdd-da75123812a3",
   "metadata": {},
   "outputs": [
    {
     "data": {
      "text/plain": [
       "array([[ 4.66666667,  0.        ],\n",
       "       [ 4.66666667,  0.07      ],\n",
       "       [ 4.52941176,  0.14      ],\n",
       "       [ 4.52941176,  0.21      ],\n",
       "       [ 4.52941176,  0.28      ],\n",
       "       [ 4.52941176,  0.35      ],\n",
       "       [ 4.39215686,  0.42      ],\n",
       "       [ 4.39215686,  0.49      ],\n",
       "       [ 4.39215686,  0.56      ],\n",
       "       [ 4.39215686,  0.63      ],\n",
       "       [ 4.25490196,  0.7       ],\n",
       "       [ 4.25490196,  0.77      ],\n",
       "       [ 4.25490196,  0.84      ],\n",
       "       [ 4.25490196,  0.91      ],\n",
       "       [ 4.11764706,  0.98      ],\n",
       "       [ 4.11764706,  1.05      ],\n",
       "       [ 4.11764706,  1.12      ],\n",
       "       [ 4.11764706,  1.19      ],\n",
       "       [ 3.98039216,  1.26      ],\n",
       "       [ 3.98039216,  1.33      ],\n",
       "       [ 3.84313725,  1.4       ],\n",
       "       [ 3.84313725,  1.47      ],\n",
       "       [ 3.84313725,  1.54      ],\n",
       "       [ 3.84313725,  1.61      ],\n",
       "       [ 3.70588235,  1.68      ],\n",
       "       [ 3.70588235,  1.75      ],\n",
       "       [ 3.56862745,  1.82      ],\n",
       "       [ 3.70588235,  1.89      ],\n",
       "       [ 3.56862745,  1.96      ],\n",
       "       [ 3.56862745,  2.03      ],\n",
       "       [ 3.43137255,  2.1       ],\n",
       "       [ 3.56862745,  2.17      ],\n",
       "       [ 3.43137255,  2.24      ],\n",
       "       [ 3.43137255,  2.31      ],\n",
       "       [ 3.29411765,  2.38      ],\n",
       "       [ 3.43137255,  2.45      ],\n",
       "       [ 3.43137255,  2.52      ],\n",
       "       [ 3.29411765,  2.59      ],\n",
       "       [ 3.29411765,  2.66      ],\n",
       "       [ 3.29411765,  2.73      ],\n",
       "       [ 3.29411765,  2.8       ],\n",
       "       [ 3.15686275,  2.87      ],\n",
       "       [ 3.29411765,  2.94      ],\n",
       "       [ 3.15686275,  3.01      ],\n",
       "       [ 3.15686275,  3.08      ],\n",
       "       [ 3.15686275,  3.15      ],\n",
       "       [ 3.15686275,  3.22      ],\n",
       "       [ 3.15686275,  3.29      ],\n",
       "       [ 3.01960784,  3.36      ],\n",
       "       [ 3.15686275,  3.43      ],\n",
       "       [ 3.01960784,  3.5       ],\n",
       "       [ 3.01960784,  3.57      ],\n",
       "       [ 3.15686275,  3.64      ],\n",
       "       [ 3.01960784,  3.71      ],\n",
       "       [ 3.01960784,  3.78      ],\n",
       "       [ 3.01960784,  3.85      ],\n",
       "       [ 3.01960784,  3.92      ],\n",
       "       [ 2.88235294,  3.99      ],\n",
       "       [ 2.88235294,  4.06      ],\n",
       "       [ 3.01960784,  4.13      ],\n",
       "       [ 2.88235294,  4.2       ],\n",
       "       [ 2.88235294,  4.27      ],\n",
       "       [ 2.88235294,  4.34      ],\n",
       "       [ 2.88235294,  4.41      ],\n",
       "       [ 2.88235294,  4.48      ],\n",
       "       [ 2.88235294,  4.55      ],\n",
       "       [ 2.88235294,  4.62      ],\n",
       "       [ 2.74509804,  4.69      ],\n",
       "       [ 2.88235294,  4.76      ],\n",
       "       [ 2.88235294,  4.83      ],\n",
       "       [ 2.74509804,  4.9       ],\n",
       "       [ 2.74509804,  4.97      ],\n",
       "       [ 2.88235294,  5.04      ],\n",
       "       [ 2.74509804,  5.11      ],\n",
       "       [ 2.74509804,  5.18      ],\n",
       "       [ 2.74509804,  5.25      ],\n",
       "       [ 2.74509804,  5.32      ],\n",
       "       [ 2.74509804,  5.39      ],\n",
       "       [ 2.74509804,  5.46      ],\n",
       "       [ 2.74509804,  5.53      ],\n",
       "       [ 2.74509804,  5.6       ],\n",
       "       [ 2.74509804,  5.67      ],\n",
       "       [ 2.74509804,  5.74      ],\n",
       "       [ 2.74509804,  5.81      ],\n",
       "       [ 2.74509804,  5.88      ],\n",
       "       [ 2.74509804,  5.95      ],\n",
       "       [ 2.60784314,  6.02      ],\n",
       "       [ 2.74509804,  6.09      ],\n",
       "       [ 2.74509804,  6.16      ],\n",
       "       [ 2.74509804,  6.23      ],\n",
       "       [ 2.74509804,  6.3       ],\n",
       "       [ 2.74509804,  6.37      ],\n",
       "       [ 2.74509804,  6.44      ],\n",
       "       [ 2.74509804,  6.51      ],\n",
       "       [ 2.74509804,  6.58      ],\n",
       "       [ 2.60784314,  6.65      ],\n",
       "       [ 2.74509804,  6.72      ],\n",
       "       [ 2.74509804,  6.79      ],\n",
       "       [ 2.60784314,  6.86      ],\n",
       "       [ 2.60784314,  6.93      ],\n",
       "       [ 2.74509804,  7.        ],\n",
       "       [ 2.60784314,  7.07      ],\n",
       "       [ 2.60784314,  7.14      ],\n",
       "       [ 2.60784314,  7.21      ],\n",
       "       [ 2.74509804,  7.28      ],\n",
       "       [ 2.60784314,  7.35      ],\n",
       "       [ 2.60784314,  7.42      ],\n",
       "       [ 2.60784314,  7.49      ],\n",
       "       [ 2.60784314,  7.56      ],\n",
       "       [ 2.60784314,  7.63      ],\n",
       "       [ 2.60784314,  7.7       ],\n",
       "       [ 2.60784314,  7.77      ],\n",
       "       [ 2.60784314,  7.84      ],\n",
       "       [ 2.60784314,  7.91      ],\n",
       "       [ 2.74509804,  7.98      ],\n",
       "       [ 2.60784314,  8.05      ],\n",
       "       [ 2.60784314,  8.12      ],\n",
       "       [ 2.74509804,  8.19      ],\n",
       "       [ 2.60784314,  8.26      ],\n",
       "       [ 2.60784314,  8.33      ],\n",
       "       [ 2.74509804,  8.4       ],\n",
       "       [ 2.74509804,  8.47      ],\n",
       "       [ 2.60784314,  8.54      ],\n",
       "       [ 2.74509804,  8.61      ],\n",
       "       [ 2.74509804,  8.68      ],\n",
       "       [ 2.74509804,  8.75      ],\n",
       "       [ 2.74509804,  8.82      ],\n",
       "       [ 2.74509804,  8.89      ],\n",
       "       [ 2.88235294,  8.96      ],\n",
       "       [ 2.74509804,  9.03      ],\n",
       "       [ 2.74509804,  9.1       ],\n",
       "       [ 2.88235294,  9.17      ],\n",
       "       [ 2.88235294,  9.24      ],\n",
       "       [ 2.88235294,  9.31      ],\n",
       "       [ 2.88235294,  9.38      ],\n",
       "       [ 2.88235294,  9.45      ],\n",
       "       [ 3.01960784,  9.52      ],\n",
       "       [ 2.88235294,  9.59      ],\n",
       "       [ 3.01960784,  9.66      ],\n",
       "       [ 3.01960784,  9.73      ],\n",
       "       [ 3.15686275,  9.8       ],\n",
       "       [ 3.01960784,  9.87      ],\n",
       "       [ 3.15686275,  9.94      ],\n",
       "       [ 3.15686275, 10.01      ],\n",
       "       [ 3.15686275, 10.08      ],\n",
       "       [ 3.15686275, 10.15      ],\n",
       "       [ 3.15686275, 10.22      ],\n",
       "       [ 3.29411765, 10.29      ],\n",
       "       [ 3.29411765, 10.36      ],\n",
       "       [ 3.43137255, 10.43      ],\n",
       "       [ 3.29411765, 10.5       ],\n",
       "       [ 3.43137255, 10.57      ],\n",
       "       [ 3.43137255, 10.64      ],\n",
       "       [ 3.56862745, 10.71      ],\n",
       "       [ 3.56862745, 10.78      ],\n",
       "       [ 3.56862745, 10.85      ],\n",
       "       [ 3.70588235, 10.92      ],\n",
       "       [ 3.70588235, 10.99      ],\n",
       "       [ 3.84313725, 11.06      ],\n",
       "       [ 3.70588235, 11.13      ],\n",
       "       [ 3.84313725, 11.2       ],\n",
       "       [ 3.84313725, 11.27      ],\n",
       "       [ 3.98039216, 11.34      ],\n",
       "       [ 4.11764706, 11.41      ],\n",
       "       [ 4.11764706, 11.48      ],\n",
       "       [ 4.11764706, 11.55      ],\n",
       "       [ 4.25490196, 11.62      ],\n",
       "       [ 4.39215686, 11.69      ],\n",
       "       [ 4.52941176, 11.76      ],\n",
       "       [ 4.66666667, 11.83      ],\n",
       "       [ 4.66666667, 11.9       ],\n",
       "       [ 4.80392157, 11.97      ],\n",
       "       [ 4.94117647, 12.04      ],\n",
       "       [ 5.07843137, 12.11      ],\n",
       "       [ 5.21568627, 12.18      ],\n",
       "       [ 5.35294118, 12.25      ],\n",
       "       [ 5.35294118, 12.32      ],\n",
       "       [ 5.49019608, 12.39      ],\n",
       "       [ 5.62745098, 12.46      ],\n",
       "       [ 5.76470588, 12.53      ],\n",
       "       [ 5.76470588, 12.6       ],\n",
       "       [ 5.90196078, 12.67      ],\n",
       "       [ 5.90196078, 12.74      ],\n",
       "       [ 6.03921569, 12.81      ],\n",
       "       [ 6.17647059, 12.88      ],\n",
       "       [ 6.31372549, 12.95      ],\n",
       "       [ 6.45098039, 13.02      ],\n",
       "       [ 6.58823529, 13.09      ],\n",
       "       [ 6.7254902 , 13.16      ],\n",
       "       [ 6.7254902 , 13.23      ],\n",
       "       [ 6.8627451 , 13.3       ],\n",
       "       [ 6.8627451 , 13.37      ],\n",
       "       [ 7.        , 13.44      ],\n",
       "       [ 7.1372549 , 13.51      ],\n",
       "       [ 7.2745098 , 13.58      ],\n",
       "       [ 7.2745098 , 13.65      ],\n",
       "       [ 7.41176471, 13.72      ],\n",
       "       [ 7.2745098 , 13.79      ],\n",
       "       [ 7.41176471, 13.86      ],\n",
       "       [ 7.41176471, 13.93      ],\n",
       "       [ 7.54901961, 14.        ],\n",
       "       [ 7.54901961, 14.07      ],\n",
       "       [ 7.54901961, 14.14      ],\n",
       "       [ 7.54901961, 14.21      ],\n",
       "       [ 7.54901961, 14.28      ],\n",
       "       [ 7.54901961, 14.35      ],\n",
       "       [ 7.41176471, 14.42      ],\n",
       "       [ 7.41176471, 14.49      ],\n",
       "       [ 7.41176471, 14.56      ],\n",
       "       [ 7.41176471, 14.63      ],\n",
       "       [ 7.2745098 , 14.7       ],\n",
       "       [ 7.2745098 , 14.77      ],\n",
       "       [ 7.1372549 , 14.84      ],\n",
       "       [ 7.1372549 , 14.91      ],\n",
       "       [ 7.        , 14.98      ],\n",
       "       [ 6.8627451 , 15.05      ],\n",
       "       [ 6.8627451 , 15.12      ],\n",
       "       [ 6.58823529, 15.19      ],\n",
       "       [ 6.45098039, 15.26      ],\n",
       "       [ 6.31372549, 15.33      ],\n",
       "       [ 6.31372549, 15.4       ],\n",
       "       [ 6.17647059, 15.47      ],\n",
       "       [ 6.03921569, 15.54      ],\n",
       "       [ 5.90196078, 15.61      ],\n",
       "       [ 5.76470588, 15.68      ],\n",
       "       [ 5.62745098, 15.75      ],\n",
       "       [ 5.35294118, 15.82      ],\n",
       "       [ 5.35294118, 15.89      ],\n",
       "       [ 5.07843137, 15.96      ],\n",
       "       [ 5.07843137, 16.03      ],\n",
       "       [ 4.94117647, 16.1       ],\n",
       "       [ 4.80392157, 16.17      ],\n",
       "       [ 4.52941176, 16.24      ],\n",
       "       [ 4.25490196, 16.31      ],\n",
       "       [ 4.11764706, 16.38      ],\n",
       "       [ 3.98039216, 16.45      ],\n",
       "       [ 3.84313725, 16.52      ],\n",
       "       [ 3.70588235, 16.59      ],\n",
       "       [ 3.70588235, 16.66      ],\n",
       "       [ 3.56862745, 16.73      ],\n",
       "       [ 3.43137255, 16.8       ],\n",
       "       [ 3.29411765, 16.87      ],\n",
       "       [ 3.29411765, 16.94      ],\n",
       "       [ 3.15686275, 17.01      ],\n",
       "       [ 3.01960784, 17.08      ],\n",
       "       [ 3.01960784, 17.15      ],\n",
       "       [ 2.88235294, 17.22      ],\n",
       "       [ 2.88235294, 17.29      ],\n",
       "       [ 2.74509804, 17.36      ],\n",
       "       [ 2.60784314, 17.43      ],\n",
       "       [ 2.60784314, 17.5       ],\n",
       "       [ 2.47058824, 17.57      ],\n",
       "       [ 2.47058824, 17.64      ],\n",
       "       [ 2.33333333, 17.71      ],\n",
       "       [ 2.33333333, 17.78      ],\n",
       "       [ 2.19607843, 17.85      ],\n",
       "       [ 2.19607843, 17.92      ],\n",
       "       [ 2.05882353, 17.99      ],\n",
       "       [ 2.05882353, 18.06      ],\n",
       "       [ 2.05882353, 18.13      ],\n",
       "       [ 1.92156863, 18.2       ],\n",
       "       [ 1.92156863, 18.27      ],\n",
       "       [ 1.78431373, 18.34      ],\n",
       "       [ 1.78431373, 18.41      ],\n",
       "       [ 1.78431373, 18.48      ],\n",
       "       [ 1.64705882, 18.55      ],\n",
       "       [ 1.64705882, 18.62      ],\n",
       "       [ 1.64705882, 18.69      ],\n",
       "       [ 1.64705882, 18.76      ],\n",
       "       [ 1.50980392, 18.83      ],\n",
       "       [ 1.50980392, 18.9       ],\n",
       "       [ 1.50980392, 18.97      ],\n",
       "       [ 1.50980392, 19.04      ],\n",
       "       [ 1.37254902, 19.11      ],\n",
       "       [ 1.37254902, 19.18      ],\n",
       "       [ 1.37254902, 19.25      ],\n",
       "       [ 1.37254902, 19.32      ],\n",
       "       [ 1.50980392, 19.39      ],\n",
       "       [ 1.37254902, 19.46      ],\n",
       "       [ 1.37254902, 19.53      ],\n",
       "       [ 1.37254902, 19.6       ],\n",
       "       [ 1.37254902, 19.67      ],\n",
       "       [ 1.37254902, 19.74      ],\n",
       "       [ 1.37254902, 19.81      ],\n",
       "       [ 1.37254902, 19.88      ],\n",
       "       [ 1.37254902, 19.95      ],\n",
       "       [ 1.37254902, 20.02      ],\n",
       "       [ 1.37254902, 20.09      ],\n",
       "       [ 1.37254902, 20.16      ],\n",
       "       [ 1.37254902, 20.23      ],\n",
       "       [ 1.37254902, 20.3       ],\n",
       "       [ 1.37254902, 20.37      ],\n",
       "       [ 1.37254902, 20.44      ],\n",
       "       [ 1.50980392, 20.51      ],\n",
       "       [ 1.50980392, 20.58      ],\n",
       "       [ 1.50980392, 20.65      ],\n",
       "       [ 1.50980392, 20.72      ],\n",
       "       [ 1.50980392, 20.79      ],\n",
       "       [ 1.50980392, 20.86      ],\n",
       "       [ 1.50980392, 20.93      ],\n",
       "       [ 1.50980392, 21.        ],\n",
       "       [ 1.50980392, 21.07      ],\n",
       "       [ 1.50980392, 21.14      ],\n",
       "       [ 1.64705882, 21.21      ],\n",
       "       [ 1.78431373, 21.28      ],\n",
       "       [ 1.78431373, 21.35      ],\n",
       "       [ 1.78431373, 21.42      ],\n",
       "       [ 1.78431373, 21.49      ],\n",
       "       [ 1.92156863, 21.56      ],\n",
       "       [ 1.92156863, 21.63      ],\n",
       "       [ 1.92156863, 21.7       ],\n",
       "       [ 1.92156863, 21.77      ],\n",
       "       [ 1.92156863, 21.84      ],\n",
       "       [ 2.19607843, 21.91      ],\n",
       "       [ 2.19607843, 21.98      ],\n",
       "       [ 2.19607843, 22.05      ],\n",
       "       [ 2.19607843, 22.12      ],\n",
       "       [ 2.19607843, 22.19      ],\n",
       "       [ 2.19607843, 22.26      ],\n",
       "       [ 2.33333333, 22.33      ],\n",
       "       [ 2.33333333, 22.4       ],\n",
       "       [ 2.47058824, 22.47      ],\n",
       "       [ 2.47058824, 22.54      ],\n",
       "       [ 2.47058824, 22.61      ],\n",
       "       [ 2.47058824, 22.68      ],\n",
       "       [ 2.47058824, 22.75      ],\n",
       "       [ 2.60784314, 22.82      ],\n",
       "       [ 2.60784314, 22.89      ],\n",
       "       [ 2.74509804, 22.96      ],\n",
       "       [ 2.74509804, 23.03      ],\n",
       "       [ 2.74509804, 23.1       ],\n",
       "       [ 2.74509804, 23.17      ],\n",
       "       [ 2.74509804, 23.24      ],\n",
       "       [ 2.88235294, 23.31      ],\n",
       "       [ 2.88235294, 23.38      ],\n",
       "       [ 3.01960784, 23.45      ],\n",
       "       [ 3.01960784, 23.52      ],\n",
       "       [ 3.01960784, 23.59      ],\n",
       "       [ 3.01960784, 23.66      ],\n",
       "       [ 3.01960784, 23.73      ],\n",
       "       [ 3.15686275, 23.8       ],\n",
       "       [ 3.15686275, 23.87      ],\n",
       "       [ 3.15686275, 23.94      ],\n",
       "       [ 3.15686275, 24.01      ],\n",
       "       [ 3.15686275, 24.08      ],\n",
       "       [ 3.15686275, 24.15      ],\n",
       "       [ 3.29411765, 24.22      ],\n",
       "       [ 3.29411765, 24.29      ],\n",
       "       [ 3.43137255, 24.36      ],\n",
       "       [ 3.43137255, 24.43      ],\n",
       "       [ 3.43137255, 24.5       ],\n",
       "       [ 3.56862745, 24.57      ],\n",
       "       [ 3.56862745, 24.64      ],\n",
       "       [ 3.56862745, 24.71      ],\n",
       "       [ 3.56862745, 24.78      ],\n",
       "       [ 3.56862745, 24.85      ],\n",
       "       [ 3.70588235, 24.92      ],\n",
       "       [ 3.84313725, 24.99      ],\n",
       "       [ 3.84313725, 25.06      ],\n",
       "       [ 3.70588235, 25.13      ],\n",
       "       [ 3.70588235, 25.2       ],\n",
       "       [ 3.84313725, 25.27      ],\n",
       "       [ 3.84313725, 25.34      ],\n",
       "       [ 3.84313725, 25.41      ],\n",
       "       [ 3.84313725, 25.48      ],\n",
       "       [ 3.98039216, 25.55      ],\n",
       "       [ 3.98039216, 25.62      ],\n",
       "       [ 3.98039216, 25.69      ],\n",
       "       [ 3.98039216, 25.76      ],\n",
       "       [ 3.98039216, 25.83      ],\n",
       "       [ 4.11764706, 25.9       ],\n",
       "       [ 4.11764706, 25.97      ],\n",
       "       [ 4.11764706, 26.04      ],\n",
       "       [ 4.11764706, 26.11      ],\n",
       "       [ 4.25490196, 26.18      ],\n",
       "       [ 4.25490196, 26.25      ],\n",
       "       [ 4.25490196, 26.32      ],\n",
       "       [ 4.25490196, 26.39      ],\n",
       "       [ 4.39215686, 26.46      ],\n",
       "       [ 4.39215686, 26.53      ],\n",
       "       [ 4.39215686, 26.6       ],\n",
       "       [ 4.39215686, 26.67      ],\n",
       "       [ 4.52941176, 26.74      ],\n",
       "       [ 4.52941176, 26.81      ],\n",
       "       [ 4.52941176, 26.88      ],\n",
       "       [ 4.52941176, 26.95      ],\n",
       "       [ 4.52941176, 27.02      ],\n",
       "       [ 4.52941176, 27.09      ],\n",
       "       [ 4.52941176, 27.16      ],\n",
       "       [ 4.66666667, 27.23      ],\n",
       "       [ 4.66666667, 27.3       ],\n",
       "       [ 4.52941176, 27.37      ],\n",
       "       [ 4.52941176, 27.44      ],\n",
       "       [ 4.66666667, 27.51      ],\n",
       "       [ 4.66666667, 27.58      ],\n",
       "       [ 4.66666667, 27.65      ],\n",
       "       [ 4.80392157, 27.72      ],\n",
       "       [ 4.80392157, 27.79      ],\n",
       "       [ 4.80392157, 27.86      ],\n",
       "       [ 4.94117647, 27.93      ]])"
      ]
     },
     "execution_count": 59,
     "metadata": {},
     "output_type": "execute_result"
    }
   ],
   "source": [
    "mask_resized_0"
   ]
  },
  {
   "cell_type": "code",
   "execution_count": 60,
   "id": "a21280b9-4e8f-4ce1-a75f-672857bf4039",
   "metadata": {},
   "outputs": [
    {
     "data": {
      "text/plain": [
       "<matplotlib.image.AxesImage at 0x14ae391fca0>"
      ]
     },
     "execution_count": 60,
     "metadata": {},
     "output_type": "execute_result"
    },
    {
     "data": {
      "image/png": "[encoded data removed]",
      "text/plain": [
       "<Figure size 432x288 with 1 Axes>"
      ]
     },
     "metadata": {
      "needs_background": "light"
     },
     "output_type": "display_data"
    }
   ],
   "source": [
    "plt.imshow(resized, cmap=\"gray\")\n"
   ]
  },
  {
   "cell_type": "code",
   "execution_count": 63,
   "id": "52a4c2f2-7826-42df-9c05-8c5e3811be1b",
   "metadata": {},
   "outputs": [
    {
     "data": {
      "image/png": "[encoded data removed]",
      "text/plain": [
       "<Figure size 432x288 with 1 Axes>"
      ]
     },
     "metadata": {
      "needs_background": "light"
     },
     "output_type": "display_data"
    }
   ],
   "source": [
    "plt.imshow(resized, cmap=\"gray\")\n",
    "\n",
    "# mask_resized_0[1:,] has size 399, 2 ... not good ...\n",
    "\n",
    "# todo: [ 39.5, 223.44 ]]) -> last value doesn't reach image size of 224\n",
    "try:\n",
    "    # -0.5 to account for pixels starting in center\n",
    "    plt.plot(mask_resized_0[:,1]-0.5, mask_resized_0[:,0]) # y = 1, x = 0\n",
    "    plt.plot(mask_resized_1[:,1]-0.5, mask_resized_1[:,0])\n",
    "    plt.plot(mask_resized_2[:,1]-0.5, mask_resized_2[:,0])\n",
    "    plt.plot(mask_resized_3[:,1]-0.5, mask_resized_3[:,0])\n",
    "    plt.plot(mask_resized_4[:,1]-0.5, mask_resized_4[:,0])\n",
    "    plt.plot(mask_resized_5[:,1]-0.5, mask_resized_5[:,0])\n",
    "except Exception as e:\n",
    "    print(\"potentially no mask found\")\n",
    "    print(e)\n",
    "# plt.axis(\"off\")\n",
    "# plt.gca().invert_yaxis()\n",
    "plt.show()"
   ]
  },
  {
   "cell_type": "markdown",
   "id": "d72abf71-e032-4630-9f1b-892319bebaaf",
   "metadata": {},
   "source": [
    "## get single layer masks"
   ]
  },
  {
   "cell_type": "code",
   "execution_count": 57,
   "id": "f5e7bd6c-111f-402e-a391-17caffc1a612",
   "metadata": {},
   "outputs": [
    {
     "data": {
      "text/plain": [
       "<matplotlib.image.AxesImage at 0x14ae3612eb0>"
      ]
     },
     "execution_count": 57,
     "metadata": {},
     "output_type": "execute_result"
    },
    {
     "data": {
      "image/png": "[encoded data removed]",
      "text/plain": [
       "<Figure size 432x288 with 1 Axes>"
      ]
     },
     "metadata": {
      "needs_background": "light"
     },
     "output_type": "display_data"
    }
   ],
   "source": [
    "# https://stackoverflow.com/questions/54751676/create-binary-mask-from-two-segmentation-lines-in-python\n",
    "\n",
    "plt.imshow(resized, cmap=\"gray\")\n",
    "\n",
    "\n",
    "\n",
    "import matplotlib.pyplot as plt\n",
    "import numpy as np\n",
    "\n",
    "im=np.zeros((400, 400)) + 0\n",
    "r1, r2 = mask_resized_0[:,0], mask_resized_1[:,0]\n",
    "\n",
    "rows = np.arange(im.shape[0])\n",
    "m1 = np.logical_and(rows > r1, rows < r2)\n",
    "im[rows[m1], :] = 255\n",
    "plt.imshow(im, cmap='gray')\n",
    "\n",
    "\n",
    "# cv2.contourArea(np.array([mask_resized_0, mask_resized_1]).T.astype(np.float32))"
   ]
  },
  {
   "cell_type": "code",
   "execution_count": 58,
   "id": "2c2af381-33dd-47db-97b0-a307385edada",
   "metadata": {},
   "outputs": [
    {
     "data": {
      "image/png": "[encoded data removed]",
      "text/plain": [
       "<Figure size 432x288 with 1 Axes>"
      ]
     },
     "metadata": {
      "needs_background": "light"
     },
     "output_type": "display_data"
    }
   ],
   "source": [
    "rows, cols = np.indices((400, 400))\n",
    "\n",
    "mask0 = (rows < mask_resized_1[:,0]) & (rows > mask_resized_0[:,0])\n",
    "\n",
    "#mask0 = cv2.resize(mask0, new_size)\n",
    "#mask0 = mask0.resize(new_size)\n",
    "# mask0 = np.resize(mask0, new_size)\n",
    "\n",
    "plt.gca().invert_yaxis()\n",
    "plt.imshow(mask0, origin='lower',cmap='gray')\n",
    "ax = plt.gca()\n",
    "ax.set_ylim(ax.get_ylim()[::-1])\n",
    "plt.show()"
   ]
  },
  {
   "cell_type": "code",
   "execution_count": 34,
   "id": "4ff66bb2-2aba-4b8c-9ab3-0c9cf1e0b8df",
   "metadata": {},
   "outputs": [
    {
     "data": {
      "text/plain": [
       "array([[ True,  True,  True, ...,  True,  True,  True],\n",
       "       [ True,  True,  True, ...,  True,  True,  True],\n",
       "       [ True,  True,  True, ...,  True,  True,  True],\n",
       "       ...,\n",
       "       [False, False, False, ..., False, False, False],\n",
       "       [False, False, False, ..., False, False, False],\n",
       "       [False, False, False, ..., False, False, False]])"
      ]
     },
     "execution_count": 34,
     "metadata": {},
     "output_type": "execute_result"
    }
   ],
   "source": [
    "rows < mask_resized_1[:,0]"
   ]
  },
  {
   "cell_type": "code",
   "execution_count": 35,
   "id": "2ff783e6-8a6c-40fe-ad37-08f61331d1b7",
   "metadata": {},
   "outputs": [
    {
     "data": {
      "text/plain": [
       "(28, 28)"
      ]
     },
     "execution_count": 35,
     "metadata": {},
     "output_type": "execute_result"
    }
   ],
   "source": [
    "np.resize(mask0, new_size).shape"
   ]
  },
  {
   "cell_type": "code",
   "execution_count": 24,
   "id": "843bd1ac-f6af-49e4-9df3-f277ea47b94a",
   "metadata": {},
   "outputs": [],
   "source": [
    "#mask0.type"
   ]
  },
  {
   "cell_type": "code",
   "execution_count": 25,
   "id": "0f73d83d-7d02-456e-aea5-bfde7882a8dd",
   "metadata": {},
   "outputs": [
    {
     "ename": "NameError",
     "evalue": "name 'mask0' is not defined",
     "output_type": "error",
     "traceback": [
      "\u001b[1;31m---------------------------------------------------------------------------\u001b[0m",
      "\u001b[1;31mNameError\u001b[0m                                 Traceback (most recent call last)",
      "\u001b[1;32m~\\AppData\\Local\\Temp\\ipykernel_10740\\2159892930.py\u001b[0m in \u001b[0;36m<cell line: 1>\u001b[1;34m()\u001b[0m\n\u001b[1;32m----> 1\u001b[1;33m \u001b[0mmask0\u001b[0m\u001b[1;33m\u001b[0m\u001b[1;33m\u001b[0m\u001b[0m\n\u001b[0m",
      "\u001b[1;31mNameError\u001b[0m: name 'mask0' is not defined"
     ]
    }
   ],
   "source": [
    "mask0"
   ]
  },
  {
   "cell_type": "code",
   "execution_count": null,
   "id": "afcab63c-87a4-48b7-9693-d19bc3928b29",
   "metadata": {},
   "outputs": [],
   "source": [
    "import cv2\n",
    "import numpy as np\n",
    "\n",
    "# Step 1: Load the image\n",
    "image = resized # cv2.imread('path_to_your_image.png', cv2.IMREAD_GRAYSCALE)\n",
    "\n",
    "# Step 2: Define your lines as lists of (x, y) pairs\n",
    "lines = [\n",
    "    mask_resized_0,  # Line 1\n",
    "    mask_resized_1,  # Line 2\n",
    "    mask_resized_2,  # Line 3\n",
    "    mask_resized_3,  # Line 4\n",
    "    mask_resized_4,  # Line 5\n",
    "    mask_resized_5   # Line 6\n",
    "]\n",
    "\n",
    "# Step 3: Extract y-coordinates from each line\n",
    "y_coords = [int(np.mean([y for _, y in line])) for line in lines]\n",
    "\n",
    "print(y_coords)\n",
    "\n",
    "# Step 4: Sort y-coordinates to ensure they are in order\n",
    "y_coords = sorted(y_coords)\n",
    "\n",
    "# Step 5: Slice the image into regions\n",
    "regions = []\n",
    "previous_y = 0\n",
    "for y in y_coords:\n",
    "    regions.append(image[previous_y:y, :])\n",
    "    previous_y = y\n",
    "\n",
    "# Add the last region (from the last line to the bottom of the image)\n",
    "regions.append(image[previous_y:, :])\n",
    "\n",
    "# Step 6: (Optional) Process each region\n",
    "mean_pixel_values = [np.mean(region) for region in regions]\n",
    "\n",
    "# Print the mean pixel values for each region\n",
    "for i, mean_val in enumerate(mean_pixel_values):\n",
    "    print(f'Region {i + 1}: Mean pixel value = {mean_val}')\n"
   ]
  },
  {
   "cell_type": "code",
   "execution_count": null,
   "id": "844ff97d-2f00-48e7-aac4-6f64e17c4ec4",
   "metadata": {},
   "outputs": [],
   "source": [
    "mask_resized_1"
   ]
  },
  {
   "cell_type": "code",
   "execution_count": 26,
   "id": "02e2028d-f254-49a7-a112-479bcee0b9a5",
   "metadata": {},
   "outputs": [
    {
     "ename": "NameError",
     "evalue": "name 'image' is not defined",
     "output_type": "error",
     "traceback": [
      "\u001b[1;31m---------------------------------------------------------------------------\u001b[0m",
      "\u001b[1;31mNameError\u001b[0m                                 Traceback (most recent call last)",
      "\u001b[1;32m~\\AppData\\Local\\Temp\\ipykernel_10740\\3971850244.py\u001b[0m in \u001b[0;36m<cell line: 1>\u001b[1;34m()\u001b[0m\n\u001b[1;32m----> 1\u001b[1;33m \u001b[0mimage\u001b[0m\u001b[1;33m\u001b[0m\u001b[1;33m\u001b[0m\u001b[0m\n\u001b[0m",
      "\u001b[1;31mNameError\u001b[0m: name 'image' is not defined"
     ]
    }
   ],
   "source": [
    "image"
   ]
  },
  {
   "cell_type": "code",
   "execution_count": 27,
   "id": "185d4976-6b4f-4a69-9348-a575f3d800e8",
   "metadata": {},
   "outputs": [
    {
     "ename": "NameError",
     "evalue": "name 'image' is not defined",
     "output_type": "error",
     "traceback": [
      "\u001b[1;31m---------------------------------------------------------------------------\u001b[0m",
      "\u001b[1;31mNameError\u001b[0m                                 Traceback (most recent call last)",
      "\u001b[1;32m~\\AppData\\Local\\Temp\\ipykernel_10740\\4254451750.py\u001b[0m in \u001b[0;36m<cell line: 11>\u001b[1;34m()\u001b[0m\n\u001b[0;32m      9\u001b[0m \u001b[1;33m\u001b[0m\u001b[0m\n\u001b[0;32m     10\u001b[0m \u001b[1;31m# Step 3: Create the mask based on the boundaries\u001b[0m\u001b[1;33m\u001b[0m\u001b[1;33m\u001b[0m\u001b[0m\n\u001b[1;32m---> 11\u001b[1;33m \u001b[0mmask_2\u001b[0m \u001b[1;33m=\u001b[0m \u001b[0mnp\u001b[0m\u001b[1;33m.\u001b[0m\u001b[0mzeros\u001b[0m\u001b[1;33m(\u001b[0m\u001b[0mimage\u001b[0m\u001b[1;33m.\u001b[0m\u001b[0mshape\u001b[0m\u001b[1;33m,\u001b[0m \u001b[0mdtype\u001b[0m\u001b[1;33m=\u001b[0m\u001b[0mnp\u001b[0m\u001b[1;33m.\u001b[0m\u001b[0muint8\u001b[0m\u001b[1;33m)\u001b[0m\u001b[1;33m\u001b[0m\u001b[1;33m\u001b[0m\u001b[0m\n\u001b[0m\u001b[0;32m     12\u001b[0m \u001b[0mmask_2\u001b[0m\u001b[1;33m[\u001b[0m\u001b[0mymin\u001b[0m\u001b[1;33m:\u001b[0m\u001b[0mymax\u001b[0m\u001b[1;33m,\u001b[0m \u001b[0mxmin\u001b[0m\u001b[1;33m:\u001b[0m\u001b[0mxmax\u001b[0m\u001b[1;33m]\u001b[0m \u001b[1;33m=\u001b[0m \u001b[1;36m1\u001b[0m  \u001b[1;31m# Create a rectangular mask\u001b[0m\u001b[1;33m\u001b[0m\u001b[1;33m\u001b[0m\u001b[0m\n\u001b[0;32m     13\u001b[0m \u001b[1;33m\u001b[0m\u001b[0m\n",
      "\u001b[1;31mNameError\u001b[0m: name 'image' is not defined"
     ]
    }
   ],
   "source": [
    "import cv2\n",
    "import numpy as np\n",
    "\n",
    "# Step 1: Load the image\n",
    "img_tmp = resized\n",
    "\n",
    "# Step 2: Define regression boundaries (example)\n",
    "xmin, ymin, xmax, ymax = 50, 50, 200, 200  # Define your own boundaries\n",
    "\n",
    "# Step 3: Create the mask based on the boundaries\n",
    "mask_2 = np.zeros(image.shape, dtype=np.uint8)\n",
    "mask_2[ymin:ymax, xmin:xmax] = 1  # Create a rectangular mask\n",
    "\n",
    "# Step 4: Extract pixel values in the segmented region\n",
    "segmented_pixels = image[mask > 0]\n",
    "\n",
    "# Step 5: Calculate the mean pixel value\n",
    "mean_pixel_value = np.mean(segmented_pixels)\n",
    "\n",
    "print(f'Mean pixel value in the segmented region: {mean_pixel_value}')"
   ]
  },
  {
   "cell_type": "code",
   "execution_count": null,
   "id": "ce699585-6beb-49e5-909b-787eecb884b6",
   "metadata": {},
   "outputs": [],
   "source": []
  },
  {
   "cell_type": "code",
   "execution_count": null,
   "id": "5d08b0f9-3592-416f-a416-e88b1200c3e5",
   "metadata": {},
   "outputs": [],
   "source": []
  },
  {
   "cell_type": "code",
   "execution_count": 28,
   "id": "0734c552-38f1-46c6-9d24-9fd58fe0413a",
   "metadata": {},
   "outputs": [
    {
     "name": "stdout",
     "output_type": "stream",
     "text": [
      "Mean pixel value between the two lines: 122.11066398390342\n"
     ]
    }
   ],
   "source": [
    "import cv2\n",
    "import numpy as np\n",
    "\n",
    "# Step 1: Load the image\n",
    "image = resized\n",
    "\n",
    "# Step 2: Define two random lines (y = mx + c)\n",
    "# Example random slopes and intercepts\n",
    "m1, c1 = np.random.uniform(-1, 1), np.random.uniform(0, image.shape[0])\n",
    "m2, c2 = np.random.uniform(-1, 1), np.random.uniform(0, image.shape[0])\n",
    "\n",
    "# Create a meshgrid of the image dimensions\n",
    "X, Y = np.meshgrid(np.arange(image.shape[1]), np.arange(image.shape[0]))\n",
    "\n",
    "# Step 3: Create the mask between the two lines\n",
    "# For line 1: y = m1*x + c1\n",
    "# For line 2: y = m2*x + c2\n",
    "line1 = Y > (m1 * X + c1)\n",
    "line2 = Y < (m2 * X + c2)\n",
    "\n",
    "# Mask where pixels are between the two lines\n",
    "mask = line1 & line2\n",
    "\n",
    "# Step 4: Extract pixel values in the masked region\n",
    "segmented_pixels = image[mask]\n",
    "\n",
    "# Step 5: Calculate the mean pixel value\n",
    "mean_pixel_value = np.mean(segmented_pixels)\n",
    "\n",
    "print(f'Mean pixel value between the two lines: {mean_pixel_value}')"
   ]
  },
  {
   "cell_type": "code",
   "execution_count": 29,
   "id": "0dcc506f-3a09-4c3a-8a6b-3c5474ae37fd",
   "metadata": {},
   "outputs": [
    {
     "data": {
      "text/plain": [
       "array([[False, False, False, False, False, False, False, False, False,\n",
       "        False, False, False, False, False, False, False, False, False,\n",
       "         True,  True,  True,  True,  True,  True,  True,  True,  True,\n",
       "         True],\n",
       "       [False, False, False, False, False, False, False, False, False,\n",
       "        False, False, False, False, False, False, False, False,  True,\n",
       "         True,  True,  True,  True,  True,  True,  True,  True,  True,\n",
       "         True],\n",
       "       [False, False, False, False, False, False, False, False, False,\n",
       "        False, False, False, False, False, False, False,  True,  True,\n",
       "         True,  True,  True,  True,  True,  True,  True,  True,  True,\n",
       "         True],\n",
       "       [False, False, False, False, False, False, False, False, False,\n",
       "        False, False, False, False, False,  True,  True,  True,  True,\n",
       "         True,  True,  True,  True,  True,  True,  True,  True,  True,\n",
       "         True],\n",
       "       [False, False, False, False, False, False, False, False, False,\n",
       "        False, False, False, False,  True,  True,  True,  True,  True,\n",
       "         True,  True,  True,  True,  True,  True,  True,  True,  True,\n",
       "         True],\n",
       "       [False, False, False, False, False, False, False, False, False,\n",
       "        False, False, False,  True,  True,  True,  True,  True,  True,\n",
       "         True,  True,  True,  True,  True,  True,  True,  True,  True,\n",
       "         True],\n",
       "       [False, False, False, False, False, False, False, False, False,\n",
       "        False, False,  True,  True,  True,  True,  True,  True,  True,\n",
       "         True,  True,  True,  True,  True,  True,  True,  True,  True,\n",
       "         True],\n",
       "       [False, False, False, False, False, False, False, False, False,\n",
       "        False,  True,  True,  True,  True,  True,  True,  True,  True,\n",
       "         True,  True,  True,  True,  True,  True,  True,  True,  True,\n",
       "         True],\n",
       "       [False, False, False, False, False, False, False, False, False,\n",
       "         True,  True,  True,  True,  True,  True,  True,  True,  True,\n",
       "         True,  True,  True,  True,  True,  True,  True,  True,  True,\n",
       "         True],\n",
       "       [False, False, False, False, False, False, False, False,  True,\n",
       "         True,  True,  True,  True,  True,  True,  True,  True,  True,\n",
       "         True,  True,  True,  True,  True,  True,  True,  True,  True,\n",
       "         True],\n",
       "       [False, False, False, False, False, False, False,  True,  True,\n",
       "         True,  True,  True,  True,  True,  True,  True,  True,  True,\n",
       "         True,  True,  True,  True,  True,  True,  True,  True,  True,\n",
       "         True],\n",
       "       [False, False, False, False, False, False,  True,  True,  True,\n",
       "         True,  True,  True,  True,  True,  True,  True,  True,  True,\n",
       "         True,  True,  True,  True,  True,  True,  True,  True,  True,\n",
       "         True],\n",
       "       [False, False, False, False,  True,  True,  True,  True,  True,\n",
       "         True,  True,  True,  True,  True,  True,  True,  True,  True,\n",
       "         True,  True,  True,  True,  True,  True,  True,  True,  True,\n",
       "         True],\n",
       "       [False, False, False,  True,  True,  True,  True,  True,  True,\n",
       "         True,  True,  True,  True,  True,  True,  True,  True,  True,\n",
       "         True,  True,  True,  True,  True,  True,  True,  True,  True,\n",
       "         True],\n",
       "       [False, False,  True,  True,  True,  True,  True,  True,  True,\n",
       "         True,  True,  True,  True,  True,  True,  True,  True,  True,\n",
       "         True,  True,  True,  True,  True,  True,  True,  True,  True,\n",
       "         True],\n",
       "       [False,  True,  True,  True,  True,  True,  True,  True,  True,\n",
       "         True,  True,  True,  True,  True,  True,  True,  True,  True,\n",
       "         True,  True,  True,  True,  True,  True,  True,  True,  True,\n",
       "         True],\n",
       "       [ True,  True,  True,  True,  True,  True,  True,  True,  True,\n",
       "         True,  True,  True,  True,  True,  True,  True,  True,  True,\n",
       "         True,  True,  True,  True,  True,  True,  True,  True,  True,\n",
       "         True],\n",
       "       [ True,  True,  True,  True,  True,  True,  True,  True,  True,\n",
       "         True,  True,  True,  True,  True,  True,  True,  True,  True,\n",
       "         True,  True,  True,  True,  True,  True,  True,  True,  True,\n",
       "         True],\n",
       "       [ True,  True,  True,  True,  True,  True,  True,  True,  True,\n",
       "         True,  True,  True,  True,  True,  True,  True,  True,  True,\n",
       "         True,  True,  True,  True,  True,  True,  True,  True,  True,\n",
       "         True],\n",
       "       [ True,  True,  True,  True,  True,  True,  True,  True,  True,\n",
       "         True,  True,  True,  True,  True,  True,  True,  True,  True,\n",
       "         True,  True,  True,  True,  True,  True,  True,  True,  True,\n",
       "         True],\n",
       "       [ True,  True,  True,  True,  True,  True,  True,  True,  True,\n",
       "         True,  True,  True,  True,  True,  True,  True,  True,  True,\n",
       "         True,  True,  True,  True,  True,  True,  True,  True,  True,\n",
       "         True],\n",
       "       [ True,  True,  True,  True,  True,  True,  True,  True,  True,\n",
       "         True,  True,  True,  True,  True,  True,  True,  True,  True,\n",
       "         True,  True,  True,  True,  True,  True,  True,  True,  True,\n",
       "         True],\n",
       "       [False, False, False, False,  True,  True,  True,  True,  True,\n",
       "         True,  True,  True,  True,  True,  True,  True,  True,  True,\n",
       "         True,  True,  True,  True,  True,  True,  True,  True,  True,\n",
       "         True],\n",
       "       [False, False, False, False, False, False, False, False, False,\n",
       "        False, False, False, False, False, False, False, False, False,\n",
       "        False, False,  True,  True,  True,  True,  True,  True,  True,\n",
       "         True],\n",
       "       [False, False, False, False, False, False, False, False, False,\n",
       "        False, False, False, False, False, False, False, False, False,\n",
       "        False, False, False, False, False, False, False, False, False,\n",
       "        False],\n",
       "       [False, False, False, False, False, False, False, False, False,\n",
       "        False, False, False, False, False, False, False, False, False,\n",
       "        False, False, False, False, False, False, False, False, False,\n",
       "        False],\n",
       "       [False, False, False, False, False, False, False, False, False,\n",
       "        False, False, False, False, False, False, False, False, False,\n",
       "        False, False, False, False, False, False, False, False, False,\n",
       "        False],\n",
       "       [False, False, False, False, False, False, False, False, False,\n",
       "        False, False, False, False, False, False, False, False, False,\n",
       "        False, False, False, False, False, False, False, False, False,\n",
       "        False]])"
      ]
     },
     "execution_count": 29,
     "metadata": {},
     "output_type": "execute_result"
    }
   ],
   "source": [
    "mask"
   ]
  },
  {
   "cell_type": "code",
   "execution_count": null,
   "id": "d70f483b-e835-4aba-904d-32a28e26f695",
   "metadata": {},
   "outputs": [],
   "source": []
  },
  {
   "cell_type": "code",
   "execution_count": null,
   "id": "f0a7839a-1b30-4df1-a273-2a875fbe11a2",
   "metadata": {},
   "outputs": [],
   "source": []
  }
 ],
 "metadata": {
  "kernelspec": {
   "display_name": "Python 3 (ipykernel)",
   "language": "python",
   "name": "python3"
  },
  "language_info": {
   "codemirror_mode": {
    "name": "ipython",
    "version": 3
   },
   "file_extension": ".py",
   "mimetype": "text/x-python",
   "name": "python",
   "nbconvert_exporter": "python",
   "pygments_lexer": "ipython3",
   "version": "3.9.10"
  }
 },
 "nbformat": 4,
 "nbformat_minor": 5
}
