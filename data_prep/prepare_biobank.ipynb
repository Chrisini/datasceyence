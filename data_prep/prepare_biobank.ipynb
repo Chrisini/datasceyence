{
 "cells": [
  {
   "cell_type": "code",
   "execution_count": null,
   "id": "0d1ad6d6-c307-4969-b269-c368e982ff4e",
   "metadata": {},
   "outputs": [],
   "source": [
    "# https://github.com/marksgraham/OCT-Converter\n",
    "# https://www.icd10data.com/ICD10CM/Codes/E00-E89/E08-E13/E11-#E11.3\n",
    "\n",
    "from oct_converter.readers import FDS\n",
    "\n",
    "# An example .fds file can be downloaded from the Biobank website:\n",
    "# https://biobank.ndph.ox.ac.uk/showcase/refer.cgi?id=30\n",
    "filepath = '../examples/example_data/biobank/1000104_21014_0_0.fds'\n",
    "fds = FDS(filepath)\n",
    "\n",
    "oct_volume = fds.read_oct_volume()  # returns an OCT volume with additional metadata if available\n",
    "oct_volume.peek(show_contours=True) # plots a montage of the volume, with layer segmentations is available\n",
    "oct_volume.save('../examples/example_data/biobank/fds_testing.avi')  # save volume as a movie\n",
    "oct_volume.save('../examples/example_data/biobank/fds_testing.png')  # save volume as a set of sequential images, fds_testing_[1...N].png\n",
    "oct_volume.save_projection('../examples/example_data/biobank/projection.png') # save 2D projection\n",
    "\n",
    "metadata = fds.read_all_metadata(verbose=True) # extracts all other metadata\n",
    "with open(\"../examples/example_data/biobank/fds_metadata.json\", \"w\") as outfile:\n",
    "    outfile.write(json.dumps(metadata, indent=4))\n",
    "\n",
    "# create and save a DICOM\n",
    "dcm = create_dicom_from_oct(filepath)"
   ]
  },
  {
   "cell_type": "code",
   "execution_count": null,
   "id": "0866cb4d-52a1-42b9-90c9-e1e15b19da27",
   "metadata": {},
   "outputs": [],
   "source": []
  }
 ],
 "metadata": {
  "kernelspec": {
   "display_name": "Python 3 (ipykernel)",
   "language": "python",
   "name": "python3"
  },
  "language_info": {
   "codemirror_mode": {
    "name": "ipython",
    "version": 3
   },
   "file_extension": ".py",
   "mimetype": "text/x-python",
   "name": "python",
   "nbconvert_exporter": "python",
   "pygments_lexer": "ipython3",
   "version": "3.9.10"
  }
 },
 "nbformat": 4,
 "nbformat_minor": 5
}
