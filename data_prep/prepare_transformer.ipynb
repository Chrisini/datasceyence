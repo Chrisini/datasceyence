{
 "cells": [
  {
   "cell_type": "code",
   "execution_count": null,
   "id": "c23e116b-0da4-430f-857a-b613d3413cd7",
   "metadata": {},
   "outputs": [],
   "source": [
    "# variational autoencoders vq-vae-2-pytorch-master"
   ]
  }
 ],
 "metadata": {
  "kernelspec": {
   "display_name": "Python 3 (ipykernel)",
   "language": "python",
   "name": "python3"
  },
  "language_info": {
   "codemirror_mode": {
    "name": "ipython",
    "version": 3
   },
   "file_extension": ".py",
   "mimetype": "text/x-python",
   "name": "python",
   "nbconvert_exporter": "python",
   "pygments_lexer": "ipython3",
   "version": "3.9.10"
  }
 },
 "nbformat": 4,
 "nbformat_minor": 5
}
