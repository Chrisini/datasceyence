{
 "cells": [
  {
   "cell_type": "code",
   "execution_count": 5,
   "id": "aea55ad8-6e60-49fa-817e-64aadf223a0e",
   "metadata": {},
   "outputs": [],
   "source": [
    "if False:\n",
    "    \n",
    "    from PIL import Image\n",
    "    import shutil\n",
    "\n",
    "    source_path = \"../examples/example_data/octa500/10001_199.bmp\"\n",
    "    destination_path = \"../examples/example_data/octa500/cc10001_199.bmp\"\n",
    "\n",
    "    def copy_image_with_pillow(source_path, destination_path):\n",
    "        # Open the source image\n",
    "        img = Image.open(source_path)\n",
    "        # Save the copy of the image to the destination path\n",
    "        img.save(destination_path)\n",
    "    \n",
    "    def copy_image_with_shutil(source_path, destination_path):\n",
    "        shutil.copy(source_path, destination_path)\n",
    "    \n",
    "    copy_image_with_pillow(source_path, destination_path)\n",
    "    copy_image_with_shutil(source_path, destination_path)\n",
    "\n"
   ]
  },
  {
   "cell_type": "code",
   "execution_count": 6,
   "id": "1e6afa83-93fd-4664-b732-194da7d91599",
   "metadata": {},
   "outputs": [],
   "source": []
  },
  {
   "cell_type": "code",
   "execution_count": null,
   "id": "92affe16-4a35-454f-bb5b-171f31898c1a",
   "metadata": {},
   "outputs": [],
   "source": []
  },
  {
   "cell_type": "code",
   "execution_count": null,
   "id": "3b1d99c4-0db8-44b3-b525-229d0036e334",
   "metadata": {},
   "outputs": [],
   "source": []
  }
 ],
 "metadata": {
  "kernelspec": {
   "display_name": "Python 3 (ipykernel)",
   "language": "python",
   "name": "python3"
  },
  "language_info": {
   "codemirror_mode": {
    "name": "ipython",
    "version": 3
   },
   "file_extension": ".py",
   "mimetype": "text/x-python",
   "name": "python",
   "nbconvert_exporter": "python",
   "pygments_lexer": "ipython3",
   "version": "3.9.10"
  }
 },
 "nbformat": 4,
 "nbformat_minor": 5
}
