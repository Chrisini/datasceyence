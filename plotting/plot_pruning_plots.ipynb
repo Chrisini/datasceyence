{
 "cells": [
  {
   "cell_type": "markdown",
   "id": "d5267b66-291b-4292-9dd3-d454925cbcd2",
   "metadata": {},
   "source": [
    "# Pruning"
   ]
  },
  {
   "cell_type": "markdown",
   "id": "95b09e45-4002-47e8-b86c-1ec10d2ae153",
   "metadata": {},
   "source": [
    "# imports"
   ]
  },
  {
   "cell_type": "code",
   "execution_count": 1,
   "id": "78aa12ab-b8f3-429d-a10c-4e8c088952c3",
   "metadata": {},
   "outputs": [
    {
     "name": "stdout",
     "output_type": "stream",
     "text": [
      "['../helper', 'C:\\\\Users\\\\Prinzessin\\\\projects\\\\decentnet\\\\datasceyence\\\\plotting', 'C:\\\\Users\\\\Prinzessin\\\\anaconda3\\\\envs\\\\feta\\\\python39.zip', 'C:\\\\Users\\\\Prinzessin\\\\anaconda3\\\\envs\\\\feta\\\\DLLs', 'C:\\\\Users\\\\Prinzessin\\\\anaconda3\\\\envs\\\\feta\\\\lib', 'C:\\\\Users\\\\Prinzessin\\\\anaconda3\\\\envs\\\\feta', '', 'C:\\\\Users\\\\Prinzessin\\\\AppData\\\\Roaming\\\\Python\\\\Python39\\\\site-packages', 'C:\\\\Users\\\\Prinzessin\\\\anaconda3\\\\envs\\\\feta\\\\lib\\\\site-packages', 'C:\\\\Users\\\\Prinzessin\\\\anaconda3\\\\envs\\\\feta\\\\lib\\\\site-packages\\\\win32', 'C:\\\\Users\\\\Prinzessin\\\\anaconda3\\\\envs\\\\feta\\\\lib\\\\site-packages\\\\win32\\\\lib', 'C:\\\\Users\\\\Prinzessin\\\\anaconda3\\\\envs\\\\feta\\\\lib\\\\site-packages\\\\Pythonwin', 'C:\\\\Users\\\\Prinzessin\\\\anaconda3\\\\envs\\\\feta\\\\lib\\\\site-packages\\\\IPython\\\\extensions', 'C:\\\\Users\\\\Prinzessin\\\\.ipython']\n"
     ]
    }
   ],
   "source": [
    "from torch.nn.utils import prune\n",
    "import torch\n",
    "import torchvision.transforms\n",
    "from torchvision import datasets, transforms\n",
    "from torch import nn\n",
    "from typing import Optional, List, Tuple, Union\n",
    "\n",
    "from __future__ import print_function\n",
    "\n",
    "import torch\n",
    "import torch.nn as nn\n",
    "import torch.nn.functional as F\n",
    "import torch.optim as optim\n",
    "from torchvision import datasets, transforms\n",
    "from torch.optim.lr_scheduler import StepLR\n",
    "\n",
    "import math\n",
    "import warnings\n",
    "\n",
    "import torch\n",
    "from torch import Tensor\n",
    "from torch.nn.parameter import Parameter, UninitializedParameter\n",
    "from torch.nn import functional as F\n",
    "from torch.nn import init\n",
    "from torch.nn.modules.module import Module\n",
    "from torch.nn.modules.utils import _single, _pair, _triple, _reverse_repeat_tuple\n",
    "from torch._torch_docs import reproducibility_notes\n",
    "\n",
    "from torch.nn.common_types import _size_1_t, _size_2_t, _size_3_t\n",
    "from typing import Optional, List, Tuple, Union\n",
    "\n",
    "import sys\n",
    "sys.path.insert(0, \"../helper\")\n",
    "print(sys.path)\n",
    "\n",
    "# own module\n",
    "from visualisation.filter_activation import *\n",
    "\n",
    "import random\n",
    "\n",
    "\n",
    "mode = \"l1\""
   ]
  },
  {
   "cell_type": "markdown",
   "id": "054535ab-7c17-472a-afd9-3f79c5cb884e",
   "metadata": {},
   "source": [
    "# basic examples"
   ]
  },
  {
   "cell_type": "markdown",
   "id": "5258d013-9aef-4d1f-ac02-8dfc27e580e8",
   "metadata": {},
   "source": [
    "## pruning of a linear layer (l1 unstructured)"
   ]
  },
  {
   "cell_type": "code",
   "execution_count": 2,
   "id": "f6e11492-6c5f-4862-a5fb-1b7a6bcbdf89",
   "metadata": {},
   "outputs": [
    {
     "name": "stdout",
     "output_type": "stream",
     "text": [
      "linear layer Linear(in_features=10, out_features=1, bias=False)\n",
      "data tensor([27., 23., 48., 46., 14., 38., 12., 19., 29., 40.])\n",
      "linear layer weight tensor([27., 23., 48., 46., 14., 38., 12., 19., 29., 40.])\n",
      "linear layer pruned tensor([27., 23., 48., 46.,  0., 38.,  0.,  0., 29., 40.])\n"
     ]
    }
   ],
   "source": [
    "import torch.nn as nn\n",
    "import torch.nn.utils.prune as prune\n",
    "\n",
    "m = nn.Linear(10,1,bias=False)\n",
    "print(\"linear layer\", m)\n",
    "data = torch.arange(10).float()\n",
    "data = torch.randperm(50).float()[:10]\n",
    "print(\"data\", data)\n",
    "m.weight = nn.Parameter(data)\n",
    "print(\"linear layer weight\", m.weight.data)\n",
    "prune.l1_unstructured(m, 'weight', .3) # prune lowest 30 percent, aka 3 values\n",
    "print(\"linear layer pruned\", m.weight.data)"
   ]
  },
  {
   "cell_type": "markdown",
   "id": "d5d4fa46-2091-4088-af31-f8fba4d3092d",
   "metadata": {},
   "source": [
    "## pruning of a conv2d layer (l1 unstructured)"
   ]
  },
  {
   "cell_type": "code",
   "execution_count": 3,
   "id": "973b02dd-b987-491c-96ae-58dbca6c5ed7",
   "metadata": {},
   "outputs": [
    {
     "name": "stdout",
     "output_type": "stream",
     "text": [
      "linear layer tensor([[[ 0.1795, -0.1078],\n",
      "         [ 0.1815, -0.0826]],\n",
      "\n",
      "        [[ 0.0848, -0.0096],\n",
      "         [-0.0287, -0.0023]],\n",
      "\n",
      "        [[-0.0140,  0.1442],\n",
      "         [ 0.0448, -0.2281]]])\n",
      "linear layer weight tensor([[[ 0.1795, -0.1078],\n",
      "         [ 0.1815, -0.0826]],\n",
      "\n",
      "        [[ 0.0848, -0.0096],\n",
      "         [-0.0287, -0.0023]],\n",
      "\n",
      "        [[-0.0140,  0.1442],\n",
      "         [ 0.0448, -0.2281]]])\n",
      "linear layer pruned tensor([[[ 0.1795, -0.1078],\n",
      "         [ 0.1815, -0.0826]],\n",
      "\n",
      "        [[ 0.0848, -0.0000],\n",
      "         [-0.0000, -0.0000]],\n",
      "\n",
      "        [[-0.0000,  0.1442],\n",
      "         [ 0.0000, -0.2281]]])\n"
     ]
    }
   ],
   "source": [
    "import torch.nn as nn\n",
    "import torch.nn.utils.prune as prune\n",
    "\n",
    "c = nn.Conv2d(4, 3, 2)\n",
    "print(\"linear layer\", c.weight.data[0, 0:3])\n",
    "print(\"linear layer weight\", c.weight.data[0, 0:3])\n",
    "prune.l1_unstructured(c, 'weight', .3) # prune lowest 30 percent\n",
    "print(\"linear layer pruned\", c.weight.data[0, 0:3])"
   ]
  },
  {
   "cell_type": "markdown",
   "id": "c2c44f0a-2dcb-4c4b-9daa-9b8f6812a529",
   "metadata": {},
   "source": [
    "# network"
   ]
  },
  {
   "cell_type": "code",
   "execution_count": 4,
   "id": "b9e16b51-652b-4fd5-acf4-8100fabead90",
   "metadata": {},
   "outputs": [],
   "source": [
    "class _ConvNd(torch.nn.Module):\n",
    "\n",
    "    __constants__ = ['stride', 'padding', 'dilation', 'groups',\n",
    "                     'padding_mode', 'output_padding', 'in_channels',\n",
    "                     'out_channels', 'kernel_size']\n",
    "    __annotations__ = {'bias': Optional[torch.Tensor]}\n",
    "\n",
    "    def _conv_forward(self, input: Tensor, weight: Tensor, bias: Optional[Tensor]) -> Tensor:\n",
    "        ...\n",
    "\n",
    "    in_channels: int\n",
    "    _reversed_padding_repeated_twice: List[int]\n",
    "    out_channels: int\n",
    "    kernel_size: Tuple[int, ...]\n",
    "    stride: Tuple[int, ...]\n",
    "    padding: Union[str, Tuple[int, ...]]\n",
    "    dilation: Tuple[int, ...]\n",
    "    transposed: bool\n",
    "    output_padding: Tuple[int, ...]\n",
    "    groups: int\n",
    "    padding_mode: str\n",
    "    weight: Tensor\n",
    "    bias: Optional[Tensor]\n",
    "\n",
    "    def __init__(self,\n",
    "                 in_channels: int,\n",
    "                 out_channels: int,\n",
    "                 kernel_size: Tuple[int, ...],\n",
    "                 stride: Tuple[int, ...],\n",
    "                 padding: Tuple[int, ...],\n",
    "                 dilation: Tuple[int, ...],\n",
    "                 transposed: bool,\n",
    "                 output_padding: Tuple[int, ...],\n",
    "                 groups: int,\n",
    "                 bias: bool,\n",
    "                 padding_mode: str,\n",
    "                 device=None,\n",
    "                 dtype=None) -> None:\n",
    "        factory_kwargs = {'device': device, 'dtype': dtype}\n",
    "        print(factory_kwargs)\n",
    "        super().__init__()\n",
    "        if groups <= 0:\n",
    "            raise ValueError('groups must be a positive integer')\n",
    "        if in_channels % groups != 0:\n",
    "            raise ValueError('in_channels must be divisible by groups')\n",
    "        if out_channels % groups != 0:\n",
    "            raise ValueError('out_channels must be divisible by groups')\n",
    "        valid_padding_strings = {'same', 'valid'}\n",
    "        if isinstance(padding, str):\n",
    "            if padding not in valid_padding_strings:\n",
    "                raise ValueError(\n",
    "                    \"Invalid padding string {!r}, should be one of {}\".format(\n",
    "                        padding, valid_padding_strings))\n",
    "            if padding == 'same' and any(s != 1 for s in stride):\n",
    "                raise ValueError(\"padding='same' is not supported for strided convolutions\")\n",
    "\n",
    "        valid_padding_modes = {'zeros', 'reflect', 'replicate', 'circular'}\n",
    "        if padding_mode not in valid_padding_modes:\n",
    "            raise ValueError(\"padding_mode must be one of {}, but got padding_mode='{}'\".format(\n",
    "                valid_padding_modes, padding_mode))\n",
    "        self.in_channels = in_channels\n",
    "        self.out_channels = out_channels\n",
    "        self.kernel_size = kernel_size\n",
    "        self.stride = stride\n",
    "        self.padding = padding\n",
    "        self.dilation = dilation\n",
    "        self.transposed = transposed\n",
    "        self.output_padding = output_padding\n",
    "        self.groups = groups\n",
    "        self.padding_mode = padding_mode\n",
    "        # `_reversed_padding_repeated_twice` is the padding to be passed to\n",
    "        # `F.pad` if needed (e.g., for non-zero padding types that are\n",
    "        # implemented as two ops: padding + conv). `F.pad` accepts paddings in\n",
    "        # reverse order than the dimension.\n",
    "        if isinstance(self.padding, str):\n",
    "            self._reversed_padding_repeated_twice = [0, 0] * len(kernel_size)\n",
    "            if padding == 'same':\n",
    "                for d, k, i in zip(dilation, kernel_size,\n",
    "                                   range(len(kernel_size) - 1, -1, -1)):\n",
    "                    total_padding = d * (k - 1)\n",
    "                    left_pad = total_padding // 2\n",
    "                    self._reversed_padding_repeated_twice[2 * i] = left_pad\n",
    "                    self._reversed_padding_repeated_twice[2 * i + 1] = (\n",
    "                        total_padding - left_pad)\n",
    "        else:\n",
    "            self._reversed_padding_repeated_twice = _reverse_repeat_tuple(self.padding, 2)\n",
    "\n",
    "        if transposed:\n",
    "            self.weight = Parameter(torch.empty(\n",
    "                (in_channels, out_channels // groups, *kernel_size), **factory_kwargs))\n",
    "            self.importance = Parameter(torch.empty(\n",
    "                (in_channels, out_channels // groups), **factory_kwargs))\n",
    "            \n",
    "        else:\n",
    "            self.weight = Parameter(torch.empty(\n",
    "                (out_channels, in_channels // groups, *kernel_size), **factory_kwargs))\n",
    "            self.importance = Parameter(torch.empty(\n",
    "                (out_channels, in_channels // groups), **factory_kwargs))\n",
    "            \n",
    "        if bias:\n",
    "            self.bias = Parameter(torch.empty(out_channels, **factory_kwargs))\n",
    "        else:\n",
    "            self.register_parameter('bias', None)\n",
    "\n",
    "        self.reset_parameters()\n",
    "\n",
    "\n",
    "class CustomConv2d(_ConvNd):\n",
    "    \n",
    "    # additionally needed\n",
    "    \"\"\"\n",
    "    \n",
    "    position\n",
    "    activated channels\n",
    "    connection between channels\n",
    "    \n",
    "    \"\"\"\n",
    "\n",
    "    def __init__(\n",
    "        self,\n",
    "        in_channels: int,\n",
    "        out_channels: int,\n",
    "        kernel_size: _size_2_t,\n",
    "        stride: _size_2_t = 1,\n",
    "        padding: Union[str, _size_2_t] = 0,\n",
    "        dilation: _size_2_t = 1,\n",
    "        groups: int = 1,\n",
    "        bias: bool = True,\n",
    "        padding_mode: str = 'zeros',  # TODO: refine this type\n",
    "        device=None,\n",
    "        dtype=None\n",
    "    ) -> None:\n",
    "        factory_kwargs = {'device': device, 'dtype': dtype}\n",
    "        kernel_size_ = _pair(kernel_size)\n",
    "        stride_ = _pair(stride)\n",
    "        padding_ = padding if isinstance(padding, str) else _pair(padding)\n",
    "        dilation_ = _pair(dilation)\n",
    "        super().__init__(\n",
    "            in_channels, out_channels, kernel_size_, stride_, padding_, dilation_,\n",
    "            False, _pair(0), groups, bias, padding_mode, **factory_kwargs)\n",
    "        \n",
    "        # this layer id\n",
    "        layer_id = 0\n",
    "        \n",
    "        # within this layer, a whole filter can be deactivated\n",
    "        # within a filter, single channels can be deactivated\n",
    "        # within this layer, filters can be swapped\n",
    "\n",
    "    def reset_parameters(self) -> None:\n",
    "        # Setting a=sqrt(5) in kaiming_uniform is the same as initializing with\n",
    "        # uniform(-1/sqrt(k), 1/sqrt(k)), where k = weight.size(1) * prod(*kernel_size)\n",
    "        # For more details see: https://github.com/pytorch/pytorch/issues/15314#issuecomment-477448573\n",
    "        init.kaiming_uniform_(self.weight, a=math.sqrt(5))\n",
    "        if self.bias is not None:\n",
    "            fan_in, _ = init._calculate_fan_in_and_fan_out(self.weight)\n",
    "            if fan_in != 0:\n",
    "                bound = 1 / math.sqrt(fan_in)\n",
    "                init.uniform_(self.bias, -bound, bound)\n",
    "\n",
    "    def extra_repr(self):\n",
    "        s = ('{in_channels}, {out_channels}, kernel_size={kernel_size}'\n",
    "             ', stride={stride}')\n",
    "        if self.padding != (0,) * len(self.padding):\n",
    "            s += ', padding={padding}'\n",
    "        if self.dilation != (1,) * len(self.dilation):\n",
    "            s += ', dilation={dilation}'\n",
    "        if self.output_padding != (0,) * len(self.output_padding):\n",
    "            s += ', output_padding={output_padding}'\n",
    "        if self.groups != 1:\n",
    "            s += ', groups={groups}'\n",
    "        if self.bias is None:\n",
    "            s += ', bias=False'\n",
    "        if self.padding_mode != 'zeros':\n",
    "            s += ', padding_mode={padding_mode}'\n",
    "        return s.format(**self.__dict__)\n",
    "\n",
    "    def __setstate__(self, state):\n",
    "        super().__setstate__(state)\n",
    "        if not hasattr(self, 'padding_mode'):\n",
    "            self.padding_mode = 'zeros'\n",
    "\n",
    "    def _conv_forward(self, input: Tensor, weight: Tensor, bias: Optional[Tensor]):\n",
    "        if self.padding_mode != 'zeros':\n",
    "            return F.conv2d(F.pad(input, self._reversed_padding_repeated_twice, mode=self.padding_mode),\n",
    "                            weight, bias, self.stride,\n",
    "                            _pair(0), self.dilation, self.groups)\n",
    "        \n",
    "        # this is written in c++ - try not to change ...\n",
    "        return F.conv2d(input, weight, bias, self.stride,\n",
    "                        self.padding, self.dilation, self.groups)\n",
    "\n",
    "    def forward(self, input: Tensor) -> Tensor:\n",
    "        return self._conv_forward(input, self.weight, self.bias)\n",
    "\n"
   ]
  },
  {
   "cell_type": "code",
   "execution_count": 5,
   "id": "1a96c3fb-8653-47ae-a1bd-b7ff856ff5e6",
   "metadata": {},
   "outputs": [],
   "source": [
    "class Net(nn.Module):\n",
    "    def __init__(self):\n",
    "        super(Net, self).__init__()\n",
    "        self.conv1 = CustomConv2d(1, 32, kernel_size=3, stride=1, padding=0, dilation=3)\n",
    "        self.conv2 = CustomConv2d(32, 64, kernel_size=3, stride=1, padding=0, dilation=3)\n",
    "        self.conv3 = CustomConv2d(64, 128, kernel_size=3, stride=1, padding=0, dilation=3)\n",
    "        self.conv1x1 = CustomConv2d(128, 10, kernel_size=1, stride=1, padding=0, dilation=1)\n",
    "        \n",
    "        self.K = 100 \n",
    "        self.L = 10 # last one\n",
    "        self.num_of_bases = 1 # 3rd dim\n",
    "        \n",
    "        if False:\n",
    "            self.conv1 = Conv2d(1, 32, kernel_size=3, stride=1, padding=0, dilation=3)\n",
    "            self.conv2 = Conv2d(32, 64, kernel_size=3, stride=1, padding=0, dilation=3)\n",
    "            self.conv3 = Conv2d(64, 128, kernel_size=3, stride=1, padding=0, dilation=3)\n",
    "            self.conv1x1 = Conv2d(128, 10, kernel_size=1, stride=1, padding=0, dilation=1)\n",
    "        #self.dropout1 = nn.Dropout(0.25)\n",
    "        #self.dropout2 = nn.Dropout(0.5)\n",
    "        # 4x16384\n",
    "        # self.fc1 = nn.Linear(10*10*10, 10)\n",
    "        #self.fc2 = nn.Linear(10, 10)\n",
    "        \n",
    "        #self.flat = nn.Flatten()\n",
    "        \n",
    "        self.fc3 = nn.Linear(10, 10)\n",
    "        \n",
    "        self.mish1 = torch.nn.Mish()\n",
    "        self.mish2 = torch.nn.Mish()\n",
    "        self.mish3 = torch.nn.Mish()\n",
    "        self.mish1x1 = torch.nn.Mish()\n",
    "        \n",
    "        #self.sub_concept_pooling = nn.modules.MaxPool2d((self.K, 1), stride=(1,1))\n",
    "        #self.instance_pooling = nn.modules.MaxPool2d((opt.num_of_bases, 1), stride=(1,1))\n",
    "        \n",
    "        self.flat = nn.Flatten()\n",
    "        \n",
    "        self.sigmoid = nn.Sigmoid()\n",
    "\n",
    "    def forward(self, x):\n",
    "        \n",
    "        x = self.conv1(x)\n",
    "        x = self.mish1(x)\n",
    "        \n",
    "        x = self.conv2(x)\n",
    "        x = self.mish2(x)\n",
    "        \n",
    "        x = self.conv3(x)\n",
    "        x = self.mish3(x)\n",
    "        \n",
    "        x = self.conv1x1(x)\n",
    "        x = self.mish1x1(x)\n",
    "        \n",
    "        # print(x.shape)\n",
    "        \n",
    "        #x = F.max_pool2d(x, 2)\n",
    "        #x = self.dropout1(x)\n",
    "        \n",
    "        #print(x.size())\n",
    "        #print(x.size()[2:])\n",
    "        \n",
    "        x = F.avg_pool2d(x, kernel_size=x.size()[2:])\n",
    "        \n",
    "        x = x.reshape(x.size(0), -1)\n",
    "        x = self.fc3(x)\n",
    "        \n",
    "        # x = self.flat(x)\n",
    "        \n",
    "        #x = self.fc2(x)\n",
    "        \n",
    "        \n",
    "        #x = x.view(-1, self.L, self.K, 10)\n",
    "        \n",
    "        # input, kernel_size, stride, padding, dilation, ceil_mode\n",
    "        #x = self.sub_concept_pooling(x).view(-1, self.L, self.num_of_bases).permute(0,2,1).unsqueeze(1)\n",
    "        \n",
    "        # output = F.sigmoid(x)\n",
    "        # x = x.reshape(x.size(0), -1)\n",
    "        \n",
    "        #x = torch.flatten(x, 1)\n",
    "        # x = self.fc1(x)\n",
    "        #x = F.relu(x)\n",
    "        \n",
    "        #x = self.dropout2(x)\n",
    "        #x = self.fc2(x)\n",
    "        #output = F.log_softmax(x, dim=1)\n",
    "        \n",
    "        x = self.sigmoid(x)\n",
    "        \n",
    "        return x\n",
    "\n",
    "\n",
    "\n"
   ]
  },
  {
   "cell_type": "code",
   "execution_count": 6,
   "id": "4e28a308-6510-412a-9df9-bdad33b211f5",
   "metadata": {},
   "outputs": [],
   "source": [
    "def train(args, model, device, train_loader, optimizer, epoch):\n",
    "    model.train()\n",
    "    for batch_idx, (data, target) in enumerate(train_loader):\n",
    "        \n",
    "        \n",
    "        \n",
    "        data, target = data.to(device), target.unsqueeze(1) # .to(device)\n",
    "        optimizer.zero_grad()\n",
    "        output = model(data)\n",
    "        \n",
    "        target_multi_hot = torch.zeros(target.size(0), 10).scatter_(1, target, 1.).to(device)\n",
    "        \n",
    "        if batch_idx == -1:\n",
    "            print(data.shape) # torch.Size([4, 1, 28, 28])\n",
    "            print(target)\n",
    "            \"\"\"\n",
    "            tensor([[8],\n",
    "            [7],\n",
    "            [2],\n",
    "            [7]])\n",
    "            \"\"\"\n",
    "            print(target_multi_hot)\n",
    "            \"\"\"\n",
    "            tensor([[0., 0., 0., 0., 0., 0., 0., 0., 1., 0.],\n",
    "            [0., 0., 0., 0., 0., 0., 0., 1., 0., 0.],\n",
    "            [0., 0., 1., 0., 0., 0., 0., 0., 0., 0.],\n",
    "            [0., 0., 0., 0., 0., 0., 0., 1., 0., 0.]], device='cuda:0')\n",
    "            \"\"\"\n",
    "        \n",
    "        loss = F.binary_cross_entropy(output, target_multi_hot)\n",
    "        loss.backward()\n",
    "        optimizer.step()\n",
    "        if batch_idx % (args.log_interval*1000) == 0:\n",
    "            print('Train Epoch: {} [{}/{} ({:.0f}%)]\\tLoss: {:.6f}'.format(\n",
    "                epoch, batch_idx * len(data), len(train_loader.dataset),\n",
    "                100. * batch_idx / len(train_loader), loss.item()))\n",
    "            \n",
    "\n",
    "\n",
    "def test(args, model, device, test_loader, epoch):\n",
    "    model.eval()\n",
    "    test_loss = 0\n",
    "    correct = 0\n",
    "    with torch.no_grad():\n",
    "        for i, (data, target) in enumerate(test_loader):\n",
    "            data, target = data.to(device), target.unsqueeze(1) # .to(device)\n",
    "            \n",
    "            output = model(data)\n",
    "            \n",
    "            target_multi_hot = torch.zeros(target.size(0), 10).scatter_(1, target, 1.).to(device)\n",
    "            test_loss += F.binary_cross_entropy(output, target_multi_hot, reduction='mean').item()\n",
    "        \n",
    "            # test_loss += F.nll_loss(output, target, reduction='sum').item()  # sum up batch loss\n",
    "            pred = output.argmax(dim=1, keepdim=True)  # get the index of the max log-probability\n",
    "            correct += pred.eq(target.to(device).view_as(pred)).sum().item()\n",
    "            \n",
    "            \"\"\"\n",
    "            if i == 0 and epoch % args.log_interval == 0:\n",
    "            # if False: # i == 0:\n",
    "                print(data.shape)\n",
    "                layer = model.conv1x1 # model.conv1[0] # model.stage2[0].branch1[2] # model.fusion_layer # conv\n",
    "                # run feature map\n",
    "                dd = FeatureMap(model=model, layer=layer, device=device, iterations=None, lr=None)\n",
    "                dd.run(data)\n",
    "                dd.plot(path=f\"example_results/feature_map_{epoch}.png\")\n",
    "                \"\"\"\n",
    "\n",
    "    test_loss /= len(test_loader.dataset)\n",
    "\n",
    "    print('\\nTest set: Average loss: {:.4f}, Accuracy: {}/{} ({:.0f}%)\\n'.format(\n",
    "        test_loss, correct, len(test_loader.dataset),\n",
    "        100. * correct / len(test_loader.dataset)))\n",
    "\n",
    "class Parser():\n",
    "    def __init__(self):\n",
    "        self.batch_size = 128\n",
    "        self.test_batch_size = 1\n",
    "        self.epochs = 100\n",
    "        self.lr = 0.1\n",
    "        self.gamma = 0.7\n",
    "        self.log_interval = 5\n",
    "        self.save_model = True\n",
    "        \n",
    "\n",
    "def main_train():\n",
    "    # Training settings\n",
    "    args = Parser()\n",
    "    \n",
    "    if True:\n",
    "        device = torch.device(\"cuda\")\n",
    "    else:\n",
    "        device = torch.device(\"cpu\")\n",
    "\n",
    "    train_kwargs = {'batch_size': args.batch_size}\n",
    "    test_kwargs = {'batch_size': args.test_batch_size}\n",
    "    if device == torch.device(\"cuda\"):\n",
    "        cuda_kwargs = {'num_workers': 1,\n",
    "                       'pin_memory': True,\n",
    "                       'shuffle': True}\n",
    "        train_kwargs.update(cuda_kwargs)\n",
    "        test_kwargs.update(cuda_kwargs)\n",
    "\n",
    "    transform=torchvision.transforms.Compose([\n",
    "        torchvision.transforms.ToTensor(),\n",
    "        torchvision.transforms.Normalize((0.1307,), (0.3081,))\n",
    "        ])\n",
    "    dataset1 = datasets.MNIST('example_data', train=True, download=True,\n",
    "                       transform=transform)\n",
    "    dataset2 = datasets.MNIST('example_data', train=False,\n",
    "                       transform=transform)\n",
    "    train_loader = torch.utils.data.DataLoader(dataset1,**train_kwargs)\n",
    "    test_loader = torch.utils.data.DataLoader(dataset2, **test_kwargs)\n",
    "\n",
    "    model = Net().to(device)\n",
    "    optimizer = optim.SGD(model.parameters(), lr=args.lr)\n",
    "\n",
    "    #scheduler = StepLR(optimizer, step_size=1, gamma=args.gamma)\n",
    "    for epoch in range(1, args.epochs + 1):\n",
    "        train(args, model, device, train_loader, optimizer, epoch)\n",
    "        test(args, model, device, test_loader, epoch)\n",
    "        #scheduler.step()\n",
    "        \n",
    "        \n",
    "        if args.save_model and epoch % args.log_interval == 0:\n",
    "            torch.save(model.state_dict(), f\"example_results/mnist_cnn_{epoch}.ckpt\")\n",
    "\n",
    "\n",
    "def main_test():\n",
    "    # Training settings\n",
    "    args = Parser()\n",
    "    \n",
    "    if True:\n",
    "        device = torch.device(\"cuda\")\n",
    "    else:\n",
    "        device = torch.device(\"cpu\")\n",
    "\n",
    "    test_kwargs = {'batch_size': args.test_batch_size}\n",
    "    if device == torch.device(\"cuda\"):\n",
    "        cuda_kwargs = {'num_workers': 1,\n",
    "                       'pin_memory': True,\n",
    "                       'shuffle': True}\n",
    "        test_kwargs.update(cuda_kwargs)\n",
    "\n",
    "    transform=torchvision.transforms.Compose([\n",
    "        torchvision.transforms.ToTensor(),\n",
    "        torchvision.transforms.Normalize((0.1307,), (0.3081,))\n",
    "        ])\n",
    "    dataset2 = datasets.MNIST('../examples/example_data', train=False,\n",
    "                       transform=transform)\n",
    "    test_loader = torch.utils.data.DataLoader(dataset2, **test_kwargs)\n",
    "\n",
    "    model = Net().to(device)\n",
    "\n",
    "    if True:\n",
    "        model.load_state_dict(torch.load(\"../examples/example_results/mnist_cnn_5.ckpt\"))\n",
    "    else:\n",
    "        model.load_state_dict(torch.load(\"../examples/example_results/pruned_model.ckpt\"))\n",
    "    \n",
    "\n",
    "    # model = torch.load(model.state_dict(), \"example_results/mnist_cnn_30.ckpt\")\n",
    "    #est(args, model, device, test_loader, 0)\n",
    "    \n",
    "    return model\n",
    "        \n",
    "    \n",
    "            \n"
   ]
  },
  {
   "cell_type": "markdown",
   "id": "af9a5e63-80ef-4370-9db4-05685cfc4540",
   "metadata": {},
   "source": [
    "## reset model"
   ]
  },
  {
   "cell_type": "code",
   "execution_count": 7,
   "id": "225c9223-c100-4fe1-aad9-fcd64b422ef4",
   "metadata": {},
   "outputs": [
    {
     "name": "stdout",
     "output_type": "stream",
     "text": [
      "{'device': None, 'dtype': None}\n",
      "{'device': None, 'dtype': None}\n",
      "{'device': None, 'dtype': None}\n",
      "{'device': None, 'dtype': None}\n",
      "tensor([[0.0865, 0.8133, 0.7219],\n",
      "        [0.6337, 0.5906, 0.7215],\n",
      "        [0.6849, 0.1439, 0.5217]])\n"
     ]
    }
   ],
   "source": [
    "model_to_prune = main_test()\n",
    "# filter = model.conv2.weight.data.clone()\n",
    "filter = torch.rand(3, 3)\n",
    "print(filter)"
   ]
  },
  {
   "cell_type": "markdown",
   "id": "984249a4-a30f-40b2-a71a-87da230b005a",
   "metadata": {},
   "source": [
    "# 'Weight Magnitude' - pruning via norms (filter importance)"
   ]
  },
  {
   "cell_type": "markdown",
   "id": "5f6b70c6-0c01-4ddc-913b-4841747b372e",
   "metadata": {},
   "source": [
    "## l1 unstructured (pytorch)"
   ]
  },
  {
   "cell_type": "code",
   "execution_count": 8,
   "id": "84ed9226-1b19-49eb-b784-e951eed0c88c",
   "metadata": {},
   "outputs": [
    {
     "name": "stdout",
     "output_type": "stream",
     "text": [
      "OrderedDict([(2, <torch.nn.utils.prune.L1Unstructured object at 0x0000022FFD00F6A0>)])\n",
      "tensor([[[ 0.0587,  0.0000,  0.0640],\n",
      "         [ 0.0000,  0.0000, -0.0502],\n",
      "         [-0.0000, -0.0550,  0.0000]],\n",
      "\n",
      "        [[-0.0000,  0.0487, -0.0000],\n",
      "         [ 0.0626, -0.0000,  0.0448],\n",
      "         [ 0.0000, -0.0000,  0.0000]],\n",
      "\n",
      "        [[ 0.0000, -0.0000,  0.0000],\n",
      "         [-0.0000,  0.0469,  0.0000],\n",
      "         [ 0.0000,  0.0675, -0.0000]]], device='cuda:0',\n",
      "       grad_fn=<SliceBackward0>)\n",
      "torch.Size([64, 32, 3, 3])\n",
      "torch.Size([64, 32, 3, 3])\n",
      "torch.Size([64, 32, 3, 3])\n"
     ]
    }
   ],
   "source": [
    "if mode == \"l1_unstructured\" or True:\n",
    "    prune.l1_unstructured(model_to_prune.conv2, name=\"weight\", amount=0.7)\n",
    "    print(model_to_prune.conv2._forward_pre_hooks)\n",
    "    prune.remove(model_to_prune.conv2, \"weight\")\n",
    "    torch.save(model_to_prune.state_dict(), f\"../examples/example_results/pruned_model_l1.ckpt\")\n",
    "    print(model_to_prune.conv2.weight[0,0:3])\n",
    "    print(model_to_prune.conv2.weight.shape)\n",
    "    torch.set_printoptions(profile=\"full\")\n",
    "    tmp = model_to_prune.conv2.weight.to_sparse() # .indices()\n",
    "    print(tmp.shape)\n",
    "    \n",
    "    model = model_to_prune\n",
    "    filter = model.conv2.weight.data.clone()\n",
    "    print(filter.shape)\n",
    "    "
   ]
  },
  {
   "cell_type": "markdown",
   "id": "3981ae96-5586-489e-8650-775b060c5e1b",
   "metadata": {},
   "source": [
    "## ln structured (pytorch)"
   ]
  },
  {
   "cell_type": "code",
   "execution_count": 9,
   "id": "03e253aa-4371-4d6b-9778-9258206e8fac",
   "metadata": {},
   "outputs": [
    {
     "name": "stdout",
     "output_type": "stream",
     "text": [
      "torch.Size([64, 32, 3, 3])\n",
      "tensor([[[ 0.0587,  0.0000,  0.0640],\n",
      "         [ 0.0000,  0.0000, -0.0502],\n",
      "         [-0.0000, -0.0550,  0.0000]],\n",
      "\n",
      "        [[-0.0000,  0.0487, -0.0000],\n",
      "         [ 0.0626, -0.0000,  0.0448],\n",
      "         [ 0.0000, -0.0000,  0.0000]],\n",
      "\n",
      "        [[ 0.0000, -0.0000,  0.0000],\n",
      "         [-0.0000,  0.0469,  0.0000],\n",
      "         [ 0.0000,  0.0675, -0.0000]]], device='cuda:0',\n",
      "       grad_fn=<SliceBackward0>)\n",
      "torch.Size([64, 32, 3, 3])\n"
     ]
    }
   ],
   "source": [
    "if mode == \"ln_structured\" or True:\n",
    "    \n",
    "    prune.ln_structured(model_to_prune.conv2, 'weight', amount=0.6, dim=1, n=float('-inf'))\n",
    "    print(model_to_prune.conv2.weight.shape)\n",
    "    print(model_to_prune.conv2.weight[0,0:3])\n",
    "    \n",
    "    model = model_to_prune\n",
    "    filter = model.conv2.weight.data.clone()\n",
    "    print(filter.shape)\n",
    "    "
   ]
  },
  {
   "cell_type": "markdown",
   "id": "be6512e3-01d6-4b50-a0d1-8eb8d83a1176",
   "metadata": {},
   "source": [
    "## random unstructured (pytorch)"
   ]
  },
  {
   "cell_type": "code",
   "execution_count": 10,
   "id": "5a683125-a4ab-418b-b121-ca64683d61b9",
   "metadata": {},
   "outputs": [],
   "source": [
    "if mode == \"random_unstructured\":\n",
    "    prune.random_unstructured(model_to_prune.conv2, name=\"weight\", amount=0.7)\n",
    "    print(model_to_prune.conv2._forward_pre_hooks)\n",
    "    prune.remove(model_to_prune.conv2, \"weight\")\n",
    "    torch.save(model_to_prune.state_dict(), f\"../examples/example_results/pruned_model_rand.ckpt\")\n",
    "    print(model_to_prune.conv2.weight.shape)\n",
    "    print(model_to_prune.conv2.weight[0,0:3])\n",
    "    torch.set_printoptions(profile=\"full\")\n",
    "    tmp = model_to_prune.conv2.weight.to_sparse() # .indices()\n",
    "    print(tmp.shape)\n",
    "    \n",
    "    model = model_to_prune\n",
    "    filter = model.conv2.weight.data.clone()\n",
    "    print(filter.shape)"
   ]
  },
  {
   "cell_type": "markdown",
   "id": "1ff8883b-74a8-4c8b-add5-281b55c354e5",
   "metadata": {},
   "source": [
    "# 'Taylor Expansion' pruning via (filter importance)\n",
    "Computing the full Hessian is computationally demanding, thus we use a diagonal approximation."
   ]
  },
  {
   "cell_type": "code",
   "execution_count": 11,
   "id": "e0cc6273-3ad5-4e94-a312-5a5a790e6f91",
   "metadata": {},
   "outputs": [
    {
     "name": "stdout",
     "output_type": "stream",
     "text": [
      "tensor([4, 4, 0, 1], device='cuda:0')\n"
     ]
    },
    {
     "name": "stderr",
     "output_type": "stream",
     "text": [
      "C:\\Users\\Prinzessin\\anaconda3\\envs\\feta\\lib\\site-packages\\torch\\nn\\modules\\loss.py:536: UserWarning: Using a target size (torch.Size([4])) that is different to the input size (torch.Size([4, 1])). This will likely lead to incorrect results due to broadcasting. Please ensure they have the same size.\n",
      "  return F.mse_loss(input, target, reduction=self.reduction)\n"
     ]
    },
    {
     "name": "stdout",
     "output_type": "stream",
     "text": [
      "tensor([7, 5, 7, 6], device='cuda:0')\n",
      "tensor([9, 6, 7, 5], device='cuda:0')\n",
      "tensor([3, 2, 0, 3], device='cuda:0')\n",
      "tensor([3, 4, 2, 3], device='cuda:0')\n",
      "tensor([3, 7, 1, 8], device='cuda:0')\n",
      "tensor([4, 1, 2, 8], device='cuda:0')\n",
      "tensor([8, 5, 2, 9], device='cuda:0')\n",
      "tensor([1, 9, 1, 4], device='cuda:0')\n",
      "tensor([4, 7, 6, 4], device='cuda:0')\n",
      "tensor([2, 5, 5, 8], device='cuda:0')\n",
      "tensor([5, 3, 2, 4], device='cuda:0')\n",
      "tensor([7, 2, 8, 8], device='cuda:0')\n",
      "tensor([4, 6, 1, 2], device='cuda:0')\n",
      "tensor([2, 6, 9, 2], device='cuda:0')\n",
      "tensor([8, 2, 1, 1], device='cuda:0')\n",
      "tensor([1, 8, 3, 1], device='cuda:0')\n",
      "tensor([1, 6, 1, 5], device='cuda:0')\n",
      "tensor([3, 5, 4, 2], device='cuda:0')\n",
      "tensor([7, 4, 0, 4], device='cuda:0')\n",
      "tensor([2, 6, 8, 4], device='cuda:0')\n",
      "tensor([5, 6, 9, 0], device='cuda:0')\n",
      "tensor([2, 2, 4, 4], device='cuda:0')\n",
      "tensor([5, 9, 2, 5], device='cuda:0')\n",
      "tensor([5, 5, 7, 7], device='cuda:0')\n",
      "(10,)\n"
     ]
    },
    {
     "ename": "ValueError",
     "evalue": "The truth value of an array with more than one element is ambiguous. Use a.any() or a.all()",
     "output_type": "error",
     "traceback": [
      "\u001b[1;31m---------------------------------------------------------------------------\u001b[0m",
      "\u001b[1;31mValueError\u001b[0m                                Traceback (most recent call last)",
      "\u001b[1;32m~\\AppData\\Local\\Temp\\ipykernel_32444\\728081002.py\u001b[0m in \u001b[0;36m<cell line: 72>\u001b[1;34m()\u001b[0m\n\u001b[0;32m     70\u001b[0m \u001b[1;33m\u001b[0m\u001b[0m\n\u001b[0;32m     71\u001b[0m \u001b[1;31m# Apply Taylor Expansion pruning\u001b[0m\u001b[1;33m\u001b[0m\u001b[1;33m\u001b[0m\u001b[0m\n\u001b[1;32m---> 72\u001b[1;33m \u001b[0mtaylor_expansion_pruning\u001b[0m\u001b[1;33m(\u001b[0m\u001b[0msimple_model\u001b[0m\u001b[1;33m,\u001b[0m \u001b[0mdataloader\u001b[0m\u001b[1;33m,\u001b[0m \u001b[0mthreshold\u001b[0m\u001b[1;33m=\u001b[0m\u001b[1;36m0.01\u001b[0m\u001b[1;33m,\u001b[0m \u001b[0morder\u001b[0m\u001b[1;33m=\u001b[0m\u001b[1;36m1\u001b[0m\u001b[1;33m)\u001b[0m\u001b[1;33m\u001b[0m\u001b[1;33m\u001b[0m\u001b[0m\n\u001b[0m\u001b[0;32m     73\u001b[0m \u001b[1;33m\u001b[0m\u001b[0m\n\u001b[0;32m     74\u001b[0m \u001b[1;31m# Fine-tune the pruned model if necessary\u001b[0m\u001b[1;33m\u001b[0m\u001b[1;33m\u001b[0m\u001b[0m\n",
      "\u001b[1;32m~\\AppData\\Local\\Temp\\ipykernel_32444\\728081002.py\u001b[0m in \u001b[0;36mtaylor_expansion_pruning\u001b[1;34m(model, dataloader, threshold, order)\u001b[0m\n\u001b[0;32m     48\u001b[0m \u001b[1;33m\u001b[0m\u001b[0m\n\u001b[0;32m     49\u001b[0m     \u001b[0mprint\u001b[0m\u001b[1;33m(\u001b[0m\u001b[0mscores\u001b[0m\u001b[1;33m[\u001b[0m\u001b[1;36m0\u001b[0m\u001b[1;33m]\u001b[0m\u001b[1;33m.\u001b[0m\u001b[0mshape\u001b[0m\u001b[1;33m)\u001b[0m\u001b[1;33m\u001b[0m\u001b[1;33m\u001b[0m\u001b[0m\n\u001b[1;32m---> 50\u001b[1;33m     \u001b[0mprint\u001b[0m\u001b[1;33m(\u001b[0m\u001b[0mmax\u001b[0m\u001b[1;33m(\u001b[0m\u001b[0mscores\u001b[0m\u001b[1;33m)\u001b[0m\u001b[1;33m)\u001b[0m\u001b[1;33m\u001b[0m\u001b[1;33m\u001b[0m\u001b[0m\n\u001b[0m\u001b[0;32m     51\u001b[0m \u001b[1;33m\u001b[0m\u001b[0m\n\u001b[0;32m     52\u001b[0m     \u001b[0mthreshold_value\u001b[0m \u001b[1;33m=\u001b[0m \u001b[0mthreshold\u001b[0m \u001b[1;33m*\u001b[0m \u001b[0mmax\u001b[0m\u001b[1;33m(\u001b[0m\u001b[0mscores\u001b[0m\u001b[1;33m)\u001b[0m\u001b[1;33m\u001b[0m\u001b[1;33m\u001b[0m\u001b[0m\n",
      "\u001b[1;31mValueError\u001b[0m: The truth value of an array with more than one element is ambiguous. Use a.any() or a.all()"
     ]
    }
   ],
   "source": [
    "import torch\n",
    "import torch.nn as nn\n",
    "import torch.optim as optim\n",
    "\n",
    "# Define a simple neural network\n",
    "class SimpleNet(nn.Module):\n",
    "    def __init__(self):\n",
    "        super(SimpleNet, self).__init__()\n",
    "        self.fc1 = nn.Linear(10, 5)\n",
    "        self.fc2 = nn.Linear(5, 1)\n",
    "\n",
    "    def forward(self, x):\n",
    "        x = torch.relu(self.fc1(x))\n",
    "        x = self.fc2(x)\n",
    "        return x\n",
    "\n",
    "# Function to compute Taylor expansion importance scores\n",
    "def compute_taylor_scores(model, criterion, dataloader, order=1):\n",
    "    model.eval().cuda()\n",
    "    total_scores = []\n",
    "\n",
    "    for inputs in dataloader:\n",
    "        inputs = inputs.cuda()\n",
    "        inputs.requires_grad = True\n",
    "        \n",
    "        targets = torch.argmax(inputs, dim=1)\n",
    "        print(targets)\n",
    "        \n",
    "        outputs = model(inputs)\n",
    "        loss = criterion(outputs, targets.float())\n",
    "        model.zero_grad()\n",
    "\n",
    "        grads = torch.autograd.grad(loss, inputs, create_graph=True)[0]\n",
    "\n",
    "        if order == 1:\n",
    "            scores = grads.abs()\n",
    "        elif order == 2:\n",
    "            hessian = torch.autograd.grad(grads.sum(), inputs)[0]\n",
    "            scores = (grads.abs() * hessian.abs()).sum(dim=1)\n",
    "\n",
    "        total_scores.extend(scores.detach().cpu().numpy())\n",
    "\n",
    "    return total_scores\n",
    "\n",
    "# Function to perform Taylor Expansion pruning\n",
    "def taylor_expansion_pruning(model, dataloader, threshold=0.01, order=1):\n",
    "    scores = compute_taylor_scores(model, nn.MSELoss(), dataloader, order)\n",
    "    \n",
    "    print(scores[0].shape)\n",
    "    print(max(scores))\n",
    "    \n",
    "    threshold_value = threshold * max(scores)\n",
    "    \n",
    "    # Identify weights to prune\n",
    "    prunable_indices = [i for i, score in enumerate(scores) if score < threshold_value]\n",
    "\n",
    "    # Prune weights\n",
    "    for name, param in model.named_parameters():\n",
    "        flattened_param = param.view(-1)\n",
    "        pruned_param = torch.tensor([val if idx not in prunable_indices else 0.0 for idx, val in enumerate(flattened_param)])\n",
    "        pruned_param = pruned_param.view(param.size())\n",
    "        param.data = pruned_param\n",
    "\n",
    "# Example usage\n",
    "# Create a model and dataloader\n",
    "simple_model = SimpleNet()\n",
    "dataloader = torch.utils.data.DataLoader(torch.randn(100, 10), batch_size=4)\n",
    "\n",
    "# Train the model (not shown here)\n",
    "\n",
    "# Apply Taylor Expansion pruning\n",
    "taylor_expansion_pruning(simple_model, dataloader, threshold=0.01, order=1)\n",
    "\n",
    "# Fine-tune the pruned model if necessary\n",
    "# ...\n",
    "\n",
    "# The model now has pruned weights\n"
   ]
  },
  {
   "cell_type": "markdown",
   "id": "bb9f6a5e-3d65-4240-989f-c3c30cc85ddc",
   "metadata": {},
   "source": [
    "## Gradient based pruning\n",
    "downside: bias due to size of ROI in an image"
   ]
  },
  {
   "cell_type": "markdown",
   "id": "e7413a57-080f-4bc9-a8b8-c863663bdd82",
   "metadata": {},
   "source": [
    "# distances (connection cost)"
   ]
  },
  {
   "cell_type": "markdown",
   "id": "698340df-9ff4-42d9-b796-620bfc6f80e2",
   "metadata": {},
   "source": [
    "## l1 norm = Manhattan distance "
   ]
  },
  {
   "cell_type": "code",
   "execution_count": 12,
   "id": "dac63cba-aba2-46f4-8abf-33808363ae00",
   "metadata": {},
   "outputs": [
    {
     "name": "stdout",
     "output_type": "stream",
     "text": [
      "L1 Norm: 128.3294219970703\n"
     ]
    }
   ],
   "source": [
    "# Calculate L1 norm\n",
    "l1_norm = filter.abs().sum()\n",
    "print(\"L1 Norm:\", l1_norm.item())"
   ]
  },
  {
   "cell_type": "markdown",
   "id": "e18380d2-9247-433c-8732-6d579534cb5c",
   "metadata": {},
   "source": [
    "## l2 norm = magnitude = euclidean norm"
   ]
  },
  {
   "cell_type": "code",
   "execution_count": 13,
   "id": "811459f1-701a-408a-a803-c9772dc0ee02",
   "metadata": {},
   "outputs": [
    {
     "name": "stdout",
     "output_type": "stream",
     "text": [
      "L2 Norm: 2.764842987060547\n",
      "magnitude: 2.764843760347865\n"
     ]
    }
   ],
   "source": [
    "# Calculate L2 norm (version 1)\n",
    "l2_norm = filter.norm(2)\n",
    "print(\"L2 Norm:\", l2_norm.item())\n",
    "# Claculate L2 norm (version 2)\n",
    "mag = math.sqrt(sum(pow(filter.flatten(), 2)))\n",
    "print(\"magnitude:\", mag)"
   ]
  },
  {
   "cell_type": "markdown",
   "id": "ddb6051c-5e51-46a7-8522-b55c9451d0fd",
   "metadata": {},
   "source": [
    "# Visualisation"
   ]
  },
  {
   "cell_type": "markdown",
   "id": "a06d1c56-5f5f-4b15-9b2b-88a35a36b040",
   "metadata": {},
   "source": [
    "## visualisation of filters and channels"
   ]
  },
  {
   "cell_type": "code",
   "execution_count": 14,
   "id": "7e6684e9-8088-4c9b-b4f1-91dd06d4192e",
   "metadata": {},
   "outputs": [],
   "source": [
    "import numpy as np\n",
    "import matplotlib.pyplot as plt\n",
    "from torchvision import utils\n",
    "\n",
    "def visChannels(tensor, ch=0, allkernels=False, nrow=8, padding=1): \n",
    "    n,c,w,h = tensor.shape\n",
    "\n",
    "    if allkernels: tensor = tensor.view(n*c, -1, w, h)\n",
    "    elif c != 3: tensor = tensor[:,ch,:,:].unsqueeze(dim=1)\n",
    "\n",
    "    rows = np.min((tensor.shape[0] // nrow + 1, 64))    \n",
    "    grid = utils.make_grid(tensor, nrow=nrow, normalize=True, padding=padding)\n",
    "    \n",
    "    plt.figure(figsize=(nrow,rows) )\n",
    "    plt.title(f\"Channels with index {ch}\")\n",
    "    plt.imshow(grid.detach().cpu().numpy().transpose((1, 2, 0)))\n",
    "\n",
    "\n",
    "def visFilters(tensor, filt=0, allkernels=False, nrow=8, padding=1): \n",
    "    f,c,w,h = tensor.shape\n",
    "\n",
    "    if allkernels: tensor = tensor.view(f*c, -1, w, h)\n",
    "    elif f != 3: tensor = tensor[filt,:,:,:].unsqueeze(dim=1)\n",
    "\n",
    "    rows = np.min((tensor.shape[0] // nrow + 1, 64))    \n",
    "    grid = utils.make_grid(tensor, nrow=nrow, normalize=True, padding=padding)\n",
    "    plt.figure( figsize=(nrow,rows) )\n",
    "    plt.title(f\"Filter {filt}\")\n",
    "    plt.imshow(grid.detach().cpu().numpy().transpose((1, 2, 0)))\n",
    "\n",
    "def visFilters_subplot(subplot, tensor, filt=0, allkernels=False, nrow=8, padding=1): \n",
    "    f,c,w,h = tensor.shape\n",
    "\n",
    "    if allkernels: tensor = tensor.view(f*c, -1, w, h)\n",
    "    elif f != 3: tensor = tensor[filt,:,:,:].unsqueeze(dim=1)\n",
    "\n",
    "    rows = np.min((tensor.shape[0] // nrow + 1, 64))    \n",
    "    grid = utils.make_grid(tensor, nrow=nrow, normalize=True, padding=padding)\n",
    "    # plt.figure( figsize=(nrow,rows) )\n",
    "    subplot.set_title(f\"Filter {filt+1} with {c} channels\")\n",
    "    subplot.imshow(grid.detach().cpu().numpy().transpose((1, 2, 0)))\n",
    "    subplot.axis('off')"
   ]
  },
  {
   "cell_type": "code",
   "execution_count": 15,
   "id": "cf354b65-6328-4ca7-9bcb-758816985ed7",
   "metadata": {},
   "outputs": [
    {
     "data": {
      "image/png": "[encoded data removed]",
      "text/plain": [
       "<Figure size 720x720 with 3 Axes>"
      ]
     },
     "metadata": {
      "needs_background": "light"
     },
     "output_type": "display_data"
    }
   ],
   "source": [
    "layer = 1\n",
    "\n",
    "# need to match the network parameters!!!!\n",
    "in_channels = 5\n",
    "out_filters = 3 # 64\n",
    "\n",
    "\n",
    "fig, subplot = plt.subplots(out_filters, figsize=(10, 10))\n",
    "fig.suptitle(f'Layer with shape {list(model.conv2.weight.shape)} [out, in, kernel, kernel]')\n",
    "\n",
    "for filt in range(0, out_filters):\n",
    "    \n",
    "    visFilters_subplot(subplot[filt], filter, filt=filt, allkernels=False)\n",
    "\n",
    "    #plt.axis('off')\n",
    "    #plt.ioff()\n",
    "    \n",
    "plt.tight_layout()\n",
    "plt.savefig(f\"../examples/example_results/filter_with_weights.png\")\n",
    "plt.show()\n",
    "    \n",
    "if False:    \n",
    "    for filt in range(0, out_filters):\n",
    "\n",
    "        visFilters(filter, filt=filt, allkernels=False)\n",
    "\n",
    "        plt.axis('off')\n",
    "        plt.ioff()\n",
    "        plt.tight_layout()\n",
    "        #plt.savefig(f\"examples/example_results/filter_with_weights.png\")\n",
    "        plt.show()\n",
    "\n",
    "    for ch in range(0, in_channels):\n",
    "\n",
    "        visChannels(filter, ch=ch, allkernels=False)\n",
    "\n",
    "        plt.axis('off')\n",
    "        plt.ioff()\n",
    "        plt.show()"
   ]
  },
  {
   "cell_type": "markdown",
   "id": "1f86bb1b-d700-4409-bee3-69cb392a5af0",
   "metadata": {},
   "source": [
    "## correlate norm with non-zero values"
   ]
  },
  {
   "cell_type": "code",
   "execution_count": 114,
   "id": "bf455a31-9163-4f34-816e-052709cc0b02",
   "metadata": {},
   "outputs": [
    {
     "name": "stdout",
     "output_type": "stream",
     "text": [
      "****************************************\n",
      "****************************************\n",
      "****************************************\n",
      "****************************************\n",
      "****************************************\n",
      "****************************************\n"
     ]
    },
    {
     "data": {
      "image/png": "[encoded data removed]",
      "text/plain": [
       "<Figure size 432x288 with 1 Axes>"
      ]
     },
     "metadata": {
      "needs_background": "light"
     },
     "output_type": "display_data"
    }
   ],
   "source": [
    "import torch\n",
    "import torch.nn as nn\n",
    "\n",
    "def magnitude(f):\n",
    "    # f=f.detach().cpu().numpy()\n",
    "    return math.sqrt(sum(pow(f.flatten(), 2))) #np.sqrt(f.dot(f))\n",
    "\n",
    "for i_f, f in enumerate(filter):\n",
    "    \n",
    "\n",
    "    l1_norm = f[1].abs().sum().detach().cpu().numpy()\n",
    "    l2_norm = f[1].norm(2).detach().cpu().numpy()\n",
    "    mag = math.sqrt(sum(pow(f[1].flatten(), 2)))\n",
    "    \n",
    "    m = magnitude(f[1].flatten())\n",
    "    z = np.count_nonzero(np.abs(f[1].detach().cpu().numpy())==0.0)\n",
    "    \n",
    "    if False:\n",
    "        print()\n",
    "        print(i_f)\n",
    "        print(f[1].shape)\n",
    "\n",
    "        print(l2_norm)\n",
    "        print(f[1])\n",
    "\n",
    "        print(z)\n",
    "    \n",
    "    if m > 0.1 and z > 5:\n",
    "        print(\"*\" * 40)\n",
    "    \n",
    "    plt.scatter(mag, z, alpha=0.5)\n",
    "\n",
    "plt.xlabel(\"norm\")\n",
    "plt.ylabel(\"zero values\")\n",
    "plt.show()\n",
    "        \n",
    "    "
   ]
  },
  {
   "cell_type": "markdown",
   "id": "74d14d15-29d0-4a31-8941-0cfc28dd2671",
   "metadata": {},
   "source": [
    "# connection cost calculation"
   ]
  },
  {
   "cell_type": "markdown",
   "id": "ac7685bf-eedc-4286-9f17-dbfa498f9a30",
   "metadata": {},
   "source": [
    "## tests"
   ]
  },
  {
   "cell_type": "code",
   "execution_count": 273,
   "id": "58509fae-ba35-4fc4-8a84-a5457ca6a39b",
   "metadata": {},
   "outputs": [],
   "source": [
    "import matplotlib.pyplot as plt\n",
    "import numpy as np\n",
    "from scipy.spatial.distance import cdist\n",
    "\n",
    "# just a test\n",
    "def calc_euclidean_distances_scipy(m,n,ms,ns):\n",
    "    \n",
    "    list = []\n",
    "    \n",
    "    for f in range(5):\n",
    "        mn = np.array((m,n)) \n",
    "        msns = np.array((ms, ns)).transpose(1,0)\n",
    "        # print(msns)\n",
    "\n",
    "        # Calculate Euclidean distances\n",
    "        distances = cdist([mn], msns, 'euclidean')\n",
    "        #print(\"euclidean distances:\", distances)\n",
    "        list.append(np.mean(distances)/8)\n",
    "        \n",
    "    print(\"scipy mean\", np.mean(list))\n"
   ]
  },
  {
   "cell_type": "code",
   "execution_count": 274,
   "id": "89b154ee-1244-44d9-aed8-5df0d7544712",
   "metadata": {},
   "outputs": [],
   "source": [
    "# pytorch version\n",
    "import torch\n",
    "import torch.nn as nn\n",
    "\n",
    "# just a test\n",
    "def calc_cdist_torch(m_this,n_this,ms_in,ns_in):\n",
    "\n",
    "\n",
    "    cc = []\n",
    "\n",
    "    for f in range(5):\n",
    "\n",
    "        ms_in = nn.Parameter(torch.Tensor(ms_in), requires_grad=False) # ms_in # list\n",
    "        ns_in = nn.Parameter(torch.Tensor(ns_in), requires_grad=False) # ns_in # list\n",
    "        m_this = nn.Parameter(torch.Tensor(m_this), requires_grad=False) # m_this # single integer\n",
    "        n_this = nn.Parameter(torch.Tensor(n_this), requires_grad=False) # n_this # single integer\n",
    "        \n",
    "        mn = torch.cat([m_this.unsqueeze(0), n_this.unsqueeze(0)]).transpose(1,0)\n",
    "        msns = torch.cat([ms_in.unsqueeze(0), ns_in.unsqueeze(0)]).transpose(1,0)\n",
    "        cc.append(torch.mean(torch.cdist(mn, msns) / 8)) # number comes from 9*9 = 81 [0-8]\n",
    "\n",
    "    \"\"\"\n",
    "    num_linear = len(self.linears)\n",
    "    for i in range(num_linear):\n",
    "        if i == num_linear - 1 and no_penalize_last:\n",
    "            weight_factor = 0.\n",
    "        biolinear = self.linears[i]\n",
    "        dist = torch.sum(torch.abs(biolinear.out_coordinates.unsqueeze(dim=1) - biolinear.in_coordinates.unsqueeze(dim=0)),dim=2)\n",
    "        cc += torch.mean(torch.abs(biolinear.linear.weight)*(weight_factor*dist+self.l0))\n",
    "        if bias_penalize == True:\n",
    "            cc += torch.mean(torch.abs(biolinear.linear.bias)*(self.l0))\n",
    "    if self.token_embedding:\n",
    "        cc += torch.mean(torch.abs(self.embedding)*(self.l0))\n",
    "        #pass\n",
    "    \"\"\"\n",
    "    #print(cc)\n",
    "    #print(torch.tensor(cc))\n",
    "    print(\"torch mean\", torch.mean(torch.tensor(cc)))\n",
    "\n",
    "    # mean connection cost of a layer\n",
    "    return torch.mean(torch.tensor(cc))\n",
    "\n",
    "    "
   ]
  },
  {
   "cell_type": "code",
   "execution_count": 275,
   "id": "81c82914-d55a-4205-ab7e-4b1e012ca03d",
   "metadata": {},
   "outputs": [
    {
     "name": "stdout",
     "output_type": "stream",
     "text": [
      "scipy mean 0.6191009465408638\n",
      "torch mean tensor(0.6191)\n"
     ]
    }
   ],
   "source": [
    "# random test\n",
    "m = 3; n = 7\n",
    "# points from previous layer\n",
    "ms = [2, 4, 0, 2, 5, 7]; ns = [3, 1, 5, 8, 0, 1]\n",
    "calc_euclidean_distances_scipy(m,n,ms,ns);\n",
    "\n",
    "# random test\n",
    "m = [3]; n = [7]\n",
    "# points from previous layer\n",
    "ms = [2, 4, 0, 2, 5, 7]; ns = [3, 1, 5, 8, 0, 1]\n",
    "calc_cdist_torch(m,n,ms,ns);\n"
   ]
  },
  {
   "cell_type": "markdown",
   "id": "b7bad577-5893-4506-8146-6c6ade02b94f",
   "metadata": {},
   "source": [
    "## the real thing"
   ]
  },
  {
   "cell_type": "code",
   "execution_count": 276,
   "id": "b4ef0cc5-f517-4f7b-8c1b-564785e71307",
   "metadata": {},
   "outputs": [],
   "source": [
    "import matplotlib.pyplot as plt\n",
    "import numpy as np\n",
    "from scipy.spatial.distance import cdist\n",
    "\n",
    "# Example: One point and many points\n",
    "def calc_distances(m,n,ms,ns):\n",
    "    mn = np.array((m,n)) \n",
    "\n",
    "    msns = np.array((ms, ns)).transpose(1,0)\n",
    "    # print(msns)\n",
    "    \n",
    "    list = []\n",
    "\n",
    "    # Calculate Euclidean distances\n",
    "    distances = cdist([mn], msns, 'euclidean')\n",
    "    #print(\"euclidean distances:\", distances)\n",
    "    list.append(np.mean(distances))\n",
    "    print(\"mean\", np.mean(distances))\n",
    "    \n",
    "    distances = cdist([mn], msns, 'cityblock')\n",
    "    #print(\"cityblock distances:\", distances)\n",
    "    list.append(np.mean(distances))\n",
    "    print(\"mean\", np.mean(distances))\n",
    "    \n",
    "    distances = cdist([mn], msns,  'chebyshev')\n",
    "    #print(\"chebyshev distances:\", distances)\n",
    "    list.append(np.mean(distances))\n",
    "    print(\"mean\", np.mean(distances))\n",
    "\n",
    "    distances = cdist([mn], msns,  'cosine')\n",
    "    #print(\"cosine distances:\", distances)\n",
    "    list.append(np.mean(distances))\n",
    "    print(\"mean\", np.mean(distances))\n",
    "\n",
    "    distances = cdist([mn], msns,  'jaccard')\n",
    "    #print(\"jaccard distances:\", distances)\n",
    "    list.append(np.mean(distances))\n",
    "    print(\"mean\", np.mean(distances))\n",
    "    \n",
    "    # disimilarity of two vectors\n",
    "    distances = cdist([mn], msns,  'correlation')\n",
    "    #print(\"correlation:\", distances)\n",
    "    list.append(np.mean(distances))\n",
    "    print(\"mean\", np.mean(distances))\n",
    "\n",
    "    \n",
    "    fig, ax = plt.subplots(figsize=(5,5))\n",
    "    ax.scatter(m, n, s=500)\n",
    "    ax.scatter(ms, ns)\n",
    "    plt.xlim(0, 8) # m coordinate of 81 fields\n",
    "    plt.ylim(0, 8) # n coordinate of 81 fields\n",
    "    ax.grid() # enable grid line\n",
    "    \n",
    "    \n",
    "    return list"
   ]
  },
  {
   "cell_type": "code",
   "execution_count": 277,
   "id": "418730b3-7a7d-4fe9-ae06-15290a827eec",
   "metadata": {},
   "outputs": [
    {
     "name": "stdout",
     "output_type": "stream",
     "text": [
      "mean 4.95280757232691\n",
      "mean 6.333333333333333\n",
      "mean 4.5\n",
      "mean 0.2652303885460607\n",
      "mean 1.0\n",
      "mean 1.0\n"
     ]
    },
    {
     "data": {
      "image/png": "[encoded data removed]",
      "text/plain": [
       "<Figure size 360x360 with 1 Axes>"
      ]
     },
     "metadata": {
      "needs_background": "light"
     },
     "output_type": "display_data"
    }
   ],
   "source": [
    "# this point\n",
    "m = 3; n = 7\n",
    "# points from previous layer\n",
    "ms = [2, 4, 0, 2, 5, 7]; ns = [3, 1, 5, 8, 0, 1]\n",
    "very_bad = calc_distances(m,n,ms,ns)"
   ]
  },
  {
   "cell_type": "code",
   "execution_count": 278,
   "id": "0067dbe3-0c3b-4b94-bd67-d00277847700",
   "metadata": {},
   "outputs": [
    {
     "name": "stdout",
     "output_type": "stream",
     "text": [
      "mean 3.8564248648778254\n",
      "mean 4.666666666666667\n",
      "mean 3.5\n",
      "mean 0.14996921286774342\n",
      "mean 0.8333333333333334\n",
      "mean nan\n"
     ]
    },
    {
     "data": {
      "image/png": "[encoded data removed]",
      "text/plain": [
       "<Figure size 360x360 with 1 Axes>"
      ]
     },
     "metadata": {
      "needs_background": "light"
     },
     "output_type": "display_data"
    }
   ],
   "source": [
    "# this point\n",
    "m = 4; n = 5\n",
    "ms = [2, 4, 0, 2, 5, 2]; ns = [3, 1, 5, 8, 0, 2]\n",
    "bad = calc_distances(m,n,ms,ns)"
   ]
  },
  {
   "cell_type": "code",
   "execution_count": 279,
   "id": "2f12fce7-1949-48c4-8977-02be3e359532",
   "metadata": {},
   "outputs": [
    {
     "name": "stdout",
     "output_type": "stream",
     "text": [
      "mean 2.79944854588939\n",
      "mean 3.6666666666666665\n",
      "mean 2.5\n",
      "mean 0.19385627295595767\n",
      "mean 0.75\n",
      "mean 1.0\n"
     ]
    },
    {
     "data": {
      "image/png": "[encoded data removed]",
      "text/plain": [
       "<Figure size 360x360 with 1 Axes>"
      ]
     },
     "metadata": {
      "needs_background": "light"
     },
     "output_type": "display_data"
    }
   ],
   "source": [
    "# this point\n",
    "m = 4; n = 2\n",
    "# points from previous layer\n",
    "ms = [2, 4, 0, 2, 5, 4]; ns = [3, 1, 5, 8, 0, 2]\n",
    "okay = calc_distances(m,n,ms,ns)"
   ]
  },
  {
   "cell_type": "code",
   "execution_count": 280,
   "id": "9faa54e0-1bde-4657-a522-387561922b06",
   "metadata": {},
   "outputs": [
    {
     "name": "stdout",
     "output_type": "stream",
     "text": [
      "mean 1.8537362491454108\n",
      "mean 2.3333333333333335\n",
      "mean 1.6666666666666667\n",
      "mean 0.04250090338056228\n",
      "mean 0.75\n",
      "mean nan\n"
     ]
    },
    {
     "data": {
      "image/png": "[encoded data removed]",
      "text/plain": [
       "<Figure size 360x360 with 1 Axes>"
      ]
     },
     "metadata": {
      "needs_background": "light"
     },
     "output_type": "display_data"
    }
   ],
   "source": [
    "# this point\n",
    "m = 3; n = 3\n",
    "# points from previous layer\n",
    "ms = [2, 5, 3, 4, 4, 7]; ns = [3, 4, 2, 4, 3, 1]\n",
    "middle = calc_distances(m,n,ms,ns)"
   ]
  },
  {
   "cell_type": "code",
   "execution_count": 281,
   "id": "44695c24-a46d-406c-b3e3-089e00ee9880",
   "metadata": {},
   "outputs": [
    {
     "name": "stdout",
     "output_type": "stream",
     "text": [
      "mean 1.481058252895446\n",
      "mean 1.8333333333333333\n",
      "mean 1.3333333333333333\n",
      "mean 0.048472839822705414\n",
      "mean 0.5833333333333334\n",
      "mean nan\n"
     ]
    },
    {
     "data": {
      "image/png": "[encoded data removed]",
      "text/plain": [
       "<Figure size 360x360 with 1 Axes>"
      ]
     },
     "metadata": {
      "needs_background": "light"
     },
     "output_type": "display_data"
    }
   ],
   "source": [
    "# this point\n",
    "m = 3; n = 3\n",
    "# points from previous layer\n",
    "ms = [2, 2, 3, 3, 4, 7]; ns = [3, 4, 3, 4, 3, 1]\n",
    "good = calc_distances(m,n,ms,ns)"
   ]
  },
  {
   "cell_type": "code",
   "execution_count": 282,
   "id": "89861470-7668-4379-b479-add4643753da",
   "metadata": {},
   "outputs": [
    {
     "name": "stdout",
     "output_type": "stream",
     "text": [
      "mean 0.9023689270621825\n",
      "mean 1.0\n",
      "mean 0.8333333333333334\n",
      "mean 0.018376060540885364\n",
      "mean 0.5\n",
      "mean nan\n"
     ]
    },
    {
     "data": {
      "image/png": "[encoded data removed]",
      "text/plain": [
       "<Figure size 360x360 with 1 Axes>"
      ]
     },
     "metadata": {
      "needs_background": "light"
     },
     "output_type": "display_data"
    }
   ],
   "source": [
    "# this point\n",
    "m = 3; n = 3\n",
    "# points from previous layer\n",
    "ms = [2, 2, 3, 3, 4, 3]; ns = [3, 4, 3, 4, 3, 2]\n",
    "very_good = calc_distances(m,n,ms,ns)"
   ]
  },
  {
   "cell_type": "code",
   "execution_count": 283,
   "id": "e189e98d-75ba-44f0-9f07-b99410e729aa",
   "metadata": {},
   "outputs": [],
   "source": [
    "example_norm_bad = (bad - np.min(bad)) / (np.max(bad) - np.min(bad))\n",
    "example_norm_middle = (middle - np.min(middle)) / (np.max(middle) - np.min(middle))\n",
    "example_norm_good = (good - np.min(good)) / (np.max(good) - np.min(good))\n",
    "\n",
    "all_bits = np.array((very_bad, bad, okay, middle, good, very_good))\n",
    "\n",
    "# normalised connection cost not working\n",
    "norm_all = []\n",
    "for i in range(all_bits.shape[1]):\n",
    "    norm_all.append( (all_bits[:,i] - np.min(all_bits[:,i])) / (np.max(all_bits[:,i]) - np.min(all_bits[:,i])) )\n",
    "\n",
    "norm_all = np.array(norm_all).transpose(1,0)"
   ]
  },
  {
   "cell_type": "code",
   "execution_count": 284,
   "id": "c20ebed9-20c2-4376-8aa2-f5c569c05f21",
   "metadata": {},
   "outputs": [
    {
     "data": {
      "text/plain": [
       "array([[4.95280757, 6.33333333, 4.5       , 0.26523039, 1.        ,\n",
       "        1.        ],\n",
       "       [3.85642486, 4.66666667, 3.5       , 0.14996921, 0.83333333,\n",
       "               nan],\n",
       "       [2.79944855, 3.66666667, 2.5       , 0.19385627, 0.75      ,\n",
       "        1.        ],\n",
       "       [1.85373625, 2.33333333, 1.66666667, 0.0425009 , 0.75      ,\n",
       "               nan],\n",
       "       [1.48105825, 1.83333333, 1.33333333, 0.04847284, 0.58333333,\n",
       "               nan],\n",
       "       [0.90236893, 1.        , 0.83333333, 0.01837606, 0.5       ,\n",
       "               nan]])"
      ]
     },
     "execution_count": 284,
     "metadata": {},
     "output_type": "execute_result"
    }
   ],
   "source": [
    "all_bits"
   ]
  },
  {
   "cell_type": "code",
   "execution_count": 285,
   "id": "586c4185-068d-4fba-be69-95938b451753",
   "metadata": {},
   "outputs": [
    {
     "data": {
      "text/plain": [
       "array([[1.        , 1.        , 1.        , 1.        , 1.        ,\n",
       "               nan],\n",
       "       [0.72931754, 0.6875    , 0.72727273, 0.53308019, 0.66666667,\n",
       "               nan],\n",
       "       [0.46836399, 0.5       , 0.45454545, 0.71086545, 0.5       ,\n",
       "               nan],\n",
       "       [0.23488007, 0.25      , 0.22727273, 0.09772907, 0.5       ,\n",
       "               nan],\n",
       "       [0.14287078, 0.15625   , 0.13636364, 0.12192121, 0.16666667,\n",
       "               nan],\n",
       "       [0.        , 0.        , 0.        , 0.        , 0.        ,\n",
       "               nan]])"
      ]
     },
     "execution_count": 285,
     "metadata": {},
     "output_type": "execute_result"
    }
   ],
   "source": [
    "norm_all"
   ]
  },
  {
   "cell_type": "code",
   "execution_count": 286,
   "id": "006580e3-3795-4a2c-8fe6-32e9d762309e",
   "metadata": {},
   "outputs": [
    {
     "data": {
      "image/png": "[encoded data removed]",
      "text/plain": [
       "<Figure size 432x288 with 1 Axes>"
      ]
     },
     "metadata": {
      "needs_background": "light"
     },
     "output_type": "display_data"
    }
   ],
   "source": [
    "labels = [\"euc\", \"city\", \"cheby\", \"cos X\", \"jac X\", \"corr X\"]\n",
    "\n",
    "plt.plot(norm_all)\n",
    "plt.legend(labels)\n",
    "plt.title(\"normalised connection cost\")\n",
    "plt.ylabel(\"error = distance\")\n",
    "plt.xticks(ticks= range(0,6) ,labels=[\"very_bad\", \"bad\", \"okay\", \"middle\", \"good\", \"very_good\"])\n",
    "plt.show()"
   ]
  },
  {
   "cell_type": "code",
   "execution_count": 287,
   "id": "5c6380e8-5f56-4b1d-8a9e-3d224f721ca1",
   "metadata": {},
   "outputs": [
    {
     "data": {
      "image/png": "[encoded data removed]",
      "text/plain": [
       "<Figure size 432x288 with 1 Axes>"
      ]
     },
     "metadata": {
      "needs_background": "light"
     },
     "output_type": "display_data"
    }
   ],
   "source": [
    "plt.plot(all_bits)\n",
    "plt.legend(labels)\n",
    "plt.title(\"absolute connection cost\")\n",
    "plt.xticks(ticks= range(0,6) ,labels=[\"very_bad\", \"bad\", \"okay\", \"middle\", \"good\", \"very_good\"])\n",
    "plt.ylabel(\"error = distance\")\n",
    "plt.show()"
   ]
  },
  {
   "cell_type": "code",
   "execution_count": null,
   "id": "fb85acc7-a47c-4c7e-807a-bb19e7ea854f",
   "metadata": {},
   "outputs": [],
   "source": []
  },
  {
   "cell_type": "code",
   "execution_count": null,
   "id": "8372a7c1-efc6-4cdd-8765-7d4d224b9399",
   "metadata": {},
   "outputs": [],
   "source": []
  },
  {
   "cell_type": "markdown",
   "id": "9995b46a-a9d0-488a-93a1-f69a54b825c5",
   "metadata": {},
   "source": [
    "# idk from here"
   ]
  },
  {
   "cell_type": "code",
   "execution_count": null,
   "id": "40b7c9e8-2eae-4441-8c04-8ca6e9a5b93a",
   "metadata": {},
   "outputs": [],
   "source": [
    "import numpy as np\n",
    "\n",
    "# Create a sample 2D grid (matrix)\n",
    "grid = np.array([[1, 8, 9],\n",
    "                 [7, 2, 6],\n",
    "                 [4, 5, 3]])\n",
    "\n",
    "# Define the metric function (sum of values in each row)\n",
    "def row_sum_metric(row):\n",
    "    return np.sum(row)\n",
    "\n",
    "# Sort the rows based on the metric\n",
    "sorted_indices = np.argsort([row_sum_metric(row) for row in grid])\n",
    "\n",
    "# Rearrange the rows in the grid based on the sorting order\n",
    "sorted_grid = grid[sorted_indices]\n",
    "\n",
    "print(\"Original Grid:\")\n",
    "print(grid)\n",
    "\n",
    "print(\"\\nSorted Grid based on Row Sum Metric:\")\n",
    "print(sorted_grid)"
   ]
  },
  {
   "cell_type": "code",
   "execution_count": null,
   "id": "527495e0-6ddf-4529-b3b8-bd1b8c0e4176",
   "metadata": {},
   "outputs": [],
   "source": [
    "import numpy as np\n",
    "\n",
    "def bubble_sort_step(grid):\n",
    "    # Perform one step of Bubble Sort on the rows of the grid\n",
    "    for i in range(len(grid)):\n",
    "        for j in range(len(grid[0]) - 1):\n",
    "            if grid[i, j] > grid[i, j + 1]:\n",
    "                # Swap elements if they are in the wrong order\n",
    "                grid[i, j], grid[i, j + 1] = grid[i, j + 1], grid[i, j]\n",
    "    return grid\n",
    "\n",
    "def visualize(grid):\n",
    "    # Print the current state of the grid\n",
    "    for row in grid:\n",
    "        print(row)\n",
    "    print()\n",
    "\n",
    "# Create a sample 2D grid\n",
    "grid = np.array([[8, 8, 3],\n",
    "                 [6, 4, 5],\n",
    "                 [3, 3, 1]])\n",
    "\n",
    "# Number of iterations (steps) to perform the sorting\n",
    "iterations = len(grid) * len(grid[0])\n",
    "\n",
    "# Perform sorting using cellular automaton\n",
    "for _ in range(iterations):\n",
    "    grid = bubble_sort_step(grid)\n",
    "    visualize(grid)\n"
   ]
  },
  {
   "cell_type": "code",
   "execution_count": null,
   "id": "d388159f-2896-451a-b9e9-eae3d340b28e",
   "metadata": {},
   "outputs": [],
   "source": [
    "import numpy as np\n",
    "\n",
    "def row_sum_metric(row):\n",
    "    # Simple metric: Sum of values in a row\n",
    "    return np.sum(row)\n",
    "\n",
    "def update_cellular_automaton(grid, metric_function):\n",
    "    new_grid = np.copy(grid)\n",
    "\n",
    "    for i in range(1, len(grid)):\n",
    "        metric_current = metric_function(grid[i])\n",
    "        metric_previous = metric_function(grid[i - 1])\n",
    "\n",
    "        if metric_current < metric_previous:\n",
    "            # Swap rows if the metric is smaller in the current row\n",
    "            new_grid[i] = grid[i - 1]\n",
    "            new_grid[i - 1] = grid[i]\n",
    "\n",
    "    return new_grid\n",
    "\n",
    "def visualize(grid):\n",
    "    for row in grid:\n",
    "        print(row)\n",
    "    print()\n",
    "\n",
    "# Create a sample 2D grid\n",
    "grid = np.array([[9, 7, 2],\n",
    "                 [3, 4, 5],\n",
    "                 [3, 1, 8]])\n",
    "\n",
    "# Number of iterations (steps) to perform the rearrangement\n",
    "iterations = len(grid) * len(grid[0])\n",
    "\n",
    "# Perform rearrangement using cellular automaton\n",
    "for _ in range(iterations):\n",
    "    grid = update_cellular_automaton(grid, row_sum_metric)\n",
    "    visualize(grid)\n"
   ]
  },
  {
   "cell_type": "code",
   "execution_count": null,
   "id": "36272930-822e-4a8b-b4d7-9c44d053fbb1",
   "metadata": {},
   "outputs": [],
   "source": [
    "\n",
    "# Python3 code to demonstrate working of\n",
    "# Smallest K elements indices\n",
    "# using sorted() + lambda + list slicing\n",
    "\n",
    "\n",
    "\n",
    "# Initialize list\n",
    "test_list = list(range(0,32)) # [50, 6, 100, 4, 70, 1, 190]\n",
    " \n",
    "# Printing original list\n",
    "print(\"The original list is : \" + str(test_list))\n",
    " \n",
    "# initialize K\n",
    "K = 3\n",
    "\n",
    "p97=int(len(test_list)*0.95)\n",
    "print(p97)\n",
    "\n",
    "# Smallest K elements indices\n",
    "# using sorted() + lambda + list slicing\n",
    "res = sorted(range(len(test_list)), key=lambda sub: test_list[sub])[K:]\n",
    "\n",
    "res2 = sorted(range(len(test_list)), key=lambda sub: test_list[sub])[p97]\n",
    " \n",
    "# Printing result\n",
    "print(\"Indices list of min K elements is : \" + str(res))\n",
    "\n",
    "print(res2)\n"
   ]
  },
  {
   "cell_type": "code",
   "execution_count": null,
   "id": "d8610de6-af3f-426e-beb7-a8c15892dcf9",
   "metadata": {},
   "outputs": [],
   "source": [
    "import random\n",
    "import numpy as np\n",
    "\n",
    "test_list = np.array(random.sample(range(100, 200), 10))\n",
    "\n",
    "print(\"v\", test_list)\n",
    "print(\"s\", sorted(test_list))\n",
    "\n",
    "n_tmp = len(test_list) * 0.5\n",
    "\n",
    "for update in range (100):\n",
    "\n",
    "    print()\n",
    "    print(\"update\")\n",
    "    print()\n",
    "    n = len(test_list)\n",
    "    n = int(n*0.97)\n",
    "    \n",
    "    print(\"keep\", n)\n",
    "    \n",
    "    index = sorted(range(len(test_list)), key=lambda sub: test_list[sub])[-n]\n",
    "    threshold_value = test_list[index]\n",
    "    print(\"t\", threshold_value)\n",
    "    \n",
    "    # get indices from array where condition\n",
    "    indices = np.where((test_list >= threshold_value))\n",
    "    \n",
    "    print(\"v\", test_list)\n",
    "    print(\"s\", sorted(test_list))\n",
    "    \n",
    "    test_list = np.array(test_list)[indices]\n",
    "    \n",
    "    print(\"v\", test_list) # i want this to not be ordered\n",
    "    print(\"si\", index)\n",
    "\n",
    "    \n",
    "    #test_list = random.sample(range(100, 200), len(test_list))\n",
    "    \n",
    "    if n <= n_tmp:\n",
    "        break\n",
    "    #print(int(n))"
   ]
  },
  {
   "cell_type": "code",
   "execution_count": null,
   "id": "4a380b5e-1d9e-4fc4-992a-aa57c541cfee",
   "metadata": {},
   "outputs": [],
   "source": [
    "# Using sorted() + index()\n",
    "# using sorted() to sort and slice K maximum elements \n",
    "temp = sorted(test_list)[-K:]\n",
    "res = []\n",
    "for ele in temp:\n",
    "     \n",
    "    # encapsulating elements with index using index()\n",
    "    res.append((test_list.index(ele), ele))\n",
    "\n",
    "# printing result \n",
    "print(\"K Maximum with indices : \" + str(res))"
   ]
  },
  {
   "cell_type": "markdown",
   "id": "18b431ba-5422-48ac-ab70-05201c9c3d49",
   "metadata": {},
   "source": [
    "# random stuff"
   ]
  },
  {
   "cell_type": "code",
   "execution_count": null,
   "id": "4db14e34-1cb8-4232-b371-e9510a2ccd7a",
   "metadata": {},
   "outputs": [],
   "source": [
    "n = 256\n",
    "n_tmp = n * 0.5\n",
    "\n",
    "for i in range (100):\n",
    "    \n",
    "    n = n*0.97\n",
    "    if n <= n_tmp:\n",
    "        break\n",
    "    print(int(n))"
   ]
  },
  {
   "cell_type": "code",
   "execution_count": null,
   "id": "4e27da9c-906e-42aa-901c-0c968221bc4d",
   "metadata": {},
   "outputs": [],
   "source": [
    "np.abs(f[1].detach().cpu().numpy())==0.0"
   ]
  }
 ],
 "metadata": {
  "kernelspec": {
   "display_name": "Python 3 (ipykernel)",
   "language": "python",
   "name": "python3"
  },
  "language_info": {
   "codemirror_mode": {
    "name": "ipython",
    "version": 3
   },
   "file_extension": ".py",
   "mimetype": "text/x-python",
   "name": "python",
   "nbconvert_exporter": "python",
   "pygments_lexer": "ipython3",
   "version": "3.9.10"
  },
  "toc-autonumbering": true
 },
 "nbformat": 4,
 "nbformat_minor": 5
}
